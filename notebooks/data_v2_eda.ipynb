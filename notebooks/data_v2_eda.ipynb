{
 "cells": [
  {
   "cell_type": "code",
   "execution_count": 1,
   "id": "35bca886",
   "metadata": {},
   "outputs": [],
   "source": [
    "import pandas as pd\n",
    "import zstandard as zstd\n",
    "import io\n",
    "import matplotlib.pyplot as plt\n",
    "import seaborn as sns\n",
    "import numpy as np\n",
    "import re"
   ]
  },
  {
   "cell_type": "code",
   "execution_count": null,
   "id": "32323a4c",
   "metadata": {},
   "outputs": [],
   "source": [
    "CALENDAR_DATA_V2_PATH = \"../data/raw/v2/calendar.csv.zst\"\n",
    "LISTINGS_DATA_V2_PATH = '../data/raw/v2/listings.csv.zst'\n",
    "REVIEWS_DATA_V2_PATH = '../data/raw/v2/reviews.csv.zst'\n",
    "SESSIONS_DATA_V2_PATH = '../data/raw/v2/sessions.csv.zst'\n",
    "USERS_DATA_V2_PATH = '../data/raw/v2/users.csv.zst'\n",
    "\n"
   ]
  },
  {
   "cell_type": "code",
   "execution_count": null,
   "id": "9a32ae9f",
   "metadata": {},
   "outputs": [],
   "source": [
    "import pandas as pd\n",
    "import zstandard as zstd\n",
    "import io\n",
    "from tqdm import tqdm  # for progress tracking (optional)\n",
    "\n",
    "def read_large_csv_zst(file_path, chunksize=100000, **kwargs):\n",
    "    # Initialize decompression objects\n",
    "    dctx = zstd.ZstdDecompressor()\n",
    "\n",
    "    # Open the compressed file\n",
    "    with open(file_path, 'rb') as fh:\n",
    "        # Create a streaming decompressor\n",
    "        with dctx.stream_reader(fh) as reader:\n",
    "            # Wrap with a TextIOWrapper for text processing\n",
    "            text_stream = io.TextIOWrapper(reader, encoding='utf-8')\n",
    "\n",
    "            # Read the first chunk to get column names\n",
    "            first_chunk = pd.read_csv(text_stream, nrows=1, **kwargs)\n",
    "\n",
    "            # Rewind the stream (by reopening)\n",
    "            fh.seek(0)\n",
    "            reader = dctx.stream_reader(fh)\n",
    "            text_stream = io.TextIOWrapper(reader, encoding='utf-8')\n",
    "\n",
    "            # Initialize list to hold chunks\n",
    "            chunks = []\n",
    "\n",
    "            # Create a chunk iterator\n",
    "            chunk_iter = pd.read_csv(\n",
    "                text_stream,\n",
    "                chunksize=chunksize,\n",
    "                **kwargs\n",
    "            )\n",
    "\n",
    "            # Process chunks with optional progress bar\n",
    "            for chunk in tqdm(chunk_iter, desc=\"Processing chunks\"):\n",
    "                chunks.append(chunk)\n",
    "\n",
    "    # Concatenate all chunks\n",
    "    return pd.concat(chunks, ignore_index=True)"
   ]
  },
  {
   "cell_type": "code",
   "execution_count": null,
   "id": "1b2050e5",
   "metadata": {},
   "outputs": [],
   "source": []
  }
 ],
 "metadata": {
  "kernelspec": {
   "display_name": "ium-long-stay-insights-DB1IbSqe-py3.12",
   "language": "python",
   "name": "python3"
  },
  "language_info": {
   "codemirror_mode": {
    "name": "ipython",
    "version": 3
   },
   "file_extension": ".py",
   "mimetype": "text/x-python",
   "name": "python",
   "nbconvert_exporter": "python",
   "pygments_lexer": "ipython3",
   "version": "3.11.10"
  }
 },
 "nbformat": 4,
 "nbformat_minor": 5
}
