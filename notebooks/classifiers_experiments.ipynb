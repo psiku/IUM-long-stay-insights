{
 "cells": [
  {
   "cell_type": "markdown",
   "id": "10c62b90",
   "metadata": {},
   "source": [
    "### Biblioteki"
   ]
  },
  {
   "cell_type": "code",
   "execution_count": 92,
   "id": "0a505405",
   "metadata": {},
   "outputs": [],
   "source": [
    "import torch\n",
    "import torch.nn as nn\n",
    "\n",
    "import numpy as np\n",
    "import pandas as pd\n",
    "from tqdm import tqdm\n",
    "\n",
    "from sklearn.model_selection import train_test_split\n",
    "from sklearn.metrics import accuracy_score, roc_auc_score, average_precision_score, classification_report\n",
    "\n",
    "\n",
    "from xgboost import XGBClassifier\n",
    "from matplotlib import pyplot as plt"
   ]
  },
  {
   "cell_type": "code",
   "execution_count": 2,
   "id": "2bc4b8c9",
   "metadata": {},
   "outputs": [],
   "source": [
    "from src.data.data_loader import train_test_split_data, create_dataloader\n",
    "from src.data.utils import create_dataframe_from_csv_zst\n",
    "from src.models.classifier import BinaryClassifier\n",
    "from src.models.classifier_emb import BinaryClassifierEmbeddings\n",
    "from src.models.naive_classifier import NaiveClassifier\n",
    "from src.models.train_model import train_classifier, evaluate_model\n",
    "from src.visualization.visualize import plot_confusion_matrix\n",
    "from src.data.utils import create_dataframe_from_csv_zst"
   ]
  },
  {
   "cell_type": "markdown",
   "id": "8ffdb859",
   "metadata": {},
   "source": [
    "### Finałowy dataset"
   ]
  },
  {
   "cell_type": "code",
   "execution_count": 3,
   "id": "1d6f5c1b",
   "metadata": {},
   "outputs": [],
   "source": [
    "AMENITIES_PATH = \"../data/processed/amenities_stats.csv.zst\"\n",
    "REVIEWS_STATISTICS_PATH = \"../data/processed/merged_reviews_statistics.csv.zst\"\n",
    "LISTINGS_PATH = \"../data/raw/v2/listings.csv.zst\"\n",
    "SESSIONS_STATISTICS_PATH = \"../data/processed/listings_statistics.csv\""
   ]
  },
  {
   "cell_type": "code",
   "execution_count": 4,
   "id": "618827f7",
   "metadata": {},
   "outputs": [
    {
     "name": "stderr",
     "output_type": "stream",
     "text": [
      "/home/psik/GITHUB/IUM/IUM-long-stay-insights/src/data/utils.py:13: DtypeWarning: Columns (29) have mixed types. Specify dtype option on import or set low_memory=False.\n",
      "  df = pd.read_csv(\n"
     ]
    }
   ],
   "source": [
    "amenities_df = create_dataframe_from_csv_zst(AMENITIES_PATH)\n",
    "reviews_statistics_df = create_dataframe_from_csv_zst(REVIEWS_STATISTICS_PATH)\n",
    "listings_df = create_dataframe_from_csv_zst(LISTINGS_PATH)"
   ]
  },
  {
   "cell_type": "code",
   "execution_count": 5,
   "id": "63204e99",
   "metadata": {},
   "outputs": [
    {
     "data": {
      "text/html": [
       "<div>\n",
       "<style scoped>\n",
       "    .dataframe tbody tr th:only-of-type {\n",
       "        vertical-align: middle;\n",
       "    }\n",
       "\n",
       "    .dataframe tbody tr th {\n",
       "        vertical-align: top;\n",
       "    }\n",
       "\n",
       "    .dataframe thead th {\n",
       "        text-align: right;\n",
       "    }\n",
       "</style>\n",
       "<table border=\"1\" class=\"dataframe\">\n",
       "  <thead>\n",
       "    <tr style=\"text-align: right;\">\n",
       "      <th></th>\n",
       "      <th>id</th>\n",
       "      <th>amenities</th>\n",
       "      <th>standardized_amenities</th>\n",
       "      <th>num_of_amenities</th>\n",
       "      <th>num_of_other_amenities</th>\n",
       "      <th>has_wifi</th>\n",
       "      <th>has_air_conditioning</th>\n",
       "      <th>num_of_top_10_common_amenities</th>\n",
       "      <th>mean_embedding</th>\n",
       "    </tr>\n",
       "  </thead>\n",
       "  <tbody>\n",
       "    <tr>\n",
       "      <th>0</th>\n",
       "      <td>27262</td>\n",
       "      <td>[\"Heating - split type ductless system\", \"Dish...</td>\n",
       "      <td>['OTHER', 'OTHER', 'OTHER', 'OTHER', 'Refriger...</td>\n",
       "      <td>37</td>\n",
       "      <td>25</td>\n",
       "      <td>True</td>\n",
       "      <td>False</td>\n",
       "      <td>9</td>\n",
       "      <td>[-6.15361333e-02 -5.01407236e-02 -3.76954190e-...</td>\n",
       "    </tr>\n",
       "    <tr>\n",
       "      <th>1</th>\n",
       "      <td>809874</td>\n",
       "      <td>[\"Host greets you\", \"Dishes and silverware\", \"...</td>\n",
       "      <td>['OTHER', 'OTHER', 'Washer', 'TV', 'OTHER', 'R...</td>\n",
       "      <td>21</td>\n",
       "      <td>12</td>\n",
       "      <td>True</td>\n",
       "      <td>True</td>\n",
       "      <td>7</td>\n",
       "      <td>[-5.95615655e-02 -3.39257978e-02 -3.55266146e-...</td>\n",
       "    </tr>\n",
       "    <tr>\n",
       "      <th>2</th>\n",
       "      <td>866381</td>\n",
       "      <td>[\"Coffee\", \"Dishes and silverware\", \"Washer\", ...</td>\n",
       "      <td>['Coffee maker', 'OTHER', 'Washer', 'Condition...</td>\n",
       "      <td>49</td>\n",
       "      <td>29</td>\n",
       "      <td>True</td>\n",
       "      <td>True</td>\n",
       "      <td>12</td>\n",
       "      <td>[-5.62126637e-02 -3.99859361e-02 -3.53127755e-...</td>\n",
       "    </tr>\n",
       "    <tr>\n",
       "      <th>3</th>\n",
       "      <td>886724</td>\n",
       "      <td>[\"Host greets you\", \"Luggage dropoff allowed\",...</td>\n",
       "      <td>['OTHER', 'OTHER', 'Washer', 'OTHER', 'OTHER',...</td>\n",
       "      <td>20</td>\n",
       "      <td>13</td>\n",
       "      <td>True</td>\n",
       "      <td>True</td>\n",
       "      <td>6</td>\n",
       "      <td>[-5.84196560e-02 -4.62852195e-02 -3.04865874e-...</td>\n",
       "    </tr>\n",
       "    <tr>\n",
       "      <th>4</th>\n",
       "      <td>896212</td>\n",
       "      <td>[\"Host greets you\", \"Coffee\", \"Dishes and silv...</td>\n",
       "      <td>['OTHER', 'Coffee maker', 'OTHER', 'OTHER', 'O...</td>\n",
       "      <td>45</td>\n",
       "      <td>31</td>\n",
       "      <td>True</td>\n",
       "      <td>True</td>\n",
       "      <td>9</td>\n",
       "      <td>[-5.81393391e-02 -4.77810428e-02 -4.26256545e-...</td>\n",
       "    </tr>\n",
       "  </tbody>\n",
       "</table>\n",
       "</div>"
      ],
      "text/plain": [
       "       id                                          amenities  \\\n",
       "0   27262  [\"Heating - split type ductless system\", \"Dish...   \n",
       "1  809874  [\"Host greets you\", \"Dishes and silverware\", \"...   \n",
       "2  866381  [\"Coffee\", \"Dishes and silverware\", \"Washer\", ...   \n",
       "3  886724  [\"Host greets you\", \"Luggage dropoff allowed\",...   \n",
       "4  896212  [\"Host greets you\", \"Coffee\", \"Dishes and silv...   \n",
       "\n",
       "                              standardized_amenities  num_of_amenities  \\\n",
       "0  ['OTHER', 'OTHER', 'OTHER', 'OTHER', 'Refriger...                37   \n",
       "1  ['OTHER', 'OTHER', 'Washer', 'TV', 'OTHER', 'R...                21   \n",
       "2  ['Coffee maker', 'OTHER', 'Washer', 'Condition...                49   \n",
       "3  ['OTHER', 'OTHER', 'Washer', 'OTHER', 'OTHER',...                20   \n",
       "4  ['OTHER', 'Coffee maker', 'OTHER', 'OTHER', 'O...                45   \n",
       "\n",
       "   num_of_other_amenities  has_wifi  has_air_conditioning  \\\n",
       "0                      25      True                 False   \n",
       "1                      12      True                  True   \n",
       "2                      29      True                  True   \n",
       "3                      13      True                  True   \n",
       "4                      31      True                  True   \n",
       "\n",
       "   num_of_top_10_common_amenities  \\\n",
       "0                               9   \n",
       "1                               7   \n",
       "2                              12   \n",
       "3                               6   \n",
       "4                               9   \n",
       "\n",
       "                                      mean_embedding  \n",
       "0  [-6.15361333e-02 -5.01407236e-02 -3.76954190e-...  \n",
       "1  [-5.95615655e-02 -3.39257978e-02 -3.55266146e-...  \n",
       "2  [-5.62126637e-02 -3.99859361e-02 -3.53127755e-...  \n",
       "3  [-5.84196560e-02 -4.62852195e-02 -3.04865874e-...  \n",
       "4  [-5.81393391e-02 -4.77810428e-02 -4.26256545e-...  "
      ]
     },
     "execution_count": 5,
     "metadata": {},
     "output_type": "execute_result"
    }
   ],
   "source": [
    "amenities_df.head(5)"
   ]
  },
  {
   "cell_type": "code",
   "execution_count": 6,
   "id": "0a92d58b",
   "metadata": {},
   "outputs": [
    {
     "data": {
      "text/html": [
       "<div>\n",
       "<style scoped>\n",
       "    .dataframe tbody tr th:only-of-type {\n",
       "        vertical-align: middle;\n",
       "    }\n",
       "\n",
       "    .dataframe tbody tr th {\n",
       "        vertical-align: top;\n",
       "    }\n",
       "\n",
       "    .dataframe thead th {\n",
       "        text-align: right;\n",
       "    }\n",
       "</style>\n",
       "<table border=\"1\" class=\"dataframe\">\n",
       "  <thead>\n",
       "    <tr style=\"text-align: right;\">\n",
       "      <th></th>\n",
       "      <th>listing_id</th>\n",
       "      <th>total_reviews</th>\n",
       "      <th>total_english_reviews</th>\n",
       "      <th>count_negative_english</th>\n",
       "      <th>count_positive_english</th>\n",
       "    </tr>\n",
       "  </thead>\n",
       "  <tbody>\n",
       "    <tr>\n",
       "      <th>0</th>\n",
       "      <td>21853</td>\n",
       "      <td>33</td>\n",
       "      <td>17.0</td>\n",
       "      <td>1.0</td>\n",
       "      <td>16.0</td>\n",
       "    </tr>\n",
       "    <tr>\n",
       "      <th>1</th>\n",
       "      <td>27262</td>\n",
       "      <td>29</td>\n",
       "      <td>17.0</td>\n",
       "      <td>0.0</td>\n",
       "      <td>17.0</td>\n",
       "    </tr>\n",
       "    <tr>\n",
       "      <th>2</th>\n",
       "      <td>30320</td>\n",
       "      <td>172</td>\n",
       "      <td>133.0</td>\n",
       "      <td>15.0</td>\n",
       "      <td>118.0</td>\n",
       "    </tr>\n",
       "    <tr>\n",
       "      <th>3</th>\n",
       "      <td>30959</td>\n",
       "      <td>8</td>\n",
       "      <td>4.0</td>\n",
       "      <td>0.0</td>\n",
       "      <td>4.0</td>\n",
       "    </tr>\n",
       "    <tr>\n",
       "      <th>4</th>\n",
       "      <td>33945</td>\n",
       "      <td>78</td>\n",
       "      <td>60.0</td>\n",
       "      <td>2.0</td>\n",
       "      <td>58.0</td>\n",
       "    </tr>\n",
       "  </tbody>\n",
       "</table>\n",
       "</div>"
      ],
      "text/plain": [
       "   listing_id  total_reviews  total_english_reviews  count_negative_english  \\\n",
       "0       21853             33                   17.0                     1.0   \n",
       "1       27262             29                   17.0                     0.0   \n",
       "2       30320            172                  133.0                    15.0   \n",
       "3       30959              8                    4.0                     0.0   \n",
       "4       33945             78                   60.0                     2.0   \n",
       "\n",
       "   count_positive_english  \n",
       "0                    16.0  \n",
       "1                    17.0  \n",
       "2                   118.0  \n",
       "3                     4.0  \n",
       "4                    58.0  "
      ]
     },
     "execution_count": 6,
     "metadata": {},
     "output_type": "execute_result"
    }
   ],
   "source": [
    "reviews_statistics_df.head(5)"
   ]
  },
  {
   "cell_type": "code",
   "execution_count": 7,
   "id": "8fa29491",
   "metadata": {},
   "outputs": [
    {
     "data": {
      "text/html": [
       "<div>\n",
       "<style scoped>\n",
       "    .dataframe tbody tr th:only-of-type {\n",
       "        vertical-align: middle;\n",
       "    }\n",
       "\n",
       "    .dataframe tbody tr th {\n",
       "        vertical-align: top;\n",
       "    }\n",
       "\n",
       "    .dataframe thead th {\n",
       "        text-align: right;\n",
       "    }\n",
       "</style>\n",
       "<table border=\"1\" class=\"dataframe\">\n",
       "  <thead>\n",
       "    <tr style=\"text-align: right;\">\n",
       "      <th></th>\n",
       "      <th>id</th>\n",
       "      <th>listing_url</th>\n",
       "      <th>scrape_id</th>\n",
       "      <th>last_scraped</th>\n",
       "      <th>source</th>\n",
       "      <th>name</th>\n",
       "      <th>description</th>\n",
       "      <th>neighborhood_overview</th>\n",
       "      <th>picture_url</th>\n",
       "      <th>host_id</th>\n",
       "      <th>...</th>\n",
       "      <th>instant_bookable</th>\n",
       "      <th>calculated_host_listings_count</th>\n",
       "      <th>calculated_host_listings_count_entire_homes</th>\n",
       "      <th>calculated_host_listings_count_private_rooms</th>\n",
       "      <th>calculated_host_listings_count_shared_rooms</th>\n",
       "      <th>reviews_per_month</th>\n",
       "      <th>availability_eoy</th>\n",
       "      <th>number_of_reviews_ly</th>\n",
       "      <th>estimated_occupancy_l365d</th>\n",
       "      <th>estimated_revenue_l365d</th>\n",
       "    </tr>\n",
       "  </thead>\n",
       "  <tbody>\n",
       "    <tr>\n",
       "      <th>0</th>\n",
       "      <td>27262</td>\n",
       "      <td>https://www.nocarz.pl/rooms/27262</td>\n",
       "      <td>20241225065837</td>\n",
       "      <td>2024-12-25</td>\n",
       "      <td>city scrape</td>\n",
       "      <td>AQA-No7, Great mattress, high speed internet</td>\n",
       "      <td>THE MATTRESS - KING KOIL - Camden Luxury 160x2...</td>\n",
       "      <td>NaN</td>\n",
       "      <td>https://a0.muscache.com/pictures/miso/Hosting-...</td>\n",
       "      <td>37177</td>\n",
       "      <td>...</td>\n",
       "      <td>t</td>\n",
       "      <td>1</td>\n",
       "      <td>1</td>\n",
       "      <td>0</td>\n",
       "      <td>0</td>\n",
       "      <td>0.19</td>\n",
       "      <td>NaN</td>\n",
       "      <td>NaN</td>\n",
       "      <td>NaN</td>\n",
       "      <td>NaN</td>\n",
       "    </tr>\n",
       "    <tr>\n",
       "      <th>1</th>\n",
       "      <td>809874</td>\n",
       "      <td>https://www.nocarz.pl/rooms/809874</td>\n",
       "      <td>20241225065837</td>\n",
       "      <td>2024-12-25</td>\n",
       "      <td>city scrape</td>\n",
       "      <td>Wonderfull Penthouse!!</td>\n",
       "      <td>NaN</td>\n",
       "      <td>NaN</td>\n",
       "      <td>https://a0.muscache.com/pictures/11813063/7d06...</td>\n",
       "      <td>4259738</td>\n",
       "      <td>...</td>\n",
       "      <td>f</td>\n",
       "      <td>1</td>\n",
       "      <td>1</td>\n",
       "      <td>0</td>\n",
       "      <td>0</td>\n",
       "      <td>0.68</td>\n",
       "      <td>NaN</td>\n",
       "      <td>NaN</td>\n",
       "      <td>NaN</td>\n",
       "      <td>NaN</td>\n",
       "    </tr>\n",
       "    <tr>\n",
       "      <th>2</th>\n",
       "      <td>866381</td>\n",
       "      <td>https://www.nocarz.pl/rooms/866381</td>\n",
       "      <td>20241225065837</td>\n",
       "      <td>2024-12-25</td>\n",
       "      <td>city scrape</td>\n",
       "      <td>Acropolis View Funky House</td>\n",
       "      <td>Welcome to a colorful 7th-floor penthouse in N...</td>\n",
       "      <td>NaN</td>\n",
       "      <td>https://a0.muscache.com/pictures/hosting/Hosti...</td>\n",
       "      <td>4551671</td>\n",
       "      <td>...</td>\n",
       "      <td>f</td>\n",
       "      <td>1</td>\n",
       "      <td>1</td>\n",
       "      <td>0</td>\n",
       "      <td>0</td>\n",
       "      <td>0.28</td>\n",
       "      <td>NaN</td>\n",
       "      <td>NaN</td>\n",
       "      <td>NaN</td>\n",
       "      <td>NaN</td>\n",
       "    </tr>\n",
       "    <tr>\n",
       "      <th>3</th>\n",
       "      <td>886724</td>\n",
       "      <td>https://www.nocarz.pl/rooms/886724</td>\n",
       "      <td>20241225065837</td>\n",
       "      <td>2024-12-25</td>\n",
       "      <td>city scrape</td>\n",
       "      <td>Luxury Boutique Appartment -Athens</td>\n",
       "      <td>NaN</td>\n",
       "      <td>The apartment is very conveniently located for...</td>\n",
       "      <td>https://a0.muscache.com/pictures/14659524/b33a...</td>\n",
       "      <td>4700824</td>\n",
       "      <td>...</td>\n",
       "      <td>f</td>\n",
       "      <td>1</td>\n",
       "      <td>1</td>\n",
       "      <td>0</td>\n",
       "      <td>0</td>\n",
       "      <td>0.14</td>\n",
       "      <td>NaN</td>\n",
       "      <td>NaN</td>\n",
       "      <td>NaN</td>\n",
       "      <td>NaN</td>\n",
       "    </tr>\n",
       "    <tr>\n",
       "      <th>4</th>\n",
       "      <td>896212</td>\n",
       "      <td>https://www.nocarz.pl/rooms/896212</td>\n",
       "      <td>20241225065837</td>\n",
       "      <td>2024-12-25</td>\n",
       "      <td>city scrape</td>\n",
       "      <td>Living like in a cottage in the center of Athens</td>\n",
       "      <td>An oasis of calm in the centre of a crowded ci...</td>\n",
       "      <td>Exarchia is considered the bohemian and altern...</td>\n",
       "      <td>https://a0.muscache.com/pictures/prohost-api/H...</td>\n",
       "      <td>4777984</td>\n",
       "      <td>...</td>\n",
       "      <td>t</td>\n",
       "      <td>13</td>\n",
       "      <td>13</td>\n",
       "      <td>0</td>\n",
       "      <td>0</td>\n",
       "      <td>3.58</td>\n",
       "      <td>NaN</td>\n",
       "      <td>NaN</td>\n",
       "      <td>NaN</td>\n",
       "      <td>NaN</td>\n",
       "    </tr>\n",
       "  </tbody>\n",
       "</table>\n",
       "<p>5 rows × 79 columns</p>\n",
       "</div>"
      ],
      "text/plain": [
       "       id                         listing_url       scrape_id last_scraped  \\\n",
       "0   27262   https://www.nocarz.pl/rooms/27262  20241225065837   2024-12-25   \n",
       "1  809874  https://www.nocarz.pl/rooms/809874  20241225065837   2024-12-25   \n",
       "2  866381  https://www.nocarz.pl/rooms/866381  20241225065837   2024-12-25   \n",
       "3  886724  https://www.nocarz.pl/rooms/886724  20241225065837   2024-12-25   \n",
       "4  896212  https://www.nocarz.pl/rooms/896212  20241225065837   2024-12-25   \n",
       "\n",
       "        source                                              name  \\\n",
       "0  city scrape      AQA-No7, Great mattress, high speed internet   \n",
       "1  city scrape                            Wonderfull Penthouse!!   \n",
       "2  city scrape                        Acropolis View Funky House   \n",
       "3  city scrape                Luxury Boutique Appartment -Athens   \n",
       "4  city scrape  Living like in a cottage in the center of Athens   \n",
       "\n",
       "                                         description  \\\n",
       "0  THE MATTRESS - KING KOIL - Camden Luxury 160x2...   \n",
       "1                                                NaN   \n",
       "2  Welcome to a colorful 7th-floor penthouse in N...   \n",
       "3                                                NaN   \n",
       "4  An oasis of calm in the centre of a crowded ci...   \n",
       "\n",
       "                               neighborhood_overview  \\\n",
       "0                                                NaN   \n",
       "1                                                NaN   \n",
       "2                                                NaN   \n",
       "3  The apartment is very conveniently located for...   \n",
       "4  Exarchia is considered the bohemian and altern...   \n",
       "\n",
       "                                         picture_url  host_id  ...  \\\n",
       "0  https://a0.muscache.com/pictures/miso/Hosting-...    37177  ...   \n",
       "1  https://a0.muscache.com/pictures/11813063/7d06...  4259738  ...   \n",
       "2  https://a0.muscache.com/pictures/hosting/Hosti...  4551671  ...   \n",
       "3  https://a0.muscache.com/pictures/14659524/b33a...  4700824  ...   \n",
       "4  https://a0.muscache.com/pictures/prohost-api/H...  4777984  ...   \n",
       "\n",
       "  instant_bookable calculated_host_listings_count  \\\n",
       "0                t                              1   \n",
       "1                f                              1   \n",
       "2                f                              1   \n",
       "3                f                              1   \n",
       "4                t                             13   \n",
       "\n",
       "  calculated_host_listings_count_entire_homes  \\\n",
       "0                                           1   \n",
       "1                                           1   \n",
       "2                                           1   \n",
       "3                                           1   \n",
       "4                                          13   \n",
       "\n",
       "  calculated_host_listings_count_private_rooms  \\\n",
       "0                                            0   \n",
       "1                                            0   \n",
       "2                                            0   \n",
       "3                                            0   \n",
       "4                                            0   \n",
       "\n",
       "  calculated_host_listings_count_shared_rooms reviews_per_month  \\\n",
       "0                                           0              0.19   \n",
       "1                                           0              0.68   \n",
       "2                                           0              0.28   \n",
       "3                                           0              0.14   \n",
       "4                                           0              3.58   \n",
       "\n",
       "  availability_eoy number_of_reviews_ly estimated_occupancy_l365d  \\\n",
       "0              NaN                  NaN                       NaN   \n",
       "1              NaN                  NaN                       NaN   \n",
       "2              NaN                  NaN                       NaN   \n",
       "3              NaN                  NaN                       NaN   \n",
       "4              NaN                  NaN                       NaN   \n",
       "\n",
       "  estimated_revenue_l365d  \n",
       "0                     NaN  \n",
       "1                     NaN  \n",
       "2                     NaN  \n",
       "3                     NaN  \n",
       "4                     NaN  \n",
       "\n",
       "[5 rows x 79 columns]"
      ]
     },
     "execution_count": 7,
     "metadata": {},
     "output_type": "execute_result"
    }
   ],
   "source": [
    "listings_df.head(5)"
   ]
  },
  {
   "cell_type": "code",
   "execution_count": 8,
   "id": "07cd60f9",
   "metadata": {},
   "outputs": [
    {
     "data": {
      "text/plain": [
       "Index(['id', 'listing_url', 'scrape_id', 'last_scraped', 'source', 'name',\n",
       "       'description', 'neighborhood_overview', 'picture_url', 'host_id',\n",
       "       'host_url', 'host_name', 'host_since', 'host_location', 'host_about',\n",
       "       'host_response_time', 'host_response_rate', 'host_acceptance_rate',\n",
       "       'host_is_superhost', 'host_thumbnail_url', 'host_picture_url',\n",
       "       'host_neighbourhood', 'host_listings_count',\n",
       "       'host_total_listings_count', 'host_verifications',\n",
       "       'host_has_profile_pic', 'host_identity_verified', 'neighbourhood',\n",
       "       'neighbourhood_cleansed', 'neighbourhood_group_cleansed', 'latitude',\n",
       "       'longitude', 'property_type', 'room_type', 'accommodates', 'bathrooms',\n",
       "       'bathrooms_text', 'bedrooms', 'beds', 'amenities', 'price',\n",
       "       'minimum_nights', 'maximum_nights', 'minimum_minimum_nights',\n",
       "       'maximum_minimum_nights', 'minimum_maximum_nights',\n",
       "       'maximum_maximum_nights', 'minimum_nights_avg_ntm',\n",
       "       'maximum_nights_avg_ntm', 'calendar_updated', 'has_availability',\n",
       "       'availability_30', 'availability_60', 'availability_90',\n",
       "       'availability_365', 'calendar_last_scraped', 'number_of_reviews',\n",
       "       'number_of_reviews_ltm', 'number_of_reviews_l30d', 'first_review',\n",
       "       'last_review', 'review_scores_rating', 'review_scores_accuracy',\n",
       "       'review_scores_cleanliness', 'review_scores_checkin',\n",
       "       'review_scores_communication', 'review_scores_location',\n",
       "       'review_scores_value', 'license', 'instant_bookable',\n",
       "       'calculated_host_listings_count',\n",
       "       'calculated_host_listings_count_entire_homes',\n",
       "       'calculated_host_listings_count_private_rooms',\n",
       "       'calculated_host_listings_count_shared_rooms', 'reviews_per_month',\n",
       "       'availability_eoy', 'number_of_reviews_ly', 'estimated_occupancy_l365d',\n",
       "       'estimated_revenue_l365d'],\n",
       "      dtype='object')"
      ]
     },
     "execution_count": 8,
     "metadata": {},
     "output_type": "execute_result"
    }
   ],
   "source": [
    "listings_df.columns"
   ]
  },
  {
   "cell_type": "code",
   "execution_count": 9,
   "id": "7dc89508",
   "metadata": {},
   "outputs": [],
   "source": [
    "interesting_columns = [\n",
    "    'id',\n",
    "    'host_is_superhost',\n",
    "    'host_verifications',\n",
    "    'host_acceptance_rate',\n",
    "    'neighbourhood_cleansed',\n",
    "    'latitude',\n",
    "    'longitude',\n",
    "    'property_type',\n",
    "    'room_type',\n",
    "    'accommodates',\n",
    "    'bathrooms',\n",
    "    'bathrooms_text',\n",
    "    'bedrooms',\n",
    "    'beds',\n",
    "    'price',\n",
    "    'license',\n",
    "    'review_scores_rating',\n",
    "    'review_scores_accuracy',\n",
    "    'review_scores_cleanliness',\n",
    "    'review_scores_checkin',\n",
    "    'review_scores_communication',\n",
    "    'review_scores_location',\n",
    "    'review_scores_value',\n",
    "    'instant_bookable',\n",
    "    'reviews_per_month',\n",
    "    'availability_eoy',\n",
    "    'number_of_reviews_ly'\n",
    "]"
   ]
  },
  {
   "cell_type": "code",
   "execution_count": 10,
   "id": "5d8fa720",
   "metadata": {},
   "outputs": [
    {
     "data": {
      "text/html": [
       "<div>\n",
       "<style scoped>\n",
       "    .dataframe tbody tr th:only-of-type {\n",
       "        vertical-align: middle;\n",
       "    }\n",
       "\n",
       "    .dataframe tbody tr th {\n",
       "        vertical-align: top;\n",
       "    }\n",
       "\n",
       "    .dataframe thead th {\n",
       "        text-align: right;\n",
       "    }\n",
       "</style>\n",
       "<table border=\"1\" class=\"dataframe\">\n",
       "  <thead>\n",
       "    <tr style=\"text-align: right;\">\n",
       "      <th></th>\n",
       "      <th>id</th>\n",
       "      <th>host_is_superhost</th>\n",
       "      <th>host_verifications</th>\n",
       "      <th>host_acceptance_rate</th>\n",
       "      <th>neighbourhood_cleansed</th>\n",
       "      <th>latitude</th>\n",
       "      <th>longitude</th>\n",
       "      <th>property_type</th>\n",
       "      <th>room_type</th>\n",
       "      <th>accommodates</th>\n",
       "      <th>...</th>\n",
       "      <th>review_scores_accuracy</th>\n",
       "      <th>review_scores_cleanliness</th>\n",
       "      <th>review_scores_checkin</th>\n",
       "      <th>review_scores_communication</th>\n",
       "      <th>review_scores_location</th>\n",
       "      <th>review_scores_value</th>\n",
       "      <th>instant_bookable</th>\n",
       "      <th>reviews_per_month</th>\n",
       "      <th>availability_eoy</th>\n",
       "      <th>number_of_reviews_ly</th>\n",
       "    </tr>\n",
       "  </thead>\n",
       "  <tbody>\n",
       "    <tr>\n",
       "      <th>0</th>\n",
       "      <td>27262</td>\n",
       "      <td>t</td>\n",
       "      <td>['email', 'phone']</td>\n",
       "      <td>100%</td>\n",
       "      <td>ΑΜΠΕΛΟΚΗΠΟΙ</td>\n",
       "      <td>37.98924</td>\n",
       "      <td>23.76500</td>\n",
       "      <td>Entire rental unit</td>\n",
       "      <td>Entire home/apt</td>\n",
       "      <td>2</td>\n",
       "      <td>...</td>\n",
       "      <td>4.89</td>\n",
       "      <td>4.90</td>\n",
       "      <td>4.86</td>\n",
       "      <td>4.97</td>\n",
       "      <td>4.75</td>\n",
       "      <td>4.71</td>\n",
       "      <td>t</td>\n",
       "      <td>0.19</td>\n",
       "      <td>NaN</td>\n",
       "      <td>NaN</td>\n",
       "    </tr>\n",
       "    <tr>\n",
       "      <th>1</th>\n",
       "      <td>809874</td>\n",
       "      <td>f</td>\n",
       "      <td>['email', 'phone']</td>\n",
       "      <td>96%</td>\n",
       "      <td>ΚΟΥΚΑΚΙ-ΜΑΚΡΥΓΙΑΝΝΗ</td>\n",
       "      <td>37.96215</td>\n",
       "      <td>23.72179</td>\n",
       "      <td>Entire rental unit</td>\n",
       "      <td>Entire home/apt</td>\n",
       "      <td>4</td>\n",
       "      <td>...</td>\n",
       "      <td>4.97</td>\n",
       "      <td>4.97</td>\n",
       "      <td>4.89</td>\n",
       "      <td>4.92</td>\n",
       "      <td>4.86</td>\n",
       "      <td>4.91</td>\n",
       "      <td>f</td>\n",
       "      <td>0.68</td>\n",
       "      <td>NaN</td>\n",
       "      <td>NaN</td>\n",
       "    </tr>\n",
       "    <tr>\n",
       "      <th>2</th>\n",
       "      <td>866381</td>\n",
       "      <td>t</td>\n",
       "      <td>['email', 'phone', 'work_email']</td>\n",
       "      <td>97%</td>\n",
       "      <td>ΝΕΟΣ ΚΟΣΜΟΣ</td>\n",
       "      <td>37.95523</td>\n",
       "      <td>23.72443</td>\n",
       "      <td>Entire condo</td>\n",
       "      <td>Entire home/apt</td>\n",
       "      <td>3</td>\n",
       "      <td>...</td>\n",
       "      <td>4.98</td>\n",
       "      <td>4.98</td>\n",
       "      <td>4.93</td>\n",
       "      <td>4.93</td>\n",
       "      <td>4.73</td>\n",
       "      <td>4.90</td>\n",
       "      <td>f</td>\n",
       "      <td>0.28</td>\n",
       "      <td>NaN</td>\n",
       "      <td>NaN</td>\n",
       "    </tr>\n",
       "    <tr>\n",
       "      <th>3</th>\n",
       "      <td>886724</td>\n",
       "      <td>f</td>\n",
       "      <td>['email']</td>\n",
       "      <td>0%</td>\n",
       "      <td>ΚΥΨΕΛΗ</td>\n",
       "      <td>37.99745</td>\n",
       "      <td>23.73973</td>\n",
       "      <td>Entire rental unit</td>\n",
       "      <td>Entire home/apt</td>\n",
       "      <td>2</td>\n",
       "      <td>...</td>\n",
       "      <td>4.88</td>\n",
       "      <td>4.47</td>\n",
       "      <td>4.88</td>\n",
       "      <td>4.89</td>\n",
       "      <td>4.28</td>\n",
       "      <td>4.72</td>\n",
       "      <td>f</td>\n",
       "      <td>0.14</td>\n",
       "      <td>NaN</td>\n",
       "      <td>NaN</td>\n",
       "    </tr>\n",
       "    <tr>\n",
       "      <th>4</th>\n",
       "      <td>896212</td>\n",
       "      <td>t</td>\n",
       "      <td>['email', 'phone']</td>\n",
       "      <td>100%</td>\n",
       "      <td>ΜΟΥΣΕΙΟ-ΕΞΑΡΧΕΙΑ-ΝΕΑΠΟΛΗ</td>\n",
       "      <td>37.98844</td>\n",
       "      <td>23.73845</td>\n",
       "      <td>Entire rental unit</td>\n",
       "      <td>Entire home/apt</td>\n",
       "      <td>2</td>\n",
       "      <td>...</td>\n",
       "      <td>4.94</td>\n",
       "      <td>4.96</td>\n",
       "      <td>4.97</td>\n",
       "      <td>4.93</td>\n",
       "      <td>4.82</td>\n",
       "      <td>4.93</td>\n",
       "      <td>t</td>\n",
       "      <td>3.58</td>\n",
       "      <td>NaN</td>\n",
       "      <td>NaN</td>\n",
       "    </tr>\n",
       "  </tbody>\n",
       "</table>\n",
       "<p>5 rows × 27 columns</p>\n",
       "</div>"
      ],
      "text/plain": [
       "       id host_is_superhost                host_verifications  \\\n",
       "0   27262                 t                ['email', 'phone']   \n",
       "1  809874                 f                ['email', 'phone']   \n",
       "2  866381                 t  ['email', 'phone', 'work_email']   \n",
       "3  886724                 f                         ['email']   \n",
       "4  896212                 t                ['email', 'phone']   \n",
       "\n",
       "  host_acceptance_rate    neighbourhood_cleansed  latitude  longitude  \\\n",
       "0                 100%               ΑΜΠΕΛΟΚΗΠΟΙ  37.98924   23.76500   \n",
       "1                  96%       ΚΟΥΚΑΚΙ-ΜΑΚΡΥΓΙΑΝΝΗ  37.96215   23.72179   \n",
       "2                  97%               ΝΕΟΣ ΚΟΣΜΟΣ  37.95523   23.72443   \n",
       "3                   0%                    ΚΥΨΕΛΗ  37.99745   23.73973   \n",
       "4                 100%  ΜΟΥΣΕΙΟ-ΕΞΑΡΧΕΙΑ-ΝΕΑΠΟΛΗ  37.98844   23.73845   \n",
       "\n",
       "        property_type        room_type  accommodates  ...  \\\n",
       "0  Entire rental unit  Entire home/apt             2  ...   \n",
       "1  Entire rental unit  Entire home/apt             4  ...   \n",
       "2        Entire condo  Entire home/apt             3  ...   \n",
       "3  Entire rental unit  Entire home/apt             2  ...   \n",
       "4  Entire rental unit  Entire home/apt             2  ...   \n",
       "\n",
       "   review_scores_accuracy review_scores_cleanliness  review_scores_checkin  \\\n",
       "0                    4.89                      4.90                   4.86   \n",
       "1                    4.97                      4.97                   4.89   \n",
       "2                    4.98                      4.98                   4.93   \n",
       "3                    4.88                      4.47                   4.88   \n",
       "4                    4.94                      4.96                   4.97   \n",
       "\n",
       "   review_scores_communication review_scores_location review_scores_value  \\\n",
       "0                         4.97                   4.75                4.71   \n",
       "1                         4.92                   4.86                4.91   \n",
       "2                         4.93                   4.73                4.90   \n",
       "3                         4.89                   4.28                4.72   \n",
       "4                         4.93                   4.82                4.93   \n",
       "\n",
       "   instant_bookable  reviews_per_month  availability_eoy  number_of_reviews_ly  \n",
       "0                 t               0.19               NaN                   NaN  \n",
       "1                 f               0.68               NaN                   NaN  \n",
       "2                 f               0.28               NaN                   NaN  \n",
       "3                 f               0.14               NaN                   NaN  \n",
       "4                 t               3.58               NaN                   NaN  \n",
       "\n",
       "[5 rows x 27 columns]"
      ]
     },
     "execution_count": 10,
     "metadata": {},
     "output_type": "execute_result"
    }
   ],
   "source": [
    "final_df = listings_df[interesting_columns].copy()\n",
    "final_df.head(5)"
   ]
  },
  {
   "cell_type": "code",
   "execution_count": 11,
   "id": "6144bb4a",
   "metadata": {},
   "outputs": [
    {
     "data": {
      "text/html": [
       "<div>\n",
       "<style scoped>\n",
       "    .dataframe tbody tr th:only-of-type {\n",
       "        vertical-align: middle;\n",
       "    }\n",
       "\n",
       "    .dataframe tbody tr th {\n",
       "        vertical-align: top;\n",
       "    }\n",
       "\n",
       "    .dataframe thead th {\n",
       "        text-align: right;\n",
       "    }\n",
       "</style>\n",
       "<table border=\"1\" class=\"dataframe\">\n",
       "  <thead>\n",
       "    <tr style=\"text-align: right;\">\n",
       "      <th></th>\n",
       "      <th>listing_id</th>\n",
       "      <th>total_bookings</th>\n",
       "      <th>total_duration</th>\n",
       "      <th>avg_duration</th>\n",
       "      <th>min_duration</th>\n",
       "      <th>max_duration</th>\n",
       "      <th>num_of_short_stays</th>\n",
       "      <th>num_of_long_stays</th>\n",
       "    </tr>\n",
       "  </thead>\n",
       "  <tbody>\n",
       "    <tr>\n",
       "      <th>0</th>\n",
       "      <td>21853.0</td>\n",
       "      <td>33</td>\n",
       "      <td>48</td>\n",
       "      <td>1.454545</td>\n",
       "      <td>1</td>\n",
       "      <td>4</td>\n",
       "      <td>33</td>\n",
       "      <td>0</td>\n",
       "    </tr>\n",
       "    <tr>\n",
       "      <th>1</th>\n",
       "      <td>27262.0</td>\n",
       "      <td>29</td>\n",
       "      <td>144</td>\n",
       "      <td>4.965517</td>\n",
       "      <td>2</td>\n",
       "      <td>7</td>\n",
       "      <td>29</td>\n",
       "      <td>0</td>\n",
       "    </tr>\n",
       "    <tr>\n",
       "      <th>2</th>\n",
       "      <td>30320.0</td>\n",
       "      <td>172</td>\n",
       "      <td>360</td>\n",
       "      <td>2.093023</td>\n",
       "      <td>1</td>\n",
       "      <td>4</td>\n",
       "      <td>172</td>\n",
       "      <td>0</td>\n",
       "    </tr>\n",
       "    <tr>\n",
       "      <th>3</th>\n",
       "      <td>30959.0</td>\n",
       "      <td>8</td>\n",
       "      <td>12</td>\n",
       "      <td>1.500000</td>\n",
       "      <td>1</td>\n",
       "      <td>3</td>\n",
       "      <td>8</td>\n",
       "      <td>0</td>\n",
       "    </tr>\n",
       "    <tr>\n",
       "      <th>4</th>\n",
       "      <td>33945.0</td>\n",
       "      <td>78</td>\n",
       "      <td>540</td>\n",
       "      <td>6.923077</td>\n",
       "      <td>3</td>\n",
       "      <td>10</td>\n",
       "      <td>54</td>\n",
       "      <td>24</td>\n",
       "    </tr>\n",
       "  </tbody>\n",
       "</table>\n",
       "</div>"
      ],
      "text/plain": [
       "   listing_id  total_bookings  total_duration  avg_duration  min_duration  \\\n",
       "0     21853.0              33              48      1.454545             1   \n",
       "1     27262.0              29             144      4.965517             2   \n",
       "2     30320.0             172             360      2.093023             1   \n",
       "3     30959.0               8              12      1.500000             1   \n",
       "4     33945.0              78             540      6.923077             3   \n",
       "\n",
       "   max_duration  num_of_short_stays  num_of_long_stays  \n",
       "0             4                  33                  0  \n",
       "1             7                  29                  0  \n",
       "2             4                 172                  0  \n",
       "3             3                   8                  0  \n",
       "4            10                  54                 24  "
      ]
     },
     "execution_count": 11,
     "metadata": {},
     "output_type": "execute_result"
    }
   ],
   "source": [
    "listings_statistics = pd.read_csv(SESSIONS_STATISTICS_PATH)\n",
    "listings_statistics.head(5)"
   ]
  },
  {
   "cell_type": "code",
   "execution_count": 12,
   "id": "c3fd5e22",
   "metadata": {},
   "outputs": [],
   "source": [
    "listings_statistics['target'] = np.where(\n",
    "    listings_statistics['num_of_short_stays'] > listings_statistics['num_of_long_stays'],\n",
    "    'short',\n",
    "    'long'\n",
    ")"
   ]
  },
  {
   "cell_type": "code",
   "execution_count": 13,
   "id": "1be6b4d1",
   "metadata": {},
   "outputs": [
    {
     "data": {
      "text/html": [
       "<div>\n",
       "<style scoped>\n",
       "    .dataframe tbody tr th:only-of-type {\n",
       "        vertical-align: middle;\n",
       "    }\n",
       "\n",
       "    .dataframe tbody tr th {\n",
       "        vertical-align: top;\n",
       "    }\n",
       "\n",
       "    .dataframe thead th {\n",
       "        text-align: right;\n",
       "    }\n",
       "</style>\n",
       "<table border=\"1\" class=\"dataframe\">\n",
       "  <thead>\n",
       "    <tr style=\"text-align: right;\">\n",
       "      <th></th>\n",
       "      <th>listing_id</th>\n",
       "      <th>total_bookings</th>\n",
       "      <th>total_duration</th>\n",
       "      <th>avg_duration</th>\n",
       "      <th>min_duration</th>\n",
       "      <th>max_duration</th>\n",
       "      <th>num_of_short_stays</th>\n",
       "      <th>num_of_long_stays</th>\n",
       "      <th>target</th>\n",
       "    </tr>\n",
       "  </thead>\n",
       "  <tbody>\n",
       "    <tr>\n",
       "      <th>0</th>\n",
       "      <td>21853.0</td>\n",
       "      <td>33</td>\n",
       "      <td>48</td>\n",
       "      <td>1.454545</td>\n",
       "      <td>1</td>\n",
       "      <td>4</td>\n",
       "      <td>33</td>\n",
       "      <td>0</td>\n",
       "      <td>short</td>\n",
       "    </tr>\n",
       "    <tr>\n",
       "      <th>1</th>\n",
       "      <td>27262.0</td>\n",
       "      <td>29</td>\n",
       "      <td>144</td>\n",
       "      <td>4.965517</td>\n",
       "      <td>2</td>\n",
       "      <td>7</td>\n",
       "      <td>29</td>\n",
       "      <td>0</td>\n",
       "      <td>short</td>\n",
       "    </tr>\n",
       "    <tr>\n",
       "      <th>2</th>\n",
       "      <td>30320.0</td>\n",
       "      <td>172</td>\n",
       "      <td>360</td>\n",
       "      <td>2.093023</td>\n",
       "      <td>1</td>\n",
       "      <td>4</td>\n",
       "      <td>172</td>\n",
       "      <td>0</td>\n",
       "      <td>short</td>\n",
       "    </tr>\n",
       "    <tr>\n",
       "      <th>3</th>\n",
       "      <td>30959.0</td>\n",
       "      <td>8</td>\n",
       "      <td>12</td>\n",
       "      <td>1.500000</td>\n",
       "      <td>1</td>\n",
       "      <td>3</td>\n",
       "      <td>8</td>\n",
       "      <td>0</td>\n",
       "      <td>short</td>\n",
       "    </tr>\n",
       "    <tr>\n",
       "      <th>4</th>\n",
       "      <td>33945.0</td>\n",
       "      <td>78</td>\n",
       "      <td>540</td>\n",
       "      <td>6.923077</td>\n",
       "      <td>3</td>\n",
       "      <td>10</td>\n",
       "      <td>54</td>\n",
       "      <td>24</td>\n",
       "      <td>short</td>\n",
       "    </tr>\n",
       "  </tbody>\n",
       "</table>\n",
       "</div>"
      ],
      "text/plain": [
       "   listing_id  total_bookings  total_duration  avg_duration  min_duration  \\\n",
       "0     21853.0              33              48      1.454545             1   \n",
       "1     27262.0              29             144      4.965517             2   \n",
       "2     30320.0             172             360      2.093023             1   \n",
       "3     30959.0               8              12      1.500000             1   \n",
       "4     33945.0              78             540      6.923077             3   \n",
       "\n",
       "   max_duration  num_of_short_stays  num_of_long_stays target  \n",
       "0             4                  33                  0  short  \n",
       "1             7                  29                  0  short  \n",
       "2             4                 172                  0  short  \n",
       "3             3                   8                  0  short  \n",
       "4            10                  54                 24  short  "
      ]
     },
     "execution_count": 13,
     "metadata": {},
     "output_type": "execute_result"
    }
   ],
   "source": [
    "listings_statistics.head()"
   ]
  },
  {
   "cell_type": "code",
   "execution_count": 14,
   "id": "101a80d5",
   "metadata": {},
   "outputs": [],
   "source": [
    "listing_statistics_final_df = listings_statistics[['listing_id','total_bookings', 'target']].copy()"
   ]
  },
  {
   "cell_type": "code",
   "execution_count": 15,
   "id": "6580a41e",
   "metadata": {},
   "outputs": [
    {
     "data": {
      "text/html": [
       "<div>\n",
       "<style scoped>\n",
       "    .dataframe tbody tr th:only-of-type {\n",
       "        vertical-align: middle;\n",
       "    }\n",
       "\n",
       "    .dataframe tbody tr th {\n",
       "        vertical-align: top;\n",
       "    }\n",
       "\n",
       "    .dataframe thead th {\n",
       "        text-align: right;\n",
       "    }\n",
       "</style>\n",
       "<table border=\"1\" class=\"dataframe\">\n",
       "  <thead>\n",
       "    <tr style=\"text-align: right;\">\n",
       "      <th></th>\n",
       "      <th>listing_id</th>\n",
       "      <th>total_bookings</th>\n",
       "      <th>target</th>\n",
       "    </tr>\n",
       "  </thead>\n",
       "  <tbody>\n",
       "    <tr>\n",
       "      <th>0</th>\n",
       "      <td>21853.0</td>\n",
       "      <td>33</td>\n",
       "      <td>short</td>\n",
       "    </tr>\n",
       "    <tr>\n",
       "      <th>1</th>\n",
       "      <td>27262.0</td>\n",
       "      <td>29</td>\n",
       "      <td>short</td>\n",
       "    </tr>\n",
       "    <tr>\n",
       "      <th>2</th>\n",
       "      <td>30320.0</td>\n",
       "      <td>172</td>\n",
       "      <td>short</td>\n",
       "    </tr>\n",
       "    <tr>\n",
       "      <th>3</th>\n",
       "      <td>30959.0</td>\n",
       "      <td>8</td>\n",
       "      <td>short</td>\n",
       "    </tr>\n",
       "    <tr>\n",
       "      <th>4</th>\n",
       "      <td>33945.0</td>\n",
       "      <td>78</td>\n",
       "      <td>short</td>\n",
       "    </tr>\n",
       "  </tbody>\n",
       "</table>\n",
       "</div>"
      ],
      "text/plain": [
       "   listing_id  total_bookings target\n",
       "0     21853.0              33  short\n",
       "1     27262.0              29  short\n",
       "2     30320.0             172  short\n",
       "3     30959.0               8  short\n",
       "4     33945.0              78  short"
      ]
     },
     "execution_count": 15,
     "metadata": {},
     "output_type": "execute_result"
    }
   ],
   "source": [
    "listing_statistics_final_df.head(5)"
   ]
  },
  {
   "cell_type": "markdown",
   "id": "330912ee",
   "metadata": {},
   "source": [
    "### Złączenie datasetów"
   ]
  },
  {
   "cell_type": "code",
   "execution_count": 16,
   "id": "bc02e4d6",
   "metadata": {},
   "outputs": [
    {
     "data": {
      "text/html": [
       "<div>\n",
       "<style scoped>\n",
       "    .dataframe tbody tr th:only-of-type {\n",
       "        vertical-align: middle;\n",
       "    }\n",
       "\n",
       "    .dataframe tbody tr th {\n",
       "        vertical-align: top;\n",
       "    }\n",
       "\n",
       "    .dataframe thead th {\n",
       "        text-align: right;\n",
       "    }\n",
       "</style>\n",
       "<table border=\"1\" class=\"dataframe\">\n",
       "  <thead>\n",
       "    <tr style=\"text-align: right;\">\n",
       "      <th></th>\n",
       "      <th>id</th>\n",
       "      <th>host_is_superhost</th>\n",
       "      <th>host_verifications</th>\n",
       "      <th>host_acceptance_rate</th>\n",
       "      <th>neighbourhood_cleansed</th>\n",
       "      <th>latitude</th>\n",
       "      <th>longitude</th>\n",
       "      <th>property_type</th>\n",
       "      <th>room_type</th>\n",
       "      <th>accommodates</th>\n",
       "      <th>...</th>\n",
       "      <th>review_scores_communication</th>\n",
       "      <th>review_scores_location</th>\n",
       "      <th>review_scores_value</th>\n",
       "      <th>instant_bookable</th>\n",
       "      <th>reviews_per_month</th>\n",
       "      <th>availability_eoy</th>\n",
       "      <th>number_of_reviews_ly</th>\n",
       "      <th>listing_id</th>\n",
       "      <th>total_bookings</th>\n",
       "      <th>target</th>\n",
       "    </tr>\n",
       "  </thead>\n",
       "  <tbody>\n",
       "    <tr>\n",
       "      <th>0</th>\n",
       "      <td>27262</td>\n",
       "      <td>t</td>\n",
       "      <td>['email', 'phone']</td>\n",
       "      <td>100%</td>\n",
       "      <td>ΑΜΠΕΛΟΚΗΠΟΙ</td>\n",
       "      <td>37.98924</td>\n",
       "      <td>23.76500</td>\n",
       "      <td>Entire rental unit</td>\n",
       "      <td>Entire home/apt</td>\n",
       "      <td>2</td>\n",
       "      <td>...</td>\n",
       "      <td>4.97</td>\n",
       "      <td>4.75</td>\n",
       "      <td>4.71</td>\n",
       "      <td>t</td>\n",
       "      <td>0.19</td>\n",
       "      <td>NaN</td>\n",
       "      <td>NaN</td>\n",
       "      <td>27262.0</td>\n",
       "      <td>29.0</td>\n",
       "      <td>short</td>\n",
       "    </tr>\n",
       "    <tr>\n",
       "      <th>1</th>\n",
       "      <td>809874</td>\n",
       "      <td>f</td>\n",
       "      <td>['email', 'phone']</td>\n",
       "      <td>96%</td>\n",
       "      <td>ΚΟΥΚΑΚΙ-ΜΑΚΡΥΓΙΑΝΝΗ</td>\n",
       "      <td>37.96215</td>\n",
       "      <td>23.72179</td>\n",
       "      <td>Entire rental unit</td>\n",
       "      <td>Entire home/apt</td>\n",
       "      <td>4</td>\n",
       "      <td>...</td>\n",
       "      <td>4.92</td>\n",
       "      <td>4.86</td>\n",
       "      <td>4.91</td>\n",
       "      <td>f</td>\n",
       "      <td>0.68</td>\n",
       "      <td>NaN</td>\n",
       "      <td>NaN</td>\n",
       "      <td>809874.0</td>\n",
       "      <td>97.0</td>\n",
       "      <td>short</td>\n",
       "    </tr>\n",
       "    <tr>\n",
       "      <th>2</th>\n",
       "      <td>866381</td>\n",
       "      <td>t</td>\n",
       "      <td>['email', 'phone', 'work_email']</td>\n",
       "      <td>97%</td>\n",
       "      <td>ΝΕΟΣ ΚΟΣΜΟΣ</td>\n",
       "      <td>37.95523</td>\n",
       "      <td>23.72443</td>\n",
       "      <td>Entire condo</td>\n",
       "      <td>Entire home/apt</td>\n",
       "      <td>3</td>\n",
       "      <td>...</td>\n",
       "      <td>4.93</td>\n",
       "      <td>4.73</td>\n",
       "      <td>4.90</td>\n",
       "      <td>f</td>\n",
       "      <td>0.28</td>\n",
       "      <td>NaN</td>\n",
       "      <td>NaN</td>\n",
       "      <td>866381.0</td>\n",
       "      <td>40.0</td>\n",
       "      <td>long</td>\n",
       "    </tr>\n",
       "    <tr>\n",
       "      <th>3</th>\n",
       "      <td>886724</td>\n",
       "      <td>f</td>\n",
       "      <td>['email']</td>\n",
       "      <td>0%</td>\n",
       "      <td>ΚΥΨΕΛΗ</td>\n",
       "      <td>37.99745</td>\n",
       "      <td>23.73973</td>\n",
       "      <td>Entire rental unit</td>\n",
       "      <td>Entire home/apt</td>\n",
       "      <td>2</td>\n",
       "      <td>...</td>\n",
       "      <td>4.89</td>\n",
       "      <td>4.28</td>\n",
       "      <td>4.72</td>\n",
       "      <td>f</td>\n",
       "      <td>0.14</td>\n",
       "      <td>NaN</td>\n",
       "      <td>NaN</td>\n",
       "      <td>886724.0</td>\n",
       "      <td>18.0</td>\n",
       "      <td>short</td>\n",
       "    </tr>\n",
       "    <tr>\n",
       "      <th>4</th>\n",
       "      <td>896212</td>\n",
       "      <td>t</td>\n",
       "      <td>['email', 'phone']</td>\n",
       "      <td>100%</td>\n",
       "      <td>ΜΟΥΣΕΙΟ-ΕΞΑΡΧΕΙΑ-ΝΕΑΠΟΛΗ</td>\n",
       "      <td>37.98844</td>\n",
       "      <td>23.73845</td>\n",
       "      <td>Entire rental unit</td>\n",
       "      <td>Entire home/apt</td>\n",
       "      <td>2</td>\n",
       "      <td>...</td>\n",
       "      <td>4.93</td>\n",
       "      <td>4.82</td>\n",
       "      <td>4.93</td>\n",
       "      <td>t</td>\n",
       "      <td>3.58</td>\n",
       "      <td>NaN</td>\n",
       "      <td>NaN</td>\n",
       "      <td>896212.0</td>\n",
       "      <td>515.0</td>\n",
       "      <td>long</td>\n",
       "    </tr>\n",
       "  </tbody>\n",
       "</table>\n",
       "<p>5 rows × 30 columns</p>\n",
       "</div>"
      ],
      "text/plain": [
       "       id host_is_superhost                host_verifications  \\\n",
       "0   27262                 t                ['email', 'phone']   \n",
       "1  809874                 f                ['email', 'phone']   \n",
       "2  866381                 t  ['email', 'phone', 'work_email']   \n",
       "3  886724                 f                         ['email']   \n",
       "4  896212                 t                ['email', 'phone']   \n",
       "\n",
       "  host_acceptance_rate    neighbourhood_cleansed  latitude  longitude  \\\n",
       "0                 100%               ΑΜΠΕΛΟΚΗΠΟΙ  37.98924   23.76500   \n",
       "1                  96%       ΚΟΥΚΑΚΙ-ΜΑΚΡΥΓΙΑΝΝΗ  37.96215   23.72179   \n",
       "2                  97%               ΝΕΟΣ ΚΟΣΜΟΣ  37.95523   23.72443   \n",
       "3                   0%                    ΚΥΨΕΛΗ  37.99745   23.73973   \n",
       "4                 100%  ΜΟΥΣΕΙΟ-ΕΞΑΡΧΕΙΑ-ΝΕΑΠΟΛΗ  37.98844   23.73845   \n",
       "\n",
       "        property_type        room_type  accommodates  ...  \\\n",
       "0  Entire rental unit  Entire home/apt             2  ...   \n",
       "1  Entire rental unit  Entire home/apt             4  ...   \n",
       "2        Entire condo  Entire home/apt             3  ...   \n",
       "3  Entire rental unit  Entire home/apt             2  ...   \n",
       "4  Entire rental unit  Entire home/apt             2  ...   \n",
       "\n",
       "   review_scores_communication review_scores_location  review_scores_value  \\\n",
       "0                         4.97                   4.75                 4.71   \n",
       "1                         4.92                   4.86                 4.91   \n",
       "2                         4.93                   4.73                 4.90   \n",
       "3                         4.89                   4.28                 4.72   \n",
       "4                         4.93                   4.82                 4.93   \n",
       "\n",
       "   instant_bookable reviews_per_month availability_eoy  number_of_reviews_ly  \\\n",
       "0                 t              0.19              NaN                   NaN   \n",
       "1                 f              0.68              NaN                   NaN   \n",
       "2                 f              0.28              NaN                   NaN   \n",
       "3                 f              0.14              NaN                   NaN   \n",
       "4                 t              3.58              NaN                   NaN   \n",
       "\n",
       "   listing_id  total_bookings  target  \n",
       "0     27262.0            29.0   short  \n",
       "1    809874.0            97.0   short  \n",
       "2    866381.0            40.0    long  \n",
       "3    886724.0            18.0   short  \n",
       "4    896212.0           515.0    long  \n",
       "\n",
       "[5 rows x 30 columns]"
      ]
     },
     "execution_count": 16,
     "metadata": {},
     "output_type": "execute_result"
    }
   ],
   "source": [
    "final_df = final_df.merge(\n",
    "    listing_statistics_final_df,\n",
    "    left_on='id',\n",
    "    right_on='listing_id',\n",
    "    how='left'\n",
    ")\n",
    "final_df.head(5)"
   ]
  },
  {
   "cell_type": "code",
   "execution_count": 17,
   "id": "9f6774f0",
   "metadata": {},
   "outputs": [
    {
     "data": {
      "text/html": [
       "<div>\n",
       "<style scoped>\n",
       "    .dataframe tbody tr th:only-of-type {\n",
       "        vertical-align: middle;\n",
       "    }\n",
       "\n",
       "    .dataframe tbody tr th {\n",
       "        vertical-align: top;\n",
       "    }\n",
       "\n",
       "    .dataframe thead th {\n",
       "        text-align: right;\n",
       "    }\n",
       "</style>\n",
       "<table border=\"1\" class=\"dataframe\">\n",
       "  <thead>\n",
       "    <tr style=\"text-align: right;\">\n",
       "      <th></th>\n",
       "      <th>id</th>\n",
       "      <th>host_is_superhost</th>\n",
       "      <th>host_verifications</th>\n",
       "      <th>host_acceptance_rate</th>\n",
       "      <th>neighbourhood_cleansed</th>\n",
       "      <th>latitude</th>\n",
       "      <th>longitude</th>\n",
       "      <th>property_type</th>\n",
       "      <th>room_type</th>\n",
       "      <th>accommodates</th>\n",
       "      <th>...</th>\n",
       "      <th>availability_eoy</th>\n",
       "      <th>number_of_reviews_ly</th>\n",
       "      <th>listing_id_x</th>\n",
       "      <th>total_bookings</th>\n",
       "      <th>target</th>\n",
       "      <th>listing_id_y</th>\n",
       "      <th>total_reviews</th>\n",
       "      <th>total_english_reviews</th>\n",
       "      <th>count_negative_english</th>\n",
       "      <th>count_positive_english</th>\n",
       "    </tr>\n",
       "  </thead>\n",
       "  <tbody>\n",
       "    <tr>\n",
       "      <th>0</th>\n",
       "      <td>27262</td>\n",
       "      <td>t</td>\n",
       "      <td>['email', 'phone']</td>\n",
       "      <td>100%</td>\n",
       "      <td>ΑΜΠΕΛΟΚΗΠΟΙ</td>\n",
       "      <td>37.98924</td>\n",
       "      <td>23.76500</td>\n",
       "      <td>Entire rental unit</td>\n",
       "      <td>Entire home/apt</td>\n",
       "      <td>2</td>\n",
       "      <td>...</td>\n",
       "      <td>NaN</td>\n",
       "      <td>NaN</td>\n",
       "      <td>27262.0</td>\n",
       "      <td>29.0</td>\n",
       "      <td>short</td>\n",
       "      <td>27262.0</td>\n",
       "      <td>29.0</td>\n",
       "      <td>17.0</td>\n",
       "      <td>0.0</td>\n",
       "      <td>17.0</td>\n",
       "    </tr>\n",
       "    <tr>\n",
       "      <th>1</th>\n",
       "      <td>809874</td>\n",
       "      <td>f</td>\n",
       "      <td>['email', 'phone']</td>\n",
       "      <td>96%</td>\n",
       "      <td>ΚΟΥΚΑΚΙ-ΜΑΚΡΥΓΙΑΝΝΗ</td>\n",
       "      <td>37.96215</td>\n",
       "      <td>23.72179</td>\n",
       "      <td>Entire rental unit</td>\n",
       "      <td>Entire home/apt</td>\n",
       "      <td>4</td>\n",
       "      <td>...</td>\n",
       "      <td>NaN</td>\n",
       "      <td>NaN</td>\n",
       "      <td>809874.0</td>\n",
       "      <td>97.0</td>\n",
       "      <td>short</td>\n",
       "      <td>809874.0</td>\n",
       "      <td>97.0</td>\n",
       "      <td>82.0</td>\n",
       "      <td>0.0</td>\n",
       "      <td>82.0</td>\n",
       "    </tr>\n",
       "    <tr>\n",
       "      <th>2</th>\n",
       "      <td>866381</td>\n",
       "      <td>t</td>\n",
       "      <td>['email', 'phone', 'work_email']</td>\n",
       "      <td>97%</td>\n",
       "      <td>ΝΕΟΣ ΚΟΣΜΟΣ</td>\n",
       "      <td>37.95523</td>\n",
       "      <td>23.72443</td>\n",
       "      <td>Entire condo</td>\n",
       "      <td>Entire home/apt</td>\n",
       "      <td>3</td>\n",
       "      <td>...</td>\n",
       "      <td>NaN</td>\n",
       "      <td>NaN</td>\n",
       "      <td>866381.0</td>\n",
       "      <td>40.0</td>\n",
       "      <td>long</td>\n",
       "      <td>866381.0</td>\n",
       "      <td>40.0</td>\n",
       "      <td>31.0</td>\n",
       "      <td>0.0</td>\n",
       "      <td>31.0</td>\n",
       "    </tr>\n",
       "    <tr>\n",
       "      <th>3</th>\n",
       "      <td>886724</td>\n",
       "      <td>f</td>\n",
       "      <td>['email']</td>\n",
       "      <td>0%</td>\n",
       "      <td>ΚΥΨΕΛΗ</td>\n",
       "      <td>37.99745</td>\n",
       "      <td>23.73973</td>\n",
       "      <td>Entire rental unit</td>\n",
       "      <td>Entire home/apt</td>\n",
       "      <td>2</td>\n",
       "      <td>...</td>\n",
       "      <td>NaN</td>\n",
       "      <td>NaN</td>\n",
       "      <td>886724.0</td>\n",
       "      <td>18.0</td>\n",
       "      <td>short</td>\n",
       "      <td>886724.0</td>\n",
       "      <td>18.0</td>\n",
       "      <td>17.0</td>\n",
       "      <td>1.0</td>\n",
       "      <td>16.0</td>\n",
       "    </tr>\n",
       "    <tr>\n",
       "      <th>4</th>\n",
       "      <td>896212</td>\n",
       "      <td>t</td>\n",
       "      <td>['email', 'phone']</td>\n",
       "      <td>100%</td>\n",
       "      <td>ΜΟΥΣΕΙΟ-ΕΞΑΡΧΕΙΑ-ΝΕΑΠΟΛΗ</td>\n",
       "      <td>37.98844</td>\n",
       "      <td>23.73845</td>\n",
       "      <td>Entire rental unit</td>\n",
       "      <td>Entire home/apt</td>\n",
       "      <td>2</td>\n",
       "      <td>...</td>\n",
       "      <td>NaN</td>\n",
       "      <td>NaN</td>\n",
       "      <td>896212.0</td>\n",
       "      <td>515.0</td>\n",
       "      <td>long</td>\n",
       "      <td>896212.0</td>\n",
       "      <td>515.0</td>\n",
       "      <td>423.0</td>\n",
       "      <td>3.0</td>\n",
       "      <td>420.0</td>\n",
       "    </tr>\n",
       "  </tbody>\n",
       "</table>\n",
       "<p>5 rows × 35 columns</p>\n",
       "</div>"
      ],
      "text/plain": [
       "       id host_is_superhost                host_verifications  \\\n",
       "0   27262                 t                ['email', 'phone']   \n",
       "1  809874                 f                ['email', 'phone']   \n",
       "2  866381                 t  ['email', 'phone', 'work_email']   \n",
       "3  886724                 f                         ['email']   \n",
       "4  896212                 t                ['email', 'phone']   \n",
       "\n",
       "  host_acceptance_rate    neighbourhood_cleansed  latitude  longitude  \\\n",
       "0                 100%               ΑΜΠΕΛΟΚΗΠΟΙ  37.98924   23.76500   \n",
       "1                  96%       ΚΟΥΚΑΚΙ-ΜΑΚΡΥΓΙΑΝΝΗ  37.96215   23.72179   \n",
       "2                  97%               ΝΕΟΣ ΚΟΣΜΟΣ  37.95523   23.72443   \n",
       "3                   0%                    ΚΥΨΕΛΗ  37.99745   23.73973   \n",
       "4                 100%  ΜΟΥΣΕΙΟ-ΕΞΑΡΧΕΙΑ-ΝΕΑΠΟΛΗ  37.98844   23.73845   \n",
       "\n",
       "        property_type        room_type  accommodates  ...  availability_eoy  \\\n",
       "0  Entire rental unit  Entire home/apt             2  ...               NaN   \n",
       "1  Entire rental unit  Entire home/apt             4  ...               NaN   \n",
       "2        Entire condo  Entire home/apt             3  ...               NaN   \n",
       "3  Entire rental unit  Entire home/apt             2  ...               NaN   \n",
       "4  Entire rental unit  Entire home/apt             2  ...               NaN   \n",
       "\n",
       "  number_of_reviews_ly  listing_id_x  total_bookings target listing_id_y  \\\n",
       "0                  NaN       27262.0            29.0  short      27262.0   \n",
       "1                  NaN      809874.0            97.0  short     809874.0   \n",
       "2                  NaN      866381.0            40.0   long     866381.0   \n",
       "3                  NaN      886724.0            18.0  short     886724.0   \n",
       "4                  NaN      896212.0           515.0   long     896212.0   \n",
       "\n",
       "   total_reviews  total_english_reviews  count_negative_english  \\\n",
       "0           29.0                   17.0                     0.0   \n",
       "1           97.0                   82.0                     0.0   \n",
       "2           40.0                   31.0                     0.0   \n",
       "3           18.0                   17.0                     1.0   \n",
       "4          515.0                  423.0                     3.0   \n",
       "\n",
       "   count_positive_english  \n",
       "0                    17.0  \n",
       "1                    82.0  \n",
       "2                    31.0  \n",
       "3                    16.0  \n",
       "4                   420.0  \n",
       "\n",
       "[5 rows x 35 columns]"
      ]
     },
     "execution_count": 17,
     "metadata": {},
     "output_type": "execute_result"
    }
   ],
   "source": [
    "final_df= final_df.merge(\n",
    "    reviews_statistics_df,\n",
    "    left_on='id',\n",
    "    right_on='listing_id',\n",
    "    how='left'\n",
    ")\n",
    "final_df.head(5)"
   ]
  },
  {
   "cell_type": "code",
   "execution_count": 18,
   "id": "e02b069b",
   "metadata": {},
   "outputs": [
    {
     "data": {
      "text/html": [
       "<div>\n",
       "<style scoped>\n",
       "    .dataframe tbody tr th:only-of-type {\n",
       "        vertical-align: middle;\n",
       "    }\n",
       "\n",
       "    .dataframe tbody tr th {\n",
       "        vertical-align: top;\n",
       "    }\n",
       "\n",
       "    .dataframe thead th {\n",
       "        text-align: right;\n",
       "    }\n",
       "</style>\n",
       "<table border=\"1\" class=\"dataframe\">\n",
       "  <thead>\n",
       "    <tr style=\"text-align: right;\">\n",
       "      <th></th>\n",
       "      <th>id</th>\n",
       "      <th>host_is_superhost</th>\n",
       "      <th>host_verifications</th>\n",
       "      <th>host_acceptance_rate</th>\n",
       "      <th>neighbourhood_cleansed</th>\n",
       "      <th>latitude</th>\n",
       "      <th>longitude</th>\n",
       "      <th>property_type</th>\n",
       "      <th>room_type</th>\n",
       "      <th>accommodates</th>\n",
       "      <th>...</th>\n",
       "      <th>count_negative_english</th>\n",
       "      <th>count_positive_english</th>\n",
       "      <th>amenities</th>\n",
       "      <th>standardized_amenities</th>\n",
       "      <th>num_of_amenities</th>\n",
       "      <th>num_of_other_amenities</th>\n",
       "      <th>has_wifi</th>\n",
       "      <th>has_air_conditioning</th>\n",
       "      <th>num_of_top_10_common_amenities</th>\n",
       "      <th>mean_embedding</th>\n",
       "    </tr>\n",
       "  </thead>\n",
       "  <tbody>\n",
       "    <tr>\n",
       "      <th>0</th>\n",
       "      <td>27262</td>\n",
       "      <td>t</td>\n",
       "      <td>['email', 'phone']</td>\n",
       "      <td>100%</td>\n",
       "      <td>ΑΜΠΕΛΟΚΗΠΟΙ</td>\n",
       "      <td>37.98924</td>\n",
       "      <td>23.76500</td>\n",
       "      <td>Entire rental unit</td>\n",
       "      <td>Entire home/apt</td>\n",
       "      <td>2</td>\n",
       "      <td>...</td>\n",
       "      <td>0.0</td>\n",
       "      <td>17.0</td>\n",
       "      <td>[\"Heating - split type ductless system\", \"Dish...</td>\n",
       "      <td>['OTHER', 'OTHER', 'OTHER', 'OTHER', 'Refriger...</td>\n",
       "      <td>37</td>\n",
       "      <td>25</td>\n",
       "      <td>True</td>\n",
       "      <td>False</td>\n",
       "      <td>9</td>\n",
       "      <td>[-6.15361333e-02 -5.01407236e-02 -3.76954190e-...</td>\n",
       "    </tr>\n",
       "    <tr>\n",
       "      <th>1</th>\n",
       "      <td>809874</td>\n",
       "      <td>f</td>\n",
       "      <td>['email', 'phone']</td>\n",
       "      <td>96%</td>\n",
       "      <td>ΚΟΥΚΑΚΙ-ΜΑΚΡΥΓΙΑΝΝΗ</td>\n",
       "      <td>37.96215</td>\n",
       "      <td>23.72179</td>\n",
       "      <td>Entire rental unit</td>\n",
       "      <td>Entire home/apt</td>\n",
       "      <td>4</td>\n",
       "      <td>...</td>\n",
       "      <td>0.0</td>\n",
       "      <td>82.0</td>\n",
       "      <td>[\"Host greets you\", \"Dishes and silverware\", \"...</td>\n",
       "      <td>['OTHER', 'OTHER', 'Washer', 'TV', 'OTHER', 'R...</td>\n",
       "      <td>21</td>\n",
       "      <td>12</td>\n",
       "      <td>True</td>\n",
       "      <td>True</td>\n",
       "      <td>7</td>\n",
       "      <td>[-5.95615655e-02 -3.39257978e-02 -3.55266146e-...</td>\n",
       "    </tr>\n",
       "    <tr>\n",
       "      <th>2</th>\n",
       "      <td>866381</td>\n",
       "      <td>t</td>\n",
       "      <td>['email', 'phone', 'work_email']</td>\n",
       "      <td>97%</td>\n",
       "      <td>ΝΕΟΣ ΚΟΣΜΟΣ</td>\n",
       "      <td>37.95523</td>\n",
       "      <td>23.72443</td>\n",
       "      <td>Entire condo</td>\n",
       "      <td>Entire home/apt</td>\n",
       "      <td>3</td>\n",
       "      <td>...</td>\n",
       "      <td>0.0</td>\n",
       "      <td>31.0</td>\n",
       "      <td>[\"Coffee\", \"Dishes and silverware\", \"Washer\", ...</td>\n",
       "      <td>['Coffee maker', 'OTHER', 'Washer', 'Condition...</td>\n",
       "      <td>49</td>\n",
       "      <td>29</td>\n",
       "      <td>True</td>\n",
       "      <td>True</td>\n",
       "      <td>12</td>\n",
       "      <td>[-5.62126637e-02 -3.99859361e-02 -3.53127755e-...</td>\n",
       "    </tr>\n",
       "    <tr>\n",
       "      <th>3</th>\n",
       "      <td>886724</td>\n",
       "      <td>f</td>\n",
       "      <td>['email']</td>\n",
       "      <td>0%</td>\n",
       "      <td>ΚΥΨΕΛΗ</td>\n",
       "      <td>37.99745</td>\n",
       "      <td>23.73973</td>\n",
       "      <td>Entire rental unit</td>\n",
       "      <td>Entire home/apt</td>\n",
       "      <td>2</td>\n",
       "      <td>...</td>\n",
       "      <td>1.0</td>\n",
       "      <td>16.0</td>\n",
       "      <td>[\"Host greets you\", \"Luggage dropoff allowed\",...</td>\n",
       "      <td>['OTHER', 'OTHER', 'Washer', 'OTHER', 'OTHER',...</td>\n",
       "      <td>20</td>\n",
       "      <td>13</td>\n",
       "      <td>True</td>\n",
       "      <td>True</td>\n",
       "      <td>6</td>\n",
       "      <td>[-5.84196560e-02 -4.62852195e-02 -3.04865874e-...</td>\n",
       "    </tr>\n",
       "    <tr>\n",
       "      <th>4</th>\n",
       "      <td>896212</td>\n",
       "      <td>t</td>\n",
       "      <td>['email', 'phone']</td>\n",
       "      <td>100%</td>\n",
       "      <td>ΜΟΥΣΕΙΟ-ΕΞΑΡΧΕΙΑ-ΝΕΑΠΟΛΗ</td>\n",
       "      <td>37.98844</td>\n",
       "      <td>23.73845</td>\n",
       "      <td>Entire rental unit</td>\n",
       "      <td>Entire home/apt</td>\n",
       "      <td>2</td>\n",
       "      <td>...</td>\n",
       "      <td>3.0</td>\n",
       "      <td>420.0</td>\n",
       "      <td>[\"Host greets you\", \"Coffee\", \"Dishes and silv...</td>\n",
       "      <td>['OTHER', 'Coffee maker', 'OTHER', 'OTHER', 'O...</td>\n",
       "      <td>45</td>\n",
       "      <td>31</td>\n",
       "      <td>True</td>\n",
       "      <td>True</td>\n",
       "      <td>9</td>\n",
       "      <td>[-5.81393391e-02 -4.77810428e-02 -4.26256545e-...</td>\n",
       "    </tr>\n",
       "  </tbody>\n",
       "</table>\n",
       "<p>5 rows × 43 columns</p>\n",
       "</div>"
      ],
      "text/plain": [
       "       id host_is_superhost                host_verifications  \\\n",
       "0   27262                 t                ['email', 'phone']   \n",
       "1  809874                 f                ['email', 'phone']   \n",
       "2  866381                 t  ['email', 'phone', 'work_email']   \n",
       "3  886724                 f                         ['email']   \n",
       "4  896212                 t                ['email', 'phone']   \n",
       "\n",
       "  host_acceptance_rate    neighbourhood_cleansed  latitude  longitude  \\\n",
       "0                 100%               ΑΜΠΕΛΟΚΗΠΟΙ  37.98924   23.76500   \n",
       "1                  96%       ΚΟΥΚΑΚΙ-ΜΑΚΡΥΓΙΑΝΝΗ  37.96215   23.72179   \n",
       "2                  97%               ΝΕΟΣ ΚΟΣΜΟΣ  37.95523   23.72443   \n",
       "3                   0%                    ΚΥΨΕΛΗ  37.99745   23.73973   \n",
       "4                 100%  ΜΟΥΣΕΙΟ-ΕΞΑΡΧΕΙΑ-ΝΕΑΠΟΛΗ  37.98844   23.73845   \n",
       "\n",
       "        property_type        room_type  accommodates  ...  \\\n",
       "0  Entire rental unit  Entire home/apt             2  ...   \n",
       "1  Entire rental unit  Entire home/apt             4  ...   \n",
       "2        Entire condo  Entire home/apt             3  ...   \n",
       "3  Entire rental unit  Entire home/apt             2  ...   \n",
       "4  Entire rental unit  Entire home/apt             2  ...   \n",
       "\n",
       "   count_negative_english count_positive_english  \\\n",
       "0                     0.0                   17.0   \n",
       "1                     0.0                   82.0   \n",
       "2                     0.0                   31.0   \n",
       "3                     1.0                   16.0   \n",
       "4                     3.0                  420.0   \n",
       "\n",
       "                                           amenities  \\\n",
       "0  [\"Heating - split type ductless system\", \"Dish...   \n",
       "1  [\"Host greets you\", \"Dishes and silverware\", \"...   \n",
       "2  [\"Coffee\", \"Dishes and silverware\", \"Washer\", ...   \n",
       "3  [\"Host greets you\", \"Luggage dropoff allowed\",...   \n",
       "4  [\"Host greets you\", \"Coffee\", \"Dishes and silv...   \n",
       "\n",
       "                              standardized_amenities num_of_amenities  \\\n",
       "0  ['OTHER', 'OTHER', 'OTHER', 'OTHER', 'Refriger...               37   \n",
       "1  ['OTHER', 'OTHER', 'Washer', 'TV', 'OTHER', 'R...               21   \n",
       "2  ['Coffee maker', 'OTHER', 'Washer', 'Condition...               49   \n",
       "3  ['OTHER', 'OTHER', 'Washer', 'OTHER', 'OTHER',...               20   \n",
       "4  ['OTHER', 'Coffee maker', 'OTHER', 'OTHER', 'O...               45   \n",
       "\n",
       "  num_of_other_amenities  has_wifi  has_air_conditioning  \\\n",
       "0                     25      True                 False   \n",
       "1                     12      True                  True   \n",
       "2                     29      True                  True   \n",
       "3                     13      True                  True   \n",
       "4                     31      True                  True   \n",
       "\n",
       "   num_of_top_10_common_amenities  \\\n",
       "0                               9   \n",
       "1                               7   \n",
       "2                              12   \n",
       "3                               6   \n",
       "4                               9   \n",
       "\n",
       "                                      mean_embedding  \n",
       "0  [-6.15361333e-02 -5.01407236e-02 -3.76954190e-...  \n",
       "1  [-5.95615655e-02 -3.39257978e-02 -3.55266146e-...  \n",
       "2  [-5.62126637e-02 -3.99859361e-02 -3.53127755e-...  \n",
       "3  [-5.84196560e-02 -4.62852195e-02 -3.04865874e-...  \n",
       "4  [-5.81393391e-02 -4.77810428e-02 -4.26256545e-...  \n",
       "\n",
       "[5 rows x 43 columns]"
      ]
     },
     "execution_count": 18,
     "metadata": {},
     "output_type": "execute_result"
    }
   ],
   "source": [
    "final_df = final_df.merge(\n",
    "    amenities_df,\n",
    "    left_on='id',\n",
    "    right_on='id',\n",
    "    how='left'\n",
    ")\n",
    "final_df.head(5)"
   ]
  },
  {
   "cell_type": "code",
   "execution_count": 19,
   "id": "12018369",
   "metadata": {},
   "outputs": [],
   "source": [
    "# how to drop target column with NaN?\n",
    "final_df = final_df.dropna(subset=['target'])"
   ]
  },
  {
   "cell_type": "code",
   "execution_count": 20,
   "id": "e4f65be3",
   "metadata": {},
   "outputs": [],
   "source": [
    "# changing price to a numerical value\n",
    "final_df['price'] = final_df['price'].replace('[\\$,]', '', regex=True).astype(float)"
   ]
  },
  {
   "cell_type": "code",
   "execution_count": 21,
   "id": "af924679",
   "metadata": {},
   "outputs": [],
   "source": [
    "# droppin unnecesery columns\n",
    "final_df.drop(columns=['listing_id_x', 'listing_id_y'], inplace=True)"
   ]
  },
  {
   "cell_type": "code",
   "execution_count": 22,
   "id": "c2397c58",
   "metadata": {},
   "outputs": [],
   "source": [
    "# changing host_avaialbility_rate to a number\n",
    "final_df['host_acceptance_rate'] = final_df['host_acceptance_rate'].replace('[\\%,]', '', regex=True).astype(float)"
   ]
  },
  {
   "cell_type": "markdown",
   "id": "df03d261",
   "metadata": {},
   "source": [
    "### Statystyki ostatecznego datasetu"
   ]
  },
  {
   "cell_type": "code",
   "execution_count": 23,
   "id": "6a1d1683",
   "metadata": {},
   "outputs": [
    {
     "name": "stdout",
     "output_type": "stream",
     "text": [
      "Numerical columns:  ['id', 'host_acceptance_rate', 'latitude', 'longitude', 'accommodates', 'bathrooms', 'bedrooms', 'beds', 'price', 'review_scores_rating', 'review_scores_accuracy', 'review_scores_cleanliness', 'review_scores_checkin', 'review_scores_communication', 'review_scores_location', 'review_scores_value', 'reviews_per_month', 'availability_eoy', 'number_of_reviews_ly', 'total_bookings', 'total_reviews', 'total_english_reviews', 'count_negative_english', 'count_positive_english', 'num_of_amenities', 'num_of_other_amenities', 'has_wifi', 'has_air_conditioning', 'num_of_top_10_common_amenities']\n",
      "Categorical columns:  ['host_is_superhost', 'host_verifications', 'neighbourhood_cleansed', 'property_type', 'room_type', 'bathrooms_text', 'license', 'instant_bookable', 'target', 'amenities', 'standardized_amenities', 'mean_embedding']\n"
     ]
    }
   ],
   "source": [
    "final_df_numerical_columns = final_df.select_dtypes(include=[np.number, np.bool]).columns.tolist()\n",
    "final_df_categorical_columns = final_df.select_dtypes(exclude=[np.number, np.bool]).columns.tolist()\n",
    "\n",
    "print(\"Numerical columns: \", final_df_numerical_columns)\n",
    "print(\"Categorical columns: \", final_df_categorical_columns)"
   ]
  },
  {
   "cell_type": "markdown",
   "id": "d7022bd3",
   "metadata": {},
   "source": [
    "# Klasyfikatory"
   ]
  },
  {
   "cell_type": "code",
   "execution_count": 24,
   "id": "8a90799a",
   "metadata": {},
   "outputs": [
    {
     "name": "stdout",
     "output_type": "stream",
     "text": [
      "Using device: cuda\n"
     ]
    }
   ],
   "source": [
    "device = torch.device('cuda' if torch.cuda.is_available() else 'cpu')\n",
    "print(f\"Using device: {device}\")"
   ]
  },
  {
   "cell_type": "markdown",
   "id": "1cbf6df8",
   "metadata": {},
   "source": [
    "### Naiwny"
   ]
  },
  {
   "cell_type": "code",
   "execution_count": 25,
   "id": "edfefb6c",
   "metadata": {},
   "outputs": [
    {
     "data": {
      "text/html": [
       "<div>\n",
       "<style scoped>\n",
       "    .dataframe tbody tr th:only-of-type {\n",
       "        vertical-align: middle;\n",
       "    }\n",
       "\n",
       "    .dataframe tbody tr th {\n",
       "        vertical-align: top;\n",
       "    }\n",
       "\n",
       "    .dataframe thead th {\n",
       "        text-align: right;\n",
       "    }\n",
       "</style>\n",
       "<table border=\"1\" class=\"dataframe\">\n",
       "  <thead>\n",
       "    <tr style=\"text-align: right;\">\n",
       "      <th></th>\n",
       "      <th>host_acceptance_rate</th>\n",
       "      <th>latitude</th>\n",
       "      <th>longitude</th>\n",
       "      <th>accommodates</th>\n",
       "      <th>bathrooms</th>\n",
       "      <th>bedrooms</th>\n",
       "      <th>beds</th>\n",
       "      <th>price</th>\n",
       "      <th>review_scores_rating</th>\n",
       "      <th>review_scores_accuracy</th>\n",
       "      <th>...</th>\n",
       "      <th>total_reviews</th>\n",
       "      <th>total_english_reviews</th>\n",
       "      <th>count_negative_english</th>\n",
       "      <th>count_positive_english</th>\n",
       "      <th>num_of_amenities</th>\n",
       "      <th>num_of_other_amenities</th>\n",
       "      <th>has_wifi</th>\n",
       "      <th>has_air_conditioning</th>\n",
       "      <th>num_of_top_10_common_amenities</th>\n",
       "      <th>target</th>\n",
       "    </tr>\n",
       "  </thead>\n",
       "  <tbody>\n",
       "    <tr>\n",
       "      <th>0</th>\n",
       "      <td>100.0</td>\n",
       "      <td>37.98924</td>\n",
       "      <td>23.76500</td>\n",
       "      <td>2</td>\n",
       "      <td>1.0</td>\n",
       "      <td>1.0</td>\n",
       "      <td>1.0</td>\n",
       "      <td>131.0</td>\n",
       "      <td>4.86</td>\n",
       "      <td>4.89</td>\n",
       "      <td>...</td>\n",
       "      <td>29.0</td>\n",
       "      <td>17.0</td>\n",
       "      <td>0.0</td>\n",
       "      <td>17.0</td>\n",
       "      <td>37</td>\n",
       "      <td>25</td>\n",
       "      <td>True</td>\n",
       "      <td>False</td>\n",
       "      <td>9</td>\n",
       "      <td>short</td>\n",
       "    </tr>\n",
       "    <tr>\n",
       "      <th>1</th>\n",
       "      <td>96.0</td>\n",
       "      <td>37.96215</td>\n",
       "      <td>23.72179</td>\n",
       "      <td>4</td>\n",
       "      <td>1.0</td>\n",
       "      <td>1.0</td>\n",
       "      <td>2.0</td>\n",
       "      <td>108.0</td>\n",
       "      <td>4.96</td>\n",
       "      <td>4.97</td>\n",
       "      <td>...</td>\n",
       "      <td>97.0</td>\n",
       "      <td>82.0</td>\n",
       "      <td>0.0</td>\n",
       "      <td>82.0</td>\n",
       "      <td>21</td>\n",
       "      <td>12</td>\n",
       "      <td>True</td>\n",
       "      <td>True</td>\n",
       "      <td>7</td>\n",
       "      <td>short</td>\n",
       "    </tr>\n",
       "    <tr>\n",
       "      <th>2</th>\n",
       "      <td>97.0</td>\n",
       "      <td>37.95523</td>\n",
       "      <td>23.72443</td>\n",
       "      <td>3</td>\n",
       "      <td>1.0</td>\n",
       "      <td>1.0</td>\n",
       "      <td>1.0</td>\n",
       "      <td>85.0</td>\n",
       "      <td>4.95</td>\n",
       "      <td>4.98</td>\n",
       "      <td>...</td>\n",
       "      <td>40.0</td>\n",
       "      <td>31.0</td>\n",
       "      <td>0.0</td>\n",
       "      <td>31.0</td>\n",
       "      <td>49</td>\n",
       "      <td>29</td>\n",
       "      <td>True</td>\n",
       "      <td>True</td>\n",
       "      <td>12</td>\n",
       "      <td>long</td>\n",
       "    </tr>\n",
       "    <tr>\n",
       "      <th>3</th>\n",
       "      <td>0.0</td>\n",
       "      <td>37.99745</td>\n",
       "      <td>23.73973</td>\n",
       "      <td>2</td>\n",
       "      <td>1.0</td>\n",
       "      <td>1.0</td>\n",
       "      <td>1.0</td>\n",
       "      <td>56.0</td>\n",
       "      <td>4.61</td>\n",
       "      <td>4.88</td>\n",
       "      <td>...</td>\n",
       "      <td>18.0</td>\n",
       "      <td>17.0</td>\n",
       "      <td>1.0</td>\n",
       "      <td>16.0</td>\n",
       "      <td>20</td>\n",
       "      <td>13</td>\n",
       "      <td>True</td>\n",
       "      <td>True</td>\n",
       "      <td>6</td>\n",
       "      <td>short</td>\n",
       "    </tr>\n",
       "    <tr>\n",
       "      <th>4</th>\n",
       "      <td>100.0</td>\n",
       "      <td>37.98844</td>\n",
       "      <td>23.73845</td>\n",
       "      <td>2</td>\n",
       "      <td>1.0</td>\n",
       "      <td>1.0</td>\n",
       "      <td>1.0</td>\n",
       "      <td>63.0</td>\n",
       "      <td>4.95</td>\n",
       "      <td>4.94</td>\n",
       "      <td>...</td>\n",
       "      <td>515.0</td>\n",
       "      <td>423.0</td>\n",
       "      <td>3.0</td>\n",
       "      <td>420.0</td>\n",
       "      <td>45</td>\n",
       "      <td>31</td>\n",
       "      <td>True</td>\n",
       "      <td>True</td>\n",
       "      <td>9</td>\n",
       "      <td>long</td>\n",
       "    </tr>\n",
       "  </tbody>\n",
       "</table>\n",
       "<p>5 rows × 29 columns</p>\n",
       "</div>"
      ],
      "text/plain": [
       "   host_acceptance_rate  latitude  longitude  accommodates  bathrooms  \\\n",
       "0                 100.0  37.98924   23.76500             2        1.0   \n",
       "1                  96.0  37.96215   23.72179             4        1.0   \n",
       "2                  97.0  37.95523   23.72443             3        1.0   \n",
       "3                   0.0  37.99745   23.73973             2        1.0   \n",
       "4                 100.0  37.98844   23.73845             2        1.0   \n",
       "\n",
       "   bedrooms  beds  price  review_scores_rating  review_scores_accuracy  ...  \\\n",
       "0       1.0   1.0  131.0                  4.86                    4.89  ...   \n",
       "1       1.0   2.0  108.0                  4.96                    4.97  ...   \n",
       "2       1.0   1.0   85.0                  4.95                    4.98  ...   \n",
       "3       1.0   1.0   56.0                  4.61                    4.88  ...   \n",
       "4       1.0   1.0   63.0                  4.95                    4.94  ...   \n",
       "\n",
       "   total_reviews  total_english_reviews  count_negative_english  \\\n",
       "0           29.0                   17.0                     0.0   \n",
       "1           97.0                   82.0                     0.0   \n",
       "2           40.0                   31.0                     0.0   \n",
       "3           18.0                   17.0                     1.0   \n",
       "4          515.0                  423.0                     3.0   \n",
       "\n",
       "   count_positive_english  num_of_amenities  num_of_other_amenities  has_wifi  \\\n",
       "0                    17.0                37                      25      True   \n",
       "1                    82.0                21                      12      True   \n",
       "2                    31.0                49                      29      True   \n",
       "3                    16.0                20                      13      True   \n",
       "4                   420.0                45                      31      True   \n",
       "\n",
       "   has_air_conditioning  num_of_top_10_common_amenities  target  \n",
       "0                 False                               9   short  \n",
       "1                  True                               7   short  \n",
       "2                  True                              12    long  \n",
       "3                  True                               6   short  \n",
       "4                  True                               9    long  \n",
       "\n",
       "[5 rows x 29 columns]"
      ]
     },
     "execution_count": 25,
     "metadata": {},
     "output_type": "execute_result"
    }
   ],
   "source": [
    "numerical_df = final_df[final_df_numerical_columns + ['target']].copy()\n",
    "numerical_df = numerical_df.fillna(0)\n",
    "numerical_df = numerical_df.drop(columns=['id'])\n",
    "numerical_df.head(5)\n"
   ]
  },
  {
   "cell_type": "code",
   "execution_count": 26,
   "id": "122c9d3d",
   "metadata": {},
   "outputs": [
    {
     "data": {
      "text/plain": [
       "(28807, 29)"
      ]
     },
     "execution_count": 26,
     "metadata": {},
     "output_type": "execute_result"
    }
   ],
   "source": [
    "numerical_df.shape"
   ]
  },
  {
   "cell_type": "code",
   "execution_count": null,
   "id": "60c8b590",
   "metadata": {},
   "outputs": [],
   "source": [
    "x_train, x_test, y_train, y_test = train_test_split_data(df=numerical_df, test_size=0.2, target_column='target')\n",
    "\n",
    "# adding validation set\n",
    "x_train_final, x_val, y_train_final, y_val = train_test_split(x_train, y_train, test_size=0.2, random_state=42, stratify=y_train)\n",
    "\n",
    "train_dataloader = create_dataloader(x_train_final, y_train_final, batch_size=32)\n",
    "val_dataloader = create_dataloader(x_val, y_val, batch_size=32)\n",
    "test_dataloader = create_dataloader(x_test, y_test, batch_size=32)"
   ]
  },
  {
   "cell_type": "code",
   "execution_count": 97,
   "id": "cdddca55",
   "metadata": {},
   "outputs": [],
   "source": [
    "naive_classifier = NaiveClassifier(input_size=len(x_train.columns), output=0).to(device)"
   ]
  },
  {
   "cell_type": "code",
   "execution_count": 37,
   "id": "185f335b",
   "metadata": {},
   "outputs": [
    {
     "name": "stderr",
     "output_type": "stream",
     "text": [
      "Evaluating: 100%|██████████| 181/181 [00:00<00:00, 744.08it/s]"
     ]
    },
    {
     "name": "stdout",
     "output_type": "stream",
     "text": [
      "Accuracy: 0.7805\n",
      "ROC AUC: 0.5000\n",
      "Average Precision: 0.2195\n"
     ]
    },
    {
     "name": "stderr",
     "output_type": "stream",
     "text": [
      "\n"
     ]
    }
   ],
   "source": [
    "all_preds, all_labels = evaluate_model(naive_classifier, test_dataloader)"
   ]
  },
  {
   "cell_type": "code",
   "execution_count": 38,
   "id": "444135ad",
   "metadata": {},
   "outputs": [],
   "source": [
    "y_pred = np.argmax(all_preds, axis=1)"
   ]
  },
  {
   "cell_type": "code",
   "execution_count": 39,
   "id": "5143b383",
   "metadata": {},
   "outputs": [
    {
     "data": {
      "image/png": "[encoded data removed]",
      "text/plain": [
       "<Figure size 1000x700 with 1 Axes>"
      ]
     },
     "metadata": {},
     "output_type": "display_data"
    }
   ],
   "source": [
    "plot_confusion_matrix(all_labels, y_pred, title='Naive Classifier Confusion Matrix')"
   ]
  },
  {
   "cell_type": "code",
   "execution_count": 98,
   "id": "7b105a55",
   "metadata": {},
   "outputs": [],
   "source": [
    "torch.save(naive_classifier.state_dict(), \"../models/NaiveClassifier.pth\")"
   ]
  },
  {
   "cell_type": "markdown",
   "id": "0c98c489",
   "metadata": {},
   "source": [
    "#### Wersja 1 - Dane Numeryczne"
   ]
  },
  {
   "cell_type": "code",
   "execution_count": 40,
   "id": "abd010f5",
   "metadata": {},
   "outputs": [],
   "source": [
    "classifier_v1 = BinaryClassifier(input_size=len(x_train.columns), output_size=2).to(device)\n",
    "criterion = nn.CrossEntropyLoss()\n",
    "optimizer = torch.optim.Adam(classifier_v1.parameters(), lr=0.001)"
   ]
  },
  {
   "cell_type": "code",
   "execution_count": 41,
   "id": "fdb302ec",
   "metadata": {},
   "outputs": [
    {
     "name": "stderr",
     "output_type": "stream",
     "text": [
      "                                                                 \r"
     ]
    },
    {
     "name": "stdout",
     "output_type": "stream",
     "text": [
      "Epoch [1/50] | Train Loss: 0.3845 | Val Loss: 0.2963 | Val Acc: 0.8596\n"
     ]
    },
    {
     "name": "stderr",
     "output_type": "stream",
     "text": [
      "                                                                 \r"
     ]
    },
    {
     "name": "stdout",
     "output_type": "stream",
     "text": [
      "Epoch [2/50] | Train Loss: 0.2966 | Val Loss: 0.2840 | Val Acc: 0.8629\n"
     ]
    },
    {
     "name": "stderr",
     "output_type": "stream",
     "text": [
      "                                                                 \r"
     ]
    },
    {
     "name": "stdout",
     "output_type": "stream",
     "text": [
      "Epoch [3/50] | Train Loss: 0.2755 | Val Loss: 0.2909 | Val Acc: 0.8551\n"
     ]
    },
    {
     "name": "stderr",
     "output_type": "stream",
     "text": [
      "                                                                 \r"
     ]
    },
    {
     "name": "stdout",
     "output_type": "stream",
     "text": [
      "Epoch [4/50] | Train Loss: 0.2629 | Val Loss: 0.2608 | Val Acc: 0.8670\n"
     ]
    },
    {
     "name": "stderr",
     "output_type": "stream",
     "text": [
      "                                                                 \r"
     ]
    },
    {
     "name": "stdout",
     "output_type": "stream",
     "text": [
      "Epoch [5/50] | Train Loss: 0.2571 | Val Loss: 0.2540 | Val Acc: 0.8748\n"
     ]
    },
    {
     "name": "stderr",
     "output_type": "stream",
     "text": [
      "                                                                 \r"
     ]
    },
    {
     "name": "stdout",
     "output_type": "stream",
     "text": [
      "Epoch [6/50] | Train Loss: 0.2505 | Val Loss: 0.2469 | Val Acc: 0.8759\n"
     ]
    },
    {
     "name": "stderr",
     "output_type": "stream",
     "text": [
      "                                                                 \r"
     ]
    },
    {
     "name": "stdout",
     "output_type": "stream",
     "text": [
      "Epoch [7/50] | Train Loss: 0.2459 | Val Loss: 0.2576 | Val Acc: 0.8653\n"
     ]
    },
    {
     "name": "stderr",
     "output_type": "stream",
     "text": [
      "                                                                 \r"
     ]
    },
    {
     "name": "stdout",
     "output_type": "stream",
     "text": [
      "Epoch [8/50] | Train Loss: 0.2450 | Val Loss: 0.2444 | Val Acc: 0.8742\n"
     ]
    },
    {
     "name": "stderr",
     "output_type": "stream",
     "text": [
      "                                                                 \r"
     ]
    },
    {
     "name": "stdout",
     "output_type": "stream",
     "text": [
      "Epoch [9/50] | Train Loss: 0.2391 | Val Loss: 0.2311 | Val Acc: 0.8813\n"
     ]
    },
    {
     "name": "stderr",
     "output_type": "stream",
     "text": [
      "                                                                  \r"
     ]
    },
    {
     "name": "stdout",
     "output_type": "stream",
     "text": [
      "Epoch [10/50] | Train Loss: 0.2377 | Val Loss: 0.2354 | Val Acc: 0.8791\n"
     ]
    },
    {
     "name": "stderr",
     "output_type": "stream",
     "text": [
      "                                                                  \r"
     ]
    },
    {
     "name": "stdout",
     "output_type": "stream",
     "text": [
      "Epoch [11/50] | Train Loss: 0.2344 | Val Loss: 0.2347 | Val Acc: 0.8789\n"
     ]
    },
    {
     "name": "stderr",
     "output_type": "stream",
     "text": [
      "                                                                  \r"
     ]
    },
    {
     "name": "stdout",
     "output_type": "stream",
     "text": [
      "Epoch [12/50] | Train Loss: 0.2320 | Val Loss: 0.2564 | Val Acc: 0.8739\n"
     ]
    },
    {
     "name": "stderr",
     "output_type": "stream",
     "text": [
      "                                                                  \r"
     ]
    },
    {
     "name": "stdout",
     "output_type": "stream",
     "text": [
      "Epoch [13/50] | Train Loss: 0.2339 | Val Loss: 0.2470 | Val Acc: 0.8726\n"
     ]
    },
    {
     "name": "stderr",
     "output_type": "stream",
     "text": [
      "                                                                  \r"
     ]
    },
    {
     "name": "stdout",
     "output_type": "stream",
     "text": [
      "Epoch [14/50] | Train Loss: 0.2336 | Val Loss: 0.2356 | Val Acc: 0.8744\n"
     ]
    },
    {
     "name": "stderr",
     "output_type": "stream",
     "text": [
      "                                                                  \r"
     ]
    },
    {
     "name": "stdout",
     "output_type": "stream",
     "text": [
      "Epoch [15/50] | Train Loss: 0.2295 | Val Loss: 0.2387 | Val Acc: 0.8731\n"
     ]
    },
    {
     "name": "stderr",
     "output_type": "stream",
     "text": [
      "                                                                  \r"
     ]
    },
    {
     "name": "stdout",
     "output_type": "stream",
     "text": [
      "Epoch [16/50] | Train Loss: 0.2318 | Val Loss: 0.2274 | Val Acc: 0.8844\n"
     ]
    },
    {
     "name": "stderr",
     "output_type": "stream",
     "text": [
      "                                                                  \r"
     ]
    },
    {
     "name": "stdout",
     "output_type": "stream",
     "text": [
      "Epoch [17/50] | Train Loss: 0.2254 | Val Loss: 0.2244 | Val Acc: 0.8839\n"
     ]
    },
    {
     "name": "stderr",
     "output_type": "stream",
     "text": [
      "                                                                  \r"
     ]
    },
    {
     "name": "stdout",
     "output_type": "stream",
     "text": [
      "Epoch [18/50] | Train Loss: 0.2282 | Val Loss: 0.2436 | Val Acc: 0.8785\n"
     ]
    },
    {
     "name": "stderr",
     "output_type": "stream",
     "text": [
      "                                                                  \r"
     ]
    },
    {
     "name": "stdout",
     "output_type": "stream",
     "text": [
      "Epoch [19/50] | Train Loss: 0.2222 | Val Loss: 0.2213 | Val Acc: 0.8865\n"
     ]
    },
    {
     "name": "stderr",
     "output_type": "stream",
     "text": [
      "                                                                  \r"
     ]
    },
    {
     "name": "stdout",
     "output_type": "stream",
     "text": [
      "Epoch [20/50] | Train Loss: 0.2253 | Val Loss: 0.2416 | Val Acc: 0.8787\n"
     ]
    },
    {
     "name": "stderr",
     "output_type": "stream",
     "text": [
      "                                                                  \r"
     ]
    },
    {
     "name": "stdout",
     "output_type": "stream",
     "text": [
      "Epoch [21/50] | Train Loss: 0.2250 | Val Loss: 0.2352 | Val Acc: 0.8828\n"
     ]
    },
    {
     "name": "stderr",
     "output_type": "stream",
     "text": [
      "                                                                  \r"
     ]
    },
    {
     "name": "stdout",
     "output_type": "stream",
     "text": [
      "Epoch [22/50] | Train Loss: 0.2215 | Val Loss: 0.2462 | Val Acc: 0.8713\n"
     ]
    },
    {
     "name": "stderr",
     "output_type": "stream",
     "text": [
      "                                                                  \r"
     ]
    },
    {
     "name": "stdout",
     "output_type": "stream",
     "text": [
      "Epoch [23/50] | Train Loss: 0.2233 | Val Loss: 0.2334 | Val Acc: 0.8826\n"
     ]
    },
    {
     "name": "stderr",
     "output_type": "stream",
     "text": [
      "                                                                  \r"
     ]
    },
    {
     "name": "stdout",
     "output_type": "stream",
     "text": [
      "Epoch [24/50] | Train Loss: 0.2194 | Val Loss: 0.2262 | Val Acc: 0.8852\n"
     ]
    },
    {
     "name": "stderr",
     "output_type": "stream",
     "text": [
      "                                                                  \r"
     ]
    },
    {
     "name": "stdout",
     "output_type": "stream",
     "text": [
      "Epoch [25/50] | Train Loss: 0.2176 | Val Loss: 0.2390 | Val Acc: 0.8770\n"
     ]
    },
    {
     "name": "stderr",
     "output_type": "stream",
     "text": [
      "                                                                  \r"
     ]
    },
    {
     "name": "stdout",
     "output_type": "stream",
     "text": [
      "Epoch [26/50] | Train Loss: 0.2178 | Val Loss: 0.2308 | Val Acc: 0.8820\n"
     ]
    },
    {
     "name": "stderr",
     "output_type": "stream",
     "text": [
      "                                                                  \r"
     ]
    },
    {
     "name": "stdout",
     "output_type": "stream",
     "text": [
      "Epoch [27/50] | Train Loss: 0.2213 | Val Loss: 0.2263 | Val Acc: 0.8831\n"
     ]
    },
    {
     "name": "stderr",
     "output_type": "stream",
     "text": [
      "                                                                  \r"
     ]
    },
    {
     "name": "stdout",
     "output_type": "stream",
     "text": [
      "Epoch [28/50] | Train Loss: 0.2169 | Val Loss: 0.2295 | Val Acc: 0.8822\n"
     ]
    },
    {
     "name": "stderr",
     "output_type": "stream",
     "text": [
      "                                                                  \r"
     ]
    },
    {
     "name": "stdout",
     "output_type": "stream",
     "text": [
      "Epoch [29/50] | Train Loss: 0.2193 | Val Loss: 0.2351 | Val Acc: 0.8800\n"
     ]
    },
    {
     "name": "stderr",
     "output_type": "stream",
     "text": [
      "                                                                  \r"
     ]
    },
    {
     "name": "stdout",
     "output_type": "stream",
     "text": [
      "Epoch [30/50] | Train Loss: 0.2180 | Val Loss: 0.2267 | Val Acc: 0.8870\n"
     ]
    },
    {
     "name": "stderr",
     "output_type": "stream",
     "text": [
      "                                                                  \r"
     ]
    },
    {
     "name": "stdout",
     "output_type": "stream",
     "text": [
      "Epoch [31/50] | Train Loss: 0.2163 | Val Loss: 0.2223 | Val Acc: 0.8848\n"
     ]
    },
    {
     "name": "stderr",
     "output_type": "stream",
     "text": [
      "                                                                  \r"
     ]
    },
    {
     "name": "stdout",
     "output_type": "stream",
     "text": [
      "Epoch [32/50] | Train Loss: 0.2126 | Val Loss: 0.2233 | Val Acc: 0.8889\n"
     ]
    },
    {
     "name": "stderr",
     "output_type": "stream",
     "text": [
      "                                                                  \r"
     ]
    },
    {
     "name": "stdout",
     "output_type": "stream",
     "text": [
      "Epoch [33/50] | Train Loss: 0.2144 | Val Loss: 0.2235 | Val Acc: 0.8889\n"
     ]
    },
    {
     "name": "stderr",
     "output_type": "stream",
     "text": [
      "                                                                  \r"
     ]
    },
    {
     "name": "stdout",
     "output_type": "stream",
     "text": [
      "Epoch [34/50] | Train Loss: 0.2128 | Val Loss: 0.2276 | Val Acc: 0.8841\n"
     ]
    },
    {
     "name": "stderr",
     "output_type": "stream",
     "text": [
      "                                                                  \r"
     ]
    },
    {
     "name": "stdout",
     "output_type": "stream",
     "text": [
      "Epoch [35/50] | Train Loss: 0.2119 | Val Loss: 0.2236 | Val Acc: 0.8870\n"
     ]
    },
    {
     "name": "stderr",
     "output_type": "stream",
     "text": [
      "                                                                  \r"
     ]
    },
    {
     "name": "stdout",
     "output_type": "stream",
     "text": [
      "Epoch [36/50] | Train Loss: 0.2145 | Val Loss: 0.2224 | Val Acc: 0.8867\n"
     ]
    },
    {
     "name": "stderr",
     "output_type": "stream",
     "text": [
      "                                                                  \r"
     ]
    },
    {
     "name": "stdout",
     "output_type": "stream",
     "text": [
      "Epoch [37/50] | Train Loss: 0.2138 | Val Loss: 0.2391 | Val Acc: 0.8813\n"
     ]
    },
    {
     "name": "stderr",
     "output_type": "stream",
     "text": [
      "                                                                  \r"
     ]
    },
    {
     "name": "stdout",
     "output_type": "stream",
     "text": [
      "Epoch [38/50] | Train Loss: 0.2207 | Val Loss: 0.2374 | Val Acc: 0.8798\n"
     ]
    },
    {
     "name": "stderr",
     "output_type": "stream",
     "text": [
      "                                                                  \r"
     ]
    },
    {
     "name": "stdout",
     "output_type": "stream",
     "text": [
      "Epoch [39/50] | Train Loss: 0.2162 | Val Loss: 0.2265 | Val Acc: 0.8850\n"
     ]
    },
    {
     "name": "stderr",
     "output_type": "stream",
     "text": [
      "                                                                  \r"
     ]
    },
    {
     "name": "stdout",
     "output_type": "stream",
     "text": [
      "Epoch [40/50] | Train Loss: 0.2089 | Val Loss: 0.2231 | Val Acc: 0.8865\n"
     ]
    },
    {
     "name": "stderr",
     "output_type": "stream",
     "text": [
      "                                                                  \r"
     ]
    },
    {
     "name": "stdout",
     "output_type": "stream",
     "text": [
      "Epoch [41/50] | Train Loss: 0.2096 | Val Loss: 0.2225 | Val Acc: 0.8904\n"
     ]
    },
    {
     "name": "stderr",
     "output_type": "stream",
     "text": [
      "                                                                  \r"
     ]
    },
    {
     "name": "stdout",
     "output_type": "stream",
     "text": [
      "Epoch [42/50] | Train Loss: 0.2104 | Val Loss: 0.2316 | Val Acc: 0.8922\n"
     ]
    },
    {
     "name": "stderr",
     "output_type": "stream",
     "text": [
      "                                                                  \r"
     ]
    },
    {
     "name": "stdout",
     "output_type": "stream",
     "text": [
      "Epoch [43/50] | Train Loss: 0.2070 | Val Loss: 0.2465 | Val Acc: 0.8802\n"
     ]
    },
    {
     "name": "stderr",
     "output_type": "stream",
     "text": [
      "                                                                  \r"
     ]
    },
    {
     "name": "stdout",
     "output_type": "stream",
     "text": [
      "Epoch [44/50] | Train Loss: 0.2075 | Val Loss: 0.2215 | Val Acc: 0.8883\n"
     ]
    },
    {
     "name": "stderr",
     "output_type": "stream",
     "text": [
      "                                                                  \r"
     ]
    },
    {
     "name": "stdout",
     "output_type": "stream",
     "text": [
      "Epoch [45/50] | Train Loss: 0.2087 | Val Loss: 0.2419 | Val Acc: 0.8796\n"
     ]
    },
    {
     "name": "stderr",
     "output_type": "stream",
     "text": [
      "                                                                  \r"
     ]
    },
    {
     "name": "stdout",
     "output_type": "stream",
     "text": [
      "Epoch [46/50] | Train Loss: 0.2038 | Val Loss: 0.2197 | Val Acc: 0.8887\n"
     ]
    },
    {
     "name": "stderr",
     "output_type": "stream",
     "text": [
      "                                                                  \r"
     ]
    },
    {
     "name": "stdout",
     "output_type": "stream",
     "text": [
      "Epoch [47/50] | Train Loss: 0.2065 | Val Loss: 0.2429 | Val Acc: 0.8848\n"
     ]
    },
    {
     "name": "stderr",
     "output_type": "stream",
     "text": [
      "                                                                  \r"
     ]
    },
    {
     "name": "stdout",
     "output_type": "stream",
     "text": [
      "Epoch [48/50] | Train Loss: 0.2069 | Val Loss: 0.2295 | Val Acc: 0.8861\n"
     ]
    },
    {
     "name": "stderr",
     "output_type": "stream",
     "text": [
      "                                                                  \r"
     ]
    },
    {
     "name": "stdout",
     "output_type": "stream",
     "text": [
      "Epoch [49/50] | Train Loss: 0.2048 | Val Loss: 0.2428 | Val Acc: 0.8774\n"
     ]
    },
    {
     "name": "stderr",
     "output_type": "stream",
     "text": [
      "                                                                  \r"
     ]
    },
    {
     "name": "stdout",
     "output_type": "stream",
     "text": [
      "Epoch [50/50] | Train Loss: 0.2038 | Val Loss: 0.2411 | Val Acc: 0.8831\n",
      "Training complete!\n"
     ]
    }
   ],
   "source": [
    "train_classifier(\n",
    "    model=classifier_v1,\n",
    "    train_loader=train_dataloader,\n",
    "    val_loader=val_dataloader,\n",
    "    criterion=criterion,\n",
    "    optimizer=optimizer,\n",
    "    num_epochs=50,\n",
    "    device=device\n",
    ")"
   ]
  },
  {
   "cell_type": "code",
   "execution_count": null,
   "id": "3d83beff",
   "metadata": {},
   "outputs": [
    {
     "name": "stderr",
     "output_type": "stream",
     "text": [
      "Evaluating: 100%|██████████| 181/181 [00:00<00:00, 391.31it/s]\n"
     ]
    },
    {
     "name": "stdout",
     "output_type": "stream",
     "text": [
      "Accuracy: 0.8830\n",
      "ROC AUC: 0.9487\n",
      "Average Precision: 0.8231\n"
     ]
    },
    {
     "data": {
      "image/png": "[encoded data removed]",
      "text/plain": [
       "<Figure size 1000x700 with 1 Axes>"
      ]
     },
     "metadata": {},
     "output_type": "display_data"
    }
   ],
   "source": [
    "all_preds, all_labels = evaluate_model(classifier_v1, test_dataloader)\n",
    "y_pred = np.argmax(all_preds, axis=1)\n",
    "plot_confusion_matrix(all_labels, y_pred, title='Binary Classifier (Numerical Features) Confusion Matrix')"
   ]
  },
  {
   "cell_type": "markdown",
   "id": "ddbc9ccc",
   "metadata": {},
   "source": [
    "### Wersja 2 - One Hot Encoding"
   ]
  },
  {
   "cell_type": "code",
   "execution_count": 82,
   "id": "379553b6",
   "metadata": {},
   "outputs": [],
   "source": [
    "final_df_ohe = final_df.copy()"
   ]
  },
  {
   "cell_type": "code",
   "execution_count": 83,
   "id": "19f737c6",
   "metadata": {},
   "outputs": [
    {
     "data": {
      "text/html": [
       "<div>\n",
       "<style scoped>\n",
       "    .dataframe tbody tr th:only-of-type {\n",
       "        vertical-align: middle;\n",
       "    }\n",
       "\n",
       "    .dataframe tbody tr th {\n",
       "        vertical-align: top;\n",
       "    }\n",
       "\n",
       "    .dataframe thead th {\n",
       "        text-align: right;\n",
       "    }\n",
       "</style>\n",
       "<table border=\"1\" class=\"dataframe\">\n",
       "  <thead>\n",
       "    <tr style=\"text-align: right;\">\n",
       "      <th></th>\n",
       "      <th>host_is_superhost</th>\n",
       "      <th>host_verifications</th>\n",
       "      <th>host_acceptance_rate</th>\n",
       "      <th>latitude</th>\n",
       "      <th>longitude</th>\n",
       "      <th>property_type</th>\n",
       "      <th>room_type</th>\n",
       "      <th>accommodates</th>\n",
       "      <th>bathrooms</th>\n",
       "      <th>bathrooms_text</th>\n",
       "      <th>...</th>\n",
       "      <th>target</th>\n",
       "      <th>total_reviews</th>\n",
       "      <th>total_english_reviews</th>\n",
       "      <th>count_negative_english</th>\n",
       "      <th>count_positive_english</th>\n",
       "      <th>num_of_amenities</th>\n",
       "      <th>num_of_other_amenities</th>\n",
       "      <th>has_wifi</th>\n",
       "      <th>has_air_conditioning</th>\n",
       "      <th>num_of_top_10_common_amenities</th>\n",
       "    </tr>\n",
       "  </thead>\n",
       "  <tbody>\n",
       "    <tr>\n",
       "      <th>0</th>\n",
       "      <td>t</td>\n",
       "      <td>['email', 'phone']</td>\n",
       "      <td>100.0</td>\n",
       "      <td>37.98924</td>\n",
       "      <td>23.76500</td>\n",
       "      <td>Entire rental unit</td>\n",
       "      <td>Entire home/apt</td>\n",
       "      <td>2</td>\n",
       "      <td>1.0</td>\n",
       "      <td>1 bath</td>\n",
       "      <td>...</td>\n",
       "      <td>short</td>\n",
       "      <td>29.0</td>\n",
       "      <td>17.0</td>\n",
       "      <td>0.0</td>\n",
       "      <td>17.0</td>\n",
       "      <td>37</td>\n",
       "      <td>25</td>\n",
       "      <td>True</td>\n",
       "      <td>False</td>\n",
       "      <td>9</td>\n",
       "    </tr>\n",
       "    <tr>\n",
       "      <th>1</th>\n",
       "      <td>f</td>\n",
       "      <td>['email', 'phone']</td>\n",
       "      <td>96.0</td>\n",
       "      <td>37.96215</td>\n",
       "      <td>23.72179</td>\n",
       "      <td>Entire rental unit</td>\n",
       "      <td>Entire home/apt</td>\n",
       "      <td>4</td>\n",
       "      <td>1.0</td>\n",
       "      <td>1 bath</td>\n",
       "      <td>...</td>\n",
       "      <td>short</td>\n",
       "      <td>97.0</td>\n",
       "      <td>82.0</td>\n",
       "      <td>0.0</td>\n",
       "      <td>82.0</td>\n",
       "      <td>21</td>\n",
       "      <td>12</td>\n",
       "      <td>True</td>\n",
       "      <td>True</td>\n",
       "      <td>7</td>\n",
       "    </tr>\n",
       "    <tr>\n",
       "      <th>2</th>\n",
       "      <td>t</td>\n",
       "      <td>['email', 'phone', 'work_email']</td>\n",
       "      <td>97.0</td>\n",
       "      <td>37.95523</td>\n",
       "      <td>23.72443</td>\n",
       "      <td>Entire condo</td>\n",
       "      <td>Entire home/apt</td>\n",
       "      <td>3</td>\n",
       "      <td>1.0</td>\n",
       "      <td>1 bath</td>\n",
       "      <td>...</td>\n",
       "      <td>long</td>\n",
       "      <td>40.0</td>\n",
       "      <td>31.0</td>\n",
       "      <td>0.0</td>\n",
       "      <td>31.0</td>\n",
       "      <td>49</td>\n",
       "      <td>29</td>\n",
       "      <td>True</td>\n",
       "      <td>True</td>\n",
       "      <td>12</td>\n",
       "    </tr>\n",
       "    <tr>\n",
       "      <th>3</th>\n",
       "      <td>f</td>\n",
       "      <td>['email']</td>\n",
       "      <td>0.0</td>\n",
       "      <td>37.99745</td>\n",
       "      <td>23.73973</td>\n",
       "      <td>Entire rental unit</td>\n",
       "      <td>Entire home/apt</td>\n",
       "      <td>2</td>\n",
       "      <td>1.0</td>\n",
       "      <td>1 bath</td>\n",
       "      <td>...</td>\n",
       "      <td>short</td>\n",
       "      <td>18.0</td>\n",
       "      <td>17.0</td>\n",
       "      <td>1.0</td>\n",
       "      <td>16.0</td>\n",
       "      <td>20</td>\n",
       "      <td>13</td>\n",
       "      <td>True</td>\n",
       "      <td>True</td>\n",
       "      <td>6</td>\n",
       "    </tr>\n",
       "    <tr>\n",
       "      <th>4</th>\n",
       "      <td>t</td>\n",
       "      <td>['email', 'phone']</td>\n",
       "      <td>100.0</td>\n",
       "      <td>37.98844</td>\n",
       "      <td>23.73845</td>\n",
       "      <td>Entire rental unit</td>\n",
       "      <td>Entire home/apt</td>\n",
       "      <td>2</td>\n",
       "      <td>1.0</td>\n",
       "      <td>1 bath</td>\n",
       "      <td>...</td>\n",
       "      <td>long</td>\n",
       "      <td>515.0</td>\n",
       "      <td>423.0</td>\n",
       "      <td>3.0</td>\n",
       "      <td>420.0</td>\n",
       "      <td>45</td>\n",
       "      <td>31</td>\n",
       "      <td>True</td>\n",
       "      <td>True</td>\n",
       "      <td>9</td>\n",
       "    </tr>\n",
       "  </tbody>\n",
       "</table>\n",
       "<p>5 rows × 35 columns</p>\n",
       "</div>"
      ],
      "text/plain": [
       "  host_is_superhost                host_verifications  host_acceptance_rate  \\\n",
       "0                 t                ['email', 'phone']                 100.0   \n",
       "1                 f                ['email', 'phone']                  96.0   \n",
       "2                 t  ['email', 'phone', 'work_email']                  97.0   \n",
       "3                 f                         ['email']                   0.0   \n",
       "4                 t                ['email', 'phone']                 100.0   \n",
       "\n",
       "   latitude  longitude       property_type        room_type  accommodates  \\\n",
       "0  37.98924   23.76500  Entire rental unit  Entire home/apt             2   \n",
       "1  37.96215   23.72179  Entire rental unit  Entire home/apt             4   \n",
       "2  37.95523   23.72443        Entire condo  Entire home/apt             3   \n",
       "3  37.99745   23.73973  Entire rental unit  Entire home/apt             2   \n",
       "4  37.98844   23.73845  Entire rental unit  Entire home/apt             2   \n",
       "\n",
       "   bathrooms bathrooms_text  ...  target  total_reviews  \\\n",
       "0        1.0         1 bath  ...   short           29.0   \n",
       "1        1.0         1 bath  ...   short           97.0   \n",
       "2        1.0         1 bath  ...    long           40.0   \n",
       "3        1.0         1 bath  ...   short           18.0   \n",
       "4        1.0         1 bath  ...    long          515.0   \n",
       "\n",
       "   total_english_reviews  count_negative_english  count_positive_english  \\\n",
       "0                   17.0                     0.0                    17.0   \n",
       "1                   82.0                     0.0                    82.0   \n",
       "2                   31.0                     0.0                    31.0   \n",
       "3                   17.0                     1.0                    16.0   \n",
       "4                  423.0                     3.0                   420.0   \n",
       "\n",
       "   num_of_amenities  num_of_other_amenities  has_wifi  has_air_conditioning  \\\n",
       "0                37                      25      True                 False   \n",
       "1                21                      12      True                  True   \n",
       "2                49                      29      True                  True   \n",
       "3                20                      13      True                  True   \n",
       "4                45                      31      True                  True   \n",
       "\n",
       "   num_of_top_10_common_amenities  \n",
       "0                               9  \n",
       "1                               7  \n",
       "2                              12  \n",
       "3                               6  \n",
       "4                               9  \n",
       "\n",
       "[5 rows x 35 columns]"
      ]
     },
     "execution_count": 83,
     "metadata": {},
     "output_type": "execute_result"
    }
   ],
   "source": [
    "final_df_ohe.drop(\n",
    "    columns=['id', 'mean_embedding', 'listing_id_x', 'listing_id_y', 'amenities', 'standardized_amenities', 'neighbourhood_cleansed', 'license'],\n",
    "    inplace=True,\n",
    "    errors='ignore'\n",
    ")\n",
    "final_df_ohe.head()"
   ]
  },
  {
   "cell_type": "code",
   "execution_count": 86,
   "id": "8ecc70cb",
   "metadata": {},
   "outputs": [
    {
     "name": "stdout",
     "output_type": "stream",
     "text": [
      "Index(['host_is_superhost', 'host_verifications', 'property_type', 'room_type',\n",
      "       'bathrooms_text', 'instant_bookable'],\n",
      "      dtype='object')\n"
     ]
    }
   ],
   "source": [
    "non_numerical_columns = final_df_ohe.select_dtypes(include=['object', 'category']).columns\n",
    "non_numerical_columns = non_numerical_columns.drop('target')\n",
    "print(non_numerical_columns)"
   ]
  },
  {
   "cell_type": "code",
   "execution_count": 46,
   "id": "5e3fc372",
   "metadata": {},
   "outputs": [],
   "source": [
    "# one_hot_encoding\n",
    "ohe_df = pd.get_dummies(final_df_ohe, columns=non_numerical_columns)"
   ]
  },
  {
   "cell_type": "code",
   "execution_count": null,
   "id": "ce1aaa0b",
   "metadata": {},
   "outputs": [],
   "source": [
    "# dropping them as they contain a lot of missing values\n",
    "ohe_df.drop(columns=['availability_eoy', 'number_of_reviews_ly'], inplace=True)"
   ]
  },
  {
   "cell_type": "code",
   "execution_count": 48,
   "id": "8f190056",
   "metadata": {},
   "outputs": [],
   "source": [
    "# filling missin values with 0 -> later we need to find a better solution for missing values\n",
    "ohe_df = ohe_df.fillna(0)"
   ]
  },
  {
   "cell_type": "code",
   "execution_count": 49,
   "id": "a1ee561e",
   "metadata": {},
   "outputs": [],
   "source": [
    "x_train, x_test, y_train, y_test = train_test_split_data(df=ohe_df, test_size=0.2, target_column='target')\n",
    "\n",
    "# adding validation set\n",
    "x_train_final, x_val, y_train_final, y_val = train_test_split(x_train, y_train, test_size=0.2, random_state=42, stratify=y_train)\n",
    "\n",
    "train_dataloader = create_dataloader(x_train_final, y_train_final, batch_size=32)\n",
    "val_dataloader = create_dataloader(x_val, y_val, batch_size=32)\n",
    "test_dataloader = create_dataloader(x_test, y_test, batch_size=32)"
   ]
  },
  {
   "cell_type": "code",
   "execution_count": 50,
   "id": "25a7f58f",
   "metadata": {},
   "outputs": [],
   "source": [
    "classifier_v2 = BinaryClassifier(input_size=len(x_train_final.columns), output_size=2).to(device)\n",
    "criterion = nn.CrossEntropyLoss()\n",
    "optimizer = torch.optim.Adam(classifier_v2.parameters(), lr=0.001)"
   ]
  },
  {
   "cell_type": "code",
   "execution_count": null,
   "id": "2f55e341",
   "metadata": {},
   "outputs": [],
   "source": [
    "# assertions to check data integrity\n",
    "assert not x_train.isnull().any().any(), \"NaNs found in x_train\"\n",
    "assert not np.isinf(x_train.to_numpy()).any(), \"Infs found in x_train\"\n",
    "assert set(y_train.unique()).issubset({0, 1}), \"Invalid labels in y_train\""
   ]
  },
  {
   "cell_type": "code",
   "execution_count": 52,
   "id": "f633b090",
   "metadata": {},
   "outputs": [
    {
     "name": "stderr",
     "output_type": "stream",
     "text": [
      "                                                                 \r"
     ]
    },
    {
     "name": "stdout",
     "output_type": "stream",
     "text": [
      "Epoch [1/50] | Train Loss: 0.2980 | Val Loss: 0.2539 | Val Acc: 0.8785\n"
     ]
    },
    {
     "name": "stderr",
     "output_type": "stream",
     "text": [
      "                                                                 \r"
     ]
    },
    {
     "name": "stdout",
     "output_type": "stream",
     "text": [
      "Epoch [2/50] | Train Loss: 0.2082 | Val Loss: 0.2239 | Val Acc: 0.8965\n"
     ]
    },
    {
     "name": "stderr",
     "output_type": "stream",
     "text": [
      "                                                                 \r"
     ]
    },
    {
     "name": "stdout",
     "output_type": "stream",
     "text": [
      "Epoch [3/50] | Train Loss: 0.1911 | Val Loss: 0.1928 | Val Acc: 0.9078\n"
     ]
    },
    {
     "name": "stderr",
     "output_type": "stream",
     "text": [
      "                                                                 \r"
     ]
    },
    {
     "name": "stdout",
     "output_type": "stream",
     "text": [
      "Epoch [4/50] | Train Loss: 0.1765 | Val Loss: 0.1778 | Val Acc: 0.9117\n"
     ]
    },
    {
     "name": "stderr",
     "output_type": "stream",
     "text": [
      "                                                                 \r"
     ]
    },
    {
     "name": "stdout",
     "output_type": "stream",
     "text": [
      "Epoch [5/50] | Train Loss: 0.1734 | Val Loss: 0.1907 | Val Acc: 0.9115\n"
     ]
    },
    {
     "name": "stderr",
     "output_type": "stream",
     "text": [
      "                                                                 \r"
     ]
    },
    {
     "name": "stdout",
     "output_type": "stream",
     "text": [
      "Epoch [6/50] | Train Loss: 0.1702 | Val Loss: 0.1816 | Val Acc: 0.9163\n"
     ]
    },
    {
     "name": "stderr",
     "output_type": "stream",
     "text": [
      "                                                                 \r"
     ]
    },
    {
     "name": "stdout",
     "output_type": "stream",
     "text": [
      "Epoch [7/50] | Train Loss: 0.1588 | Val Loss: 0.1525 | Val Acc: 0.9278\n"
     ]
    },
    {
     "name": "stderr",
     "output_type": "stream",
     "text": [
      "                                                                 \r"
     ]
    },
    {
     "name": "stdout",
     "output_type": "stream",
     "text": [
      "Epoch [8/50] | Train Loss: 0.1552 | Val Loss: 0.1668 | Val Acc: 0.9176\n"
     ]
    },
    {
     "name": "stderr",
     "output_type": "stream",
     "text": [
      "                                                                 \r"
     ]
    },
    {
     "name": "stdout",
     "output_type": "stream",
     "text": [
      "Epoch [9/50] | Train Loss: 0.1559 | Val Loss: 0.1980 | Val Acc: 0.9128\n"
     ]
    },
    {
     "name": "stderr",
     "output_type": "stream",
     "text": [
      "                                                                  \r"
     ]
    },
    {
     "name": "stdout",
     "output_type": "stream",
     "text": [
      "Epoch [10/50] | Train Loss: 0.1523 | Val Loss: 0.1469 | Val Acc: 0.9312\n"
     ]
    },
    {
     "name": "stderr",
     "output_type": "stream",
     "text": [
      "                                                                  \r"
     ]
    },
    {
     "name": "stdout",
     "output_type": "stream",
     "text": [
      "Epoch [11/50] | Train Loss: 0.1493 | Val Loss: 0.1519 | Val Acc: 0.9280\n"
     ]
    },
    {
     "name": "stderr",
     "output_type": "stream",
     "text": [
      "                                                                  \r"
     ]
    },
    {
     "name": "stdout",
     "output_type": "stream",
     "text": [
      "Epoch [12/50] | Train Loss: 0.1501 | Val Loss: 0.1663 | Val Acc: 0.9256\n"
     ]
    },
    {
     "name": "stderr",
     "output_type": "stream",
     "text": [
      "                                                                  \r"
     ]
    },
    {
     "name": "stdout",
     "output_type": "stream",
     "text": [
      "Epoch [13/50] | Train Loss: 0.1463 | Val Loss: 0.1922 | Val Acc: 0.9084\n"
     ]
    },
    {
     "name": "stderr",
     "output_type": "stream",
     "text": [
      "                                                                  \r"
     ]
    },
    {
     "name": "stdout",
     "output_type": "stream",
     "text": [
      "Epoch [14/50] | Train Loss: 0.1403 | Val Loss: 0.1407 | Val Acc: 0.9358\n"
     ]
    },
    {
     "name": "stderr",
     "output_type": "stream",
     "text": [
      "                                                                  \r"
     ]
    },
    {
     "name": "stdout",
     "output_type": "stream",
     "text": [
      "Epoch [15/50] | Train Loss: 0.1448 | Val Loss: 0.1523 | Val Acc: 0.9280\n"
     ]
    },
    {
     "name": "stderr",
     "output_type": "stream",
     "text": [
      "                                                                  \r"
     ]
    },
    {
     "name": "stdout",
     "output_type": "stream",
     "text": [
      "Epoch [16/50] | Train Loss: 0.1442 | Val Loss: 0.1473 | Val Acc: 0.9286\n"
     ]
    },
    {
     "name": "stderr",
     "output_type": "stream",
     "text": [
      "                                                                  \r"
     ]
    },
    {
     "name": "stdout",
     "output_type": "stream",
     "text": [
      "Epoch [17/50] | Train Loss: 0.1383 | Val Loss: 0.1528 | Val Acc: 0.9291\n"
     ]
    },
    {
     "name": "stderr",
     "output_type": "stream",
     "text": [
      "                                                                  \r"
     ]
    },
    {
     "name": "stdout",
     "output_type": "stream",
     "text": [
      "Epoch [18/50] | Train Loss: 0.1367 | Val Loss: 0.1593 | Val Acc: 0.9251\n"
     ]
    },
    {
     "name": "stderr",
     "output_type": "stream",
     "text": [
      "                                                                  \r"
     ]
    },
    {
     "name": "stdout",
     "output_type": "stream",
     "text": [
      "Epoch [19/50] | Train Loss: 0.1392 | Val Loss: 0.1613 | Val Acc: 0.9278\n"
     ]
    },
    {
     "name": "stderr",
     "output_type": "stream",
     "text": [
      "                                                                  \r"
     ]
    },
    {
     "name": "stdout",
     "output_type": "stream",
     "text": [
      "Epoch [20/50] | Train Loss: 0.1411 | Val Loss: 0.1592 | Val Acc: 0.9254\n"
     ]
    },
    {
     "name": "stderr",
     "output_type": "stream",
     "text": [
      "                                                                  \r"
     ]
    },
    {
     "name": "stdout",
     "output_type": "stream",
     "text": [
      "Epoch [21/50] | Train Loss: 0.1377 | Val Loss: 0.1509 | Val Acc: 0.9325\n"
     ]
    },
    {
     "name": "stderr",
     "output_type": "stream",
     "text": [
      "                                                                  \r"
     ]
    },
    {
     "name": "stdout",
     "output_type": "stream",
     "text": [
      "Epoch [22/50] | Train Loss: 0.1339 | Val Loss: 0.1577 | Val Acc: 0.9234\n"
     ]
    },
    {
     "name": "stderr",
     "output_type": "stream",
     "text": [
      "                                                                  \r"
     ]
    },
    {
     "name": "stdout",
     "output_type": "stream",
     "text": [
      "Epoch [23/50] | Train Loss: 0.1353 | Val Loss: 0.1519 | Val Acc: 0.9306\n"
     ]
    },
    {
     "name": "stderr",
     "output_type": "stream",
     "text": [
      "                                                                  \r"
     ]
    },
    {
     "name": "stdout",
     "output_type": "stream",
     "text": [
      "Epoch [24/50] | Train Loss: 0.1301 | Val Loss: 0.1403 | Val Acc: 0.9356\n"
     ]
    },
    {
     "name": "stderr",
     "output_type": "stream",
     "text": [
      "                                                                  \r"
     ]
    },
    {
     "name": "stdout",
     "output_type": "stream",
     "text": [
      "Epoch [25/50] | Train Loss: 0.1299 | Val Loss: 0.1734 | Val Acc: 0.9176\n"
     ]
    },
    {
     "name": "stderr",
     "output_type": "stream",
     "text": [
      "                                                                  \r"
     ]
    },
    {
     "name": "stdout",
     "output_type": "stream",
     "text": [
      "Epoch [26/50] | Train Loss: 0.1293 | Val Loss: 0.1477 | Val Acc: 0.9317\n"
     ]
    },
    {
     "name": "stderr",
     "output_type": "stream",
     "text": [
      "                                                                  \r"
     ]
    },
    {
     "name": "stdout",
     "output_type": "stream",
     "text": [
      "Epoch [27/50] | Train Loss: 0.1254 | Val Loss: 0.1446 | Val Acc: 0.9351\n"
     ]
    },
    {
     "name": "stderr",
     "output_type": "stream",
     "text": [
      "                                                                  \r"
     ]
    },
    {
     "name": "stdout",
     "output_type": "stream",
     "text": [
      "Epoch [28/50] | Train Loss: 0.1317 | Val Loss: 0.1484 | Val Acc: 0.9345\n"
     ]
    },
    {
     "name": "stderr",
     "output_type": "stream",
     "text": [
      "                                                                  \r"
     ]
    },
    {
     "name": "stdout",
     "output_type": "stream",
     "text": [
      "Epoch [29/50] | Train Loss: 0.1244 | Val Loss: 0.1650 | Val Acc: 0.9241\n"
     ]
    },
    {
     "name": "stderr",
     "output_type": "stream",
     "text": [
      "                                                                  \r"
     ]
    },
    {
     "name": "stdout",
     "output_type": "stream",
     "text": [
      "Epoch [30/50] | Train Loss: 0.1283 | Val Loss: 0.1370 | Val Acc: 0.9390\n"
     ]
    },
    {
     "name": "stderr",
     "output_type": "stream",
     "text": [
      "                                                                  \r"
     ]
    },
    {
     "name": "stdout",
     "output_type": "stream",
     "text": [
      "Epoch [31/50] | Train Loss: 0.1284 | Val Loss: 0.1696 | Val Acc: 0.9343\n"
     ]
    },
    {
     "name": "stderr",
     "output_type": "stream",
     "text": [
      "                                                                  \r"
     ]
    },
    {
     "name": "stdout",
     "output_type": "stream",
     "text": [
      "Epoch [32/50] | Train Loss: 0.1243 | Val Loss: 0.1564 | Val Acc: 0.9236\n"
     ]
    },
    {
     "name": "stderr",
     "output_type": "stream",
     "text": [
      "                                                                  \r"
     ]
    },
    {
     "name": "stdout",
     "output_type": "stream",
     "text": [
      "Epoch [33/50] | Train Loss: 0.1252 | Val Loss: 0.1515 | Val Acc: 0.9280\n"
     ]
    },
    {
     "name": "stderr",
     "output_type": "stream",
     "text": [
      "                                                                  \r"
     ]
    },
    {
     "name": "stdout",
     "output_type": "stream",
     "text": [
      "Epoch [34/50] | Train Loss: 0.1234 | Val Loss: 0.1505 | Val Acc: 0.9336\n"
     ]
    },
    {
     "name": "stderr",
     "output_type": "stream",
     "text": [
      "                                                                  \r"
     ]
    },
    {
     "name": "stdout",
     "output_type": "stream",
     "text": [
      "Epoch [35/50] | Train Loss: 0.1274 | Val Loss: 0.1487 | Val Acc: 0.9358\n"
     ]
    },
    {
     "name": "stderr",
     "output_type": "stream",
     "text": [
      "                                                                  \r"
     ]
    },
    {
     "name": "stdout",
     "output_type": "stream",
     "text": [
      "Epoch [36/50] | Train Loss: 0.1233 | Val Loss: 0.1469 | Val Acc: 0.9351\n"
     ]
    },
    {
     "name": "stderr",
     "output_type": "stream",
     "text": [
      "                                                                  \r"
     ]
    },
    {
     "name": "stdout",
     "output_type": "stream",
     "text": [
      "Epoch [37/50] | Train Loss: 0.1220 | Val Loss: 0.1599 | Val Acc: 0.9254\n"
     ]
    },
    {
     "name": "stderr",
     "output_type": "stream",
     "text": [
      "                                                                  \r"
     ]
    },
    {
     "name": "stdout",
     "output_type": "stream",
     "text": [
      "Epoch [38/50] | Train Loss: 0.1196 | Val Loss: 0.1475 | Val Acc: 0.9314\n"
     ]
    },
    {
     "name": "stderr",
     "output_type": "stream",
     "text": [
      "                                                                  \r"
     ]
    },
    {
     "name": "stdout",
     "output_type": "stream",
     "text": [
      "Epoch [39/50] | Train Loss: 0.1235 | Val Loss: 0.1440 | Val Acc: 0.9317\n"
     ]
    },
    {
     "name": "stderr",
     "output_type": "stream",
     "text": [
      "                                                                  \r"
     ]
    },
    {
     "name": "stdout",
     "output_type": "stream",
     "text": [
      "Epoch [40/50] | Train Loss: 0.1214 | Val Loss: 0.1544 | Val Acc: 0.9336\n"
     ]
    },
    {
     "name": "stderr",
     "output_type": "stream",
     "text": [
      "                                                                  \r"
     ]
    },
    {
     "name": "stdout",
     "output_type": "stream",
     "text": [
      "Epoch [41/50] | Train Loss: 0.1210 | Val Loss: 0.1388 | Val Acc: 0.9390\n"
     ]
    },
    {
     "name": "stderr",
     "output_type": "stream",
     "text": [
      "                                                                  \r"
     ]
    },
    {
     "name": "stdout",
     "output_type": "stream",
     "text": [
      "Epoch [42/50] | Train Loss: 0.1203 | Val Loss: 0.1386 | Val Acc: 0.9366\n"
     ]
    },
    {
     "name": "stderr",
     "output_type": "stream",
     "text": [
      "                                                                  \r"
     ]
    },
    {
     "name": "stdout",
     "output_type": "stream",
     "text": [
      "Epoch [43/50] | Train Loss: 0.1222 | Val Loss: 0.1379 | Val Acc: 0.9384\n"
     ]
    },
    {
     "name": "stderr",
     "output_type": "stream",
     "text": [
      "                                                                  \r"
     ]
    },
    {
     "name": "stdout",
     "output_type": "stream",
     "text": [
      "Epoch [44/50] | Train Loss: 0.1235 | Val Loss: 0.1418 | Val Acc: 0.9373\n"
     ]
    },
    {
     "name": "stderr",
     "output_type": "stream",
     "text": [
      "                                                                  \r"
     ]
    },
    {
     "name": "stdout",
     "output_type": "stream",
     "text": [
      "Epoch [45/50] | Train Loss: 0.1198 | Val Loss: 0.1841 | Val Acc: 0.9241\n"
     ]
    },
    {
     "name": "stderr",
     "output_type": "stream",
     "text": [
      "                                                                  \r"
     ]
    },
    {
     "name": "stdout",
     "output_type": "stream",
     "text": [
      "Epoch [46/50] | Train Loss: 0.1216 | Val Loss: 0.1391 | Val Acc: 0.9395\n"
     ]
    },
    {
     "name": "stderr",
     "output_type": "stream",
     "text": [
      "                                                                  \r"
     ]
    },
    {
     "name": "stdout",
     "output_type": "stream",
     "text": [
      "Epoch [47/50] | Train Loss: 0.1184 | Val Loss: 0.1507 | Val Acc: 0.9312\n"
     ]
    },
    {
     "name": "stderr",
     "output_type": "stream",
     "text": [
      "                                                                  \r"
     ]
    },
    {
     "name": "stdout",
     "output_type": "stream",
     "text": [
      "Epoch [48/50] | Train Loss: 0.1169 | Val Loss: 0.1390 | Val Acc: 0.9406\n"
     ]
    },
    {
     "name": "stderr",
     "output_type": "stream",
     "text": [
      "                                                                  \r"
     ]
    },
    {
     "name": "stdout",
     "output_type": "stream",
     "text": [
      "Epoch [49/50] | Train Loss: 0.1158 | Val Loss: 0.1422 | Val Acc: 0.9377\n"
     ]
    },
    {
     "name": "stderr",
     "output_type": "stream",
     "text": [
      "                                                                  \r"
     ]
    },
    {
     "name": "stdout",
     "output_type": "stream",
     "text": [
      "Epoch [50/50] | Train Loss: 0.1185 | Val Loss: 0.1400 | Val Acc: 0.9406\n",
      "Training complete!\n"
     ]
    }
   ],
   "source": [
    "train_classifier(\n",
    "    model=classifier_v2,\n",
    "    train_loader=train_dataloader,\n",
    "    val_loader=val_dataloader,\n",
    "    criterion=criterion,\n",
    "    optimizer=optimizer,\n",
    "    num_epochs=50,\n",
    "    device=device\n",
    ")"
   ]
  },
  {
   "cell_type": "code",
   "execution_count": 53,
   "id": "c5b0e8fe",
   "metadata": {},
   "outputs": [
    {
     "name": "stderr",
     "output_type": "stream",
     "text": [
      "Evaluating: 100%|██████████| 181/181 [00:00<00:00, 365.83it/s]\n"
     ]
    },
    {
     "name": "stdout",
     "output_type": "stream",
     "text": [
      "Accuracy: 0.9413\n",
      "ROC AUC: 0.9838\n",
      "Average Precision: 0.9513\n"
     ]
    },
    {
     "data": {
      "image/png": "[encoded data removed]",
      "text/plain": [
       "<Figure size 1000x700 with 1 Axes>"
      ]
     },
     "metadata": {},
     "output_type": "display_data"
    }
   ],
   "source": [
    "all_preds, all_labels = evaluate_model(classifier_v2, test_dataloader, device)\n",
    "y_pred = np.argmax(all_preds, axis=1)\n",
    "plot_confusion_matrix(all_labels, y_pred, title='Binary Classifier (OHE) Confusion Matrix')"
   ]
  },
  {
   "cell_type": "code",
   "execution_count": 54,
   "id": "855f92fa",
   "metadata": {},
   "outputs": [],
   "source": [
    "torch.save(classifier_v2.state_dict(), \"../models/OHE_CLASSIFIER.pth\")"
   ]
  },
  {
   "cell_type": "markdown",
   "id": "439e0fbf",
   "metadata": {},
   "source": [
    "### Wersja 3 - Embeddingi"
   ]
  },
  {
   "cell_type": "code",
   "execution_count": 61,
   "id": "cf8435b2",
   "metadata": {},
   "outputs": [],
   "source": [
    "embeddings = final_df.copy()"
   ]
  },
  {
   "cell_type": "code",
   "execution_count": 62,
   "id": "ac0dc699",
   "metadata": {},
   "outputs": [],
   "source": [
    "embeddings = embeddings.drop(columns=['availability_eoy','number_of_reviews_ly', 'id', 'amenities', 'standardized_amenities'])\n",
    "embeddings = embeddings.fillna(0)"
   ]
  },
  {
   "cell_type": "code",
   "execution_count": 64,
   "id": "90815ca0",
   "metadata": {},
   "outputs": [
    {
     "name": "stdout",
     "output_type": "stream",
     "text": [
      "Index(['host_is_superhost', 'host_verifications', 'neighbourhood_cleansed',\n",
      "       'property_type', 'room_type', 'bathrooms_text', 'license',\n",
      "       'instant_bookable', 'mean_embedding'],\n",
      "      dtype='object')\n"
     ]
    }
   ],
   "source": [
    "emb_categorical_columns = embeddings.select_dtypes(include=['object', 'category']).columns\n",
    "# delete target column from categorical columns\n",
    "emb_categorical_columns = emb_categorical_columns.drop('target')\n",
    "print(emb_categorical_columns)"
   ]
  },
  {
   "cell_type": "code",
   "execution_count": 65,
   "id": "8e58d9b3",
   "metadata": {},
   "outputs": [
    {
     "name": "stdout",
     "output_type": "stream",
     "text": [
      "Index(['host_acceptance_rate', 'latitude', 'longitude', 'accommodates',\n",
      "       'bathrooms', 'bedrooms', 'beds', 'price', 'review_scores_rating',\n",
      "       'review_scores_accuracy', 'review_scores_cleanliness',\n",
      "       'review_scores_checkin', 'review_scores_communication',\n",
      "       'review_scores_location', 'review_scores_value', 'reviews_per_month',\n",
      "       'total_bookings', 'total_reviews', 'total_english_reviews',\n",
      "       'count_negative_english', 'count_positive_english', 'num_of_amenities',\n",
      "       'num_of_other_amenities', 'num_of_top_10_common_amenities'],\n",
      "      dtype='object')\n"
     ]
    }
   ],
   "source": [
    "emb_numerical_columns = embeddings.select_dtypes(include=['number']).columns\n",
    "print(emb_numerical_columns)"
   ]
  },
  {
   "cell_type": "code",
   "execution_count": 66,
   "id": "a336ec8e",
   "metadata": {},
   "outputs": [
    {
     "name": "stdout",
     "output_type": "stream",
     "text": [
      "emb_categorical_columns is a pandas Index. Converting to list.\n"
     ]
    }
   ],
   "source": [
    "if isinstance(emb_categorical_columns, pd.Index):\n",
    "    print(\"emb_categorical_columns is a pandas Index. Converting to list.\")\n",
    "    emb_categorical_columns = emb_categorical_columns.tolist()\n",
    "\n",
    "x_cat_train, x_cat_test, x_num_train, x_num_test, y_train, y_test = train_test_split_data(\n",
    "    df=embeddings,\n",
    "    emb_categorical_columns=emb_categorical_columns,\n",
    "    test_size=0.2,\n",
    "    target_column='target'\n",
    ")\n",
    "\n",
    "# adding validation set\n",
    "x_cat_train_final, x_cat_val, x_num_train_final, x_num_val, y_train_final, y_val = train_test_split(\n",
    "    x_cat_train,\n",
    "    x_num_train,\n",
    "    y_train,\n",
    "    test_size=0.2,\n",
    "    random_state=42,\n",
    "    stratify=y_train\n",
    ")\n",
    "\n",
    "emb_train_dataloader = create_dataloader(x_cat_train_final, y_train_final, x_num_train_final, batch_size=32)\n",
    "emb_val_dataloader = create_dataloader(x_cat_val, y_val, x_num_val, batch_size=32)\n",
    "emb_test_dataloader = create_dataloader(x_cat_test, y_test, x_num_test, batch_size=32)"
   ]
  },
  {
   "cell_type": "code",
   "execution_count": 67,
   "id": "ac854081",
   "metadata": {},
   "outputs": [],
   "source": [
    "assert list(x_cat_train_final.columns) == list(x_cat_val.columns), \"Categorical columns in train and val dataloaders do not match\"\n",
    "assert list(x_num_train_final.columns) == list(x_num_val.columns), \"Numerical columns in train and val dataloaders do not match\"\n",
    "assert not x_cat_train_final.isnull().any().any(), \"NaNs found in x_cat_train_final\""
   ]
  },
  {
   "cell_type": "code",
   "execution_count": null,
   "id": "835e0f8b",
   "metadata": {},
   "outputs": [],
   "source": [
    "embedding_sizes = [\n",
    "    (len(embeddings[col].astype('category').cat.categories), min(50, (len(embeddings[col].astype('category').cat.categories) + 1) // 2))\n",
    "    for col in emb_categorical_columns\n",
    "]"
   ]
  },
  {
   "cell_type": "code",
   "execution_count": 69,
   "id": "c383a243",
   "metadata": {},
   "outputs": [],
   "source": [
    "classifier_v3 = BinaryClassifierEmbeddings(\n",
    "    num_numeric=x_num_train_final.shape[1],\n",
    "    embedding_sizes=embedding_sizes,\n",
    "    output_size=2\n",
    ").to(device)\n",
    "\n",
    "criterion = nn.CrossEntropyLoss()\n",
    "optimizer = torch.optim.Adam(params=classifier_v3.parameters(), lr=0.0001)"
   ]
  },
  {
   "cell_type": "code",
   "execution_count": 70,
   "id": "419c84ee",
   "metadata": {},
   "outputs": [
    {
     "name": "stderr",
     "output_type": "stream",
     "text": [
      "                                                                 \r"
     ]
    },
    {
     "name": "stdout",
     "output_type": "stream",
     "text": [
      "Epoch [1/25] | Train Loss: 0.3834 | Val Loss: 0.2981 | Val Acc: 0.8579\n"
     ]
    },
    {
     "name": "stderr",
     "output_type": "stream",
     "text": [
      "                                                                 \r"
     ]
    },
    {
     "name": "stdout",
     "output_type": "stream",
     "text": [
      "Epoch [2/25] | Train Loss: 0.2760 | Val Loss: 0.2517 | Val Acc: 0.8789\n"
     ]
    },
    {
     "name": "stderr",
     "output_type": "stream",
     "text": [
      "                                                                 \r"
     ]
    },
    {
     "name": "stdout",
     "output_type": "stream",
     "text": [
      "Epoch [3/25] | Train Loss: 0.2329 | Val Loss: 0.2146 | Val Acc: 0.9026\n"
     ]
    },
    {
     "name": "stderr",
     "output_type": "stream",
     "text": [
      "                                                                 \r"
     ]
    },
    {
     "name": "stdout",
     "output_type": "stream",
     "text": [
      "Epoch [4/25] | Train Loss: 0.2007 | Val Loss: 0.1948 | Val Acc: 0.9117\n"
     ]
    },
    {
     "name": "stderr",
     "output_type": "stream",
     "text": [
      "                                                                 \r"
     ]
    },
    {
     "name": "stdout",
     "output_type": "stream",
     "text": [
      "Epoch [5/25] | Train Loss: 0.1786 | Val Loss: 0.1825 | Val Acc: 0.9160\n"
     ]
    },
    {
     "name": "stderr",
     "output_type": "stream",
     "text": [
      "                                                                 \r"
     ]
    },
    {
     "name": "stdout",
     "output_type": "stream",
     "text": [
      "Epoch [6/25] | Train Loss: 0.1675 | Val Loss: 0.1835 | Val Acc: 0.9154\n"
     ]
    },
    {
     "name": "stderr",
     "output_type": "stream",
     "text": [
      "                                                                 \r"
     ]
    },
    {
     "name": "stdout",
     "output_type": "stream",
     "text": [
      "Epoch [7/25] | Train Loss: 0.1610 | Val Loss: 0.1781 | Val Acc: 0.9208\n"
     ]
    },
    {
     "name": "stderr",
     "output_type": "stream",
     "text": [
      "                                                                 \r"
     ]
    },
    {
     "name": "stdout",
     "output_type": "stream",
     "text": [
      "Epoch [8/25] | Train Loss: 0.1518 | Val Loss: 0.1711 | Val Acc: 0.9197\n"
     ]
    },
    {
     "name": "stderr",
     "output_type": "stream",
     "text": [
      "                                                                 \r"
     ]
    },
    {
     "name": "stdout",
     "output_type": "stream",
     "text": [
      "Epoch [9/25] | Train Loss: 0.1465 | Val Loss: 0.1693 | Val Acc: 0.9195\n"
     ]
    },
    {
     "name": "stderr",
     "output_type": "stream",
     "text": [
      "                                                                  \r"
     ]
    },
    {
     "name": "stdout",
     "output_type": "stream",
     "text": [
      "Epoch [10/25] | Train Loss: 0.1396 | Val Loss: 0.1762 | Val Acc: 0.9189\n"
     ]
    },
    {
     "name": "stderr",
     "output_type": "stream",
     "text": [
      "                                                                  \r"
     ]
    },
    {
     "name": "stdout",
     "output_type": "stream",
     "text": [
      "Epoch [11/25] | Train Loss: 0.1351 | Val Loss: 0.1659 | Val Acc: 0.9251\n"
     ]
    },
    {
     "name": "stderr",
     "output_type": "stream",
     "text": [
      "                                                                  \r"
     ]
    },
    {
     "name": "stdout",
     "output_type": "stream",
     "text": [
      "Epoch [12/25] | Train Loss: 0.1332 | Val Loss: 0.1745 | Val Acc: 0.9204\n"
     ]
    },
    {
     "name": "stderr",
     "output_type": "stream",
     "text": [
      "                                                                  \r"
     ]
    },
    {
     "name": "stdout",
     "output_type": "stream",
     "text": [
      "Epoch [13/25] | Train Loss: 0.1267 | Val Loss: 0.1704 | Val Acc: 0.9217\n"
     ]
    },
    {
     "name": "stderr",
     "output_type": "stream",
     "text": [
      "                                                                  \r"
     ]
    },
    {
     "name": "stdout",
     "output_type": "stream",
     "text": [
      "Epoch [14/25] | Train Loss: 0.1259 | Val Loss: 0.1980 | Val Acc: 0.9149\n"
     ]
    },
    {
     "name": "stderr",
     "output_type": "stream",
     "text": [
      "                                                                  \r"
     ]
    },
    {
     "name": "stdout",
     "output_type": "stream",
     "text": [
      "Epoch [15/25] | Train Loss: 0.1183 | Val Loss: 0.1852 | Val Acc: 0.9178\n"
     ]
    },
    {
     "name": "stderr",
     "output_type": "stream",
     "text": [
      "                                                                  \r"
     ]
    },
    {
     "name": "stdout",
     "output_type": "stream",
     "text": [
      "Epoch [16/25] | Train Loss: 0.1166 | Val Loss: 0.1636 | Val Acc: 0.9245\n"
     ]
    },
    {
     "name": "stderr",
     "output_type": "stream",
     "text": [
      "                                                                  \r"
     ]
    },
    {
     "name": "stdout",
     "output_type": "stream",
     "text": [
      "Epoch [17/25] | Train Loss: 0.1100 | Val Loss: 0.1688 | Val Acc: 0.9223\n"
     ]
    },
    {
     "name": "stderr",
     "output_type": "stream",
     "text": [
      "                                                                  \r"
     ]
    },
    {
     "name": "stdout",
     "output_type": "stream",
     "text": [
      "Epoch [18/25] | Train Loss: 0.1062 | Val Loss: 0.1682 | Val Acc: 0.9241\n"
     ]
    },
    {
     "name": "stderr",
     "output_type": "stream",
     "text": [
      "                                                                  \r"
     ]
    },
    {
     "name": "stdout",
     "output_type": "stream",
     "text": [
      "Epoch [19/25] | Train Loss: 0.1054 | Val Loss: 0.1685 | Val Acc: 0.9208\n"
     ]
    },
    {
     "name": "stderr",
     "output_type": "stream",
     "text": [
      "                                                                  \r"
     ]
    },
    {
     "name": "stdout",
     "output_type": "stream",
     "text": [
      "Epoch [20/25] | Train Loss: 0.1009 | Val Loss: 0.1850 | Val Acc: 0.9197\n"
     ]
    },
    {
     "name": "stderr",
     "output_type": "stream",
     "text": [
      "                                                                  \r"
     ]
    },
    {
     "name": "stdout",
     "output_type": "stream",
     "text": [
      "Epoch [21/25] | Train Loss: 0.0976 | Val Loss: 0.1873 | Val Acc: 0.9191\n"
     ]
    },
    {
     "name": "stderr",
     "output_type": "stream",
     "text": [
      "                                                                  \r"
     ]
    },
    {
     "name": "stdout",
     "output_type": "stream",
     "text": [
      "Epoch [22/25] | Train Loss: 0.0927 | Val Loss: 0.1858 | Val Acc: 0.9149\n"
     ]
    },
    {
     "name": "stderr",
     "output_type": "stream",
     "text": [
      "                                                                  \r"
     ]
    },
    {
     "name": "stdout",
     "output_type": "stream",
     "text": [
      "Epoch [23/25] | Train Loss: 0.0915 | Val Loss: 0.1752 | Val Acc: 0.9215\n"
     ]
    },
    {
     "name": "stderr",
     "output_type": "stream",
     "text": [
      "                                                                  \r"
     ]
    },
    {
     "name": "stdout",
     "output_type": "stream",
     "text": [
      "Epoch [24/25] | Train Loss: 0.0868 | Val Loss: 0.1858 | Val Acc: 0.9219\n"
     ]
    },
    {
     "name": "stderr",
     "output_type": "stream",
     "text": [
      "                                                                  \r"
     ]
    },
    {
     "name": "stdout",
     "output_type": "stream",
     "text": [
      "Epoch [25/25] | Train Loss: 0.0841 | Val Loss: 0.1801 | Val Acc: 0.9208\n",
      "Training complete!\n"
     ]
    }
   ],
   "source": [
    "train_classifier(\n",
    "    model=classifier_v3,\n",
    "    train_loader=emb_train_dataloader,\n",
    "    val_loader=emb_val_dataloader,\n",
    "    criterion=criterion,\n",
    "    optimizer=optimizer,\n",
    "    num_epochs=25,\n",
    "    device=device)"
   ]
  },
  {
   "cell_type": "code",
   "execution_count": 71,
   "id": "12374e4d",
   "metadata": {},
   "outputs": [
    {
     "name": "stderr",
     "output_type": "stream",
     "text": [
      "Evaluating: 100%|██████████| 181/181 [00:00<00:00, 278.82it/s]\n"
     ]
    },
    {
     "name": "stdout",
     "output_type": "stream",
     "text": [
      "Accuracy: 0.9216\n",
      "ROC AUC: 0.9736\n",
      "Average Precision: 0.9229\n"
     ]
    },
    {
     "data": {
      "image/png": "[encoded data removed]",
      "text/plain": [
       "<Figure size 1000x700 with 1 Axes>"
      ]
     },
     "metadata": {},
     "output_type": "display_data"
    }
   ],
   "source": [
    "all_preds, all_labels = evaluate_model(classifier_v3, emb_test_dataloader, device)\n",
    "y_pred = np.argmax(all_preds, axis=1)\n",
    "plot_confusion_matrix(all_labels, y_pred, title='Binary Classifier (Embeddings) Confusion Matrix')"
   ]
  },
  {
   "cell_type": "code",
   "execution_count": 96,
   "id": "0928bb8a",
   "metadata": {},
   "outputs": [],
   "source": [
    "torch.save(classifier_v3.state_dict(), \"../models/EMBClassifier.pth\")"
   ]
  },
  {
   "cell_type": "markdown",
   "id": "13edba1c",
   "metadata": {},
   "source": [
    "### Feature Importance"
   ]
  },
  {
   "cell_type": "code",
   "execution_count": 72,
   "id": "ec250a7d",
   "metadata": {},
   "outputs": [
    {
     "name": "stderr",
     "output_type": "stream",
     "text": [
      "Evaluating: 100%|██████████| 181/181 [00:01<00:00, 172.20it/s]"
     ]
    },
    {
     "name": "stdout",
     "output_type": "stream",
     "text": [
      "Accuracy: 0.9216\n",
      "ROC AUC: 0.9736\n",
      "Average Precision: 0.9229\n"
     ]
    },
    {
     "name": "stderr",
     "output_type": "stream",
     "text": [
      "\n"
     ]
    }
   ],
   "source": [
    "all_preds, all_labels = evaluate_model(classifier_v3, emb_test_dataloader, device)\n",
    "y_pred = np.argmax(all_preds, axis=1)\n",
    "\n",
    "baseline_roc_auc = roc_auc_score(all_labels, all_preds[:, 1])"
   ]
  },
  {
   "cell_type": "code",
   "execution_count": null,
   "id": "e7a66fb8",
   "metadata": {},
   "outputs": [],
   "source": [
    "from itertools import combinations\n",
    "def permutation_importance_dataloader_advanced(\n",
    "    model,\n",
    "    dataloader,\n",
    "    emb_categorical_columns,\n",
    "    numeric_columns,\n",
    "    baseline_score,\n",
    "    device,\n",
    "    max_group_size=1\n",
    "):\n",
    "    model.eval()\n",
    "    importances = []\n",
    "\n",
    "    feature_info = [('cat', i, col) for i, col in enumerate(emb_categorical_columns)] + \\\n",
    "                   [('num', i, col) for i, col in enumerate(numeric_columns)]\n",
    "\n",
    "    for k in range(1, max_group_size + 1):\n",
    "        for group in combinations(feature_info, k):\n",
    "            y_true = []\n",
    "            y_pred = []\n",
    "            group_names = [feat[2] for feat in group]\n",
    "\n",
    "            for x_cat_batch, x_num_batch, y_batch in tqdm(dataloader, desc=f\"Permuting {group_names}\", leave=False):\n",
    "                x_cat_batch = x_cat_batch.clone()\n",
    "                x_num_batch = x_num_batch.clone()\n",
    "\n",
    "                for feat_type, idx, _ in group:\n",
    "                    if feat_type == 'cat':\n",
    "                        perm = x_cat_batch[:, idx][torch.randperm(x_cat_batch.size(0))]\n",
    "                        x_cat_batch[:, idx] = perm\n",
    "                    else:\n",
    "                        perm = x_num_batch[:, idx][torch.randperm(x_num_batch.size(0))]\n",
    "                        x_num_batch[:, idx] = perm\n",
    "\n",
    "                x_cat_batch = x_cat_batch.to(device)\n",
    "                x_num_batch = x_num_batch.to(device)\n",
    "                y_batch = y_batch.to(device)\n",
    "\n",
    "                with torch.no_grad():\n",
    "                    outputs = model(x_cat_batch, x_num_batch)\n",
    "                    preds = torch.argmax(outputs, dim=1)\n",
    "\n",
    "                y_true.append(y_batch.cpu().numpy())\n",
    "                y_pred.append(preds.cpu().numpy())\n",
    "\n",
    "            y_true = np.concatenate(y_true)\n",
    "            y_pred = np.concatenate(y_pred)\n",
    "            permuted_score = roc_auc_score(y_true, y_pred)\n",
    "            importance = baseline_score - permuted_score\n",
    "\n",
    "            importances.append((group_names, importance))\n",
    "\n",
    "    return sorted(importances, key=lambda x: x[1], reverse=True)\n"
   ]
  },
  {
   "cell_type": "code",
   "execution_count": 79,
   "id": "73d75066",
   "metadata": {},
   "outputs": [
    {
     "name": "stderr",
     "output_type": "stream",
     "text": [
      "                                                                                                                               \r"
     ]
    }
   ],
   "source": [
    "numeric_columns = emb_numerical_columns.tolist()\n",
    "\n",
    "importances = permutation_importance_dataloader_advanced(\n",
    "    model=classifier_v3,\n",
    "    dataloader=emb_val_dataloader,\n",
    "    emb_categorical_columns=emb_categorical_columns,\n",
    "    numeric_columns=numeric_columns,\n",
    "    baseline_score=baseline_roc_auc,\n",
    "    device=device,\n",
    "    max_group_size=2\n",
    ")"
   ]
  },
  {
   "cell_type": "code",
   "execution_count": 80,
   "id": "5d5196ca",
   "metadata": {},
   "outputs": [
    {
     "name": "stdout",
     "output_type": "stream",
     "text": [
      "\n",
      "Permutation Feature Importances (by ROC AUC drop):\n",
      "['host_is_superhost', 'review_scores_value']: 0.4473\n",
      "['review_scores_value', 'num_of_top_10_common_amenities']: 0.4080\n",
      "['bedrooms', 'review_scores_value']: 0.4034\n",
      "['bathrooms', 'review_scores_value']: 0.3941\n",
      "['review_scores_accuracy', 'review_scores_value']: 0.3939\n",
      "['license', 'review_scores_value']: 0.3935\n",
      "['room_type', 'review_scores_value']: 0.3934\n",
      "['review_scores_value', 'count_positive_english']: 0.3932\n",
      "['review_scores_value', 'total_english_reviews']: 0.3930\n",
      "['review_scores_value']: 0.3923\n",
      "['property_type', 'review_scores_value']: 0.3903\n",
      "['review_scores_rating', 'review_scores_value']: 0.3884\n",
      "['review_scores_value', 'total_reviews']: 0.3876\n",
      "['review_scores_value', 'reviews_per_month']: 0.3872\n",
      "['review_scores_value', 'total_bookings']: 0.3868\n",
      "['latitude', 'review_scores_value']: 0.3864\n",
      "['bathrooms_text', 'review_scores_value']: 0.3856\n",
      "['mean_embedding', 'review_scores_value']: 0.3838\n",
      "['beds', 'review_scores_value']: 0.3827\n",
      "['longitude', 'review_scores_value']: 0.3826\n",
      "['review_scores_communication', 'review_scores_value']: 0.3814\n",
      "['review_scores_cleanliness', 'review_scores_value']: 0.3814\n",
      "['review_scores_value', 'num_of_other_amenities']: 0.3812\n",
      "['review_scores_location', 'review_scores_value']: 0.3811\n",
      "['instant_bookable', 'review_scores_value']: 0.3804\n",
      "['review_scores_value', 'num_of_amenities']: 0.3794\n",
      "['price', 'review_scores_value']: 0.3789\n",
      "['neighbourhood_cleansed', 'review_scores_value']: 0.3784\n",
      "['accommodates', 'review_scores_value']: 0.3781\n",
      "['host_verifications', 'review_scores_value']: 0.3781\n",
      "['review_scores_checkin', 'review_scores_value']: 0.3713\n",
      "['review_scores_value', 'count_negative_english']: 0.3713\n",
      "['host_acceptance_rate', 'review_scores_value']: 0.3697\n",
      "['host_is_superhost', 'num_of_top_10_common_amenities']: 0.2806\n",
      "['host_is_superhost', 'bedrooms']: 0.2671\n",
      "['host_is_superhost', 'license']: 0.2379\n",
      "['host_is_superhost', 'property_type']: 0.2347\n",
      "['host_is_superhost', 'bathrooms']: 0.2325\n",
      "['host_is_superhost', 'review_scores_communication']: 0.2322\n",
      "['host_is_superhost', 'bathrooms_text']: 0.2306\n",
      "['bedrooms', 'num_of_top_10_common_amenities']: 0.2301\n",
      "['bathrooms', 'num_of_top_10_common_amenities']: 0.2280\n",
      "['host_is_superhost', 'room_type']: 0.2268\n",
      "['host_is_superhost', 'neighbourhood_cleansed']: 0.2257\n",
      "['neighbourhood_cleansed', 'num_of_top_10_common_amenities']: 0.2240\n",
      "['host_is_superhost', 'count_positive_english']: 0.2239\n",
      "['num_of_top_10_common_amenities']: 0.2237\n",
      "['host_is_superhost', 'review_scores_checkin']: 0.2236\n",
      "['host_is_superhost', 'accommodates']: 0.2228\n",
      "['host_is_superhost', 'num_of_other_amenities']: 0.2219\n",
      "['host_is_superhost']: 0.2217\n",
      "['host_is_superhost', 'review_scores_cleanliness']: 0.2214\n",
      "['host_is_superhost', 'host_acceptance_rate']: 0.2212\n",
      "['license', 'num_of_top_10_common_amenities']: 0.2195\n",
      "['host_is_superhost', 'instant_bookable']: 0.2188\n",
      "['host_is_superhost', 'total_reviews']: 0.2187\n",
      "['review_scores_accuracy', 'num_of_top_10_common_amenities']: 0.2186\n",
      "['host_is_superhost', 'mean_embedding']: 0.2185\n",
      "['host_is_superhost', 'price']: 0.2185\n",
      "['review_scores_checkin', 'num_of_top_10_common_amenities']: 0.2180\n",
      "['beds', 'num_of_top_10_common_amenities']: 0.2179\n",
      "['host_is_superhost', 'review_scores_location']: 0.2177\n",
      "['review_scores_communication', 'num_of_top_10_common_amenities']: 0.2175\n",
      "['host_is_superhost', 'num_of_amenities']: 0.2174\n",
      "['host_is_superhost', 'latitude']: 0.2171\n",
      "['count_negative_english', 'num_of_top_10_common_amenities']: 0.2170\n",
      "['total_reviews', 'num_of_top_10_common_amenities']: 0.2170\n",
      "['host_is_superhost', 'total_bookings']: 0.2150\n",
      "['accommodates', 'num_of_top_10_common_amenities']: 0.2150\n",
      "['host_verifications', 'num_of_top_10_common_amenities']: 0.2150\n",
      "['total_english_reviews', 'num_of_top_10_common_amenities']: 0.2150\n",
      "['review_scores_location', 'num_of_top_10_common_amenities']: 0.2145\n",
      "['num_of_other_amenities', 'num_of_top_10_common_amenities']: 0.2143\n",
      "['price', 'num_of_top_10_common_amenities']: 0.2142\n",
      "['mean_embedding', 'num_of_top_10_common_amenities']: 0.2135\n",
      "['instant_bookable', 'num_of_top_10_common_amenities']: 0.2131\n",
      "['host_is_superhost', 'longitude']: 0.2129\n",
      "['review_scores_cleanliness', 'num_of_top_10_common_amenities']: 0.2128\n",
      "['review_scores_rating', 'num_of_top_10_common_amenities']: 0.2128\n",
      "['host_is_superhost', 'host_verifications']: 0.2126\n",
      "['room_type', 'num_of_top_10_common_amenities']: 0.2119\n",
      "['host_is_superhost', 'reviews_per_month']: 0.2114\n",
      "['host_acceptance_rate', 'num_of_top_10_common_amenities']: 0.2114\n",
      "['num_of_amenities', 'num_of_top_10_common_amenities']: 0.2112\n",
      "['property_type', 'num_of_top_10_common_amenities']: 0.2109\n",
      "['host_is_superhost', 'beds']: 0.2108\n",
      "['count_positive_english', 'num_of_top_10_common_amenities']: 0.2104\n",
      "['longitude', 'num_of_top_10_common_amenities']: 0.2093\n",
      "['bathrooms_text', 'num_of_top_10_common_amenities']: 0.2091\n",
      "['host_is_superhost', 'review_scores_accuracy']: 0.2091\n",
      "['reviews_per_month', 'num_of_top_10_common_amenities']: 0.2088\n",
      "['host_is_superhost', 'total_english_reviews']: 0.2085\n",
      "['host_is_superhost', 'count_negative_english']: 0.2079\n",
      "['total_bookings', 'num_of_top_10_common_amenities']: 0.2079\n",
      "['host_is_superhost', 'review_scores_rating']: 0.2035\n",
      "['latitude', 'num_of_top_10_common_amenities']: 0.2002\n",
      "['license', 'bedrooms']: 0.1718\n",
      "['bathrooms', 'bedrooms']: 0.1708\n",
      "['bedrooms', 'beds']: 0.1590\n",
      "['host_verifications', 'bedrooms']: 0.1577\n",
      "['longitude', 'bedrooms']: 0.1560\n",
      "['neighbourhood_cleansed', 'bedrooms']: 0.1558\n",
      "['bedrooms', 'reviews_per_month']: 0.1553\n",
      "['accommodates', 'bedrooms']: 0.1549\n",
      "['host_acceptance_rate', 'bedrooms']: 0.1546\n",
      "['bedrooms', 'review_scores_communication']: 0.1546\n",
      "['instant_bookable', 'bedrooms']: 0.1545\n",
      "['bedrooms', 'review_scores_accuracy']: 0.1545\n",
      "['bedrooms', 'total_reviews']: 0.1541\n",
      "['room_type', 'bedrooms']: 0.1537\n",
      "['bathrooms_text', 'bedrooms']: 0.1534\n",
      "['bedrooms', 'total_english_reviews']: 0.1532\n",
      "['bedrooms']: 0.1524\n",
      "['bedrooms', 'total_bookings']: 0.1515\n",
      "['bedrooms', 'review_scores_location']: 0.1513\n",
      "['property_type', 'bedrooms']: 0.1509\n",
      "['bedrooms', 'num_of_amenities']: 0.1508\n",
      "['mean_embedding', 'bedrooms']: 0.1506\n",
      "['bedrooms', 'review_scores_cleanliness']: 0.1489\n",
      "['bedrooms', 'review_scores_checkin']: 0.1472\n",
      "['bedrooms', 'count_positive_english']: 0.1468\n",
      "['bedrooms', 'num_of_other_amenities']: 0.1454\n",
      "['latitude', 'bedrooms']: 0.1449\n",
      "['bedrooms', 'count_negative_english']: 0.1437\n",
      "['bedrooms', 'review_scores_rating']: 0.1410\n",
      "['bedrooms', 'price']: 0.1404\n",
      "['bathrooms', 'review_scores_cleanliness']: 0.1333\n",
      "['bathrooms', 'review_scores_communication']: 0.1324\n",
      "['neighbourhood_cleansed', 'bathrooms']: 0.1318\n",
      "['bathrooms', 'reviews_per_month']: 0.1317\n",
      "['bathrooms', 'count_negative_english']: 0.1316\n",
      "['license', 'bathrooms']: 0.1308\n",
      "['bathrooms', 'total_reviews']: 0.1302\n",
      "['room_type', 'bathrooms']: 0.1295\n",
      "['bathrooms', 'review_scores_location']: 0.1287\n",
      "['accommodates', 'bathrooms']: 0.1283\n",
      "['bathrooms_text', 'bathrooms']: 0.1281\n",
      "['bathrooms', 'count_positive_english']: 0.1278\n",
      "['longitude', 'bathrooms']: 0.1276\n",
      "['host_acceptance_rate', 'bathrooms']: 0.1275\n",
      "['bathrooms']: 0.1269\n",
      "['instant_bookable', 'bathrooms']: 0.1259\n",
      "['bathrooms', 'total_english_reviews']: 0.1253\n",
      "['bathrooms', 'price']: 0.1247\n",
      "['host_verifications', 'bathrooms']: 0.1245\n",
      "['bathrooms', 'review_scores_accuracy']: 0.1240\n",
      "['bathrooms', 'total_bookings']: 0.1240\n",
      "['bathrooms', 'review_scores_checkin']: 0.1240\n",
      "['bathrooms', 'num_of_other_amenities']: 0.1231\n",
      "['bathrooms', 'review_scores_rating']: 0.1226\n",
      "['bathrooms', 'beds']: 0.1226\n",
      "['latitude', 'bathrooms']: 0.1223\n",
      "['property_type', 'bathrooms']: 0.1216\n",
      "['bathrooms', 'num_of_amenities']: 0.1198\n",
      "['mean_embedding', 'bathrooms']: 0.1190\n",
      "['neighbourhood_cleansed', 'license']: 0.1183\n",
      "['license', 'review_scores_cleanliness']: 0.1173\n",
      "['room_type', 'license']: 0.1168\n",
      "['license', 'count_negative_english']: 0.1159\n",
      "['license', 'review_scores_communication']: 0.1158\n",
      "['license', 'latitude']: 0.1150\n",
      "['license', 'total_reviews']: 0.1146\n",
      "['license', 'total_bookings']: 0.1139\n",
      "['license', 'review_scores_accuracy']: 0.1131\n",
      "['license', 'accommodates']: 0.1130\n",
      "['license', 'num_of_amenities']: 0.1129\n",
      "['license', 'instant_bookable']: 0.1127\n",
      "['review_scores_cleanliness', 'count_positive_english']: 0.1123\n",
      "['license', 'reviews_per_month']: 0.1122\n",
      "['bathrooms_text', 'license']: 0.1120\n",
      "['license', 'host_acceptance_rate']: 0.1104\n",
      "['license', 'num_of_other_amenities']: 0.1102\n",
      "['license', 'review_scores_rating']: 0.1098\n",
      "['host_verifications', 'license']: 0.1096\n",
      "['price', 'review_scores_cleanliness']: 0.1094\n",
      "['latitude', 'review_scores_cleanliness']: 0.1088\n",
      "['neighbourhood_cleansed', 'mean_embedding']: 0.1086\n",
      "['bathrooms_text', 'review_scores_cleanliness']: 0.1085\n",
      "['license', 'longitude']: 0.1082\n",
      "['review_scores_cleanliness', 'review_scores_checkin']: 0.1081\n",
      "['neighbourhood_cleansed', 'property_type']: 0.1079\n",
      "['accommodates', 'review_scores_cleanliness']: 0.1078\n",
      "['review_scores_cleanliness', 'review_scores_communication']: 0.1078\n",
      "['property_type', 'license']: 0.1076\n",
      "['bathrooms_text', 'review_scores_checkin']: 0.1076\n",
      "['license', 'price']: 0.1076\n",
      "['review_scores_cleanliness', 'reviews_per_month']: 0.1074\n",
      "['review_scores_cleanliness']: 0.1071\n",
      "['property_type', 'review_scores_cleanliness']: 0.1071\n",
      "['property_type', 'review_scores_rating']: 0.1069\n",
      "['room_type', 'review_scores_cleanliness']: 0.1069\n",
      "['review_scores_rating', 'review_scores_communication']: 0.1068\n",
      "['review_scores_cleanliness', 'review_scores_location']: 0.1066\n",
      "['review_scores_cleanliness', 'total_reviews']: 0.1062\n",
      "['room_type', 'count_positive_english']: 0.1062\n",
      "['review_scores_cleanliness', 'total_english_reviews']: 0.1062\n",
      "['accommodates', 'review_scores_rating']: 0.1061\n",
      "['review_scores_communication', 'count_positive_english']: 0.1060\n",
      "['license', 'count_positive_english']: 0.1060\n",
      "['bathrooms_text', 'review_scores_communication']: 0.1058\n",
      "['review_scores_accuracy', 'review_scores_communication']: 0.1058\n",
      "['review_scores_cleanliness', 'total_bookings']: 0.1056\n",
      "['longitude', 'review_scores_cleanliness']: 0.1055\n",
      "['neighbourhood_cleansed', 'num_of_amenities']: 0.1055\n",
      "['host_acceptance_rate', 'review_scores_cleanliness']: 0.1054\n",
      "['review_scores_accuracy', 'review_scores_checkin']: 0.1053\n",
      "['review_scores_cleanliness', 'num_of_other_amenities']: 0.1053\n",
      "['review_scores_accuracy', 'review_scores_cleanliness']: 0.1052\n",
      "['review_scores_cleanliness', 'num_of_amenities']: 0.1052\n",
      "['host_verifications', 'room_type']: 0.1052\n",
      "['property_type', 'accommodates']: 0.1051\n",
      "['bathrooms_text', 'count_positive_english']: 0.1051\n",
      "['license', 'review_scores_checkin']: 0.1050\n",
      "['license', 'total_english_reviews']: 0.1050\n",
      "['neighbourhood_cleansed', 'longitude']: 0.1049\n",
      "['room_type', 'review_scores_accuracy']: 0.1048\n",
      "['license', 'beds']: 0.1048\n",
      "['license', 'review_scores_location']: 0.1048\n",
      "['room_type', 'review_scores_checkin']: 0.1046\n",
      "['review_scores_communication', 'num_of_amenities']: 0.1046\n",
      "['neighbourhood_cleansed', 'room_type']: 0.1045\n",
      "['room_type', 'review_scores_communication']: 0.1045\n",
      "['review_scores_rating', 'total_bookings']: 0.1044\n",
      "['review_scores_checkin', 'num_of_other_amenities']: 0.1043\n",
      "['room_type', 'review_scores_rating']: 0.1043\n",
      "['mean_embedding', 'review_scores_checkin']: 0.1043\n",
      "['license']: 0.1043\n",
      "['room_type', 'bathrooms_text']: 0.1043\n",
      "['neighbourhood_cleansed', 'review_scores_communication']: 0.1042\n",
      "['neighbourhood_cleansed', 'review_scores_checkin']: 0.1041\n",
      "['review_scores_cleanliness', 'count_negative_english']: 0.1039\n",
      "['room_type', 'num_of_other_amenities']: 0.1039\n",
      "['bathrooms_text', 'latitude']: 0.1039\n",
      "['latitude', 'review_scores_communication']: 0.1039\n",
      "['instant_bookable', 'review_scores_cleanliness']: 0.1038\n",
      "['property_type', 'latitude']: 0.1035\n",
      "['host_acceptance_rate', 'review_scores_communication']: 0.1035\n",
      "['neighbourhood_cleansed', 'review_scores_cleanliness']: 0.1034\n",
      "['review_scores_rating', 'review_scores_cleanliness']: 0.1034\n",
      "['mean_embedding', 'review_scores_communication']: 0.1033\n",
      "['license', 'mean_embedding']: 0.1033\n",
      "['accommodates', 'review_scores_communication']: 0.1033\n",
      "['review_scores_checkin', 'count_positive_english']: 0.1033\n",
      "['property_type', 'bathrooms_text']: 0.1032\n",
      "['review_scores_rating', 'num_of_amenities']: 0.1032\n",
      "['neighbourhood_cleansed', 'total_bookings']: 0.1031\n",
      "['review_scores_communication', 'num_of_other_amenities']: 0.1031\n",
      "['property_type', 'reviews_per_month']: 0.1031\n",
      "['accommodates', 'review_scores_accuracy']: 0.1030\n",
      "['review_scores_checkin', 'num_of_amenities']: 0.1029\n",
      "['bathrooms_text', 'longitude']: 0.1029\n",
      "['count_positive_english', 'num_of_other_amenities']: 0.1029\n",
      "['neighbourhood_cleansed', 'review_scores_location']: 0.1028\n",
      "['neighbourhood_cleansed', 'review_scores_accuracy']: 0.1028\n",
      "['bathrooms_text', 'total_reviews']: 0.1027\n",
      "['host_acceptance_rate', 'total_english_reviews']: 0.1027\n",
      "['neighbourhood_cleansed', 'total_english_reviews']: 0.1027\n",
      "['review_scores_checkin', 'total_english_reviews']: 0.1026\n",
      "['neighbourhood_cleansed', 'reviews_per_month']: 0.1026\n",
      "['room_type', 'total_bookings']: 0.1026\n",
      "['room_type', 'total_english_reviews']: 0.1026\n",
      "['mean_embedding', 'total_reviews']: 0.1026\n",
      "['host_verifications', 'review_scores_cleanliness']: 0.1026\n",
      "['neighbourhood_cleansed', 'count_positive_english']: 0.1026\n",
      "['total_bookings', 'count_positive_english']: 0.1026\n",
      "['review_scores_checkin', 'count_negative_english']: 0.1025\n",
      "['review_scores_communication', 'total_bookings']: 0.1025\n",
      "['neighbourhood_cleansed', 'review_scores_rating']: 0.1024\n",
      "['room_type', 'host_acceptance_rate']: 0.1024\n",
      "['bathrooms_text', 'count_negative_english']: 0.1024\n",
      "['instant_bookable', 'review_scores_rating']: 0.1024\n",
      "['price', 'review_scores_communication']: 0.1024\n",
      "['neighbourhood_cleansed', 'total_reviews']: 0.1024\n",
      "['room_type', 'latitude']: 0.1024\n",
      "['room_type', 'accommodates']: 0.1024\n",
      "['review_scores_rating', 'review_scores_checkin']: 0.1024\n",
      "['review_scores_communication', 'total_reviews']: 0.1024\n",
      "['review_scores_communication', 'count_negative_english']: 0.1024\n",
      "['neighbourhood_cleansed', 'latitude']: 0.1023\n",
      "['property_type', 'room_type']: 0.1023\n",
      "['longitude', 'review_scores_accuracy']: 0.1023\n",
      "['review_scores_checkin', 'reviews_per_month']: 0.1022\n",
      "['mean_embedding', 'review_scores_rating']: 0.1022\n",
      "['beds', 'review_scores_checkin']: 0.1022\n",
      "['host_verifications', 'review_scores_checkin']: 0.1021\n",
      "['review_scores_accuracy', 'count_negative_english']: 0.1021\n",
      "['review_scores_checkin', 'review_scores_communication']: 0.1021\n",
      "['review_scores_rating', 'num_of_other_amenities']: 0.1020\n",
      "['bathrooms_text']: 0.1020\n",
      "['room_type', 'total_reviews']: 0.1020\n",
      "['host_acceptance_rate', 'count_positive_english']: 0.1020\n",
      "['property_type', 'num_of_other_amenities']: 0.1020\n",
      "['bathrooms_text', 'mean_embedding']: 0.1019\n",
      "['bathrooms_text', 'total_bookings']: 0.1019\n",
      "['latitude', 'review_scores_accuracy']: 0.1019\n",
      "['longitude', 'accommodates']: 0.1019\n",
      "['review_scores_accuracy', 'reviews_per_month']: 0.1019\n",
      "['longitude', 'count_positive_english']: 0.1019\n",
      "['neighbourhood_cleansed', 'price']: 0.1018\n",
      "['bathrooms_text', 'num_of_other_amenities']: 0.1018\n",
      "['bathrooms_text', 'price']: 0.1017\n",
      "['bathrooms_text', 'review_scores_location']: 0.1017\n",
      "['review_scores_communication', 'reviews_per_month']: 0.1017\n",
      "['property_type', 'review_scores_accuracy']: 0.1017\n",
      "['longitude', 'num_of_other_amenities']: 0.1017\n",
      "['price', 'review_scores_rating']: 0.1017\n",
      "['room_type', 'review_scores_location']: 0.1017\n",
      "['review_scores_accuracy']: 0.1016\n",
      "['property_type', 'host_acceptance_rate']: 0.1016\n",
      "['instant_bookable', 'review_scores_accuracy']: 0.1016\n",
      "['review_scores_location', 'count_positive_english']: 0.1016\n",
      "['property_type', 'mean_embedding']: 0.1016\n",
      "['room_type', 'beds']: 0.1016\n",
      "['bathrooms_text', 'total_english_reviews']: 0.1016\n",
      "['neighbourhood_cleansed', 'beds']: 0.1016\n",
      "['total_reviews', 'count_positive_english']: 0.1016\n",
      "['bathrooms_text', 'num_of_amenities']: 0.1015\n",
      "['latitude', 'num_of_amenities']: 0.1015\n",
      "['reviews_per_month', 'num_of_other_amenities']: 0.1015\n",
      "['mean_embedding', 'review_scores_cleanliness']: 0.1015\n",
      "['review_scores_checkin', 'total_reviews']: 0.1015\n",
      "['count_positive_english']: 0.1014\n",
      "['neighbourhood_cleansed', 'accommodates']: 0.1014\n",
      "['total_reviews', 'num_of_amenities']: 0.1014\n",
      "['total_english_reviews', 'count_positive_english']: 0.1013\n",
      "['accommodates', 'review_scores_checkin']: 0.1013\n",
      "['longitude', 'review_scores_checkin']: 0.1012\n",
      "['review_scores_communication']: 0.1012\n",
      "['bathrooms_text', 'review_scores_rating']: 0.1012\n",
      "['property_type', 'total_bookings']: 0.1011\n",
      "['mean_embedding', 'reviews_per_month']: 0.1011\n",
      "['property_type', 'review_scores_communication']: 0.1010\n",
      "['count_positive_english', 'num_of_amenities']: 0.1010\n",
      "['latitude', 'review_scores_checkin']: 0.1010\n",
      "['bathrooms_text', 'instant_bookable']: 0.1009\n",
      "['review_scores_accuracy', 'count_positive_english']: 0.1009\n",
      "['review_scores_rating']: 0.1009\n",
      "['room_type', 'reviews_per_month']: 0.1007\n",
      "['room_type', 'price']: 0.1007\n",
      "['review_scores_accuracy', 'review_scores_location']: 0.1006\n",
      "['room_type', 'longitude']: 0.1005\n",
      "['longitude', 'review_scores_communication']: 0.1005\n",
      "['price', 'review_scores_accuracy']: 0.1005\n",
      "['review_scores_location', 'total_reviews']: 0.1005\n",
      "['room_type', 'count_negative_english']: 0.1005\n",
      "['review_scores_rating', 'review_scores_location']: 0.1004\n",
      "['count_negative_english', 'count_positive_english']: 0.1004\n",
      "['neighbourhood_cleansed', 'bathrooms_text']: 0.1004\n",
      "['accommodates']: 0.1004\n",
      "['reviews_per_month']: 0.1004\n",
      "['price', 'total_bookings']: 0.1004\n",
      "['price', 'total_english_reviews']: 0.1004\n",
      "['property_type', 'total_english_reviews']: 0.1003\n",
      "['accommodates', 'count_negative_english']: 0.1003\n",
      "['beds', 'review_scores_cleanliness']: 0.1003\n",
      "['reviews_per_month', 'count_positive_english']: 0.1003\n",
      "['reviews_per_month', 'total_bookings']: 0.1002\n",
      "['accommodates', 'review_scores_location']: 0.1002\n",
      "['review_scores_location', 'num_of_other_amenities']: 0.1001\n",
      "['review_scores_checkin', 'review_scores_location']: 0.1000\n",
      "['longitude']: 0.1000\n",
      "['beds', 'count_positive_english']: 0.0999\n",
      "['review_scores_accuracy', 'total_bookings']: 0.0999\n",
      "['property_type', 'count_positive_english']: 0.0999\n",
      "['review_scores_location', 'count_negative_english']: 0.0999\n",
      "['total_bookings', 'total_english_reviews']: 0.0999\n",
      "['review_scores_accuracy', 'total_reviews']: 0.0999\n",
      "['host_verifications', 'bathrooms_text']: 0.0998\n",
      "['neighbourhood_cleansed', 'instant_bookable']: 0.0998\n",
      "['longitude', 'total_bookings']: 0.0998\n",
      "['review_scores_checkin', 'total_bookings']: 0.0998\n",
      "['property_type', 'beds']: 0.0997\n",
      "['accommodates', 'total_bookings']: 0.0997\n",
      "['longitude', 'count_negative_english']: 0.0997\n",
      "['num_of_amenities', 'num_of_other_amenities']: 0.0997\n",
      "['host_verifications', 'accommodates']: 0.0997\n",
      "['bathrooms_text', 'review_scores_accuracy']: 0.0997\n",
      "['longitude', 'price']: 0.0997\n",
      "['reviews_per_month', 'total_english_reviews']: 0.0997\n",
      "['longitude', 'total_reviews']: 0.0996\n",
      "['accommodates', 'reviews_per_month']: 0.0996\n",
      "['beds', 'review_scores_accuracy']: 0.0996\n",
      "['accommodates', 'count_positive_english']: 0.0995\n",
      "['review_scores_rating', 'review_scores_accuracy']: 0.0995\n",
      "['review_scores_accuracy', 'num_of_amenities']: 0.0995\n",
      "['review_scores_communication', 'total_english_reviews']: 0.0995\n",
      "['beds', 'review_scores_communication']: 0.0995\n",
      "['num_of_other_amenities']: 0.0994\n",
      "['host_acceptance_rate', 'review_scores_checkin']: 0.0994\n",
      "['room_type', 'instant_bookable']: 0.0994\n",
      "['host_acceptance_rate']: 0.0994\n",
      "['instant_bookable', 'count_positive_english']: 0.0994\n",
      "['price', 'reviews_per_month']: 0.0994\n",
      "['host_verifications', 'count_positive_english']: 0.0994\n",
      "['host_verifications', 'count_negative_english']: 0.0993\n",
      "['longitude', 'total_english_reviews']: 0.0993\n",
      "['beds', 'review_scores_rating']: 0.0993\n",
      "['price', 'review_scores_checkin']: 0.0993\n",
      "['accommodates', 'total_english_reviews']: 0.0993\n",
      "['price', 'count_negative_english']: 0.0993\n",
      "['review_scores_location', 'total_english_reviews']: 0.0993\n",
      "['total_reviews', 'total_english_reviews']: 0.0993\n",
      "['count_negative_english', 'num_of_other_amenities']: 0.0992\n",
      "['mean_embedding', 'count_negative_english']: 0.0992\n",
      "['total_bookings']: 0.0992\n",
      "['latitude', 'total_reviews']: 0.0992\n",
      "['accommodates', 'beds']: 0.0992\n",
      "['beds', 'total_english_reviews']: 0.0992\n",
      "['host_verifications', 'review_scores_rating']: 0.0992\n",
      "['review_scores_rating', 'count_positive_english']: 0.0991\n",
      "['neighbourhood_cleansed', 'count_negative_english']: 0.0991\n",
      "['property_type', 'total_reviews']: 0.0991\n",
      "['host_acceptance_rate', 'review_scores_accuracy']: 0.0991\n",
      "['price', 'count_positive_english']: 0.0991\n",
      "['review_scores_location', 'reviews_per_month']: 0.0991\n",
      "['review_scores_location', 'total_bookings']: 0.0991\n",
      "['price', 'num_of_other_amenities']: 0.0991\n",
      "['review_scores_rating', 'total_english_reviews']: 0.0991\n",
      "['count_negative_english']: 0.0990\n",
      "['host_verifications', 'num_of_amenities']: 0.0990\n",
      "['neighbourhood_cleansed', 'num_of_other_amenities']: 0.0990\n",
      "['property_type', 'num_of_amenities']: 0.0990\n",
      "['beds', 'total_bookings']: 0.0990\n",
      "['total_reviews', 'count_negative_english']: 0.0990\n",
      "['latitude', 'reviews_per_month']: 0.0990\n",
      "['beds', 'count_negative_english']: 0.0990\n",
      "['review_scores_accuracy', 'num_of_other_amenities']: 0.0990\n",
      "['instant_bookable']: 0.0989\n",
      "['price']: 0.0989\n",
      "['host_verifications', 'mean_embedding']: 0.0989\n",
      "['latitude', 'total_english_reviews']: 0.0989\n",
      "['beds', 'review_scores_location']: 0.0989\n",
      "['host_acceptance_rate', 'num_of_other_amenities']: 0.0989\n",
      "['host_acceptance_rate', 'beds']: 0.0988\n",
      "['review_scores_communication', 'review_scores_location']: 0.0988\n",
      "['instant_bookable', 'count_negative_english']: 0.0988\n",
      "['latitude', 'count_positive_english']: 0.0988\n",
      "['total_bookings', 'count_negative_english']: 0.0988\n",
      "['total_english_reviews', 'count_negative_english']: 0.0988\n",
      "['review_scores_rating', 'reviews_per_month']: 0.0988\n",
      "['room_type', 'num_of_amenities']: 0.0988\n",
      "['instant_bookable', 'longitude']: 0.0988\n",
      "['total_english_reviews', 'num_of_amenities']: 0.0988\n",
      "['instant_bookable', 'total_english_reviews']: 0.0987\n",
      "['latitude', 'count_negative_english']: 0.0987\n",
      "['review_scores_rating', 'total_reviews']: 0.0987\n",
      "['reviews_per_month', 'count_negative_english']: 0.0987\n",
      "['review_scores_location']: 0.0986\n",
      "['host_acceptance_rate', 'total_reviews']: 0.0986\n",
      "['host_acceptance_rate', 'count_negative_english']: 0.0986\n",
      "['reviews_per_month', 'total_reviews']: 0.0986\n",
      "['total_english_reviews']: 0.0985\n",
      "['property_type', 'instant_bookable']: 0.0985\n",
      "['instant_bookable', 'total_reviews']: 0.0985\n",
      "['latitude', 'accommodates']: 0.0985\n",
      "['accommodates', 'price']: 0.0985\n",
      "['price', 'review_scores_location']: 0.0985\n",
      "['total_bookings', 'num_of_amenities']: 0.0985\n",
      "['room_type']: 0.0985\n",
      "['total_reviews']: 0.0985\n",
      "['host_verifications', 'reviews_per_month']: 0.0985\n",
      "['bathrooms_text', 'accommodates']: 0.0985\n",
      "['bathrooms_text', 'beds']: 0.0985\n",
      "['host_acceptance_rate', 'reviews_per_month']: 0.0985\n",
      "['beds', 'reviews_per_month']: 0.0985\n",
      "['price', 'total_reviews']: 0.0985\n",
      "['review_scores_rating', 'count_negative_english']: 0.0985\n",
      "['instant_bookable', 'price']: 0.0984\n",
      "['instant_bookable', 'reviews_per_month']: 0.0984\n",
      "['instant_bookable', 'total_bookings']: 0.0984\n",
      "['mean_embedding', 'num_of_amenities']: 0.0984\n",
      "['host_acceptance_rate', 'accommodates']: 0.0984\n",
      "['host_acceptance_rate', 'total_bookings']: 0.0984\n",
      "['review_scores_accuracy', 'total_english_reviews']: 0.0983\n",
      "['instant_bookable', 'review_scores_location']: 0.0983\n",
      "['accommodates', 'num_of_other_amenities']: 0.0983\n",
      "['beds']: 0.0983\n",
      "['host_verifications', 'longitude']: 0.0983\n",
      "['longitude', 'review_scores_location']: 0.0983\n",
      "['accommodates', 'num_of_amenities']: 0.0983\n",
      "['review_scores_location', 'num_of_amenities']: 0.0983\n",
      "['property_type', 'review_scores_checkin']: 0.0982\n",
      "['host_verifications', 'latitude']: 0.0982\n",
      "['instant_bookable', 'mean_embedding']: 0.0981\n",
      "['instant_bookable', 'host_acceptance_rate']: 0.0981\n",
      "['host_acceptance_rate', 'price']: 0.0981\n",
      "['longitude', 'reviews_per_month']: 0.0981\n",
      "['beds', 'price']: 0.0981\n",
      "['mean_embedding', 'beds']: 0.0981\n",
      "['mean_embedding', 'total_english_reviews']: 0.0981\n",
      "['instant_bookable', 'latitude']: 0.0980\n",
      "['latitude', 'longitude']: 0.0980\n",
      "['host_verifications', 'price']: 0.0980\n",
      "['host_acceptance_rate', 'longitude']: 0.0980\n",
      "['host_verifications', 'review_scores_communication']: 0.0980\n",
      "['property_type', 'longitude']: 0.0979\n",
      "['bathrooms_text', 'reviews_per_month']: 0.0979\n",
      "['neighbourhood_cleansed', 'host_acceptance_rate']: 0.0979\n",
      "['latitude']: 0.0978\n",
      "['instant_bookable', 'num_of_amenities']: 0.0978\n",
      "['beds', 'num_of_amenities']: 0.0978\n",
      "['mean_embedding']: 0.0978\n",
      "['host_verifications', 'total_bookings']: 0.0977\n",
      "['property_type', 'review_scores_location']: 0.0977\n",
      "['bathrooms_text', 'host_acceptance_rate']: 0.0976\n",
      "['accommodates', 'total_reviews']: 0.0976\n",
      "['property_type', 'price']: 0.0976\n",
      "['host_verifications', 'review_scores_accuracy']: 0.0976\n",
      "['host_verifications', 'total_english_reviews']: 0.0976\n",
      "['property_type', 'count_negative_english']: 0.0975\n",
      "['instant_bookable', 'review_scores_communication']: 0.0975\n",
      "['host_acceptance_rate', 'review_scores_location']: 0.0975\n",
      "['host_acceptance_rate', 'num_of_amenities']: 0.0975\n",
      "['instant_bookable', 'accommodates']: 0.0974\n",
      "['beds', 'total_reviews']: 0.0974\n",
      "['total_english_reviews', 'num_of_other_amenities']: 0.0974\n",
      "['host_verifications', 'neighbourhood_cleansed']: 0.0974\n",
      "['host_verifications', 'review_scores_location']: 0.0974\n",
      "['reviews_per_month', 'num_of_amenities']: 0.0973\n",
      "['host_verifications', 'beds']: 0.0973\n",
      "['longitude', 'beds']: 0.0973\n",
      "['host_acceptance_rate', 'review_scores_rating']: 0.0972\n",
      "['host_verifications', 'instant_bookable']: 0.0972\n",
      "['latitude', 'beds']: 0.0972\n",
      "['total_reviews', 'num_of_other_amenities']: 0.0972\n",
      "['review_scores_checkin']: 0.0972\n",
      "['instant_bookable', 'beds']: 0.0971\n",
      "['total_bookings', 'total_reviews']: 0.0971\n",
      "['latitude', 'num_of_other_amenities']: 0.0971\n",
      "['mean_embedding', 'num_of_other_amenities']: 0.0971\n",
      "['latitude', 'total_bookings']: 0.0969\n",
      "['mean_embedding', 'accommodates']: 0.0969\n",
      "['neighbourhood_cleansed']: 0.0968\n",
      "['property_type']: 0.0968\n",
      "['latitude', 'price']: 0.0968\n",
      "['longitude', 'num_of_amenities']: 0.0968\n",
      "['host_verifications']: 0.0967\n",
      "['host_verifications', 'total_reviews']: 0.0966\n",
      "['price', 'num_of_amenities']: 0.0966\n",
      "['beds', 'num_of_other_amenities']: 0.0965\n",
      "['latitude', 'review_scores_location']: 0.0965\n",
      "['latitude', 'review_scores_rating']: 0.0964\n",
      "['total_bookings', 'num_of_other_amenities']: 0.0964\n",
      "['count_negative_english', 'num_of_amenities']: 0.0963\n",
      "['mean_embedding', 'longitude']: 0.0963\n",
      "['mean_embedding', 'review_scores_location']: 0.0963\n",
      "['mean_embedding', 'latitude']: 0.0962\n",
      "['host_verifications', 'property_type']: 0.0961\n",
      "['room_type', 'mean_embedding']: 0.0958\n",
      "['host_verifications', 'num_of_other_amenities']: 0.0957\n",
      "['num_of_amenities']: 0.0957\n",
      "['instant_bookable', 'review_scores_checkin']: 0.0956\n",
      "['host_verifications', 'host_acceptance_rate']: 0.0955\n",
      "['instant_bookable', 'num_of_other_amenities']: 0.0954\n",
      "['mean_embedding', 'price']: 0.0952\n",
      "['longitude', 'review_scores_rating']: 0.0950\n",
      "['host_acceptance_rate', 'latitude']: 0.0947\n",
      "['mean_embedding', 'count_positive_english']: 0.0939\n",
      "['mean_embedding', 'host_acceptance_rate']: 0.0934\n",
      "['mean_embedding', 'total_bookings']: 0.0922\n",
      "['mean_embedding', 'review_scores_accuracy']: 0.0916\n"
     ]
    }
   ],
   "source": [
    "print(\"\\nPermutation Feature Importances (by ROC AUC drop):\")\n",
    "for col, drop in importances:\n",
    "    print(f\"{col}: {drop:.4f}\")"
   ]
  },
  {
   "cell_type": "markdown",
   "id": "14da3769",
   "metadata": {},
   "source": [
    "## XGBoost - OHE"
   ]
  },
  {
   "cell_type": "code",
   "execution_count": 84,
   "id": "0f5af3c4",
   "metadata": {},
   "outputs": [
    {
     "data": {
      "text/html": [
       "<div>\n",
       "<style scoped>\n",
       "    .dataframe tbody tr th:only-of-type {\n",
       "        vertical-align: middle;\n",
       "    }\n",
       "\n",
       "    .dataframe tbody tr th {\n",
       "        vertical-align: top;\n",
       "    }\n",
       "\n",
       "    .dataframe thead th {\n",
       "        text-align: right;\n",
       "    }\n",
       "</style>\n",
       "<table border=\"1\" class=\"dataframe\">\n",
       "  <thead>\n",
       "    <tr style=\"text-align: right;\">\n",
       "      <th></th>\n",
       "      <th>host_is_superhost</th>\n",
       "      <th>host_verifications</th>\n",
       "      <th>host_acceptance_rate</th>\n",
       "      <th>latitude</th>\n",
       "      <th>longitude</th>\n",
       "      <th>property_type</th>\n",
       "      <th>room_type</th>\n",
       "      <th>accommodates</th>\n",
       "      <th>bathrooms</th>\n",
       "      <th>bathrooms_text</th>\n",
       "      <th>...</th>\n",
       "      <th>target</th>\n",
       "      <th>total_reviews</th>\n",
       "      <th>total_english_reviews</th>\n",
       "      <th>count_negative_english</th>\n",
       "      <th>count_positive_english</th>\n",
       "      <th>num_of_amenities</th>\n",
       "      <th>num_of_other_amenities</th>\n",
       "      <th>has_wifi</th>\n",
       "      <th>has_air_conditioning</th>\n",
       "      <th>num_of_top_10_common_amenities</th>\n",
       "    </tr>\n",
       "  </thead>\n",
       "  <tbody>\n",
       "    <tr>\n",
       "      <th>0</th>\n",
       "      <td>t</td>\n",
       "      <td>['email', 'phone']</td>\n",
       "      <td>100.0</td>\n",
       "      <td>37.98924</td>\n",
       "      <td>23.76500</td>\n",
       "      <td>Entire rental unit</td>\n",
       "      <td>Entire home/apt</td>\n",
       "      <td>2</td>\n",
       "      <td>1.0</td>\n",
       "      <td>1 bath</td>\n",
       "      <td>...</td>\n",
       "      <td>short</td>\n",
       "      <td>29.0</td>\n",
       "      <td>17.0</td>\n",
       "      <td>0.0</td>\n",
       "      <td>17.0</td>\n",
       "      <td>37</td>\n",
       "      <td>25</td>\n",
       "      <td>True</td>\n",
       "      <td>False</td>\n",
       "      <td>9</td>\n",
       "    </tr>\n",
       "    <tr>\n",
       "      <th>1</th>\n",
       "      <td>f</td>\n",
       "      <td>['email', 'phone']</td>\n",
       "      <td>96.0</td>\n",
       "      <td>37.96215</td>\n",
       "      <td>23.72179</td>\n",
       "      <td>Entire rental unit</td>\n",
       "      <td>Entire home/apt</td>\n",
       "      <td>4</td>\n",
       "      <td>1.0</td>\n",
       "      <td>1 bath</td>\n",
       "      <td>...</td>\n",
       "      <td>short</td>\n",
       "      <td>97.0</td>\n",
       "      <td>82.0</td>\n",
       "      <td>0.0</td>\n",
       "      <td>82.0</td>\n",
       "      <td>21</td>\n",
       "      <td>12</td>\n",
       "      <td>True</td>\n",
       "      <td>True</td>\n",
       "      <td>7</td>\n",
       "    </tr>\n",
       "    <tr>\n",
       "      <th>2</th>\n",
       "      <td>t</td>\n",
       "      <td>['email', 'phone', 'work_email']</td>\n",
       "      <td>97.0</td>\n",
       "      <td>37.95523</td>\n",
       "      <td>23.72443</td>\n",
       "      <td>Entire condo</td>\n",
       "      <td>Entire home/apt</td>\n",
       "      <td>3</td>\n",
       "      <td>1.0</td>\n",
       "      <td>1 bath</td>\n",
       "      <td>...</td>\n",
       "      <td>long</td>\n",
       "      <td>40.0</td>\n",
       "      <td>31.0</td>\n",
       "      <td>0.0</td>\n",
       "      <td>31.0</td>\n",
       "      <td>49</td>\n",
       "      <td>29</td>\n",
       "      <td>True</td>\n",
       "      <td>True</td>\n",
       "      <td>12</td>\n",
       "    </tr>\n",
       "    <tr>\n",
       "      <th>3</th>\n",
       "      <td>f</td>\n",
       "      <td>['email']</td>\n",
       "      <td>0.0</td>\n",
       "      <td>37.99745</td>\n",
       "      <td>23.73973</td>\n",
       "      <td>Entire rental unit</td>\n",
       "      <td>Entire home/apt</td>\n",
       "      <td>2</td>\n",
       "      <td>1.0</td>\n",
       "      <td>1 bath</td>\n",
       "      <td>...</td>\n",
       "      <td>short</td>\n",
       "      <td>18.0</td>\n",
       "      <td>17.0</td>\n",
       "      <td>1.0</td>\n",
       "      <td>16.0</td>\n",
       "      <td>20</td>\n",
       "      <td>13</td>\n",
       "      <td>True</td>\n",
       "      <td>True</td>\n",
       "      <td>6</td>\n",
       "    </tr>\n",
       "    <tr>\n",
       "      <th>4</th>\n",
       "      <td>t</td>\n",
       "      <td>['email', 'phone']</td>\n",
       "      <td>100.0</td>\n",
       "      <td>37.98844</td>\n",
       "      <td>23.73845</td>\n",
       "      <td>Entire rental unit</td>\n",
       "      <td>Entire home/apt</td>\n",
       "      <td>2</td>\n",
       "      <td>1.0</td>\n",
       "      <td>1 bath</td>\n",
       "      <td>...</td>\n",
       "      <td>long</td>\n",
       "      <td>515.0</td>\n",
       "      <td>423.0</td>\n",
       "      <td>3.0</td>\n",
       "      <td>420.0</td>\n",
       "      <td>45</td>\n",
       "      <td>31</td>\n",
       "      <td>True</td>\n",
       "      <td>True</td>\n",
       "      <td>9</td>\n",
       "    </tr>\n",
       "  </tbody>\n",
       "</table>\n",
       "<p>5 rows × 35 columns</p>\n",
       "</div>"
      ],
      "text/plain": [
       "  host_is_superhost                host_verifications  host_acceptance_rate  \\\n",
       "0                 t                ['email', 'phone']                 100.0   \n",
       "1                 f                ['email', 'phone']                  96.0   \n",
       "2                 t  ['email', 'phone', 'work_email']                  97.0   \n",
       "3                 f                         ['email']                   0.0   \n",
       "4                 t                ['email', 'phone']                 100.0   \n",
       "\n",
       "   latitude  longitude       property_type        room_type  accommodates  \\\n",
       "0  37.98924   23.76500  Entire rental unit  Entire home/apt             2   \n",
       "1  37.96215   23.72179  Entire rental unit  Entire home/apt             4   \n",
       "2  37.95523   23.72443        Entire condo  Entire home/apt             3   \n",
       "3  37.99745   23.73973  Entire rental unit  Entire home/apt             2   \n",
       "4  37.98844   23.73845  Entire rental unit  Entire home/apt             2   \n",
       "\n",
       "   bathrooms bathrooms_text  ...  target  total_reviews  \\\n",
       "0        1.0         1 bath  ...   short           29.0   \n",
       "1        1.0         1 bath  ...   short           97.0   \n",
       "2        1.0         1 bath  ...    long           40.0   \n",
       "3        1.0         1 bath  ...   short           18.0   \n",
       "4        1.0         1 bath  ...    long          515.0   \n",
       "\n",
       "   total_english_reviews  count_negative_english  count_positive_english  \\\n",
       "0                   17.0                     0.0                    17.0   \n",
       "1                   82.0                     0.0                    82.0   \n",
       "2                   31.0                     0.0                    31.0   \n",
       "3                   17.0                     1.0                    16.0   \n",
       "4                  423.0                     3.0                   420.0   \n",
       "\n",
       "   num_of_amenities  num_of_other_amenities  has_wifi  has_air_conditioning  \\\n",
       "0                37                      25      True                 False   \n",
       "1                21                      12      True                  True   \n",
       "2                49                      29      True                  True   \n",
       "3                20                      13      True                  True   \n",
       "4                45                      31      True                  True   \n",
       "\n",
       "   num_of_top_10_common_amenities  \n",
       "0                               9  \n",
       "1                               7  \n",
       "2                              12  \n",
       "3                               6  \n",
       "4                               9  \n",
       "\n",
       "[5 rows x 35 columns]"
      ]
     },
     "execution_count": 84,
     "metadata": {},
     "output_type": "execute_result"
    }
   ],
   "source": [
    "final_df_ohe.head(5)\n"
   ]
  },
  {
   "cell_type": "code",
   "execution_count": 87,
   "id": "059cee00",
   "metadata": {},
   "outputs": [
    {
     "data": {
      "text/plain": [
       "0    short\n",
       "1    short\n",
       "2     long\n",
       "3    short\n",
       "4     long\n",
       "Name: target, dtype: object"
      ]
     },
     "execution_count": 87,
     "metadata": {},
     "output_type": "execute_result"
    }
   ],
   "source": [
    "ohe_df = pd.get_dummies(final_df_ohe, columns=non_numerical_columns)\n",
    "ohe_df[\"target\"].head(5)"
   ]
  },
  {
   "cell_type": "code",
   "execution_count": 88,
   "id": "39d3f2c0",
   "metadata": {},
   "outputs": [],
   "source": [
    "def clean_column_names(df):\n",
    "    df_cleaned = df.copy()\n",
    "\n",
    "    new_columns = {}\n",
    "    for col in df_cleaned.columns:\n",
    "        if any(char in str(col) for char in ['[', ']', '<', '>']):\n",
    "            new_col = str(col)\n",
    "            if '[]' in new_col:\n",
    "                new_col = new_col.replace('[]', '')\n",
    "            else:\n",
    "                new_col = new_col.replace('[', '_').replace(']', '_').replace(\"'\", \"\").replace(', ', '_')\n",
    "\n",
    "            while '__' in new_col:\n",
    "                new_col = new_col.replace('__', '_')\n",
    "\n",
    "            new_col = new_col.rstrip('_')\n",
    "\n",
    "            new_columns[col] = new_col\n",
    "\n",
    "    df_cleaned = df_cleaned.rename(columns=new_columns)\n",
    "    return df_cleaned\n",
    "\n",
    "df_cleaned = clean_column_names(ohe_df)\n"
   ]
  },
  {
   "cell_type": "code",
   "execution_count": 89,
   "id": "4bb19d95",
   "metadata": {},
   "outputs": [],
   "source": [
    "x_train, x_test, y_train, y_test = train_test_split_data(\n",
    "    df_cleaned,\n",
    "    test_size=0.2,\n",
    "    target_column='target'\n",
    ")"
   ]
  },
  {
   "cell_type": "code",
   "execution_count": 90,
   "id": "e987c852",
   "metadata": {},
   "outputs": [
    {
     "data": {
      "text/html": [
       "<style>#sk-container-id-1 {\n",
       "  /* Definition of color scheme common for light and dark mode */\n",
       "  --sklearn-color-text: #000;\n",
       "  --sklearn-color-text-muted: #666;\n",
       "  --sklearn-color-line: gray;\n",
       "  /* Definition of color scheme for unfitted estimators */\n",
       "  --sklearn-color-unfitted-level-0: #fff5e6;\n",
       "  --sklearn-color-unfitted-level-1: #f6e4d2;\n",
       "  --sklearn-color-unfitted-level-2: #ffe0b3;\n",
       "  --sklearn-color-unfitted-level-3: chocolate;\n",
       "  /* Definition of color scheme for fitted estimators */\n",
       "  --sklearn-color-fitted-level-0: #f0f8ff;\n",
       "  --sklearn-color-fitted-level-1: #d4ebff;\n",
       "  --sklearn-color-fitted-level-2: #b3dbfd;\n",
       "  --sklearn-color-fitted-level-3: cornflowerblue;\n",
       "\n",
       "  /* Specific color for light theme */\n",
       "  --sklearn-color-text-on-default-background: var(--sg-text-color, var(--theme-code-foreground, var(--jp-content-font-color1, black)));\n",
       "  --sklearn-color-background: var(--sg-background-color, var(--theme-background, var(--jp-layout-color0, white)));\n",
       "  --sklearn-color-border-box: var(--sg-text-color, var(--theme-code-foreground, var(--jp-content-font-color1, black)));\n",
       "  --sklearn-color-icon: #696969;\n",
       "\n",
       "  @media (prefers-color-scheme: dark) {\n",
       "    /* Redefinition of color scheme for dark theme */\n",
       "    --sklearn-color-text-on-default-background: var(--sg-text-color, var(--theme-code-foreground, var(--jp-content-font-color1, white)));\n",
       "    --sklearn-color-background: var(--sg-background-color, var(--theme-background, var(--jp-layout-color0, #111)));\n",
       "    --sklearn-color-border-box: var(--sg-text-color, var(--theme-code-foreground, var(--jp-content-font-color1, white)));\n",
       "    --sklearn-color-icon: #878787;\n",
       "  }\n",
       "}\n",
       "\n",
       "#sk-container-id-1 {\n",
       "  color: var(--sklearn-color-text);\n",
       "}\n",
       "\n",
       "#sk-container-id-1 pre {\n",
       "  padding: 0;\n",
       "}\n",
       "\n",
       "#sk-container-id-1 input.sk-hidden--visually {\n",
       "  border: 0;\n",
       "  clip: rect(1px 1px 1px 1px);\n",
       "  clip: rect(1px, 1px, 1px, 1px);\n",
       "  height: 1px;\n",
       "  margin: -1px;\n",
       "  overflow: hidden;\n",
       "  padding: 0;\n",
       "  position: absolute;\n",
       "  width: 1px;\n",
       "}\n",
       "\n",
       "#sk-container-id-1 div.sk-dashed-wrapped {\n",
       "  border: 1px dashed var(--sklearn-color-line);\n",
       "  margin: 0 0.4em 0.5em 0.4em;\n",
       "  box-sizing: border-box;\n",
       "  padding-bottom: 0.4em;\n",
       "  background-color: var(--sklearn-color-background);\n",
       "}\n",
       "\n",
       "#sk-container-id-1 div.sk-container {\n",
       "  /* jupyter's `normalize.less` sets `[hidden] { display: none; }`\n",
       "     but bootstrap.min.css set `[hidden] { display: none !important; }`\n",
       "     so we also need the `!important` here to be able to override the\n",
       "     default hidden behavior on the sphinx rendered scikit-learn.org.\n",
       "     See: https://github.com/scikit-learn/scikit-learn/issues/21755 */\n",
       "  display: inline-block !important;\n",
       "  position: relative;\n",
       "}\n",
       "\n",
       "#sk-container-id-1 div.sk-text-repr-fallback {\n",
       "  display: none;\n",
       "}\n",
       "\n",
       "div.sk-parallel-item,\n",
       "div.sk-serial,\n",
       "div.sk-item {\n",
       "  /* draw centered vertical line to link estimators */\n",
       "  background-image: linear-gradient(var(--sklearn-color-text-on-default-background), var(--sklearn-color-text-on-default-background));\n",
       "  background-size: 2px 100%;\n",
       "  background-repeat: no-repeat;\n",
       "  background-position: center center;\n",
       "}\n",
       "\n",
       "/* Parallel-specific style estimator block */\n",
       "\n",
       "#sk-container-id-1 div.sk-parallel-item::after {\n",
       "  content: \"\";\n",
       "  width: 100%;\n",
       "  border-bottom: 2px solid var(--sklearn-color-text-on-default-background);\n",
       "  flex-grow: 1;\n",
       "}\n",
       "\n",
       "#sk-container-id-1 div.sk-parallel {\n",
       "  display: flex;\n",
       "  align-items: stretch;\n",
       "  justify-content: center;\n",
       "  background-color: var(--sklearn-color-background);\n",
       "  position: relative;\n",
       "}\n",
       "\n",
       "#sk-container-id-1 div.sk-parallel-item {\n",
       "  display: flex;\n",
       "  flex-direction: column;\n",
       "}\n",
       "\n",
       "#sk-container-id-1 div.sk-parallel-item:first-child::after {\n",
       "  align-self: flex-end;\n",
       "  width: 50%;\n",
       "}\n",
       "\n",
       "#sk-container-id-1 div.sk-parallel-item:last-child::after {\n",
       "  align-self: flex-start;\n",
       "  width: 50%;\n",
       "}\n",
       "\n",
       "#sk-container-id-1 div.sk-parallel-item:only-child::after {\n",
       "  width: 0;\n",
       "}\n",
       "\n",
       "/* Serial-specific style estimator block */\n",
       "\n",
       "#sk-container-id-1 div.sk-serial {\n",
       "  display: flex;\n",
       "  flex-direction: column;\n",
       "  align-items: center;\n",
       "  background-color: var(--sklearn-color-background);\n",
       "  padding-right: 1em;\n",
       "  padding-left: 1em;\n",
       "}\n",
       "\n",
       "\n",
       "/* Toggleable style: style used for estimator/Pipeline/ColumnTransformer box that is\n",
       "clickable and can be expanded/collapsed.\n",
       "- Pipeline and ColumnTransformer use this feature and define the default style\n",
       "- Estimators will overwrite some part of the style using the `sk-estimator` class\n",
       "*/\n",
       "\n",
       "/* Pipeline and ColumnTransformer style (default) */\n",
       "\n",
       "#sk-container-id-1 div.sk-toggleable {\n",
       "  /* Default theme specific background. It is overwritten whether we have a\n",
       "  specific estimator or a Pipeline/ColumnTransformer */\n",
       "  background-color: var(--sklearn-color-background);\n",
       "}\n",
       "\n",
       "/* Toggleable label */\n",
       "#sk-container-id-1 label.sk-toggleable__label {\n",
       "  cursor: pointer;\n",
       "  display: flex;\n",
       "  width: 100%;\n",
       "  margin-bottom: 0;\n",
       "  padding: 0.5em;\n",
       "  box-sizing: border-box;\n",
       "  text-align: center;\n",
       "  align-items: start;\n",
       "  justify-content: space-between;\n",
       "  gap: 0.5em;\n",
       "}\n",
       "\n",
       "#sk-container-id-1 label.sk-toggleable__label .caption {\n",
       "  font-size: 0.6rem;\n",
       "  font-weight: lighter;\n",
       "  color: var(--sklearn-color-text-muted);\n",
       "}\n",
       "\n",
       "#sk-container-id-1 label.sk-toggleable__label-arrow:before {\n",
       "  /* Arrow on the left of the label */\n",
       "  content: \"▸\";\n",
       "  float: left;\n",
       "  margin-right: 0.25em;\n",
       "  color: var(--sklearn-color-icon);\n",
       "}\n",
       "\n",
       "#sk-container-id-1 label.sk-toggleable__label-arrow:hover:before {\n",
       "  color: var(--sklearn-color-text);\n",
       "}\n",
       "\n",
       "/* Toggleable content - dropdown */\n",
       "\n",
       "#sk-container-id-1 div.sk-toggleable__content {\n",
       "  max-height: 0;\n",
       "  max-width: 0;\n",
       "  overflow: hidden;\n",
       "  text-align: left;\n",
       "  /* unfitted */\n",
       "  background-color: var(--sklearn-color-unfitted-level-0);\n",
       "}\n",
       "\n",
       "#sk-container-id-1 div.sk-toggleable__content.fitted {\n",
       "  /* fitted */\n",
       "  background-color: var(--sklearn-color-fitted-level-0);\n",
       "}\n",
       "\n",
       "#sk-container-id-1 div.sk-toggleable__content pre {\n",
       "  margin: 0.2em;\n",
       "  border-radius: 0.25em;\n",
       "  color: var(--sklearn-color-text);\n",
       "  /* unfitted */\n",
       "  background-color: var(--sklearn-color-unfitted-level-0);\n",
       "}\n",
       "\n",
       "#sk-container-id-1 div.sk-toggleable__content.fitted pre {\n",
       "  /* unfitted */\n",
       "  background-color: var(--sklearn-color-fitted-level-0);\n",
       "}\n",
       "\n",
       "#sk-container-id-1 input.sk-toggleable__control:checked~div.sk-toggleable__content {\n",
       "  /* Expand drop-down */\n",
       "  max-height: 200px;\n",
       "  max-width: 100%;\n",
       "  overflow: auto;\n",
       "}\n",
       "\n",
       "#sk-container-id-1 input.sk-toggleable__control:checked~label.sk-toggleable__label-arrow:before {\n",
       "  content: \"▾\";\n",
       "}\n",
       "\n",
       "/* Pipeline/ColumnTransformer-specific style */\n",
       "\n",
       "#sk-container-id-1 div.sk-label input.sk-toggleable__control:checked~label.sk-toggleable__label {\n",
       "  color: var(--sklearn-color-text);\n",
       "  background-color: var(--sklearn-color-unfitted-level-2);\n",
       "}\n",
       "\n",
       "#sk-container-id-1 div.sk-label.fitted input.sk-toggleable__control:checked~label.sk-toggleable__label {\n",
       "  background-color: var(--sklearn-color-fitted-level-2);\n",
       "}\n",
       "\n",
       "/* Estimator-specific style */\n",
       "\n",
       "/* Colorize estimator box */\n",
       "#sk-container-id-1 div.sk-estimator input.sk-toggleable__control:checked~label.sk-toggleable__label {\n",
       "  /* unfitted */\n",
       "  background-color: var(--sklearn-color-unfitted-level-2);\n",
       "}\n",
       "\n",
       "#sk-container-id-1 div.sk-estimator.fitted input.sk-toggleable__control:checked~label.sk-toggleable__label {\n",
       "  /* fitted */\n",
       "  background-color: var(--sklearn-color-fitted-level-2);\n",
       "}\n",
       "\n",
       "#sk-container-id-1 div.sk-label label.sk-toggleable__label,\n",
       "#sk-container-id-1 div.sk-label label {\n",
       "  /* The background is the default theme color */\n",
       "  color: var(--sklearn-color-text-on-default-background);\n",
       "}\n",
       "\n",
       "/* On hover, darken the color of the background */\n",
       "#sk-container-id-1 div.sk-label:hover label.sk-toggleable__label {\n",
       "  color: var(--sklearn-color-text);\n",
       "  background-color: var(--sklearn-color-unfitted-level-2);\n",
       "}\n",
       "\n",
       "/* Label box, darken color on hover, fitted */\n",
       "#sk-container-id-1 div.sk-label.fitted:hover label.sk-toggleable__label.fitted {\n",
       "  color: var(--sklearn-color-text);\n",
       "  background-color: var(--sklearn-color-fitted-level-2);\n",
       "}\n",
       "\n",
       "/* Estimator label */\n",
       "\n",
       "#sk-container-id-1 div.sk-label label {\n",
       "  font-family: monospace;\n",
       "  font-weight: bold;\n",
       "  display: inline-block;\n",
       "  line-height: 1.2em;\n",
       "}\n",
       "\n",
       "#sk-container-id-1 div.sk-label-container {\n",
       "  text-align: center;\n",
       "}\n",
       "\n",
       "/* Estimator-specific */\n",
       "#sk-container-id-1 div.sk-estimator {\n",
       "  font-family: monospace;\n",
       "  border: 1px dotted var(--sklearn-color-border-box);\n",
       "  border-radius: 0.25em;\n",
       "  box-sizing: border-box;\n",
       "  margin-bottom: 0.5em;\n",
       "  /* unfitted */\n",
       "  background-color: var(--sklearn-color-unfitted-level-0);\n",
       "}\n",
       "\n",
       "#sk-container-id-1 div.sk-estimator.fitted {\n",
       "  /* fitted */\n",
       "  background-color: var(--sklearn-color-fitted-level-0);\n",
       "}\n",
       "\n",
       "/* on hover */\n",
       "#sk-container-id-1 div.sk-estimator:hover {\n",
       "  /* unfitted */\n",
       "  background-color: var(--sklearn-color-unfitted-level-2);\n",
       "}\n",
       "\n",
       "#sk-container-id-1 div.sk-estimator.fitted:hover {\n",
       "  /* fitted */\n",
       "  background-color: var(--sklearn-color-fitted-level-2);\n",
       "}\n",
       "\n",
       "/* Specification for estimator info (e.g. \"i\" and \"?\") */\n",
       "\n",
       "/* Common style for \"i\" and \"?\" */\n",
       "\n",
       ".sk-estimator-doc-link,\n",
       "a:link.sk-estimator-doc-link,\n",
       "a:visited.sk-estimator-doc-link {\n",
       "  float: right;\n",
       "  font-size: smaller;\n",
       "  line-height: 1em;\n",
       "  font-family: monospace;\n",
       "  background-color: var(--sklearn-color-background);\n",
       "  border-radius: 1em;\n",
       "  height: 1em;\n",
       "  width: 1em;\n",
       "  text-decoration: none !important;\n",
       "  margin-left: 0.5em;\n",
       "  text-align: center;\n",
       "  /* unfitted */\n",
       "  border: var(--sklearn-color-unfitted-level-1) 1pt solid;\n",
       "  color: var(--sklearn-color-unfitted-level-1);\n",
       "}\n",
       "\n",
       ".sk-estimator-doc-link.fitted,\n",
       "a:link.sk-estimator-doc-link.fitted,\n",
       "a:visited.sk-estimator-doc-link.fitted {\n",
       "  /* fitted */\n",
       "  border: var(--sklearn-color-fitted-level-1) 1pt solid;\n",
       "  color: var(--sklearn-color-fitted-level-1);\n",
       "}\n",
       "\n",
       "/* On hover */\n",
       "div.sk-estimator:hover .sk-estimator-doc-link:hover,\n",
       ".sk-estimator-doc-link:hover,\n",
       "div.sk-label-container:hover .sk-estimator-doc-link:hover,\n",
       ".sk-estimator-doc-link:hover {\n",
       "  /* unfitted */\n",
       "  background-color: var(--sklearn-color-unfitted-level-3);\n",
       "  color: var(--sklearn-color-background);\n",
       "  text-decoration: none;\n",
       "}\n",
       "\n",
       "div.sk-estimator.fitted:hover .sk-estimator-doc-link.fitted:hover,\n",
       ".sk-estimator-doc-link.fitted:hover,\n",
       "div.sk-label-container:hover .sk-estimator-doc-link.fitted:hover,\n",
       ".sk-estimator-doc-link.fitted:hover {\n",
       "  /* fitted */\n",
       "  background-color: var(--sklearn-color-fitted-level-3);\n",
       "  color: var(--sklearn-color-background);\n",
       "  text-decoration: none;\n",
       "}\n",
       "\n",
       "/* Span, style for the box shown on hovering the info icon */\n",
       ".sk-estimator-doc-link span {\n",
       "  display: none;\n",
       "  z-index: 9999;\n",
       "  position: relative;\n",
       "  font-weight: normal;\n",
       "  right: .2ex;\n",
       "  padding: .5ex;\n",
       "  margin: .5ex;\n",
       "  width: min-content;\n",
       "  min-width: 20ex;\n",
       "  max-width: 50ex;\n",
       "  color: var(--sklearn-color-text);\n",
       "  box-shadow: 2pt 2pt 4pt #999;\n",
       "  /* unfitted */\n",
       "  background: var(--sklearn-color-unfitted-level-0);\n",
       "  border: .5pt solid var(--sklearn-color-unfitted-level-3);\n",
       "}\n",
       "\n",
       ".sk-estimator-doc-link.fitted span {\n",
       "  /* fitted */\n",
       "  background: var(--sklearn-color-fitted-level-0);\n",
       "  border: var(--sklearn-color-fitted-level-3);\n",
       "}\n",
       "\n",
       ".sk-estimator-doc-link:hover span {\n",
       "  display: block;\n",
       "}\n",
       "\n",
       "/* \"?\"-specific style due to the `<a>` HTML tag */\n",
       "\n",
       "#sk-container-id-1 a.estimator_doc_link {\n",
       "  float: right;\n",
       "  font-size: 1rem;\n",
       "  line-height: 1em;\n",
       "  font-family: monospace;\n",
       "  background-color: var(--sklearn-color-background);\n",
       "  border-radius: 1rem;\n",
       "  height: 1rem;\n",
       "  width: 1rem;\n",
       "  text-decoration: none;\n",
       "  /* unfitted */\n",
       "  color: var(--sklearn-color-unfitted-level-1);\n",
       "  border: var(--sklearn-color-unfitted-level-1) 1pt solid;\n",
       "}\n",
       "\n",
       "#sk-container-id-1 a.estimator_doc_link.fitted {\n",
       "  /* fitted */\n",
       "  border: var(--sklearn-color-fitted-level-1) 1pt solid;\n",
       "  color: var(--sklearn-color-fitted-level-1);\n",
       "}\n",
       "\n",
       "/* On hover */\n",
       "#sk-container-id-1 a.estimator_doc_link:hover {\n",
       "  /* unfitted */\n",
       "  background-color: var(--sklearn-color-unfitted-level-3);\n",
       "  color: var(--sklearn-color-background);\n",
       "  text-decoration: none;\n",
       "}\n",
       "\n",
       "#sk-container-id-1 a.estimator_doc_link.fitted:hover {\n",
       "  /* fitted */\n",
       "  background-color: var(--sklearn-color-fitted-level-3);\n",
       "}\n",
       "</style><div id=\"sk-container-id-1\" class=\"sk-top-container\"><div class=\"sk-text-repr-fallback\"><pre>XGBClassifier(base_score=None, booster=None, callbacks=None,\n",
       "              colsample_bylevel=None, colsample_bynode=None,\n",
       "              colsample_bytree=None, device=None, early_stopping_rounds=None,\n",
       "              enable_categorical=False, eval_metric=None, feature_types=None,\n",
       "              feature_weights=None, gamma=None, grow_policy=None,\n",
       "              importance_type=None, interaction_constraints=None,\n",
       "              learning_rate=None, max_bin=None, max_cat_threshold=None,\n",
       "              max_cat_to_onehot=None, max_delta_step=None, max_depth=None,\n",
       "              max_leaves=None, min_child_weight=None, missing=nan,\n",
       "              monotone_constraints=None, multi_strategy=None, n_estimators=None,\n",
       "              n_jobs=None, num_parallel_tree=None, ...)</pre><b>In a Jupyter environment, please rerun this cell to show the HTML representation or trust the notebook. <br />On GitHub, the HTML representation is unable to render, please try loading this page with nbviewer.org.</b></div><div class=\"sk-container\" hidden><div class=\"sk-item\"><div class=\"sk-estimator fitted sk-toggleable\"><input class=\"sk-toggleable__control sk-hidden--visually\" id=\"sk-estimator-id-1\" type=\"checkbox\" checked><label for=\"sk-estimator-id-1\" class=\"sk-toggleable__label fitted sk-toggleable__label-arrow\"><div><div>XGBClassifier</div></div><div><a class=\"sk-estimator-doc-link fitted\" rel=\"noreferrer\" target=\"_blank\" href=\"https://xgboost.readthedocs.io/en/release_3.0.0/python/python_api.html#xgboost.XGBClassifier\">?<span>Documentation for XGBClassifier</span></a><span class=\"sk-estimator-doc-link fitted\">i<span>Fitted</span></span></div></label><div class=\"sk-toggleable__content fitted\"><pre>XGBClassifier(base_score=None, booster=None, callbacks=None,\n",
       "              colsample_bylevel=None, colsample_bynode=None,\n",
       "              colsample_bytree=None, device=None, early_stopping_rounds=None,\n",
       "              enable_categorical=False, eval_metric=None, feature_types=None,\n",
       "              feature_weights=None, gamma=None, grow_policy=None,\n",
       "              importance_type=None, interaction_constraints=None,\n",
       "              learning_rate=None, max_bin=None, max_cat_threshold=None,\n",
       "              max_cat_to_onehot=None, max_delta_step=None, max_depth=None,\n",
       "              max_leaves=None, min_child_weight=None, missing=nan,\n",
       "              monotone_constraints=None, multi_strategy=None, n_estimators=None,\n",
       "              n_jobs=None, num_parallel_tree=None, ...)</pre></div> </div></div></div></div>"
      ],
      "text/plain": [
       "XGBClassifier(base_score=None, booster=None, callbacks=None,\n",
       "              colsample_bylevel=None, colsample_bynode=None,\n",
       "              colsample_bytree=None, device=None, early_stopping_rounds=None,\n",
       "              enable_categorical=False, eval_metric=None, feature_types=None,\n",
       "              feature_weights=None, gamma=None, grow_policy=None,\n",
       "              importance_type=None, interaction_constraints=None,\n",
       "              learning_rate=None, max_bin=None, max_cat_threshold=None,\n",
       "              max_cat_to_onehot=None, max_delta_step=None, max_depth=None,\n",
       "              max_leaves=None, min_child_weight=None, missing=nan,\n",
       "              monotone_constraints=None, multi_strategy=None, n_estimators=None,\n",
       "              n_jobs=None, num_parallel_tree=None, ...)"
      ]
     },
     "execution_count": 90,
     "metadata": {},
     "output_type": "execute_result"
    }
   ],
   "source": [
    "xgb_classifier = XGBClassifier()\n",
    "xgb_classifier.fit(x_train, y_train)"
   ]
  },
  {
   "cell_type": "code",
   "execution_count": 93,
   "id": "0baa0854",
   "metadata": {},
   "outputs": [
    {
     "name": "stdout",
     "output_type": "stream",
     "text": [
      "Accuracy: 0.9715\n",
      "ROC AUC: 0.9959\n",
      "Average Precision: 0.9860\n",
      "\n",
      "Classification Report:\n",
      "              precision    recall  f1-score   support\n",
      "\n",
      "           0       0.98      0.98      0.98      4497\n",
      "           1       0.94      0.93      0.93      1265\n",
      "\n",
      "    accuracy                           0.97      5762\n",
      "   macro avg       0.96      0.96      0.96      5762\n",
      "weighted avg       0.97      0.97      0.97      5762\n",
      "\n"
     ]
    }
   ],
   "source": [
    "y_pred = xgb_classifier.predict(x_test)\n",
    "\n",
    "y_pred_proba = xgb_classifier.predict_proba(x_test)\n",
    "\n",
    "accuracy = accuracy_score(y_test, y_pred)\n",
    "roc_auc = roc_auc_score(y_test, y_pred_proba[:, 1])\n",
    "\n",
    "print(f\"Accuracy: {accuracy:.4f}\")\n",
    "print(f\"ROC AUC: {roc_auc:.4f}\")\n",
    "print(f\"Average Precision: {average_precision_score(y_test, y_pred_proba[:, 1]):.4f}\")\n",
    "print(\"\\nClassification Report:\")\n",
    "print(classification_report(y_test, y_pred))"
   ]
  },
  {
   "cell_type": "code",
   "execution_count": 94,
   "id": "c3ca42e2",
   "metadata": {},
   "outputs": [
    {
     "data": {
      "image/png": "[encoded data removed]",
      "text/plain": [
       "<Figure size 1000x700 with 1 Axes>"
      ]
     },
     "metadata": {},
     "output_type": "display_data"
    }
   ],
   "source": [
    "plot_confusion_matrix(y_test, y_pred, title='XGBoost Classifier Confusion Matrix')"
   ]
  },
  {
   "cell_type": "code",
   "execution_count": 95,
   "id": "55378049",
   "metadata": {},
   "outputs": [
    {
     "data": {
      "image/png": "[encoded data removed]",
      "text/plain": [
       "<Figure size 1000x3500 with 1 Axes>"
      ]
     },
     "metadata": {},
     "output_type": "display_data"
    }
   ],
   "source": [
    "importances = xgb_classifier.feature_importances_\n",
    "\n",
    "plt.figure(figsize=(10, 35))\n",
    "plt.barh(x_train.columns, importances)\n",
    "plt.xlabel(\"Feature Importance\")\n",
    "plt.title(\"XGBoost Feature Importance\")\n",
    "plt.show()"
   ]
  }
 ],
 "metadata": {
  "kernelspec": {
   "display_name": "ium-long-stay-insights-DB1IbSqe-py3.12",
   "language": "python",
   "name": "python3"
  },
  "language_info": {
   "codemirror_mode": {
    "name": "ipython",
    "version": 3
   },
   "file_extension": ".py",
   "mimetype": "text/x-python",
   "name": "python",
   "nbconvert_exporter": "python",
   "pygments_lexer": "ipython3",
   "version": "3.11.10"
  }
 },
 "nbformat": 4,
 "nbformat_minor": 5
}
