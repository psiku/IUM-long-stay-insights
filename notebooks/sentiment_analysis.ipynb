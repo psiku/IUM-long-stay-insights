{
 "cells": [
  {
   "cell_type": "markdown",
   "id": "10f4aca0",
   "metadata": {},
   "source": [
    "### Biblioteki"
   ]
  },
  {
   "cell_type": "code",
   "execution_count": 1,
   "id": "fd7dd027",
   "metadata": {},
   "outputs": [],
   "source": [
    "import pandas as pd\n",
    "import matplotlib.pyplot as plt\n",
    "import seaborn as sns\n",
    "import io\n",
    "import zstandard as zstd\n",
    "from tqdm import tqdm\n",
    "\n",
    "\n",
    "from transformers import pipeline, AutoTokenizer\n",
    "from langdetect import detect, LangDetectException"
   ]
  },
  {
   "cell_type": "markdown",
   "id": "3cc9fd8a",
   "metadata": {},
   "source": [
    "### Recenzje"
   ]
  },
  {
   "cell_type": "code",
   "execution_count": 2,
   "id": "a3e98b22",
   "metadata": {},
   "outputs": [],
   "source": [
    "REVIEWS_PATH = '/home/psik/GITHUB/IUM/IUM-long-stay-insights/data/raw/v2/reviews.csv.zst'"
   ]
  },
  {
   "cell_type": "code",
   "execution_count": 33,
   "id": "82f5de3c",
   "metadata": {},
   "outputs": [],
   "source": [
    "def create_dataframe_from_csv_zst(filepath: str) -> pd.DataFrame:\n",
    "    dctx = zstd.ZstdDecompressor()\n",
    "    with open(filepath, 'rb') as compressed:\n",
    "        with dctx.stream_reader(compressed) as reader:\n",
    "            decompressed = io.TextIOWrapper(reader, encoding='utf-8')\n",
    "            df = pd.read_csv(\n",
    "                decompressed,\n",
    "                low_memory=True\n",
    "            )\n",
    "    return df\n",
    "\n",
    "def compress_dataframe_to_zst(df: pd.DataFrame, output_file: str, compression_level: int = 3) -> None:\n",
    "    cctx = zstd.ZstdCompressor(level=compression_level)\n",
    "    csv_bytes = df.to_csv(index=False).encode('utf-8')\n",
    "    compressed_data = cctx.compress(csv_bytes)\n",
    "    with open(output_file, 'wb') as f:\n",
    "        f.write(compressed_data)\n",
    "    print(f\"Compressed to file {output_file} with size {len(compressed_data)} bytes\")"
   ]
  },
  {
   "cell_type": "code",
   "execution_count": null,
   "id": "cbdae62b",
   "metadata": {},
   "outputs": [
    {
     "data": {
      "text/html": [
       "<div>\n",
       "<style scoped>\n",
       "    .dataframe tbody tr th:only-of-type {\n",
       "        vertical-align: middle;\n",
       "    }\n",
       "\n",
       "    .dataframe tbody tr th {\n",
       "        vertical-align: top;\n",
       "    }\n",
       "\n",
       "    .dataframe thead th {\n",
       "        text-align: right;\n",
       "    }\n",
       "</style>\n",
       "<table border=\"1\" class=\"dataframe\">\n",
       "  <thead>\n",
       "    <tr style=\"text-align: right;\">\n",
       "      <th></th>\n",
       "      <th>listing_id</th>\n",
       "      <th>id</th>\n",
       "      <th>date</th>\n",
       "      <th>reviewer_id</th>\n",
       "      <th>reviewer_name</th>\n",
       "      <th>comments</th>\n",
       "    </tr>\n",
       "  </thead>\n",
       "  <tbody>\n",
       "    <tr>\n",
       "      <th>0</th>\n",
       "      <td>27262</td>\n",
       "      <td>2362781</td>\n",
       "      <td>2012-09-21</td>\n",
       "      <td>3415451</td>\n",
       "      <td>Sian</td>\n",
       "      <td>The trip was amazing!! Emmanouil was a brillia...</td>\n",
       "    </tr>\n",
       "    <tr>\n",
       "      <th>1</th>\n",
       "      <td>27262</td>\n",
       "      <td>31962656</td>\n",
       "      <td>2015-05-12</td>\n",
       "      <td>30220642</td>\n",
       "      <td>Ace</td>\n",
       "      <td>Great host and lovely flat we stayed here for ...</td>\n",
       "    </tr>\n",
       "    <tr>\n",
       "      <th>2</th>\n",
       "      <td>27262</td>\n",
       "      <td>35610419</td>\n",
       "      <td>2015-06-20</td>\n",
       "      <td>35701367</td>\n",
       "      <td>Carole</td>\n",
       "      <td>Manos is a wonderful host, he is very helpful ...</td>\n",
       "    </tr>\n",
       "    <tr>\n",
       "      <th>3</th>\n",
       "      <td>27262</td>\n",
       "      <td>53790022</td>\n",
       "      <td>2015-11-12</td>\n",
       "      <td>47390335</td>\n",
       "      <td>Κωνσταντίνα</td>\n",
       "      <td>Το σπίτι του κυρίου Εμμανουηλ ηταν πολύ ωραιο ...</td>\n",
       "    </tr>\n",
       "    <tr>\n",
       "      <th>4</th>\n",
       "      <td>27262</td>\n",
       "      <td>56342611</td>\n",
       "      <td>2015-12-12</td>\n",
       "      <td>31391271</td>\n",
       "      <td>Sarah</td>\n",
       "      <td>Manos made us feel very welcome, showed us aro...</td>\n",
       "    </tr>\n",
       "  </tbody>\n",
       "</table>\n",
       "</div>"
      ],
      "text/plain": [
       "   listing_id        id        date  reviewer_id reviewer_name  \\\n",
       "0       27262   2362781  2012-09-21      3415451          Sian   \n",
       "1       27262  31962656  2015-05-12     30220642           Ace   \n",
       "2       27262  35610419  2015-06-20     35701367        Carole   \n",
       "3       27262  53790022  2015-11-12     47390335   Κωνσταντίνα   \n",
       "4       27262  56342611  2015-12-12     31391271         Sarah   \n",
       "\n",
       "                                            comments  \n",
       "0  The trip was amazing!! Emmanouil was a brillia...  \n",
       "1  Great host and lovely flat we stayed here for ...  \n",
       "2  Manos is a wonderful host, he is very helpful ...  \n",
       "3  Το σπίτι του κυρίου Εμμανουηλ ηταν πολύ ωραιο ...  \n",
       "4  Manos made us feel very welcome, showed us aro...  "
      ]
     },
     "execution_count": 8,
     "metadata": {},
     "output_type": "execute_result"
    }
   ],
   "source": [
    "reviews_dataframe = create_dataframe_from_csv_zst(REVIEWS_PATH)\n",
    "reviews_dataframe.head(5)"
   ]
  },
  {
   "cell_type": "code",
   "execution_count": 36,
   "id": "4ef6185f",
   "metadata": {},
   "outputs": [
    {
     "name": "stdout",
     "output_type": "stream",
     "text": [
      "Number of empty comments: 156\n"
     ]
    }
   ],
   "source": [
    "# empty comments\n",
    "empty_comments = reviews_dataframe[reviews_dataframe['comments'].isna()]\n",
    "print(f\"Number of empty comments: {len(empty_comments)}\")"
   ]
  },
  {
   "cell_type": "markdown",
   "id": "70896553",
   "metadata": {},
   "source": [
    "### Analiza języka"
   ]
  },
  {
   "cell_type": "code",
   "execution_count": 12,
   "id": "e4fa0417",
   "metadata": {},
   "outputs": [
    {
     "name": "stdout",
     "output_type": "stream",
     "text": [
      "Review : The apartment is very clean has everything you need.\n",
      "Review : Pros: great location, clean, great water pressure, nice view.<br/>Cons: water pump under the sink is extremely loud when it’s pumping water. Air conditioning in the larger bedroom doesn’t cool as well as the other two units in the condo. Lobby/elevator have a very unpleasant smell.(no fault of the host)\n",
      "Review : estancia agradable. Walter resultó ser excelente anfitrión. muy buena ubicación,  a dos cuadras de la plaza mayor.\n",
      "Review : It was one of my best stays, the host was very kind and understanding, I had everything I needed, the location is also fine\n",
      "Review : Nice. Good place to stay. Many restaurant nearby. You can reach there by metro and bus very easily.\n"
     ]
    }
   ],
   "source": [
    "random_reviews = reviews_dataframe.sample(5)\n",
    "\n",
    "for index, row in random_reviews.iterrows():\n",
    "    print(f\"Review : {row['comments']}\")"
   ]
  },
  {
   "cell_type": "markdown",
   "id": "d9b07039",
   "metadata": {},
   "source": [
    "- Widać, że opinie, są w różnych językach. Rozpoznawanie sentymentu dla, każdego z nich mogłoby być wymagające, dlatego postaramy się przeanalizować, te będące w języku angielskim"
   ]
  },
  {
   "cell_type": "markdown",
   "id": "e2a50795",
   "metadata": {},
   "source": [
    "#### Model (langdetect - lekka biblioteka na podstawie Google Language Detection)"
   ]
  },
  {
   "cell_type": "code",
   "execution_count": 30,
   "id": "7f5f7f57",
   "metadata": {},
   "outputs": [
    {
     "name": "stdout",
     "output_type": "stream",
     "text": [
      "Review : The apartment is very clean has everything you need.\n",
      "Language : en\n",
      "Review : Pros: great location, clean, great water pressure, nice view.<br/>Cons: water pump under the sink is extremely loud when it’s pumping water. Air conditioning in the larger bedroom doesn’t cool as well as the other two units in the condo. Lobby/elevator have a very unpleasant smell.(no fault of the host)\n",
      "Language : en\n",
      "Review : estancia agradable. Walter resultó ser excelente anfitrión. muy buena ubicación,  a dos cuadras de la plaza mayor.\n",
      "Language : es\n",
      "Review : It was one of my best stays, the host was very kind and understanding, I had everything I needed, the location is also fine\n",
      "Language : en\n",
      "Review : Nice. Good place to stay. Many restaurant nearby. You can reach there by metro and bus very easily.\n",
      "Language : en\n"
     ]
    }
   ],
   "source": [
    "for index, row in random_reviews.iterrows():\n",
    "    text = row['comments']\n",
    "\n",
    "    result = detect(text)\n",
    "    print(f\"Review : {text}\")\n",
    "    print(f\"Language : {result}\")"
   ]
  },
  {
   "cell_type": "markdown",
   "id": "149e5abb",
   "metadata": {},
   "source": [
    "#### Dodanie rodzaju języka, do datasetu"
   ]
  },
  {
   "cell_type": "code",
   "execution_count": 40,
   "id": "3fc17e75",
   "metadata": {},
   "outputs": [
    {
     "name": "stderr",
     "output_type": "stream",
     "text": [
      "Detecting languages: 100%|██████████| 1982822/1982822 [1:33:50<00:00, 352.14it/s]\n"
     ]
    },
    {
     "data": {
      "text/html": [
       "<div>\n",
       "<style scoped>\n",
       "    .dataframe tbody tr th:only-of-type {\n",
       "        vertical-align: middle;\n",
       "    }\n",
       "\n",
       "    .dataframe tbody tr th {\n",
       "        vertical-align: top;\n",
       "    }\n",
       "\n",
       "    .dataframe thead th {\n",
       "        text-align: right;\n",
       "    }\n",
       "</style>\n",
       "<table border=\"1\" class=\"dataframe\">\n",
       "  <thead>\n",
       "    <tr style=\"text-align: right;\">\n",
       "      <th></th>\n",
       "      <th>listing_id</th>\n",
       "      <th>id</th>\n",
       "      <th>date</th>\n",
       "      <th>reviewer_id</th>\n",
       "      <th>reviewer_name</th>\n",
       "      <th>comments</th>\n",
       "      <th>language</th>\n",
       "    </tr>\n",
       "  </thead>\n",
       "  <tbody>\n",
       "    <tr>\n",
       "      <th>0</th>\n",
       "      <td>27262</td>\n",
       "      <td>2362781</td>\n",
       "      <td>2012-09-21</td>\n",
       "      <td>3415451</td>\n",
       "      <td>Sian</td>\n",
       "      <td>The trip was amazing!! Emmanouil was a brillia...</td>\n",
       "      <td>en</td>\n",
       "    </tr>\n",
       "    <tr>\n",
       "      <th>1</th>\n",
       "      <td>27262</td>\n",
       "      <td>31962656</td>\n",
       "      <td>2015-05-12</td>\n",
       "      <td>30220642</td>\n",
       "      <td>Ace</td>\n",
       "      <td>Great host and lovely flat we stayed here for ...</td>\n",
       "      <td>en</td>\n",
       "    </tr>\n",
       "    <tr>\n",
       "      <th>2</th>\n",
       "      <td>27262</td>\n",
       "      <td>35610419</td>\n",
       "      <td>2015-06-20</td>\n",
       "      <td>35701367</td>\n",
       "      <td>Carole</td>\n",
       "      <td>Manos is a wonderful host, he is very helpful ...</td>\n",
       "      <td>en</td>\n",
       "    </tr>\n",
       "    <tr>\n",
       "      <th>3</th>\n",
       "      <td>27262</td>\n",
       "      <td>53790022</td>\n",
       "      <td>2015-11-12</td>\n",
       "      <td>47390335</td>\n",
       "      <td>Κωνσταντίνα</td>\n",
       "      <td>Το σπίτι του κυρίου Εμμανουηλ ηταν πολύ ωραιο ...</td>\n",
       "      <td>el</td>\n",
       "    </tr>\n",
       "    <tr>\n",
       "      <th>4</th>\n",
       "      <td>27262</td>\n",
       "      <td>56342611</td>\n",
       "      <td>2015-12-12</td>\n",
       "      <td>31391271</td>\n",
       "      <td>Sarah</td>\n",
       "      <td>Manos made us feel very welcome, showed us aro...</td>\n",
       "      <td>en</td>\n",
       "    </tr>\n",
       "    <tr>\n",
       "      <th>...</th>\n",
       "      <td>...</td>\n",
       "      <td>...</td>\n",
       "      <td>...</td>\n",
       "      <td>...</td>\n",
       "      <td>...</td>\n",
       "      <td>...</td>\n",
       "      <td>...</td>\n",
       "    </tr>\n",
       "    <tr>\n",
       "      <th>1982817</th>\n",
       "      <td>1364616759503109256</td>\n",
       "      <td>1368127111176342942</td>\n",
       "      <td>2025-03-02</td>\n",
       "      <td>368146996</td>\n",
       "      <td>Clémentine</td>\n",
       "      <td>Très bon séjour chez Juan, le logement était p...</td>\n",
       "      <td>fr</td>\n",
       "    </tr>\n",
       "    <tr>\n",
       "      <th>1982818</th>\n",
       "      <td>1365007887657848515</td>\n",
       "      <td>1370244234430465527</td>\n",
       "      <td>2025-03-05</td>\n",
       "      <td>283312107</td>\n",
       "      <td>Hernan Enrique</td>\n",
       "      <td>Recomendable para una persona que quiere hacer...</td>\n",
       "      <td>es</td>\n",
       "    </tr>\n",
       "    <tr>\n",
       "      <th>1982819</th>\n",
       "      <td>1365007887657848515</td>\n",
       "      <td>1373818429800403177</td>\n",
       "      <td>2025-03-10</td>\n",
       "      <td>184521825</td>\n",
       "      <td>Carlos</td>\n",
       "      <td>Es una Host súper amable, fue atenta en todo m...</td>\n",
       "      <td>es</td>\n",
       "    </tr>\n",
       "    <tr>\n",
       "      <th>1982820</th>\n",
       "      <td>1365635357360238932</td>\n",
       "      <td>1368103217874537823</td>\n",
       "      <td>2025-03-02</td>\n",
       "      <td>313257078</td>\n",
       "      <td>Yuet</td>\n",
       "      <td>很友善的房东，推荐</td>\n",
       "      <td>unknown</td>\n",
       "    </tr>\n",
       "    <tr>\n",
       "      <th>1982821</th>\n",
       "      <td>1366534590465861868</td>\n",
       "      <td>1368063220606082280</td>\n",
       "      <td>2025-03-02</td>\n",
       "      <td>369293146</td>\n",
       "      <td>Hamid</td>\n",
       "      <td>Very friendly host and staff and Great locatio...</td>\n",
       "      <td>en</td>\n",
       "    </tr>\n",
       "  </tbody>\n",
       "</table>\n",
       "<p>1982822 rows × 7 columns</p>\n",
       "</div>"
      ],
      "text/plain": [
       "                  listing_id                   id        date  reviewer_id  \\\n",
       "0                      27262              2362781  2012-09-21      3415451   \n",
       "1                      27262             31962656  2015-05-12     30220642   \n",
       "2                      27262             35610419  2015-06-20     35701367   \n",
       "3                      27262             53790022  2015-11-12     47390335   \n",
       "4                      27262             56342611  2015-12-12     31391271   \n",
       "...                      ...                  ...         ...          ...   \n",
       "1982817  1364616759503109256  1368127111176342942  2025-03-02    368146996   \n",
       "1982818  1365007887657848515  1370244234430465527  2025-03-05    283312107   \n",
       "1982819  1365007887657848515  1373818429800403177  2025-03-10    184521825   \n",
       "1982820  1365635357360238932  1368103217874537823  2025-03-02    313257078   \n",
       "1982821  1366534590465861868  1368063220606082280  2025-03-02    369293146   \n",
       "\n",
       "          reviewer_name                                           comments  \\\n",
       "0                  Sian  The trip was amazing!! Emmanouil was a brillia...   \n",
       "1                   Ace  Great host and lovely flat we stayed here for ...   \n",
       "2                Carole  Manos is a wonderful host, he is very helpful ...   \n",
       "3           Κωνσταντίνα  Το σπίτι του κυρίου Εμμανουηλ ηταν πολύ ωραιο ...   \n",
       "4                 Sarah  Manos made us feel very welcome, showed us aro...   \n",
       "...                 ...                                                ...   \n",
       "1982817      Clémentine  Très bon séjour chez Juan, le logement était p...   \n",
       "1982818  Hernan Enrique  Recomendable para una persona que quiere hacer...   \n",
       "1982819          Carlos  Es una Host súper amable, fue atenta en todo m...   \n",
       "1982820            Yuet                                          很友善的房东，推荐   \n",
       "1982821           Hamid  Very friendly host and staff and Great locatio...   \n",
       "\n",
       "        language  \n",
       "0             en  \n",
       "1             en  \n",
       "2             en  \n",
       "3             el  \n",
       "4             en  \n",
       "...          ...  \n",
       "1982817       fr  \n",
       "1982818       es  \n",
       "1982819       es  \n",
       "1982820  unknown  \n",
       "1982821       en  \n",
       "\n",
       "[1982822 rows x 7 columns]"
      ]
     },
     "execution_count": 40,
     "metadata": {},
     "output_type": "execute_result"
    }
   ],
   "source": [
    "def detect_language(text: str) -> str:\n",
    "    try:\n",
    "        text = text.strip()\n",
    "        if not text or len(text) < 10:\n",
    "            return 'unknown'\n",
    "        return detect(text)\n",
    "    except LangDetectException:\n",
    "        return 'unknown'\n",
    "\n",
    "def add_language_column(df: pd.DataFrame) -> pd.DataFrame:\n",
    "    tqdm.pandas(desc=\"Detecting languages\")\n",
    "    df['language'] = df['comments'].progress_apply(lambda x: detect_language(x) if pd.notnull(x) else 'unknown')\n",
    "    return df\n",
    "\n",
    "\n",
    "add_language_column(reviews_dataframe)"
   ]
  },
  {
   "cell_type": "code",
   "execution_count": 42,
   "id": "d3fbd05a",
   "metadata": {},
   "outputs": [
    {
     "name": "stdout",
     "output_type": "stream",
     "text": [
      "Unique languages detected: ['en' 'el' 'it' 'fr' 'es' 'hu' 'unknown' 'nl' 'ro' 'af' 'de' 'zh-cn' 'pt'\n",
      " 'ru' 'tr' 'ca' 'no' 'ko' 'sv' 'tl' 'pl' 'et' 'hr' 'vi' 'bg' 'fi' 'cs'\n",
      " 'da' 'ja' 'ar' 'he' 'so' 'id' 'uk' 'zh-tw' 'sl' 'cy' 'sw' 'fa' 'sk' 'lv'\n",
      " 'mk' 'lt' 'sq' 'th' 'ur' 'bn']\n",
      "Number of unique languages: 47\n"
     ]
    }
   ],
   "source": [
    "unique_languages = reviews_dataframe['language'].unique()\n",
    "print(f\"Unique languages detected: {unique_languages}\")\n",
    "print(f\"Number of unique languages: {len(unique_languages)}\")"
   ]
  },
  {
   "cell_type": "code",
   "execution_count": 44,
   "id": "ef6fa13c",
   "metadata": {},
   "outputs": [
    {
     "name": "stdout",
     "output_type": "stream",
     "text": [
      "Language: en, Count: 1015319\n",
      "Language: el, Count: 71712\n",
      "Language: it, Count: 37961\n",
      "Language: fr, Count: 137728\n",
      "Language: es, Count: 518152\n",
      "Language: hu, Count: 1232\n",
      "Language: unknown, Count: 38423\n",
      "Language: nl, Count: 12165\n",
      "Language: ro, Count: 4819\n",
      "Language: af, Count: 1107\n",
      "Language: de, Count: 43176\n",
      "Language: zh-cn, Count: 10718\n",
      "Language: pt, Count: 40901\n",
      "Language: ru, Count: 6548\n",
      "Language: tr, Count: 4199\n",
      "Language: ca, Count: 4961\n",
      "Language: no, Count: 1538\n",
      "Language: ko, Count: 8948\n",
      "Language: sv, Count: 1575\n",
      "Language: tl, Count: 730\n",
      "Language: pl, Count: 4196\n",
      "Language: et, Count: 233\n",
      "Language: hr, Count: 628\n",
      "Language: vi, Count: 135\n",
      "Language: bg, Count: 297\n",
      "Language: fi, Count: 1047\n",
      "Language: cs, Count: 1470\n",
      "Language: da, Count: 2306\n",
      "Language: ja, Count: 1433\n",
      "Language: ar, Count: 777\n",
      "Language: he, Count: 4381\n",
      "Language: so, Count: 687\n",
      "Language: id, Count: 347\n",
      "Language: uk, Count: 536\n",
      "Language: zh-tw, Count: 644\n",
      "Language: sl, Count: 311\n",
      "Language: cy, Count: 284\n",
      "Language: sw, Count: 170\n",
      "Language: fa, Count: 9\n",
      "Language: sk, Count: 464\n",
      "Language: lv, Count: 72\n",
      "Language: mk, Count: 46\n",
      "Language: lt, Count: 394\n",
      "Language: sq, Count: 22\n",
      "Language: th, Count: 17\n",
      "Language: ur, Count: 3\n",
      "Language: bn, Count: 1\n"
     ]
    }
   ],
   "source": [
    "for lang in unique_languages:\n",
    "    count = len(reviews_dataframe[reviews_dataframe['language'] == lang])\n",
    "    print(f\"Language: {lang}, Count: {count}\")"
   ]
  },
  {
   "cell_type": "code",
   "execution_count": null,
   "id": "20692e3b",
   "metadata": {},
   "outputs": [
    {
     "data": {
      "image/png": "[encoded data removed]",
      "text/plain": [
       "<Figure size 1200x600 with 1 Axes>"
      ]
     },
     "metadata": {},
     "output_type": "display_data"
    }
   ],
   "source": [
    "lang_count = reviews_dataframe.groupby('language').size().reset_index(name='count')\n",
    "\n",
    "plt.figure(figsize=(12,6))\n",
    "sns.barplot(data=lang_count, x='language', y='count')\n",
    "plt.title('Number of Reviews by Language')\n",
    "plt.xlabel('Language')\n",
    "plt.ylabel('Review Count')\n",
    "plt.xticks(rotation=60)\n",
    "plt.tight_layout()\n",
    "plt.show()"
   ]
  },
  {
   "cell_type": "code",
   "execution_count": 52,
   "id": "cd3c84e7",
   "metadata": {},
   "outputs": [
    {
     "data": {
      "text/html": [
       "<div>\n",
       "<style scoped>\n",
       "    .dataframe tbody tr th:only-of-type {\n",
       "        vertical-align: middle;\n",
       "    }\n",
       "\n",
       "    .dataframe tbody tr th {\n",
       "        vertical-align: top;\n",
       "    }\n",
       "\n",
       "    .dataframe thead th {\n",
       "        text-align: right;\n",
       "    }\n",
       "</style>\n",
       "<table border=\"1\" class=\"dataframe\">\n",
       "  <thead>\n",
       "    <tr style=\"text-align: right;\">\n",
       "      <th></th>\n",
       "      <th>language</th>\n",
       "      <th>language_full</th>\n",
       "    </tr>\n",
       "  </thead>\n",
       "  <tbody>\n",
       "    <tr>\n",
       "      <th>0</th>\n",
       "      <td>af</td>\n",
       "      <td>Afrikaans</td>\n",
       "    </tr>\n",
       "    <tr>\n",
       "      <th>1</th>\n",
       "      <td>ar</td>\n",
       "      <td>Arabic</td>\n",
       "    </tr>\n",
       "    <tr>\n",
       "      <th>2</th>\n",
       "      <td>bg</td>\n",
       "      <td>Bulgarian</td>\n",
       "    </tr>\n",
       "    <tr>\n",
       "      <th>3</th>\n",
       "      <td>bn</td>\n",
       "      <td>Bengali</td>\n",
       "    </tr>\n",
       "    <tr>\n",
       "      <th>4</th>\n",
       "      <td>ca</td>\n",
       "      <td>Catalan</td>\n",
       "    </tr>\n",
       "  </tbody>\n",
       "</table>\n",
       "</div>"
      ],
      "text/plain": [
       "  language language_full\n",
       "0       af     Afrikaans\n",
       "1       ar        Arabic\n",
       "2       bg     Bulgarian\n",
       "3       bn       Bengali\n",
       "4       ca       Catalan"
      ]
     },
     "execution_count": 52,
     "metadata": {},
     "output_type": "execute_result"
    }
   ],
   "source": [
    "language_map = {\"af\": \"Afrikaans\", \"ar\": \"Arabic\", \"bg\": \"Bulgarian\", \"bn\": \"Bengali\", \"ca\": \"Catalan\", \"cs\": \"Czech\", \"cy\": \"Welsh\", \"da\": \"Danish\", \"de\": \"German\", \"el\": \"Greek\", \"en\": \"English\", \"es\": \"Spanish\", \"et\": \"Estonian\", \"fa\": \"Persian (Farsi)\", \"fi\": \"Finnish\", \"fr\": \"French\", \"he\": \"Hebrew\", \"hr\": \"Croatian\", \"hu\": \"Hungarian\", \"id\": \"Indonesian\", \"it\": \"Italian\", \"ja\": \"Japanese\", \"ko\": \"Korean\", \"lt\": \"Lithuanian\", \"lv\": \"Latvian\", \"mk\": \"Macedonian\", \"nl\": \"Dutch\", \"no\": \"Norwegian\", \"pl\": \"Polish\", \"pt\": \"Portuguese\", \"ro\": \"Romanian\", \"ru\": \"Russian\", \"sk\": \"Slovak\", \"sl\": \"Slovenian\", \"so\": \"Somali\", \"sq\": \"Albanian\", \"sv\": \"Swedish\", \"sw\": \"Swahili\", \"th\": \"Thai\", \"tl\": \"Tagalog\", \"tr\": \"Turkish\", \"uk\": \"Ukrainian\", \"ur\": \"Urdu\", \"vi\": \"Vietnamese\", \"zh-cn\": \"Chinese (Simplified)\", \"zh-tw\": \"Chinese (Traditional)\", \"unknown\": \"Unknown\"}\n",
    "\n",
    "abbriviations_df = pd.DataFrame(list(language_map.items()), columns=['language', 'language_full'])\n",
    "abbriviations_df.head(5)"
   ]
  },
  {
   "cell_type": "markdown",
   "id": "97a5da85",
   "metadata": {},
   "source": [
    "- Najwięcej opini mamy w języku angielskim, hiszpańskim oraz francuskim\n",
    "- Na potrzeby analizy, skupimy się w pierwszej kolejności na opiniach po angielsku, ponieważ posiadamy ich ponad 1 milion\n",
    "- Jeśli próbka okaże się, za mała to rozważymy analizę, sentymentu pozostałych języków"
   ]
  },
  {
   "cell_type": "markdown",
   "id": "5b4ac54a",
   "metadata": {},
   "source": [
    "### Analiza sentymentu"
   ]
  },
  {
   "cell_type": "markdown",
   "id": "c3319d32",
   "metadata": {},
   "source": [
    "#### Model"
   ]
  },
  {
   "cell_type": "code",
   "execution_count": 61,
   "id": "d9179a79",
   "metadata": {},
   "outputs": [
    {
     "name": "stderr",
     "output_type": "stream",
     "text": [
      "Device set to use cuda:0\n"
     ]
    },
    {
     "data": {
      "application/vnd.jupyter.widget-view+json": {
       "model_id": "d8315b67531845e9b1f3a94c25f8db9a",
       "version_major": 2,
       "version_minor": 0
      },
      "text/plain": [
       "tokenizer_config.json:   0%|          | 0.00/48.0 [00:00<?, ?B/s]"
      ]
     },
     "metadata": {},
     "output_type": "display_data"
    },
    {
     "data": {
      "application/vnd.jupyter.widget-view+json": {
       "model_id": "0c855f950f92425db6cf7215502d1d17",
       "version_major": 2,
       "version_minor": 0
      },
      "text/plain": [
       "config.json:   0%|          | 0.00/483 [00:00<?, ?B/s]"
      ]
     },
     "metadata": {},
     "output_type": "display_data"
    },
    {
     "data": {
      "application/vnd.jupyter.widget-view+json": {
       "model_id": "1c20b3d6d4ca48e786a0a91457ff73ef",
       "version_major": 2,
       "version_minor": 0
      },
      "text/plain": [
       "vocab.txt:   0%|          | 0.00/232k [00:00<?, ?B/s]"
      ]
     },
     "metadata": {},
     "output_type": "display_data"
    },
    {
     "data": {
      "application/vnd.jupyter.widget-view+json": {
       "model_id": "aa0fca9b6ca4421ea105aba9df9eda42",
       "version_major": 2,
       "version_minor": 0
      },
      "text/plain": [
       "tokenizer.json:   0%|          | 0.00/466k [00:00<?, ?B/s]"
      ]
     },
     "metadata": {},
     "output_type": "display_data"
    }
   ],
   "source": [
    "sentiment_pipeline = pipeline(\"sentiment-analysis\", model=\"distilbert-base-uncased-finetuned-sst-2-english\")\n",
    "tokenizer = AutoTokenizer.from_pretrained(\"distilbert-base-uncased\")"
   ]
  },
  {
   "cell_type": "code",
   "execution_count": 56,
   "id": "bfd48ca7",
   "metadata": {},
   "outputs": [],
   "source": [
    "english_samples = reviews_dataframe[reviews_dataframe['language'] == 'en'].sample(5)"
   ]
  },
  {
   "cell_type": "code",
   "execution_count": 57,
   "id": "22a01b12",
   "metadata": {},
   "outputs": [
    {
     "name": "stdout",
     "output_type": "stream",
     "text": [
      "Sample: Lovely place, practical, centrically located. And did I say quiet! You can get some shut-eye\n",
      "Sentiment: [{'label': 'POSITIVE', 'score': 0.9989628791809082}]\n",
      "--------------------------------------------------\n",
      "Sample: Ricardo is a special host. He expect us with chocolates and he wrote us tips for visiting the city and restaurants. The house is exactly the same in the pictures, it's wonderful and it's right in the centre. You can walk by foot in all places in Madrid. Thank you for a special weekend Ricardo!\n",
      "Sentiment: [{'label': 'POSITIVE', 'score': 0.9998581409454346}]\n",
      "--------------------------------------------------\n",
      "Sample: The apartment is really good! The main bedroom is big and has a balcony to the street. The second bedroom is a bit email, but it fits 1 person well. The kitchen is functional and my only observation is regarding the bathroom that is really small. In terms of location, it's just perfect! Close to Puerta del Sol, you can walk to the main attractions or easly take the subway. It's on the third floor, only accesible by stairs, so be aware, althought it wasn't a problem at all!!\n",
      "Sentiment: [{'label': 'POSITIVE', 'score': 0.9993107318878174}]\n",
      "--------------------------------------------------\n",
      "Sample: This place was perfect! Close to the Acropolis and all the other historical monuments, great restaurants and shopping. Our host was very helpful even calling a taxi for us on our departure. Space was stylish and clean with several extras to welcome us! Highly recommend! Will stay here again if I come to Athens!\n",
      "Sentiment: [{'label': 'POSITIVE', 'score': 0.9998088479042053}]\n",
      "--------------------------------------------------\n",
      "Sample: Loved Fabiana and the apartment! It was so amazing and she was lovely to stay with. Her hotel is a quick 20 min walk to the apartment (or a few minutes on the bus that starts running at 6AM). She made sure to leave me breakfast even though she wasn't awake. The room was clean and she was very thoughtful\n",
      "Sentiment: [{'label': 'POSITIVE', 'score': 0.9997827410697937}]\n",
      "--------------------------------------------------\n"
     ]
    }
   ],
   "source": [
    "for sample in english_samples['comments']:\n",
    "    print(f\"Sample: {sample}\")\n",
    "    sentiment = sentiment_pipeline(sample)\n",
    "    print(f\"Sentiment: {sentiment}\")\n",
    "    print(\"-\" * 50)"
   ]
  },
  {
   "cell_type": "markdown",
   "id": "8d303f06",
   "metadata": {},
   "source": [
    "#### Język angielski"
   ]
  },
  {
   "cell_type": "code",
   "execution_count": 54,
   "id": "fca4edce",
   "metadata": {},
   "outputs": [
    {
     "name": "stdout",
     "output_type": "stream",
     "text": [
      "Number of English reviews: 1015319\n"
     ]
    },
    {
     "data": {
      "text/html": [
       "<div>\n",
       "<style scoped>\n",
       "    .dataframe tbody tr th:only-of-type {\n",
       "        vertical-align: middle;\n",
       "    }\n",
       "\n",
       "    .dataframe tbody tr th {\n",
       "        vertical-align: top;\n",
       "    }\n",
       "\n",
       "    .dataframe thead th {\n",
       "        text-align: right;\n",
       "    }\n",
       "</style>\n",
       "<table border=\"1\" class=\"dataframe\">\n",
       "  <thead>\n",
       "    <tr style=\"text-align: right;\">\n",
       "      <th></th>\n",
       "      <th>listing_id</th>\n",
       "      <th>id</th>\n",
       "      <th>date</th>\n",
       "      <th>reviewer_id</th>\n",
       "      <th>reviewer_name</th>\n",
       "      <th>comments</th>\n",
       "      <th>language</th>\n",
       "    </tr>\n",
       "  </thead>\n",
       "  <tbody>\n",
       "    <tr>\n",
       "      <th>0</th>\n",
       "      <td>27262</td>\n",
       "      <td>2362781</td>\n",
       "      <td>2012-09-21</td>\n",
       "      <td>3415451</td>\n",
       "      <td>Sian</td>\n",
       "      <td>The trip was amazing!! Emmanouil was a brillia...</td>\n",
       "      <td>en</td>\n",
       "    </tr>\n",
       "    <tr>\n",
       "      <th>1</th>\n",
       "      <td>27262</td>\n",
       "      <td>31962656</td>\n",
       "      <td>2015-05-12</td>\n",
       "      <td>30220642</td>\n",
       "      <td>Ace</td>\n",
       "      <td>Great host and lovely flat we stayed here for ...</td>\n",
       "      <td>en</td>\n",
       "    </tr>\n",
       "    <tr>\n",
       "      <th>2</th>\n",
       "      <td>27262</td>\n",
       "      <td>35610419</td>\n",
       "      <td>2015-06-20</td>\n",
       "      <td>35701367</td>\n",
       "      <td>Carole</td>\n",
       "      <td>Manos is a wonderful host, he is very helpful ...</td>\n",
       "      <td>en</td>\n",
       "    </tr>\n",
       "    <tr>\n",
       "      <th>4</th>\n",
       "      <td>27262</td>\n",
       "      <td>56342611</td>\n",
       "      <td>2015-12-12</td>\n",
       "      <td>31391271</td>\n",
       "      <td>Sarah</td>\n",
       "      <td>Manos made us feel very welcome, showed us aro...</td>\n",
       "      <td>en</td>\n",
       "    </tr>\n",
       "    <tr>\n",
       "      <th>5</th>\n",
       "      <td>27262</td>\n",
       "      <td>56699344</td>\n",
       "      <td>2015-12-16</td>\n",
       "      <td>28705058</td>\n",
       "      <td>Ioannis</td>\n",
       "      <td>The apartment is well-equipped and beautifully...</td>\n",
       "      <td>en</td>\n",
       "    </tr>\n",
       "  </tbody>\n",
       "</table>\n",
       "</div>"
      ],
      "text/plain": [
       "   listing_id        id        date  reviewer_id reviewer_name  \\\n",
       "0       27262   2362781  2012-09-21      3415451          Sian   \n",
       "1       27262  31962656  2015-05-12     30220642           Ace   \n",
       "2       27262  35610419  2015-06-20     35701367        Carole   \n",
       "4       27262  56342611  2015-12-12     31391271         Sarah   \n",
       "5       27262  56699344  2015-12-16     28705058       Ioannis   \n",
       "\n",
       "                                            comments language  \n",
       "0  The trip was amazing!! Emmanouil was a brillia...       en  \n",
       "1  Great host and lovely flat we stayed here for ...       en  \n",
       "2  Manos is a wonderful host, he is very helpful ...       en  \n",
       "4  Manos made us feel very welcome, showed us aro...       en  \n",
       "5  The apartment is well-equipped and beautifully...       en  "
      ]
     },
     "execution_count": 54,
     "metadata": {},
     "output_type": "execute_result"
    }
   ],
   "source": [
    "english_reviews = reviews_dataframe[reviews_dataframe['language'] == 'en']\n",
    "print(f\"Number of English reviews: {len(english_reviews)}\")\n",
    "english_reviews.head(5)"
   ]
  },
  {
   "cell_type": "code",
   "execution_count": 67,
   "id": "11fa265f",
   "metadata": {},
   "outputs": [
    {
     "name": "stderr",
     "output_type": "stream",
     "text": [
      "Calculating sentiment: 100%|██████████| 1015319/1015319 [3:29:35<00:00, 80.74it/s]  \n",
      "/tmp/ipykernel_415/865027500.py:19: SettingWithCopyWarning: \n",
      "A value is trying to be set on a copy of a slice from a DataFrame.\n",
      "Try using .loc[row_indexer,col_indexer] = value instead\n",
      "\n",
      "See the caveats in the documentation: https://pandas.pydata.org/pandas-docs/stable/user_guide/indexing.html#returning-a-view-versus-a-copy\n",
      "  df['sentiment_en'] = df['comments'].progress_apply(lambda x: analyze_sentiment_from_chunks(x) if pd.notnull(x) else 'unknown')\n"
     ]
    },
    {
     "data": {
      "text/html": [
       "<div>\n",
       "<style scoped>\n",
       "    .dataframe tbody tr th:only-of-type {\n",
       "        vertical-align: middle;\n",
       "    }\n",
       "\n",
       "    .dataframe tbody tr th {\n",
       "        vertical-align: top;\n",
       "    }\n",
       "\n",
       "    .dataframe thead th {\n",
       "        text-align: right;\n",
       "    }\n",
       "</style>\n",
       "<table border=\"1\" class=\"dataframe\">\n",
       "  <thead>\n",
       "    <tr style=\"text-align: right;\">\n",
       "      <th></th>\n",
       "      <th>listing_id</th>\n",
       "      <th>id</th>\n",
       "      <th>date</th>\n",
       "      <th>reviewer_id</th>\n",
       "      <th>reviewer_name</th>\n",
       "      <th>comments</th>\n",
       "      <th>language</th>\n",
       "      <th>sentiment_en</th>\n",
       "    </tr>\n",
       "  </thead>\n",
       "  <tbody>\n",
       "    <tr>\n",
       "      <th>0</th>\n",
       "      <td>27262</td>\n",
       "      <td>2362781</td>\n",
       "      <td>2012-09-21</td>\n",
       "      <td>3415451</td>\n",
       "      <td>Sian</td>\n",
       "      <td>The trip was amazing!! Emmanouil was a brillia...</td>\n",
       "      <td>en</td>\n",
       "      <td>POSITIVE</td>\n",
       "    </tr>\n",
       "    <tr>\n",
       "      <th>1</th>\n",
       "      <td>27262</td>\n",
       "      <td>31962656</td>\n",
       "      <td>2015-05-12</td>\n",
       "      <td>30220642</td>\n",
       "      <td>Ace</td>\n",
       "      <td>Great host and lovely flat we stayed here for ...</td>\n",
       "      <td>en</td>\n",
       "      <td>POSITIVE</td>\n",
       "    </tr>\n",
       "    <tr>\n",
       "      <th>2</th>\n",
       "      <td>27262</td>\n",
       "      <td>35610419</td>\n",
       "      <td>2015-06-20</td>\n",
       "      <td>35701367</td>\n",
       "      <td>Carole</td>\n",
       "      <td>Manos is a wonderful host, he is very helpful ...</td>\n",
       "      <td>en</td>\n",
       "      <td>POSITIVE</td>\n",
       "    </tr>\n",
       "    <tr>\n",
       "      <th>4</th>\n",
       "      <td>27262</td>\n",
       "      <td>56342611</td>\n",
       "      <td>2015-12-12</td>\n",
       "      <td>31391271</td>\n",
       "      <td>Sarah</td>\n",
       "      <td>Manos made us feel very welcome, showed us aro...</td>\n",
       "      <td>en</td>\n",
       "      <td>POSITIVE</td>\n",
       "    </tr>\n",
       "    <tr>\n",
       "      <th>5</th>\n",
       "      <td>27262</td>\n",
       "      <td>56699344</td>\n",
       "      <td>2015-12-16</td>\n",
       "      <td>28705058</td>\n",
       "      <td>Ioannis</td>\n",
       "      <td>The apartment is well-equipped and beautifully...</td>\n",
       "      <td>en</td>\n",
       "      <td>POSITIVE</td>\n",
       "    </tr>\n",
       "    <tr>\n",
       "      <th>...</th>\n",
       "      <td>...</td>\n",
       "      <td>...</td>\n",
       "      <td>...</td>\n",
       "      <td>...</td>\n",
       "      <td>...</td>\n",
       "      <td>...</td>\n",
       "      <td>...</td>\n",
       "      <td>...</td>\n",
       "    </tr>\n",
       "    <tr>\n",
       "      <th>1982796</th>\n",
       "      <td>1354941531245470417</td>\n",
       "      <td>1368100220464187776</td>\n",
       "      <td>2025-03-02</td>\n",
       "      <td>163472275</td>\n",
       "      <td>Filipa</td>\n",
       "      <td>Cindy was super nice and friendly!!&lt;br/&gt;The ho...</td>\n",
       "      <td>en</td>\n",
       "      <td>POSITIVE</td>\n",
       "    </tr>\n",
       "    <tr>\n",
       "      <th>1982800</th>\n",
       "      <td>1354975035399289340</td>\n",
       "      <td>1365910400932659169</td>\n",
       "      <td>2025-02-27</td>\n",
       "      <td>29044731</td>\n",
       "      <td>Edmundo</td>\n",
       "      <td>Great place! Very central located and beautifu...</td>\n",
       "      <td>en</td>\n",
       "      <td>POSITIVE</td>\n",
       "    </tr>\n",
       "    <tr>\n",
       "      <th>1982807</th>\n",
       "      <td>1355256529484933767</td>\n",
       "      <td>1370965334122735795</td>\n",
       "      <td>2025-03-06</td>\n",
       "      <td>216066594</td>\n",
       "      <td>Aleksander</td>\n",
       "      <td>I had a really great time in Pierina's apartme...</td>\n",
       "      <td>en</td>\n",
       "      <td>POSITIVE</td>\n",
       "    </tr>\n",
       "    <tr>\n",
       "      <th>1982808</th>\n",
       "      <td>1366853173044267909</td>\n",
       "      <td>1369547148534551021</td>\n",
       "      <td>2025-03-04</td>\n",
       "      <td>680174488</td>\n",
       "      <td>Ampofo</td>\n",
       "      <td>he is good for his reception service</td>\n",
       "      <td>en</td>\n",
       "      <td>POSITIVE</td>\n",
       "    </tr>\n",
       "    <tr>\n",
       "      <th>1982821</th>\n",
       "      <td>1366534590465861868</td>\n",
       "      <td>1368063220606082280</td>\n",
       "      <td>2025-03-02</td>\n",
       "      <td>369293146</td>\n",
       "      <td>Hamid</td>\n",
       "      <td>Very friendly host and staff and Great locatio...</td>\n",
       "      <td>en</td>\n",
       "      <td>POSITIVE</td>\n",
       "    </tr>\n",
       "  </tbody>\n",
       "</table>\n",
       "<p>1015319 rows × 8 columns</p>\n",
       "</div>"
      ],
      "text/plain": [
       "                  listing_id                   id        date  reviewer_id  \\\n",
       "0                      27262              2362781  2012-09-21      3415451   \n",
       "1                      27262             31962656  2015-05-12     30220642   \n",
       "2                      27262             35610419  2015-06-20     35701367   \n",
       "4                      27262             56342611  2015-12-12     31391271   \n",
       "5                      27262             56699344  2015-12-16     28705058   \n",
       "...                      ...                  ...         ...          ...   \n",
       "1982796  1354941531245470417  1368100220464187776  2025-03-02    163472275   \n",
       "1982800  1354975035399289340  1365910400932659169  2025-02-27     29044731   \n",
       "1982807  1355256529484933767  1370965334122735795  2025-03-06    216066594   \n",
       "1982808  1366853173044267909  1369547148534551021  2025-03-04    680174488   \n",
       "1982821  1366534590465861868  1368063220606082280  2025-03-02    369293146   \n",
       "\n",
       "        reviewer_name                                           comments  \\\n",
       "0                Sian  The trip was amazing!! Emmanouil was a brillia...   \n",
       "1                 Ace  Great host and lovely flat we stayed here for ...   \n",
       "2              Carole  Manos is a wonderful host, he is very helpful ...   \n",
       "4               Sarah  Manos made us feel very welcome, showed us aro...   \n",
       "5             Ioannis  The apartment is well-equipped and beautifully...   \n",
       "...               ...                                                ...   \n",
       "1982796        Filipa  Cindy was super nice and friendly!!<br/>The ho...   \n",
       "1982800       Edmundo  Great place! Very central located and beautifu...   \n",
       "1982807    Aleksander  I had a really great time in Pierina's apartme...   \n",
       "1982808        Ampofo               he is good for his reception service   \n",
       "1982821         Hamid  Very friendly host and staff and Great locatio...   \n",
       "\n",
       "        language sentiment_en  \n",
       "0             en     POSITIVE  \n",
       "1             en     POSITIVE  \n",
       "2             en     POSITIVE  \n",
       "4             en     POSITIVE  \n",
       "5             en     POSITIVE  \n",
       "...          ...          ...  \n",
       "1982796       en     POSITIVE  \n",
       "1982800       en     POSITIVE  \n",
       "1982807       en     POSITIVE  \n",
       "1982808       en     POSITIVE  \n",
       "1982821       en     POSITIVE  \n",
       "\n",
       "[1015319 rows x 8 columns]"
      ]
     },
     "execution_count": 67,
     "metadata": {},
     "output_type": "execute_result"
    }
   ],
   "source": [
    "def chunk_text(text: str, max_length: int = 256) -> list:\n",
    "    text = text.strip()\n",
    "    text = tokenizer.encode(text, add_special_tokens=False)\n",
    "\n",
    "    chunks = []\n",
    "    for i in range(0, len(text), max_length):\n",
    "        chunk = text[i:i + max_length]\n",
    "        chunks.append(tokenizer.decode(chunk, skip_special_tokens=True))\n",
    "    return chunks\n",
    "\n",
    "def analyze_sentiment_from_chunks(text: str) -> str:\n",
    "    chunks = chunk_text(text)\n",
    "    results = sentiment_pipeline(chunks)\n",
    "    sentiments = [result['label'] for result in results]\n",
    "    return max(set(sentiments), key=sentiments.count)\n",
    "\n",
    "def add_sentiment_column(df: pd.DataFrame) -> pd.DataFrame:\n",
    "    tqdm.pandas(desc=\"Calculating sentiment\")\n",
    "    df['sentiment_en'] = df['comments'].progress_apply(lambda x: analyze_sentiment_from_chunks(x) if pd.notnull(x) else 'unknown')\n",
    "    return df\n",
    "\n",
    "add_sentiment_column(english_reviews)"
   ]
  },
  {
   "cell_type": "code",
   "execution_count": 8,
   "id": "22baa53f",
   "metadata": {},
   "outputs": [
    {
     "name": "stdout",
     "output_type": "stream",
     "text": [
      "Positive comments: 968304\n",
      "Negative comments: 47015\n"
     ]
    }
   ],
   "source": [
    "positive_comments_amount = len(english_reviews[english_reviews['sentiment_en'] == 'POSITIVE'])\n",
    "negative_comments_amount = len(english_reviews[english_reviews['sentiment_en'] == 'NEGATIVE'])\n",
    "print(f\"Positive comments: {positive_comments_amount}\")\n",
    "print(f\"Negative comments: {negative_comments_amount}\")"
   ]
  },
  {
   "cell_type": "markdown",
   "id": "9b77ec7d",
   "metadata": {},
   "source": [
    "#### Zapisanie plików"
   ]
  },
  {
   "cell_type": "code",
   "execution_count": 70,
   "id": "5a272ccf",
   "metadata": {},
   "outputs": [],
   "source": [
    "# save english comments to csv\n",
    "english_reviews.to_csv('../data/processed/english_reviews.csv', index=False)\n",
    "# save reviews_dataframe to csv\n",
    "reviews_dataframe.to_csv('../data/processed/reviews_dataframe.csv', index=False)"
   ]
  },
  {
   "cell_type": "code",
   "execution_count": 4,
   "id": "f8c214db",
   "metadata": {},
   "outputs": [],
   "source": [
    "english_reviews = pd.read_csv('../data/processed/english_reviews.csv')\n",
    "reviews_dataframe = pd.read_csv('../data/processed/reviews_dataframe.csv')"
   ]
  },
  {
   "cell_type": "code",
   "execution_count": 5,
   "id": "7cf72498",
   "metadata": {},
   "outputs": [
    {
     "name": "stdout",
     "output_type": "stream",
     "text": [
      "English reviews shape: (1015319, 8)\n"
     ]
    },
    {
     "data": {
      "text/html": [
       "<div>\n",
       "<style scoped>\n",
       "    .dataframe tbody tr th:only-of-type {\n",
       "        vertical-align: middle;\n",
       "    }\n",
       "\n",
       "    .dataframe tbody tr th {\n",
       "        vertical-align: top;\n",
       "    }\n",
       "\n",
       "    .dataframe thead th {\n",
       "        text-align: right;\n",
       "    }\n",
       "</style>\n",
       "<table border=\"1\" class=\"dataframe\">\n",
       "  <thead>\n",
       "    <tr style=\"text-align: right;\">\n",
       "      <th></th>\n",
       "      <th>listing_id</th>\n",
       "      <th>id</th>\n",
       "      <th>date</th>\n",
       "      <th>reviewer_id</th>\n",
       "      <th>reviewer_name</th>\n",
       "      <th>comments</th>\n",
       "      <th>language</th>\n",
       "      <th>sentiment_en</th>\n",
       "    </tr>\n",
       "  </thead>\n",
       "  <tbody>\n",
       "    <tr>\n",
       "      <th>0</th>\n",
       "      <td>27262</td>\n",
       "      <td>2362781</td>\n",
       "      <td>2012-09-21</td>\n",
       "      <td>3415451</td>\n",
       "      <td>Sian</td>\n",
       "      <td>The trip was amazing!! Emmanouil was a brillia...</td>\n",
       "      <td>en</td>\n",
       "      <td>POSITIVE</td>\n",
       "    </tr>\n",
       "    <tr>\n",
       "      <th>1</th>\n",
       "      <td>27262</td>\n",
       "      <td>31962656</td>\n",
       "      <td>2015-05-12</td>\n",
       "      <td>30220642</td>\n",
       "      <td>Ace</td>\n",
       "      <td>Great host and lovely flat we stayed here for ...</td>\n",
       "      <td>en</td>\n",
       "      <td>POSITIVE</td>\n",
       "    </tr>\n",
       "    <tr>\n",
       "      <th>2</th>\n",
       "      <td>27262</td>\n",
       "      <td>35610419</td>\n",
       "      <td>2015-06-20</td>\n",
       "      <td>35701367</td>\n",
       "      <td>Carole</td>\n",
       "      <td>Manos is a wonderful host, he is very helpful ...</td>\n",
       "      <td>en</td>\n",
       "      <td>POSITIVE</td>\n",
       "    </tr>\n",
       "    <tr>\n",
       "      <th>3</th>\n",
       "      <td>27262</td>\n",
       "      <td>56342611</td>\n",
       "      <td>2015-12-12</td>\n",
       "      <td>31391271</td>\n",
       "      <td>Sarah</td>\n",
       "      <td>Manos made us feel very welcome, showed us aro...</td>\n",
       "      <td>en</td>\n",
       "      <td>POSITIVE</td>\n",
       "    </tr>\n",
       "    <tr>\n",
       "      <th>4</th>\n",
       "      <td>27262</td>\n",
       "      <td>56699344</td>\n",
       "      <td>2015-12-16</td>\n",
       "      <td>28705058</td>\n",
       "      <td>Ioannis</td>\n",
       "      <td>The apartment is well-equipped and beautifully...</td>\n",
       "      <td>en</td>\n",
       "      <td>POSITIVE</td>\n",
       "    </tr>\n",
       "  </tbody>\n",
       "</table>\n",
       "</div>"
      ],
      "text/plain": [
       "   listing_id        id        date  reviewer_id reviewer_name  \\\n",
       "0       27262   2362781  2012-09-21      3415451          Sian   \n",
       "1       27262  31962656  2015-05-12     30220642           Ace   \n",
       "2       27262  35610419  2015-06-20     35701367        Carole   \n",
       "3       27262  56342611  2015-12-12     31391271         Sarah   \n",
       "4       27262  56699344  2015-12-16     28705058       Ioannis   \n",
       "\n",
       "                                            comments language sentiment_en  \n",
       "0  The trip was amazing!! Emmanouil was a brillia...       en     POSITIVE  \n",
       "1  Great host and lovely flat we stayed here for ...       en     POSITIVE  \n",
       "2  Manos is a wonderful host, he is very helpful ...       en     POSITIVE  \n",
       "3  Manos made us feel very welcome, showed us aro...       en     POSITIVE  \n",
       "4  The apartment is well-equipped and beautifully...       en     POSITIVE  "
      ]
     },
     "metadata": {},
     "output_type": "display_data"
    }
   ],
   "source": [
    "print(f\"English reviews shape: {english_reviews.shape}\")\n",
    "display(english_reviews.head(5))"
   ]
  },
  {
   "cell_type": "code",
   "execution_count": 6,
   "id": "c47338e1",
   "metadata": {},
   "outputs": [
    {
     "name": "stdout",
     "output_type": "stream",
     "text": [
      "Reviews shape: (1982822, 7)\n"
     ]
    },
    {
     "data": {
      "text/html": [
       "<div>\n",
       "<style scoped>\n",
       "    .dataframe tbody tr th:only-of-type {\n",
       "        vertical-align: middle;\n",
       "    }\n",
       "\n",
       "    .dataframe tbody tr th {\n",
       "        vertical-align: top;\n",
       "    }\n",
       "\n",
       "    .dataframe thead th {\n",
       "        text-align: right;\n",
       "    }\n",
       "</style>\n",
       "<table border=\"1\" class=\"dataframe\">\n",
       "  <thead>\n",
       "    <tr style=\"text-align: right;\">\n",
       "      <th></th>\n",
       "      <th>listing_id</th>\n",
       "      <th>id</th>\n",
       "      <th>date</th>\n",
       "      <th>reviewer_id</th>\n",
       "      <th>reviewer_name</th>\n",
       "      <th>comments</th>\n",
       "      <th>language</th>\n",
       "    </tr>\n",
       "  </thead>\n",
       "  <tbody>\n",
       "    <tr>\n",
       "      <th>0</th>\n",
       "      <td>27262</td>\n",
       "      <td>2362781</td>\n",
       "      <td>2012-09-21</td>\n",
       "      <td>3415451</td>\n",
       "      <td>Sian</td>\n",
       "      <td>The trip was amazing!! Emmanouil was a brillia...</td>\n",
       "      <td>en</td>\n",
       "    </tr>\n",
       "    <tr>\n",
       "      <th>1</th>\n",
       "      <td>27262</td>\n",
       "      <td>31962656</td>\n",
       "      <td>2015-05-12</td>\n",
       "      <td>30220642</td>\n",
       "      <td>Ace</td>\n",
       "      <td>Great host and lovely flat we stayed here for ...</td>\n",
       "      <td>en</td>\n",
       "    </tr>\n",
       "    <tr>\n",
       "      <th>2</th>\n",
       "      <td>27262</td>\n",
       "      <td>35610419</td>\n",
       "      <td>2015-06-20</td>\n",
       "      <td>35701367</td>\n",
       "      <td>Carole</td>\n",
       "      <td>Manos is a wonderful host, he is very helpful ...</td>\n",
       "      <td>en</td>\n",
       "    </tr>\n",
       "    <tr>\n",
       "      <th>3</th>\n",
       "      <td>27262</td>\n",
       "      <td>53790022</td>\n",
       "      <td>2015-11-12</td>\n",
       "      <td>47390335</td>\n",
       "      <td>Κωνσταντίνα</td>\n",
       "      <td>Το σπίτι του κυρίου Εμμανουηλ ηταν πολύ ωραιο ...</td>\n",
       "      <td>el</td>\n",
       "    </tr>\n",
       "    <tr>\n",
       "      <th>4</th>\n",
       "      <td>27262</td>\n",
       "      <td>56342611</td>\n",
       "      <td>2015-12-12</td>\n",
       "      <td>31391271</td>\n",
       "      <td>Sarah</td>\n",
       "      <td>Manos made us feel very welcome, showed us aro...</td>\n",
       "      <td>en</td>\n",
       "    </tr>\n",
       "  </tbody>\n",
       "</table>\n",
       "</div>"
      ],
      "text/plain": [
       "   listing_id        id        date  reviewer_id reviewer_name  \\\n",
       "0       27262   2362781  2012-09-21      3415451          Sian   \n",
       "1       27262  31962656  2015-05-12     30220642           Ace   \n",
       "2       27262  35610419  2015-06-20     35701367        Carole   \n",
       "3       27262  53790022  2015-11-12     47390335   Κωνσταντίνα   \n",
       "4       27262  56342611  2015-12-12     31391271         Sarah   \n",
       "\n",
       "                                            comments language  \n",
       "0  The trip was amazing!! Emmanouil was a brillia...       en  \n",
       "1  Great host and lovely flat we stayed here for ...       en  \n",
       "2  Manos is a wonderful host, he is very helpful ...       en  \n",
       "3  Το σπίτι του κυρίου Εμμανουηλ ηταν πολύ ωραιο ...       el  \n",
       "4  Manos made us feel very welcome, showed us aro...       en  "
      ]
     },
     "metadata": {},
     "output_type": "display_data"
    }
   ],
   "source": [
    "print(f\"Reviews shape: {reviews_dataframe.shape}\")\n",
    "display(reviews_dataframe.head(5))"
   ]
  },
  {
   "cell_type": "markdown",
   "id": "20823bc5",
   "metadata": {},
   "source": [
    "#### Wiarygodność sentymentu"
   ]
  },
  {
   "cell_type": "code",
   "execution_count": 14,
   "id": "f9dd31cb",
   "metadata": {},
   "outputs": [
    {
     "name": "stdout",
     "output_type": "stream",
     "text": [
      "Review : If you are on a budget and you want to be in the center, this is the place for you.\n",
      "Sentiment : POSITIVE\n",
      "--------------------------------------------------\n",
      "Review : Sokratis is a very polite and attentive host. His fast communication was a great lifesaver. The balcony and terrace of the house were great. We enjoyed the view. It was a 20-minute walk to central points such as the Acropolis. We did not use any metro or car. Thank you Sokratis.\n",
      "Sentiment : POSITIVE\n",
      "--------------------------------------------------\n",
      "Review : Great value with a fantastic view\n",
      "Sentiment : POSITIVE\n",
      "--------------------------------------------------\n",
      "Review : This modern apartment is in an extraordinary good condition. We also felt very secure in the quarter. Thanks!\n",
      "Sentiment : POSITIVE\n",
      "--------------------------------------------------\n",
      "Review : The space was clean and the hospitality was great. The location is great and very metro accessible. Laurence and family was extremely accommodating and very quick response time. Great place!\n",
      "Sentiment : POSITIVE\n",
      "--------------------------------------------------\n",
      "Review : Great location near the heart of the city. Don’t plan to cook here but that’s ok as there are so many good places to eat out. Would definitely stay here again.\n",
      "Sentiment : POSITIVE\n",
      "--------------------------------------------------\n",
      "Review : Great studio apartment, just as shown!  Great location, very central in old Madrid, and Alvaro is especially welcoming.  I will stay again!\n",
      "Sentiment : POSITIVE\n",
      "--------------------------------------------------\n",
      "Review : Alvaro's place was nice and close to main attraction with lot of restaurants n cafes around .<br/>Both the AC's were broken n we had to open the windows to sleep but because there are few restaurants on the corner so had a lot of noise with music . FYI - there are 2 AC in the house , one in living room n one in main bedroom . There is no AC in 2nd bedroom and it has ceiling fan .<br/>I would suggest the host to check if all the amenities which are listed are working as it can cause lot of inconvenience to the guest . There should be no excuses later on\n",
      "Sentiment : NEGATIVE\n",
      "--------------------------------------------------\n"
     ]
    }
   ],
   "source": [
    "random_sentiment = english_reviews.sample(8)\n",
    "for index, row in random_sentiment.iterrows():\n",
    "    print(f\"Review : {row['comments']}\")\n",
    "    print(f\"Sentiment : {row['sentiment_en']}\")\n",
    "    print(\"-\" * 50)"
   ]
  },
  {
   "cell_type": "markdown",
   "id": "b36287cd",
   "metadata": {},
   "source": [
    "- Widać, że sentyment, niektórych opini jest dobrze rozpoznawany, aczkolwiek znajdują się przypadki, w których zdanie jest pozytywne a przypisana ocena jest negatywna"
   ]
  },
  {
   "cell_type": "markdown",
   "id": "a8125dfa",
   "metadata": {},
   "source": [
    "### Statystyki recenzji"
   ]
  },
  {
   "cell_type": "code",
   "execution_count": 19,
   "id": "461370f6",
   "metadata": {},
   "outputs": [
    {
     "name": "stdout",
     "output_type": "stream",
     "text": [
      "Positive comments percentage: 95.37%\n",
      "Negative comments percentage: 4.63%\n"
     ]
    }
   ],
   "source": [
    "total_comments = len(english_reviews)\n",
    "positive_percentage = (positive_comments_amount / total_comments) * 100\n",
    "negative_percentage = (negative_comments_amount / total_comments) * 100\n",
    "print(f\"Positive comments percentage: {positive_percentage:.2f}%\")\n",
    "print(f\"Negative comments percentage: {negative_percentage:.2f}%\")"
   ]
  },
  {
   "cell_type": "code",
   "execution_count": 20,
   "id": "92b55f0f",
   "metadata": {},
   "outputs": [
    {
     "name": "stderr",
     "output_type": "stream",
     "text": [
      "/tmp/ipykernel_353/3245099706.py:8: UserWarning: No artists with labels found to put in legend.  Note that artists whose label start with an underscore are ignored when legend() is called with no argument.\n",
      "  plt.legend(title='Sentiment', loc='upper right')\n"
     ]
    },
    {
     "data": {
      "text/plain": [
       "<matplotlib.legend.Legend at 0x7f29fc7da790>"
      ]
     },
     "execution_count": 20,
     "metadata": {},
     "output_type": "execute_result"
    },
    {
     "data": {
      "image/png": "[encoded data removed]",
      "text/plain": [
       "<Figure size 2000x800 with 1 Axes>"
      ]
     },
     "metadata": {},
     "output_type": "display_data"
    }
   ],
   "source": [
    "plt.figure(figsize=(20, 8))\n",
    "sns.countplot(data=english_reviews, x='sentiment_en', palette='Set2', hue='sentiment_en')\n",
    "plt.title('Sentiment Distribution of English Reviews')\n",
    "plt.text(0, positive_comments_amount // 2, f'{positive_comments_amount} = {positive_percentage:.2f}%', ha='center', va='bottom', fontsize=12)\n",
    "plt.text(1, negative_comments_amount // 3, f'{negative_comments_amount} = {negative_percentage:.2f}%', ha='center', va='bottom', fontsize=12)\n",
    "plt.xlabel('Sentiment')\n",
    "plt.ylabel('Count')\n",
    "plt.legend(title='Sentiment', loc='upper right')"
   ]
  },
  {
   "cell_type": "markdown",
   "id": "f059373b",
   "metadata": {},
   "source": [
    "#### Liczba recenzji na oferte"
   ]
  },
  {
   "cell_type": "code",
   "execution_count": 25,
   "id": "69daf2dd",
   "metadata": {},
   "outputs": [
    {
     "name": "stdout",
     "output_type": "stream",
     "text": [
      "Number of listings with reviews: 32420\n"
     ]
    },
    {
     "data": {
      "text/html": [
       "<div>\n",
       "<style scoped>\n",
       "    .dataframe tbody tr th:only-of-type {\n",
       "        vertical-align: middle;\n",
       "    }\n",
       "\n",
       "    .dataframe tbody tr th {\n",
       "        vertical-align: top;\n",
       "    }\n",
       "\n",
       "    .dataframe thead th {\n",
       "        text-align: right;\n",
       "    }\n",
       "</style>\n",
       "<table border=\"1\" class=\"dataframe\">\n",
       "  <thead>\n",
       "    <tr style=\"text-align: right;\">\n",
       "      <th></th>\n",
       "      <th>listing_id</th>\n",
       "      <th>total_reviews</th>\n",
       "    </tr>\n",
       "  </thead>\n",
       "  <tbody>\n",
       "    <tr>\n",
       "      <th>0</th>\n",
       "      <td>21853</td>\n",
       "      <td>33</td>\n",
       "    </tr>\n",
       "    <tr>\n",
       "      <th>1</th>\n",
       "      <td>27262</td>\n",
       "      <td>29</td>\n",
       "    </tr>\n",
       "    <tr>\n",
       "      <th>2</th>\n",
       "      <td>30320</td>\n",
       "      <td>172</td>\n",
       "    </tr>\n",
       "    <tr>\n",
       "      <th>3</th>\n",
       "      <td>30959</td>\n",
       "      <td>8</td>\n",
       "    </tr>\n",
       "    <tr>\n",
       "      <th>4</th>\n",
       "      <td>33945</td>\n",
       "      <td>78</td>\n",
       "    </tr>\n",
       "  </tbody>\n",
       "</table>\n",
       "</div>"
      ],
      "text/plain": [
       "   listing_id  total_reviews\n",
       "0       21853             33\n",
       "1       27262             29\n",
       "2       30320            172\n",
       "3       30959              8\n",
       "4       33945             78"
      ]
     },
     "execution_count": 25,
     "metadata": {},
     "output_type": "execute_result"
    }
   ],
   "source": [
    "reviews_per_listing = reviews_dataframe.groupby('listing_id').size().reset_index(name='total_reviews')\n",
    "print(f\"Number of listings with reviews: {len(reviews_per_listing)}\")\n",
    "reviews_per_listing.head(5)"
   ]
  },
  {
   "cell_type": "code",
   "execution_count": 26,
   "id": "ca1f7618",
   "metadata": {},
   "outputs": [
    {
     "name": "stdout",
     "output_type": "stream",
     "text": [
      "Number of listings with English reviews: 28575\n"
     ]
    },
    {
     "data": {
      "text/html": [
       "<div>\n",
       "<style scoped>\n",
       "    .dataframe tbody tr th:only-of-type {\n",
       "        vertical-align: middle;\n",
       "    }\n",
       "\n",
       "    .dataframe tbody tr th {\n",
       "        vertical-align: top;\n",
       "    }\n",
       "\n",
       "    .dataframe thead th {\n",
       "        text-align: right;\n",
       "    }\n",
       "</style>\n",
       "<table border=\"1\" class=\"dataframe\">\n",
       "  <thead>\n",
       "    <tr style=\"text-align: right;\">\n",
       "      <th></th>\n",
       "      <th>listing_id</th>\n",
       "      <th>total_english_reviews</th>\n",
       "    </tr>\n",
       "  </thead>\n",
       "  <tbody>\n",
       "    <tr>\n",
       "      <th>0</th>\n",
       "      <td>21853</td>\n",
       "      <td>17</td>\n",
       "    </tr>\n",
       "    <tr>\n",
       "      <th>1</th>\n",
       "      <td>27262</td>\n",
       "      <td>17</td>\n",
       "    </tr>\n",
       "    <tr>\n",
       "      <th>2</th>\n",
       "      <td>30320</td>\n",
       "      <td>133</td>\n",
       "    </tr>\n",
       "    <tr>\n",
       "      <th>3</th>\n",
       "      <td>30959</td>\n",
       "      <td>4</td>\n",
       "    </tr>\n",
       "    <tr>\n",
       "      <th>4</th>\n",
       "      <td>33945</td>\n",
       "      <td>60</td>\n",
       "    </tr>\n",
       "  </tbody>\n",
       "</table>\n",
       "</div>"
      ],
      "text/plain": [
       "   listing_id  total_english_reviews\n",
       "0       21853                     17\n",
       "1       27262                     17\n",
       "2       30320                    133\n",
       "3       30959                      4\n",
       "4       33945                     60"
      ]
     },
     "execution_count": 26,
     "metadata": {},
     "output_type": "execute_result"
    }
   ],
   "source": [
    "english_reviews_per_listing = english_reviews.groupby('listing_id').size().reset_index(name='total_english_reviews')\n",
    "print(f\"Number of listings with English reviews: {len(english_reviews_per_listing)}\")\n",
    "english_reviews_per_listing.head(5)"
   ]
  },
  {
   "cell_type": "code",
   "execution_count": 28,
   "id": "2289aa3c",
   "metadata": {},
   "outputs": [
    {
     "name": "stdout",
     "output_type": "stream",
     "text": [
      "Reshaped DataFrame shape: (28575, 3)\n"
     ]
    },
    {
     "data": {
      "text/html": [
       "<div>\n",
       "<style scoped>\n",
       "    .dataframe tbody tr th:only-of-type {\n",
       "        vertical-align: middle;\n",
       "    }\n",
       "\n",
       "    .dataframe tbody tr th {\n",
       "        vertical-align: top;\n",
       "    }\n",
       "\n",
       "    .dataframe thead th {\n",
       "        text-align: right;\n",
       "    }\n",
       "</style>\n",
       "<table border=\"1\" class=\"dataframe\">\n",
       "  <thead>\n",
       "    <tr style=\"text-align: right;\">\n",
       "      <th>sentiment_en</th>\n",
       "      <th>listing_id</th>\n",
       "      <th>count_negative_english</th>\n",
       "      <th>count_positive_english</th>\n",
       "    </tr>\n",
       "  </thead>\n",
       "  <tbody>\n",
       "    <tr>\n",
       "      <th>0</th>\n",
       "      <td>21853</td>\n",
       "      <td>1.0</td>\n",
       "      <td>16.0</td>\n",
       "    </tr>\n",
       "    <tr>\n",
       "      <th>1</th>\n",
       "      <td>27262</td>\n",
       "      <td>0.0</td>\n",
       "      <td>17.0</td>\n",
       "    </tr>\n",
       "    <tr>\n",
       "      <th>2</th>\n",
       "      <td>30320</td>\n",
       "      <td>15.0</td>\n",
       "      <td>118.0</td>\n",
       "    </tr>\n",
       "    <tr>\n",
       "      <th>3</th>\n",
       "      <td>30959</td>\n",
       "      <td>0.0</td>\n",
       "      <td>4.0</td>\n",
       "    </tr>\n",
       "    <tr>\n",
       "      <th>4</th>\n",
       "      <td>33945</td>\n",
       "      <td>2.0</td>\n",
       "      <td>58.0</td>\n",
       "    </tr>\n",
       "  </tbody>\n",
       "</table>\n",
       "</div>"
      ],
      "text/plain": [
       "sentiment_en  listing_id  count_negative_english  count_positive_english\n",
       "0                  21853                     1.0                    16.0\n",
       "1                  27262                     0.0                    17.0\n",
       "2                  30320                    15.0                   118.0\n",
       "3                  30959                     0.0                     4.0\n",
       "4                  33945                     2.0                    58.0"
      ]
     },
     "execution_count": 28,
     "metadata": {},
     "output_type": "execute_result"
    }
   ],
   "source": [
    "english_pos_neg = english_reviews.groupby(['listing_id', 'sentiment_en']).size().reset_index(name='count')\n",
    "\n",
    "reshaped = english_pos_neg.pivot(index='listing_id', columns='sentiment_en', values='count').reset_index()\n",
    "reshaped = reshaped.rename(columns={'POSITIVE': 'count_positive_english', 'NEGATIVE': 'count_negative_english'})\n",
    "reshaped.fillna(0, inplace=True)\n",
    "\n",
    "print(f\"Reshaped DataFrame shape: {reshaped.shape}\")\n",
    "reshaped.head(5)"
   ]
  },
  {
   "cell_type": "code",
   "execution_count": 29,
   "id": "6d032989",
   "metadata": {},
   "outputs": [
    {
     "name": "stdout",
     "output_type": "stream",
     "text": [
      "Merged DataFrame shape: (32420, 5)\n"
     ]
    },
    {
     "data": {
      "text/html": [
       "<div>\n",
       "<style scoped>\n",
       "    .dataframe tbody tr th:only-of-type {\n",
       "        vertical-align: middle;\n",
       "    }\n",
       "\n",
       "    .dataframe tbody tr th {\n",
       "        vertical-align: top;\n",
       "    }\n",
       "\n",
       "    .dataframe thead th {\n",
       "        text-align: right;\n",
       "    }\n",
       "</style>\n",
       "<table border=\"1\" class=\"dataframe\">\n",
       "  <thead>\n",
       "    <tr style=\"text-align: right;\">\n",
       "      <th></th>\n",
       "      <th>listing_id</th>\n",
       "      <th>total_reviews</th>\n",
       "      <th>total_english_reviews</th>\n",
       "      <th>count_negative_english</th>\n",
       "      <th>count_positive_english</th>\n",
       "    </tr>\n",
       "  </thead>\n",
       "  <tbody>\n",
       "    <tr>\n",
       "      <th>0</th>\n",
       "      <td>21853</td>\n",
       "      <td>33</td>\n",
       "      <td>17.0</td>\n",
       "      <td>1.0</td>\n",
       "      <td>16.0</td>\n",
       "    </tr>\n",
       "    <tr>\n",
       "      <th>1</th>\n",
       "      <td>27262</td>\n",
       "      <td>29</td>\n",
       "      <td>17.0</td>\n",
       "      <td>0.0</td>\n",
       "      <td>17.0</td>\n",
       "    </tr>\n",
       "    <tr>\n",
       "      <th>2</th>\n",
       "      <td>30320</td>\n",
       "      <td>172</td>\n",
       "      <td>133.0</td>\n",
       "      <td>15.0</td>\n",
       "      <td>118.0</td>\n",
       "    </tr>\n",
       "    <tr>\n",
       "      <th>3</th>\n",
       "      <td>30959</td>\n",
       "      <td>8</td>\n",
       "      <td>4.0</td>\n",
       "      <td>0.0</td>\n",
       "      <td>4.0</td>\n",
       "    </tr>\n",
       "    <tr>\n",
       "      <th>4</th>\n",
       "      <td>33945</td>\n",
       "      <td>78</td>\n",
       "      <td>60.0</td>\n",
       "      <td>2.0</td>\n",
       "      <td>58.0</td>\n",
       "    </tr>\n",
       "  </tbody>\n",
       "</table>\n",
       "</div>"
      ],
      "text/plain": [
       "   listing_id  total_reviews  total_english_reviews  count_negative_english  \\\n",
       "0       21853             33                   17.0                     1.0   \n",
       "1       27262             29                   17.0                     0.0   \n",
       "2       30320            172                  133.0                    15.0   \n",
       "3       30959              8                    4.0                     0.0   \n",
       "4       33945             78                   60.0                     2.0   \n",
       "\n",
       "   count_positive_english  \n",
       "0                    16.0  \n",
       "1                    17.0  \n",
       "2                   118.0  \n",
       "3                     4.0  \n",
       "4                    58.0  "
      ]
     },
     "execution_count": 29,
     "metadata": {},
     "output_type": "execute_result"
    }
   ],
   "source": [
    "merged_reviews_statistics = pd.merge(\n",
    "    reviews_per_listing,\n",
    "    english_reviews_per_listing,\n",
    "    on='listing_id',\n",
    "    how='left'\n",
    ")\n",
    "merged_reviews_statistics = pd.merge(\n",
    "    merged_reviews_statistics,\n",
    "    reshaped,\n",
    "    on='listing_id',\n",
    "    how='left'\n",
    ")\n",
    "merged_reviews_statistics.fillna(0, inplace=True)\n",
    "print(f\"Merged DataFrame shape: {merged_reviews_statistics.shape}\")\n",
    "merged_reviews_statistics.head(5)"
   ]
  },
  {
   "cell_type": "code",
   "execution_count": 37,
   "id": "e7eec540",
   "metadata": {},
   "outputs": [
    {
     "data": {
      "text/html": [
       "<div>\n",
       "<style scoped>\n",
       "    .dataframe tbody tr th:only-of-type {\n",
       "        vertical-align: middle;\n",
       "    }\n",
       "\n",
       "    .dataframe tbody tr th {\n",
       "        vertical-align: top;\n",
       "    }\n",
       "\n",
       "    .dataframe thead th {\n",
       "        text-align: right;\n",
       "    }\n",
       "</style>\n",
       "<table border=\"1\" class=\"dataframe\">\n",
       "  <thead>\n",
       "    <tr style=\"text-align: right;\">\n",
       "      <th></th>\n",
       "      <th>listing_id</th>\n",
       "      <th>total_reviews</th>\n",
       "      <th>total_english_reviews</th>\n",
       "      <th>count_negative_english</th>\n",
       "      <th>count_positive_english</th>\n",
       "    </tr>\n",
       "  </thead>\n",
       "  <tbody>\n",
       "    <tr>\n",
       "      <th>32394</th>\n",
       "      <td>1360150258394293784</td>\n",
       "      <td>1</td>\n",
       "      <td>0.0</td>\n",
       "      <td>0.0</td>\n",
       "      <td>0.0</td>\n",
       "    </tr>\n",
       "    <tr>\n",
       "      <th>32395</th>\n",
       "      <td>1360216172951139981</td>\n",
       "      <td>1</td>\n",
       "      <td>1.0</td>\n",
       "      <td>0.0</td>\n",
       "      <td>1.0</td>\n",
       "    </tr>\n",
       "    <tr>\n",
       "      <th>32396</th>\n",
       "      <td>1360283669957519009</td>\n",
       "      <td>1</td>\n",
       "      <td>0.0</td>\n",
       "      <td>0.0</td>\n",
       "      <td>0.0</td>\n",
       "    </tr>\n",
       "    <tr>\n",
       "      <th>25545</th>\n",
       "      <td>1120031122531680720</td>\n",
       "      <td>1</td>\n",
       "      <td>0.0</td>\n",
       "      <td>0.0</td>\n",
       "      <td>0.0</td>\n",
       "    </tr>\n",
       "    <tr>\n",
       "      <th>25546</th>\n",
       "      <td>1120077951567864313</td>\n",
       "      <td>1</td>\n",
       "      <td>1.0</td>\n",
       "      <td>0.0</td>\n",
       "      <td>1.0</td>\n",
       "    </tr>\n",
       "    <tr>\n",
       "      <th>25551</th>\n",
       "      <td>1120131876740468160</td>\n",
       "      <td>1</td>\n",
       "      <td>1.0</td>\n",
       "      <td>0.0</td>\n",
       "      <td>1.0</td>\n",
       "    </tr>\n",
       "    <tr>\n",
       "      <th>30383</th>\n",
       "      <td>1262788213193849396</td>\n",
       "      <td>1</td>\n",
       "      <td>1.0</td>\n",
       "      <td>0.0</td>\n",
       "      <td>1.0</td>\n",
       "    </tr>\n",
       "    <tr>\n",
       "      <th>30386</th>\n",
       "      <td>1262805065517684702</td>\n",
       "      <td>1</td>\n",
       "      <td>0.0</td>\n",
       "      <td>0.0</td>\n",
       "      <td>0.0</td>\n",
       "    </tr>\n",
       "    <tr>\n",
       "      <th>2924</th>\n",
       "      <td>18001589</td>\n",
       "      <td>1</td>\n",
       "      <td>1.0</td>\n",
       "      <td>0.0</td>\n",
       "      <td>1.0</td>\n",
       "    </tr>\n",
       "    <tr>\n",
       "      <th>2928</th>\n",
       "      <td>18011722</td>\n",
       "      <td>1</td>\n",
       "      <td>0.0</td>\n",
       "      <td>0.0</td>\n",
       "      <td>0.0</td>\n",
       "    </tr>\n",
       "  </tbody>\n",
       "</table>\n",
       "</div>"
      ],
      "text/plain": [
       "                listing_id  total_reviews  total_english_reviews  \\\n",
       "32394  1360150258394293784              1                    0.0   \n",
       "32395  1360216172951139981              1                    1.0   \n",
       "32396  1360283669957519009              1                    0.0   \n",
       "25545  1120031122531680720              1                    0.0   \n",
       "25546  1120077951567864313              1                    1.0   \n",
       "25551  1120131876740468160              1                    1.0   \n",
       "30383  1262788213193849396              1                    1.0   \n",
       "30386  1262805065517684702              1                    0.0   \n",
       "2924              18001589              1                    1.0   \n",
       "2928              18011722              1                    0.0   \n",
       "\n",
       "       count_negative_english  count_positive_english  \n",
       "32394                     0.0                     0.0  \n",
       "32395                     0.0                     1.0  \n",
       "32396                     0.0                     0.0  \n",
       "25545                     0.0                     0.0  \n",
       "25546                     0.0                     1.0  \n",
       "25551                     0.0                     1.0  \n",
       "30383                     0.0                     1.0  \n",
       "30386                     0.0                     0.0  \n",
       "2924                      0.0                     1.0  \n",
       "2928                      0.0                     0.0  "
      ]
     },
     "execution_count": 37,
     "metadata": {},
     "output_type": "execute_result"
    }
   ],
   "source": [
    "merged_reviews_statistics.sort_values(by='total_reviews', ascending=True).head(10)"
   ]
  },
  {
   "cell_type": "code",
   "execution_count": 38,
   "id": "2f4bb11d",
   "metadata": {},
   "outputs": [
    {
     "name": "stdout",
     "output_type": "stream",
     "text": [
      "Number of listings without English reviews: 3845\n"
     ]
    }
   ],
   "source": [
    "lisitngs_without_english_reviews = merged_reviews_statistics[merged_reviews_statistics['total_english_reviews'] == 0]\n",
    "print(f\"Number of listings without English reviews: {len(lisitngs_without_english_reviews)}\")"
   ]
  },
  {
   "cell_type": "markdown",
   "id": "f50d5ace",
   "metadata": {},
   "source": [
    "#### Zapisanie do csv.zst"
   ]
  },
  {
   "cell_type": "code",
   "execution_count": 34,
   "id": "6a6189e7",
   "metadata": {},
   "outputs": [
    {
     "name": "stdout",
     "output_type": "stream",
     "text": [
      "Compressed to file ../data/processed/merged_reviews_statistics.csv.zst with size 367457 bytes\n"
     ]
    }
   ],
   "source": [
    "compress_dataframe_to_zst(\n",
    "    merged_reviews_statistics,\n",
    "    '../data/processed/merged_reviews_statistics.csv.zst'\n",
    ")"
   ]
  },
  {
   "cell_type": "code",
   "execution_count": 35,
   "id": "0d263cca",
   "metadata": {},
   "outputs": [
    {
     "data": {
      "text/html": [
       "<div>\n",
       "<style scoped>\n",
       "    .dataframe tbody tr th:only-of-type {\n",
       "        vertical-align: middle;\n",
       "    }\n",
       "\n",
       "    .dataframe tbody tr th {\n",
       "        vertical-align: top;\n",
       "    }\n",
       "\n",
       "    .dataframe thead th {\n",
       "        text-align: right;\n",
       "    }\n",
       "</style>\n",
       "<table border=\"1\" class=\"dataframe\">\n",
       "  <thead>\n",
       "    <tr style=\"text-align: right;\">\n",
       "      <th></th>\n",
       "      <th>listing_id</th>\n",
       "      <th>total_reviews</th>\n",
       "      <th>total_english_reviews</th>\n",
       "      <th>count_negative_english</th>\n",
       "      <th>count_positive_english</th>\n",
       "    </tr>\n",
       "  </thead>\n",
       "  <tbody>\n",
       "    <tr>\n",
       "      <th>0</th>\n",
       "      <td>21853</td>\n",
       "      <td>33</td>\n",
       "      <td>17.0</td>\n",
       "      <td>1.0</td>\n",
       "      <td>16.0</td>\n",
       "    </tr>\n",
       "    <tr>\n",
       "      <th>1</th>\n",
       "      <td>27262</td>\n",
       "      <td>29</td>\n",
       "      <td>17.0</td>\n",
       "      <td>0.0</td>\n",
       "      <td>17.0</td>\n",
       "    </tr>\n",
       "    <tr>\n",
       "      <th>2</th>\n",
       "      <td>30320</td>\n",
       "      <td>172</td>\n",
       "      <td>133.0</td>\n",
       "      <td>15.0</td>\n",
       "      <td>118.0</td>\n",
       "    </tr>\n",
       "    <tr>\n",
       "      <th>3</th>\n",
       "      <td>30959</td>\n",
       "      <td>8</td>\n",
       "      <td>4.0</td>\n",
       "      <td>0.0</td>\n",
       "      <td>4.0</td>\n",
       "    </tr>\n",
       "    <tr>\n",
       "      <th>4</th>\n",
       "      <td>33945</td>\n",
       "      <td>78</td>\n",
       "      <td>60.0</td>\n",
       "      <td>2.0</td>\n",
       "      <td>58.0</td>\n",
       "    </tr>\n",
       "  </tbody>\n",
       "</table>\n",
       "</div>"
      ],
      "text/plain": [
       "   listing_id  total_reviews  total_english_reviews  count_negative_english  \\\n",
       "0       21853             33                   17.0                     1.0   \n",
       "1       27262             29                   17.0                     0.0   \n",
       "2       30320            172                  133.0                    15.0   \n",
       "3       30959              8                    4.0                     0.0   \n",
       "4       33945             78                   60.0                     2.0   \n",
       "\n",
       "   count_positive_english  \n",
       "0                    16.0  \n",
       "1                    17.0  \n",
       "2                   118.0  \n",
       "3                     4.0  \n",
       "4                    58.0  "
      ]
     },
     "execution_count": 35,
     "metadata": {},
     "output_type": "execute_result"
    }
   ],
   "source": [
    "df = create_dataframe_from_csv_zst(\n",
    "    '../data/processed/merged_reviews_statistics.csv.zst'\n",
    ")\n",
    "\n",
    "df.head(5)"
   ]
  }
 ],
 "metadata": {
  "kernelspec": {
   "display_name": "ium-long-stay-insights-DB1IbSqe-py3.12",
   "language": "python",
   "name": "python3"
  },
  "language_info": {
   "codemirror_mode": {
    "name": "ipython",
    "version": 3
   },
   "file_extension": ".py",
   "mimetype": "text/x-python",
   "name": "python",
   "nbconvert_exporter": "python",
   "pygments_lexer": "ipython3",
   "version": "3.11.10"
  }
 },
 "nbformat": 4,
 "nbformat_minor": 5
}
