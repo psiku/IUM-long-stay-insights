{
 "cells": [
  {
   "cell_type": "markdown",
   "id": "10c62b90",
   "metadata": {},
   "source": [
    "### Biblioteki"
   ]
  },
  {
   "cell_type": "code",
   "execution_count": 66,
   "id": "0a505405",
   "metadata": {},
   "outputs": [],
   "source": [
    "import torch\n",
    "import torch.nn as nn\n",
    "import torch.nn.functional as F\n",
    "import zstandard as zstd\n",
    "import io\n",
    "\n",
    "import numpy as np\n",
    "import pandas as pd\n",
    "from tqdm import tqdm\n",
    "\n",
    "from sklearn.model_selection import train_test_split\n",
    "from sklearn.metrics import accuracy_score, roc_auc_score, average_precision_score\n",
    "\n",
    "from torch.utils.data import TensorDataset, DataLoader"
   ]
  },
  {
   "cell_type": "markdown",
   "id": "8ffdb859",
   "metadata": {},
   "source": [
    "### Finałowy dataset"
   ]
  },
  {
   "cell_type": "code",
   "execution_count": 7,
   "id": "e2eb1141",
   "metadata": {},
   "outputs": [],
   "source": [
    "def create_dataframe_from_csv_zst(filepath: str) -> pd.DataFrame:\n",
    "    dctx = zstd.ZstdDecompressor()\n",
    "    with open(filepath, 'rb') as compressed:\n",
    "        with dctx.stream_reader(compressed) as reader:\n",
    "            decompressed = io.TextIOWrapper(reader, encoding='utf-8')\n",
    "            df = pd.read_csv(\n",
    "                decompressed,\n",
    "                low_memory=True\n",
    "            )\n",
    "    return df"
   ]
  },
  {
   "cell_type": "code",
   "execution_count": 33,
   "id": "1d6f5c1b",
   "metadata": {},
   "outputs": [],
   "source": [
    "AMENITIES_PATH = \"../data/processed/amenities_stats.csv.zst\"\n",
    "REVIEWS_STATISTICS_PATH = \"../data/processed/merged_reviews_statistics.csv.zst\"\n",
    "LISTINGS_PATH = \"../data/raw/v2/listings.csv.zst\"\n",
    "SESSIONS_STATISTICS_PATH = \"../data/processed/listings_statistics.csv\""
   ]
  },
  {
   "cell_type": "code",
   "execution_count": 10,
   "id": "618827f7",
   "metadata": {},
   "outputs": [
    {
     "name": "stderr",
     "output_type": "stream",
     "text": [
      "/tmp/ipykernel_1151/3230345688.py:6: DtypeWarning: Columns (29) have mixed types. Specify dtype option on import or set low_memory=False.\n",
      "  df = pd.read_csv(\n"
     ]
    }
   ],
   "source": [
    "amenities_df = create_dataframe_from_csv_zst(AMENITIES_PATH)\n",
    "reviews_statistics_df = create_dataframe_from_csv_zst(REVIEWS_STATISTICS_PATH)\n",
    "listings_df = create_dataframe_from_csv_zst(LISTINGS_PATH)"
   ]
  },
  {
   "cell_type": "code",
   "execution_count": 11,
   "id": "63204e99",
   "metadata": {},
   "outputs": [
    {
     "data": {
      "text/html": [
       "<div>\n",
       "<style scoped>\n",
       "    .dataframe tbody tr th:only-of-type {\n",
       "        vertical-align: middle;\n",
       "    }\n",
       "\n",
       "    .dataframe tbody tr th {\n",
       "        vertical-align: top;\n",
       "    }\n",
       "\n",
       "    .dataframe thead th {\n",
       "        text-align: right;\n",
       "    }\n",
       "</style>\n",
       "<table border=\"1\" class=\"dataframe\">\n",
       "  <thead>\n",
       "    <tr style=\"text-align: right;\">\n",
       "      <th></th>\n",
       "      <th>id</th>\n",
       "      <th>amenities</th>\n",
       "      <th>standardized_amenities</th>\n",
       "      <th>num_of_amenities</th>\n",
       "      <th>num_of_other_amenities</th>\n",
       "      <th>has_wifi</th>\n",
       "      <th>has_air_conditioning</th>\n",
       "      <th>num_of_top_10_common_amenities</th>\n",
       "      <th>mean_embedding</th>\n",
       "    </tr>\n",
       "  </thead>\n",
       "  <tbody>\n",
       "    <tr>\n",
       "      <th>0</th>\n",
       "      <td>27262</td>\n",
       "      <td>[\"Heating - split type ductless system\", \"Dish...</td>\n",
       "      <td>['OTHER', 'OTHER', 'OTHER', 'OTHER', 'Refriger...</td>\n",
       "      <td>37</td>\n",
       "      <td>25</td>\n",
       "      <td>True</td>\n",
       "      <td>False</td>\n",
       "      <td>9</td>\n",
       "      <td>[-6.15361333e-02 -5.01407236e-02 -3.76954190e-...</td>\n",
       "    </tr>\n",
       "    <tr>\n",
       "      <th>1</th>\n",
       "      <td>809874</td>\n",
       "      <td>[\"Host greets you\", \"Dishes and silverware\", \"...</td>\n",
       "      <td>['OTHER', 'OTHER', 'Washer', 'TV', 'OTHER', 'R...</td>\n",
       "      <td>21</td>\n",
       "      <td>12</td>\n",
       "      <td>True</td>\n",
       "      <td>True</td>\n",
       "      <td>7</td>\n",
       "      <td>[-5.95615655e-02 -3.39257978e-02 -3.55266146e-...</td>\n",
       "    </tr>\n",
       "    <tr>\n",
       "      <th>2</th>\n",
       "      <td>866381</td>\n",
       "      <td>[\"Coffee\", \"Dishes and silverware\", \"Washer\", ...</td>\n",
       "      <td>['Coffee maker', 'OTHER', 'Washer', 'Condition...</td>\n",
       "      <td>49</td>\n",
       "      <td>29</td>\n",
       "      <td>True</td>\n",
       "      <td>True</td>\n",
       "      <td>12</td>\n",
       "      <td>[-5.62126637e-02 -3.99859361e-02 -3.53127755e-...</td>\n",
       "    </tr>\n",
       "    <tr>\n",
       "      <th>3</th>\n",
       "      <td>886724</td>\n",
       "      <td>[\"Host greets you\", \"Luggage dropoff allowed\",...</td>\n",
       "      <td>['OTHER', 'OTHER', 'Washer', 'OTHER', 'OTHER',...</td>\n",
       "      <td>20</td>\n",
       "      <td>13</td>\n",
       "      <td>True</td>\n",
       "      <td>True</td>\n",
       "      <td>6</td>\n",
       "      <td>[-5.84196560e-02 -4.62852195e-02 -3.04865874e-...</td>\n",
       "    </tr>\n",
       "    <tr>\n",
       "      <th>4</th>\n",
       "      <td>896212</td>\n",
       "      <td>[\"Host greets you\", \"Coffee\", \"Dishes and silv...</td>\n",
       "      <td>['OTHER', 'Coffee maker', 'OTHER', 'OTHER', 'O...</td>\n",
       "      <td>45</td>\n",
       "      <td>31</td>\n",
       "      <td>True</td>\n",
       "      <td>True</td>\n",
       "      <td>9</td>\n",
       "      <td>[-5.81393391e-02 -4.77810428e-02 -4.26256545e-...</td>\n",
       "    </tr>\n",
       "  </tbody>\n",
       "</table>\n",
       "</div>"
      ],
      "text/plain": [
       "       id                                          amenities  \\\n",
       "0   27262  [\"Heating - split type ductless system\", \"Dish...   \n",
       "1  809874  [\"Host greets you\", \"Dishes and silverware\", \"...   \n",
       "2  866381  [\"Coffee\", \"Dishes and silverware\", \"Washer\", ...   \n",
       "3  886724  [\"Host greets you\", \"Luggage dropoff allowed\",...   \n",
       "4  896212  [\"Host greets you\", \"Coffee\", \"Dishes and silv...   \n",
       "\n",
       "                              standardized_amenities  num_of_amenities  \\\n",
       "0  ['OTHER', 'OTHER', 'OTHER', 'OTHER', 'Refriger...                37   \n",
       "1  ['OTHER', 'OTHER', 'Washer', 'TV', 'OTHER', 'R...                21   \n",
       "2  ['Coffee maker', 'OTHER', 'Washer', 'Condition...                49   \n",
       "3  ['OTHER', 'OTHER', 'Washer', 'OTHER', 'OTHER',...                20   \n",
       "4  ['OTHER', 'Coffee maker', 'OTHER', 'OTHER', 'O...                45   \n",
       "\n",
       "   num_of_other_amenities  has_wifi  has_air_conditioning  \\\n",
       "0                      25      True                 False   \n",
       "1                      12      True                  True   \n",
       "2                      29      True                  True   \n",
       "3                      13      True                  True   \n",
       "4                      31      True                  True   \n",
       "\n",
       "   num_of_top_10_common_amenities  \\\n",
       "0                               9   \n",
       "1                               7   \n",
       "2                              12   \n",
       "3                               6   \n",
       "4                               9   \n",
       "\n",
       "                                      mean_embedding  \n",
       "0  [-6.15361333e-02 -5.01407236e-02 -3.76954190e-...  \n",
       "1  [-5.95615655e-02 -3.39257978e-02 -3.55266146e-...  \n",
       "2  [-5.62126637e-02 -3.99859361e-02 -3.53127755e-...  \n",
       "3  [-5.84196560e-02 -4.62852195e-02 -3.04865874e-...  \n",
       "4  [-5.81393391e-02 -4.77810428e-02 -4.26256545e-...  "
      ]
     },
     "execution_count": 11,
     "metadata": {},
     "output_type": "execute_result"
    }
   ],
   "source": [
    "amenities_df.head(5)"
   ]
  },
  {
   "cell_type": "code",
   "execution_count": 12,
   "id": "0a92d58b",
   "metadata": {},
   "outputs": [
    {
     "data": {
      "text/html": [
       "<div>\n",
       "<style scoped>\n",
       "    .dataframe tbody tr th:only-of-type {\n",
       "        vertical-align: middle;\n",
       "    }\n",
       "\n",
       "    .dataframe tbody tr th {\n",
       "        vertical-align: top;\n",
       "    }\n",
       "\n",
       "    .dataframe thead th {\n",
       "        text-align: right;\n",
       "    }\n",
       "</style>\n",
       "<table border=\"1\" class=\"dataframe\">\n",
       "  <thead>\n",
       "    <tr style=\"text-align: right;\">\n",
       "      <th></th>\n",
       "      <th>listing_id</th>\n",
       "      <th>total_reviews</th>\n",
       "      <th>total_english_reviews</th>\n",
       "      <th>count_negative_english</th>\n",
       "      <th>count_positive_english</th>\n",
       "    </tr>\n",
       "  </thead>\n",
       "  <tbody>\n",
       "    <tr>\n",
       "      <th>0</th>\n",
       "      <td>21853</td>\n",
       "      <td>33</td>\n",
       "      <td>17.0</td>\n",
       "      <td>1.0</td>\n",
       "      <td>16.0</td>\n",
       "    </tr>\n",
       "    <tr>\n",
       "      <th>1</th>\n",
       "      <td>27262</td>\n",
       "      <td>29</td>\n",
       "      <td>17.0</td>\n",
       "      <td>0.0</td>\n",
       "      <td>17.0</td>\n",
       "    </tr>\n",
       "    <tr>\n",
       "      <th>2</th>\n",
       "      <td>30320</td>\n",
       "      <td>172</td>\n",
       "      <td>133.0</td>\n",
       "      <td>15.0</td>\n",
       "      <td>118.0</td>\n",
       "    </tr>\n",
       "    <tr>\n",
       "      <th>3</th>\n",
       "      <td>30959</td>\n",
       "      <td>8</td>\n",
       "      <td>4.0</td>\n",
       "      <td>0.0</td>\n",
       "      <td>4.0</td>\n",
       "    </tr>\n",
       "    <tr>\n",
       "      <th>4</th>\n",
       "      <td>33945</td>\n",
       "      <td>78</td>\n",
       "      <td>60.0</td>\n",
       "      <td>2.0</td>\n",
       "      <td>58.0</td>\n",
       "    </tr>\n",
       "  </tbody>\n",
       "</table>\n",
       "</div>"
      ],
      "text/plain": [
       "   listing_id  total_reviews  total_english_reviews  count_negative_english  \\\n",
       "0       21853             33                   17.0                     1.0   \n",
       "1       27262             29                   17.0                     0.0   \n",
       "2       30320            172                  133.0                    15.0   \n",
       "3       30959              8                    4.0                     0.0   \n",
       "4       33945             78                   60.0                     2.0   \n",
       "\n",
       "   count_positive_english  \n",
       "0                    16.0  \n",
       "1                    17.0  \n",
       "2                   118.0  \n",
       "3                     4.0  \n",
       "4                    58.0  "
      ]
     },
     "execution_count": 12,
     "metadata": {},
     "output_type": "execute_result"
    }
   ],
   "source": [
    "reviews_statistics_df.head(5)"
   ]
  },
  {
   "cell_type": "code",
   "execution_count": 13,
   "id": "8fa29491",
   "metadata": {},
   "outputs": [
    {
     "data": {
      "text/html": [
       "<div>\n",
       "<style scoped>\n",
       "    .dataframe tbody tr th:only-of-type {\n",
       "        vertical-align: middle;\n",
       "    }\n",
       "\n",
       "    .dataframe tbody tr th {\n",
       "        vertical-align: top;\n",
       "    }\n",
       "\n",
       "    .dataframe thead th {\n",
       "        text-align: right;\n",
       "    }\n",
       "</style>\n",
       "<table border=\"1\" class=\"dataframe\">\n",
       "  <thead>\n",
       "    <tr style=\"text-align: right;\">\n",
       "      <th></th>\n",
       "      <th>id</th>\n",
       "      <th>listing_url</th>\n",
       "      <th>scrape_id</th>\n",
       "      <th>last_scraped</th>\n",
       "      <th>source</th>\n",
       "      <th>name</th>\n",
       "      <th>description</th>\n",
       "      <th>neighborhood_overview</th>\n",
       "      <th>picture_url</th>\n",
       "      <th>host_id</th>\n",
       "      <th>...</th>\n",
       "      <th>instant_bookable</th>\n",
       "      <th>calculated_host_listings_count</th>\n",
       "      <th>calculated_host_listings_count_entire_homes</th>\n",
       "      <th>calculated_host_listings_count_private_rooms</th>\n",
       "      <th>calculated_host_listings_count_shared_rooms</th>\n",
       "      <th>reviews_per_month</th>\n",
       "      <th>availability_eoy</th>\n",
       "      <th>number_of_reviews_ly</th>\n",
       "      <th>estimated_occupancy_l365d</th>\n",
       "      <th>estimated_revenue_l365d</th>\n",
       "    </tr>\n",
       "  </thead>\n",
       "  <tbody>\n",
       "    <tr>\n",
       "      <th>0</th>\n",
       "      <td>27262</td>\n",
       "      <td>https://www.nocarz.pl/rooms/27262</td>\n",
       "      <td>20241225065837</td>\n",
       "      <td>2024-12-25</td>\n",
       "      <td>city scrape</td>\n",
       "      <td>AQA-No7, Great mattress, high speed internet</td>\n",
       "      <td>THE MATTRESS - KING KOIL - Camden Luxury 160x2...</td>\n",
       "      <td>NaN</td>\n",
       "      <td>https://a0.muscache.com/pictures/miso/Hosting-...</td>\n",
       "      <td>37177</td>\n",
       "      <td>...</td>\n",
       "      <td>t</td>\n",
       "      <td>1</td>\n",
       "      <td>1</td>\n",
       "      <td>0</td>\n",
       "      <td>0</td>\n",
       "      <td>0.19</td>\n",
       "      <td>NaN</td>\n",
       "      <td>NaN</td>\n",
       "      <td>NaN</td>\n",
       "      <td>NaN</td>\n",
       "    </tr>\n",
       "    <tr>\n",
       "      <th>1</th>\n",
       "      <td>809874</td>\n",
       "      <td>https://www.nocarz.pl/rooms/809874</td>\n",
       "      <td>20241225065837</td>\n",
       "      <td>2024-12-25</td>\n",
       "      <td>city scrape</td>\n",
       "      <td>Wonderfull Penthouse!!</td>\n",
       "      <td>NaN</td>\n",
       "      <td>NaN</td>\n",
       "      <td>https://a0.muscache.com/pictures/11813063/7d06...</td>\n",
       "      <td>4259738</td>\n",
       "      <td>...</td>\n",
       "      <td>f</td>\n",
       "      <td>1</td>\n",
       "      <td>1</td>\n",
       "      <td>0</td>\n",
       "      <td>0</td>\n",
       "      <td>0.68</td>\n",
       "      <td>NaN</td>\n",
       "      <td>NaN</td>\n",
       "      <td>NaN</td>\n",
       "      <td>NaN</td>\n",
       "    </tr>\n",
       "    <tr>\n",
       "      <th>2</th>\n",
       "      <td>866381</td>\n",
       "      <td>https://www.nocarz.pl/rooms/866381</td>\n",
       "      <td>20241225065837</td>\n",
       "      <td>2024-12-25</td>\n",
       "      <td>city scrape</td>\n",
       "      <td>Acropolis View Funky House</td>\n",
       "      <td>Welcome to a colorful 7th-floor penthouse in N...</td>\n",
       "      <td>NaN</td>\n",
       "      <td>https://a0.muscache.com/pictures/hosting/Hosti...</td>\n",
       "      <td>4551671</td>\n",
       "      <td>...</td>\n",
       "      <td>f</td>\n",
       "      <td>1</td>\n",
       "      <td>1</td>\n",
       "      <td>0</td>\n",
       "      <td>0</td>\n",
       "      <td>0.28</td>\n",
       "      <td>NaN</td>\n",
       "      <td>NaN</td>\n",
       "      <td>NaN</td>\n",
       "      <td>NaN</td>\n",
       "    </tr>\n",
       "    <tr>\n",
       "      <th>3</th>\n",
       "      <td>886724</td>\n",
       "      <td>https://www.nocarz.pl/rooms/886724</td>\n",
       "      <td>20241225065837</td>\n",
       "      <td>2024-12-25</td>\n",
       "      <td>city scrape</td>\n",
       "      <td>Luxury Boutique Appartment -Athens</td>\n",
       "      <td>NaN</td>\n",
       "      <td>The apartment is very conveniently located for...</td>\n",
       "      <td>https://a0.muscache.com/pictures/14659524/b33a...</td>\n",
       "      <td>4700824</td>\n",
       "      <td>...</td>\n",
       "      <td>f</td>\n",
       "      <td>1</td>\n",
       "      <td>1</td>\n",
       "      <td>0</td>\n",
       "      <td>0</td>\n",
       "      <td>0.14</td>\n",
       "      <td>NaN</td>\n",
       "      <td>NaN</td>\n",
       "      <td>NaN</td>\n",
       "      <td>NaN</td>\n",
       "    </tr>\n",
       "    <tr>\n",
       "      <th>4</th>\n",
       "      <td>896212</td>\n",
       "      <td>https://www.nocarz.pl/rooms/896212</td>\n",
       "      <td>20241225065837</td>\n",
       "      <td>2024-12-25</td>\n",
       "      <td>city scrape</td>\n",
       "      <td>Living like in a cottage in the center of Athens</td>\n",
       "      <td>An oasis of calm in the centre of a crowded ci...</td>\n",
       "      <td>Exarchia is considered the bohemian and altern...</td>\n",
       "      <td>https://a0.muscache.com/pictures/prohost-api/H...</td>\n",
       "      <td>4777984</td>\n",
       "      <td>...</td>\n",
       "      <td>t</td>\n",
       "      <td>13</td>\n",
       "      <td>13</td>\n",
       "      <td>0</td>\n",
       "      <td>0</td>\n",
       "      <td>3.58</td>\n",
       "      <td>NaN</td>\n",
       "      <td>NaN</td>\n",
       "      <td>NaN</td>\n",
       "      <td>NaN</td>\n",
       "    </tr>\n",
       "  </tbody>\n",
       "</table>\n",
       "<p>5 rows × 79 columns</p>\n",
       "</div>"
      ],
      "text/plain": [
       "       id                         listing_url       scrape_id last_scraped  \\\n",
       "0   27262   https://www.nocarz.pl/rooms/27262  20241225065837   2024-12-25   \n",
       "1  809874  https://www.nocarz.pl/rooms/809874  20241225065837   2024-12-25   \n",
       "2  866381  https://www.nocarz.pl/rooms/866381  20241225065837   2024-12-25   \n",
       "3  886724  https://www.nocarz.pl/rooms/886724  20241225065837   2024-12-25   \n",
       "4  896212  https://www.nocarz.pl/rooms/896212  20241225065837   2024-12-25   \n",
       "\n",
       "        source                                              name  \\\n",
       "0  city scrape      AQA-No7, Great mattress, high speed internet   \n",
       "1  city scrape                            Wonderfull Penthouse!!   \n",
       "2  city scrape                        Acropolis View Funky House   \n",
       "3  city scrape                Luxury Boutique Appartment -Athens   \n",
       "4  city scrape  Living like in a cottage in the center of Athens   \n",
       "\n",
       "                                         description  \\\n",
       "0  THE MATTRESS - KING KOIL - Camden Luxury 160x2...   \n",
       "1                                                NaN   \n",
       "2  Welcome to a colorful 7th-floor penthouse in N...   \n",
       "3                                                NaN   \n",
       "4  An oasis of calm in the centre of a crowded ci...   \n",
       "\n",
       "                               neighborhood_overview  \\\n",
       "0                                                NaN   \n",
       "1                                                NaN   \n",
       "2                                                NaN   \n",
       "3  The apartment is very conveniently located for...   \n",
       "4  Exarchia is considered the bohemian and altern...   \n",
       "\n",
       "                                         picture_url  host_id  ...  \\\n",
       "0  https://a0.muscache.com/pictures/miso/Hosting-...    37177  ...   \n",
       "1  https://a0.muscache.com/pictures/11813063/7d06...  4259738  ...   \n",
       "2  https://a0.muscache.com/pictures/hosting/Hosti...  4551671  ...   \n",
       "3  https://a0.muscache.com/pictures/14659524/b33a...  4700824  ...   \n",
       "4  https://a0.muscache.com/pictures/prohost-api/H...  4777984  ...   \n",
       "\n",
       "  instant_bookable calculated_host_listings_count  \\\n",
       "0                t                              1   \n",
       "1                f                              1   \n",
       "2                f                              1   \n",
       "3                f                              1   \n",
       "4                t                             13   \n",
       "\n",
       "  calculated_host_listings_count_entire_homes  \\\n",
       "0                                           1   \n",
       "1                                           1   \n",
       "2                                           1   \n",
       "3                                           1   \n",
       "4                                          13   \n",
       "\n",
       "  calculated_host_listings_count_private_rooms  \\\n",
       "0                                            0   \n",
       "1                                            0   \n",
       "2                                            0   \n",
       "3                                            0   \n",
       "4                                            0   \n",
       "\n",
       "  calculated_host_listings_count_shared_rooms reviews_per_month  \\\n",
       "0                                           0              0.19   \n",
       "1                                           0              0.68   \n",
       "2                                           0              0.28   \n",
       "3                                           0              0.14   \n",
       "4                                           0              3.58   \n",
       "\n",
       "  availability_eoy number_of_reviews_ly estimated_occupancy_l365d  \\\n",
       "0              NaN                  NaN                       NaN   \n",
       "1              NaN                  NaN                       NaN   \n",
       "2              NaN                  NaN                       NaN   \n",
       "3              NaN                  NaN                       NaN   \n",
       "4              NaN                  NaN                       NaN   \n",
       "\n",
       "  estimated_revenue_l365d  \n",
       "0                     NaN  \n",
       "1                     NaN  \n",
       "2                     NaN  \n",
       "3                     NaN  \n",
       "4                     NaN  \n",
       "\n",
       "[5 rows x 79 columns]"
      ]
     },
     "execution_count": 13,
     "metadata": {},
     "output_type": "execute_result"
    }
   ],
   "source": [
    "listings_df.head(5)"
   ]
  },
  {
   "cell_type": "code",
   "execution_count": 20,
   "id": "07cd60f9",
   "metadata": {},
   "outputs": [
    {
     "data": {
      "text/plain": [
       "Index(['id', 'listing_url', 'scrape_id', 'last_scraped', 'source', 'name',\n",
       "       'description', 'neighborhood_overview', 'picture_url', 'host_id',\n",
       "       'host_url', 'host_name', 'host_since', 'host_location', 'host_about',\n",
       "       'host_response_time', 'host_response_rate', 'host_acceptance_rate',\n",
       "       'host_is_superhost', 'host_thumbnail_url', 'host_picture_url',\n",
       "       'host_neighbourhood', 'host_listings_count',\n",
       "       'host_total_listings_count', 'host_verifications',\n",
       "       'host_has_profile_pic', 'host_identity_verified', 'neighbourhood',\n",
       "       'neighbourhood_cleansed', 'neighbourhood_group_cleansed', 'latitude',\n",
       "       'longitude', 'property_type', 'room_type', 'accommodates', 'bathrooms',\n",
       "       'bathrooms_text', 'bedrooms', 'beds', 'amenities', 'price',\n",
       "       'minimum_nights', 'maximum_nights', 'minimum_minimum_nights',\n",
       "       'maximum_minimum_nights', 'minimum_maximum_nights',\n",
       "       'maximum_maximum_nights', 'minimum_nights_avg_ntm',\n",
       "       'maximum_nights_avg_ntm', 'calendar_updated', 'has_availability',\n",
       "       'availability_30', 'availability_60', 'availability_90',\n",
       "       'availability_365', 'calendar_last_scraped', 'number_of_reviews',\n",
       "       'number_of_reviews_ltm', 'number_of_reviews_l30d', 'first_review',\n",
       "       'last_review', 'review_scores_rating', 'review_scores_accuracy',\n",
       "       'review_scores_cleanliness', 'review_scores_checkin',\n",
       "       'review_scores_communication', 'review_scores_location',\n",
       "       'review_scores_value', 'license', 'instant_bookable',\n",
       "       'calculated_host_listings_count',\n",
       "       'calculated_host_listings_count_entire_homes',\n",
       "       'calculated_host_listings_count_private_rooms',\n",
       "       'calculated_host_listings_count_shared_rooms', 'reviews_per_month',\n",
       "       'availability_eoy', 'number_of_reviews_ly', 'estimated_occupancy_l365d',\n",
       "       'estimated_revenue_l365d'],\n",
       "      dtype='object')"
      ]
     },
     "execution_count": 20,
     "metadata": {},
     "output_type": "execute_result"
    }
   ],
   "source": [
    "listings_df.columns"
   ]
  },
  {
   "cell_type": "code",
   "execution_count": 28,
   "id": "7dc89508",
   "metadata": {},
   "outputs": [],
   "source": [
    "interesting_columns = [\n",
    "    'id',\n",
    "    'host_is_superhost',\n",
    "    'host_verifications',\n",
    "    'host_acceptance_rate',\n",
    "    'neighbourhood_cleansed',\n",
    "    'latitude',\n",
    "    'longitude',\n",
    "    'property_type',\n",
    "    'room_type',\n",
    "    'accommodates',\n",
    "    'bathrooms',\n",
    "    'bathrooms_text',\n",
    "    'bedrooms',\n",
    "    'beds',\n",
    "    'price',\n",
    "    'license',\n",
    "    'review_scores_rating',\n",
    "    'review_scores_accuracy',\n",
    "    'review_scores_cleanliness',\n",
    "    'review_scores_checkin',\n",
    "    'review_scores_communication',\n",
    "    'review_scores_location',\n",
    "    'review_scores_value',\n",
    "    'instant_bookable',\n",
    "    'reviews_per_month',\n",
    "    'availability_eoy',\n",
    "    'number_of_reviews_ly'\n",
    "]"
   ]
  },
  {
   "cell_type": "code",
   "execution_count": 29,
   "id": "5d8fa720",
   "metadata": {},
   "outputs": [
    {
     "data": {
      "text/html": [
       "<div>\n",
       "<style scoped>\n",
       "    .dataframe tbody tr th:only-of-type {\n",
       "        vertical-align: middle;\n",
       "    }\n",
       "\n",
       "    .dataframe tbody tr th {\n",
       "        vertical-align: top;\n",
       "    }\n",
       "\n",
       "    .dataframe thead th {\n",
       "        text-align: right;\n",
       "    }\n",
       "</style>\n",
       "<table border=\"1\" class=\"dataframe\">\n",
       "  <thead>\n",
       "    <tr style=\"text-align: right;\">\n",
       "      <th></th>\n",
       "      <th>id</th>\n",
       "      <th>host_is_superhost</th>\n",
       "      <th>host_verifications</th>\n",
       "      <th>host_acceptance_rate</th>\n",
       "      <th>neighbourhood_cleansed</th>\n",
       "      <th>latitude</th>\n",
       "      <th>longitude</th>\n",
       "      <th>property_type</th>\n",
       "      <th>room_type</th>\n",
       "      <th>accommodates</th>\n",
       "      <th>...</th>\n",
       "      <th>review_scores_accuracy</th>\n",
       "      <th>review_scores_cleanliness</th>\n",
       "      <th>review_scores_checkin</th>\n",
       "      <th>review_scores_communication</th>\n",
       "      <th>review_scores_location</th>\n",
       "      <th>review_scores_value</th>\n",
       "      <th>instant_bookable</th>\n",
       "      <th>reviews_per_month</th>\n",
       "      <th>availability_eoy</th>\n",
       "      <th>number_of_reviews_ly</th>\n",
       "    </tr>\n",
       "  </thead>\n",
       "  <tbody>\n",
       "    <tr>\n",
       "      <th>0</th>\n",
       "      <td>27262</td>\n",
       "      <td>t</td>\n",
       "      <td>['email', 'phone']</td>\n",
       "      <td>100%</td>\n",
       "      <td>ΑΜΠΕΛΟΚΗΠΟΙ</td>\n",
       "      <td>37.98924</td>\n",
       "      <td>23.76500</td>\n",
       "      <td>Entire rental unit</td>\n",
       "      <td>Entire home/apt</td>\n",
       "      <td>2</td>\n",
       "      <td>...</td>\n",
       "      <td>4.89</td>\n",
       "      <td>4.90</td>\n",
       "      <td>4.86</td>\n",
       "      <td>4.97</td>\n",
       "      <td>4.75</td>\n",
       "      <td>4.71</td>\n",
       "      <td>t</td>\n",
       "      <td>0.19</td>\n",
       "      <td>NaN</td>\n",
       "      <td>NaN</td>\n",
       "    </tr>\n",
       "    <tr>\n",
       "      <th>1</th>\n",
       "      <td>809874</td>\n",
       "      <td>f</td>\n",
       "      <td>['email', 'phone']</td>\n",
       "      <td>96%</td>\n",
       "      <td>ΚΟΥΚΑΚΙ-ΜΑΚΡΥΓΙΑΝΝΗ</td>\n",
       "      <td>37.96215</td>\n",
       "      <td>23.72179</td>\n",
       "      <td>Entire rental unit</td>\n",
       "      <td>Entire home/apt</td>\n",
       "      <td>4</td>\n",
       "      <td>...</td>\n",
       "      <td>4.97</td>\n",
       "      <td>4.97</td>\n",
       "      <td>4.89</td>\n",
       "      <td>4.92</td>\n",
       "      <td>4.86</td>\n",
       "      <td>4.91</td>\n",
       "      <td>f</td>\n",
       "      <td>0.68</td>\n",
       "      <td>NaN</td>\n",
       "      <td>NaN</td>\n",
       "    </tr>\n",
       "    <tr>\n",
       "      <th>2</th>\n",
       "      <td>866381</td>\n",
       "      <td>t</td>\n",
       "      <td>['email', 'phone', 'work_email']</td>\n",
       "      <td>97%</td>\n",
       "      <td>ΝΕΟΣ ΚΟΣΜΟΣ</td>\n",
       "      <td>37.95523</td>\n",
       "      <td>23.72443</td>\n",
       "      <td>Entire condo</td>\n",
       "      <td>Entire home/apt</td>\n",
       "      <td>3</td>\n",
       "      <td>...</td>\n",
       "      <td>4.98</td>\n",
       "      <td>4.98</td>\n",
       "      <td>4.93</td>\n",
       "      <td>4.93</td>\n",
       "      <td>4.73</td>\n",
       "      <td>4.90</td>\n",
       "      <td>f</td>\n",
       "      <td>0.28</td>\n",
       "      <td>NaN</td>\n",
       "      <td>NaN</td>\n",
       "    </tr>\n",
       "    <tr>\n",
       "      <th>3</th>\n",
       "      <td>886724</td>\n",
       "      <td>f</td>\n",
       "      <td>['email']</td>\n",
       "      <td>0%</td>\n",
       "      <td>ΚΥΨΕΛΗ</td>\n",
       "      <td>37.99745</td>\n",
       "      <td>23.73973</td>\n",
       "      <td>Entire rental unit</td>\n",
       "      <td>Entire home/apt</td>\n",
       "      <td>2</td>\n",
       "      <td>...</td>\n",
       "      <td>4.88</td>\n",
       "      <td>4.47</td>\n",
       "      <td>4.88</td>\n",
       "      <td>4.89</td>\n",
       "      <td>4.28</td>\n",
       "      <td>4.72</td>\n",
       "      <td>f</td>\n",
       "      <td>0.14</td>\n",
       "      <td>NaN</td>\n",
       "      <td>NaN</td>\n",
       "    </tr>\n",
       "    <tr>\n",
       "      <th>4</th>\n",
       "      <td>896212</td>\n",
       "      <td>t</td>\n",
       "      <td>['email', 'phone']</td>\n",
       "      <td>100%</td>\n",
       "      <td>ΜΟΥΣΕΙΟ-ΕΞΑΡΧΕΙΑ-ΝΕΑΠΟΛΗ</td>\n",
       "      <td>37.98844</td>\n",
       "      <td>23.73845</td>\n",
       "      <td>Entire rental unit</td>\n",
       "      <td>Entire home/apt</td>\n",
       "      <td>2</td>\n",
       "      <td>...</td>\n",
       "      <td>4.94</td>\n",
       "      <td>4.96</td>\n",
       "      <td>4.97</td>\n",
       "      <td>4.93</td>\n",
       "      <td>4.82</td>\n",
       "      <td>4.93</td>\n",
       "      <td>t</td>\n",
       "      <td>3.58</td>\n",
       "      <td>NaN</td>\n",
       "      <td>NaN</td>\n",
       "    </tr>\n",
       "  </tbody>\n",
       "</table>\n",
       "<p>5 rows × 27 columns</p>\n",
       "</div>"
      ],
      "text/plain": [
       "       id host_is_superhost                host_verifications  \\\n",
       "0   27262                 t                ['email', 'phone']   \n",
       "1  809874                 f                ['email', 'phone']   \n",
       "2  866381                 t  ['email', 'phone', 'work_email']   \n",
       "3  886724                 f                         ['email']   \n",
       "4  896212                 t                ['email', 'phone']   \n",
       "\n",
       "  host_acceptance_rate    neighbourhood_cleansed  latitude  longitude  \\\n",
       "0                 100%               ΑΜΠΕΛΟΚΗΠΟΙ  37.98924   23.76500   \n",
       "1                  96%       ΚΟΥΚΑΚΙ-ΜΑΚΡΥΓΙΑΝΝΗ  37.96215   23.72179   \n",
       "2                  97%               ΝΕΟΣ ΚΟΣΜΟΣ  37.95523   23.72443   \n",
       "3                   0%                    ΚΥΨΕΛΗ  37.99745   23.73973   \n",
       "4                 100%  ΜΟΥΣΕΙΟ-ΕΞΑΡΧΕΙΑ-ΝΕΑΠΟΛΗ  37.98844   23.73845   \n",
       "\n",
       "        property_type        room_type  accommodates  ...  \\\n",
       "0  Entire rental unit  Entire home/apt             2  ...   \n",
       "1  Entire rental unit  Entire home/apt             4  ...   \n",
       "2        Entire condo  Entire home/apt             3  ...   \n",
       "3  Entire rental unit  Entire home/apt             2  ...   \n",
       "4  Entire rental unit  Entire home/apt             2  ...   \n",
       "\n",
       "   review_scores_accuracy review_scores_cleanliness  review_scores_checkin  \\\n",
       "0                    4.89                      4.90                   4.86   \n",
       "1                    4.97                      4.97                   4.89   \n",
       "2                    4.98                      4.98                   4.93   \n",
       "3                    4.88                      4.47                   4.88   \n",
       "4                    4.94                      4.96                   4.97   \n",
       "\n",
       "   review_scores_communication review_scores_location review_scores_value  \\\n",
       "0                         4.97                   4.75                4.71   \n",
       "1                         4.92                   4.86                4.91   \n",
       "2                         4.93                   4.73                4.90   \n",
       "3                         4.89                   4.28                4.72   \n",
       "4                         4.93                   4.82                4.93   \n",
       "\n",
       "   instant_bookable  reviews_per_month  availability_eoy  number_of_reviews_ly  \n",
       "0                 t               0.19               NaN                   NaN  \n",
       "1                 f               0.68               NaN                   NaN  \n",
       "2                 f               0.28               NaN                   NaN  \n",
       "3                 f               0.14               NaN                   NaN  \n",
       "4                 t               3.58               NaN                   NaN  \n",
       "\n",
       "[5 rows x 27 columns]"
      ]
     },
     "execution_count": 29,
     "metadata": {},
     "output_type": "execute_result"
    }
   ],
   "source": [
    "final_df = listings_df[interesting_columns].copy()\n",
    "final_df.head(5)"
   ]
  },
  {
   "cell_type": "code",
   "execution_count": 35,
   "id": "6144bb4a",
   "metadata": {},
   "outputs": [
    {
     "data": {
      "text/html": [
       "<div>\n",
       "<style scoped>\n",
       "    .dataframe tbody tr th:only-of-type {\n",
       "        vertical-align: middle;\n",
       "    }\n",
       "\n",
       "    .dataframe tbody tr th {\n",
       "        vertical-align: top;\n",
       "    }\n",
       "\n",
       "    .dataframe thead th {\n",
       "        text-align: right;\n",
       "    }\n",
       "</style>\n",
       "<table border=\"1\" class=\"dataframe\">\n",
       "  <thead>\n",
       "    <tr style=\"text-align: right;\">\n",
       "      <th></th>\n",
       "      <th>listing_id</th>\n",
       "      <th>total_bookings</th>\n",
       "      <th>total_duration</th>\n",
       "      <th>avg_duration</th>\n",
       "      <th>min_duration</th>\n",
       "      <th>max_duration</th>\n",
       "      <th>num_of_short_stays</th>\n",
       "      <th>num_of_long_stays</th>\n",
       "    </tr>\n",
       "  </thead>\n",
       "  <tbody>\n",
       "    <tr>\n",
       "      <th>0</th>\n",
       "      <td>21853.0</td>\n",
       "      <td>33</td>\n",
       "      <td>48</td>\n",
       "      <td>1.454545</td>\n",
       "      <td>1</td>\n",
       "      <td>4</td>\n",
       "      <td>33</td>\n",
       "      <td>0</td>\n",
       "    </tr>\n",
       "    <tr>\n",
       "      <th>1</th>\n",
       "      <td>27262.0</td>\n",
       "      <td>29</td>\n",
       "      <td>144</td>\n",
       "      <td>4.965517</td>\n",
       "      <td>2</td>\n",
       "      <td>7</td>\n",
       "      <td>29</td>\n",
       "      <td>0</td>\n",
       "    </tr>\n",
       "    <tr>\n",
       "      <th>2</th>\n",
       "      <td>30320.0</td>\n",
       "      <td>172</td>\n",
       "      <td>360</td>\n",
       "      <td>2.093023</td>\n",
       "      <td>1</td>\n",
       "      <td>4</td>\n",
       "      <td>172</td>\n",
       "      <td>0</td>\n",
       "    </tr>\n",
       "    <tr>\n",
       "      <th>3</th>\n",
       "      <td>30959.0</td>\n",
       "      <td>8</td>\n",
       "      <td>12</td>\n",
       "      <td>1.500000</td>\n",
       "      <td>1</td>\n",
       "      <td>3</td>\n",
       "      <td>8</td>\n",
       "      <td>0</td>\n",
       "    </tr>\n",
       "    <tr>\n",
       "      <th>4</th>\n",
       "      <td>33945.0</td>\n",
       "      <td>78</td>\n",
       "      <td>540</td>\n",
       "      <td>6.923077</td>\n",
       "      <td>3</td>\n",
       "      <td>10</td>\n",
       "      <td>54</td>\n",
       "      <td>24</td>\n",
       "    </tr>\n",
       "  </tbody>\n",
       "</table>\n",
       "</div>"
      ],
      "text/plain": [
       "   listing_id  total_bookings  total_duration  avg_duration  min_duration  \\\n",
       "0     21853.0              33              48      1.454545             1   \n",
       "1     27262.0              29             144      4.965517             2   \n",
       "2     30320.0             172             360      2.093023             1   \n",
       "3     30959.0               8              12      1.500000             1   \n",
       "4     33945.0              78             540      6.923077             3   \n",
       "\n",
       "   max_duration  num_of_short_stays  num_of_long_stays  \n",
       "0             4                  33                  0  \n",
       "1             7                  29                  0  \n",
       "2             4                 172                  0  \n",
       "3             3                   8                  0  \n",
       "4            10                  54                 24  "
      ]
     },
     "execution_count": 35,
     "metadata": {},
     "output_type": "execute_result"
    }
   ],
   "source": [
    "listings_statistics = pd.read_csv(SESSIONS_STATISTICS_PATH)\n",
    "listings_statistics.head(5)"
   ]
  },
  {
   "cell_type": "code",
   "execution_count": 40,
   "id": "c3fd5e22",
   "metadata": {},
   "outputs": [],
   "source": [
    "listings_statistics['target'] = np.where(\n",
    "    listings_statistics['num_of_short_stays'] > listings_statistics['num_of_long_stays'],\n",
    "    'short',\n",
    "    'long'\n",
    ")"
   ]
  },
  {
   "cell_type": "code",
   "execution_count": 42,
   "id": "1be6b4d1",
   "metadata": {},
   "outputs": [
    {
     "data": {
      "text/html": [
       "<div>\n",
       "<style scoped>\n",
       "    .dataframe tbody tr th:only-of-type {\n",
       "        vertical-align: middle;\n",
       "    }\n",
       "\n",
       "    .dataframe tbody tr th {\n",
       "        vertical-align: top;\n",
       "    }\n",
       "\n",
       "    .dataframe thead th {\n",
       "        text-align: right;\n",
       "    }\n",
       "</style>\n",
       "<table border=\"1\" class=\"dataframe\">\n",
       "  <thead>\n",
       "    <tr style=\"text-align: right;\">\n",
       "      <th></th>\n",
       "      <th>listing_id</th>\n",
       "      <th>total_bookings</th>\n",
       "      <th>total_duration</th>\n",
       "      <th>avg_duration</th>\n",
       "      <th>min_duration</th>\n",
       "      <th>max_duration</th>\n",
       "      <th>num_of_short_stays</th>\n",
       "      <th>num_of_long_stays</th>\n",
       "      <th>target</th>\n",
       "    </tr>\n",
       "  </thead>\n",
       "  <tbody>\n",
       "    <tr>\n",
       "      <th>0</th>\n",
       "      <td>21853.0</td>\n",
       "      <td>33</td>\n",
       "      <td>48</td>\n",
       "      <td>1.454545</td>\n",
       "      <td>1</td>\n",
       "      <td>4</td>\n",
       "      <td>33</td>\n",
       "      <td>0</td>\n",
       "      <td>short</td>\n",
       "    </tr>\n",
       "    <tr>\n",
       "      <th>1</th>\n",
       "      <td>27262.0</td>\n",
       "      <td>29</td>\n",
       "      <td>144</td>\n",
       "      <td>4.965517</td>\n",
       "      <td>2</td>\n",
       "      <td>7</td>\n",
       "      <td>29</td>\n",
       "      <td>0</td>\n",
       "      <td>short</td>\n",
       "    </tr>\n",
       "    <tr>\n",
       "      <th>2</th>\n",
       "      <td>30320.0</td>\n",
       "      <td>172</td>\n",
       "      <td>360</td>\n",
       "      <td>2.093023</td>\n",
       "      <td>1</td>\n",
       "      <td>4</td>\n",
       "      <td>172</td>\n",
       "      <td>0</td>\n",
       "      <td>short</td>\n",
       "    </tr>\n",
       "    <tr>\n",
       "      <th>3</th>\n",
       "      <td>30959.0</td>\n",
       "      <td>8</td>\n",
       "      <td>12</td>\n",
       "      <td>1.500000</td>\n",
       "      <td>1</td>\n",
       "      <td>3</td>\n",
       "      <td>8</td>\n",
       "      <td>0</td>\n",
       "      <td>short</td>\n",
       "    </tr>\n",
       "    <tr>\n",
       "      <th>4</th>\n",
       "      <td>33945.0</td>\n",
       "      <td>78</td>\n",
       "      <td>540</td>\n",
       "      <td>6.923077</td>\n",
       "      <td>3</td>\n",
       "      <td>10</td>\n",
       "      <td>54</td>\n",
       "      <td>24</td>\n",
       "      <td>short</td>\n",
       "    </tr>\n",
       "  </tbody>\n",
       "</table>\n",
       "</div>"
      ],
      "text/plain": [
       "   listing_id  total_bookings  total_duration  avg_duration  min_duration  \\\n",
       "0     21853.0              33              48      1.454545             1   \n",
       "1     27262.0              29             144      4.965517             2   \n",
       "2     30320.0             172             360      2.093023             1   \n",
       "3     30959.0               8              12      1.500000             1   \n",
       "4     33945.0              78             540      6.923077             3   \n",
       "\n",
       "   max_duration  num_of_short_stays  num_of_long_stays target  \n",
       "0             4                  33                  0  short  \n",
       "1             7                  29                  0  short  \n",
       "2             4                 172                  0  short  \n",
       "3             3                   8                  0  short  \n",
       "4            10                  54                 24  short  "
      ]
     },
     "execution_count": 42,
     "metadata": {},
     "output_type": "execute_result"
    }
   ],
   "source": [
    "listings_statistics.head()"
   ]
  },
  {
   "cell_type": "code",
   "execution_count": 43,
   "id": "101a80d5",
   "metadata": {},
   "outputs": [],
   "source": [
    "listing_statistics_final_df = listings_statistics[['listing_id','total_bookings', 'target']].copy()"
   ]
  },
  {
   "cell_type": "code",
   "execution_count": 45,
   "id": "6580a41e",
   "metadata": {},
   "outputs": [
    {
     "data": {
      "text/html": [
       "<div>\n",
       "<style scoped>\n",
       "    .dataframe tbody tr th:only-of-type {\n",
       "        vertical-align: middle;\n",
       "    }\n",
       "\n",
       "    .dataframe tbody tr th {\n",
       "        vertical-align: top;\n",
       "    }\n",
       "\n",
       "    .dataframe thead th {\n",
       "        text-align: right;\n",
       "    }\n",
       "</style>\n",
       "<table border=\"1\" class=\"dataframe\">\n",
       "  <thead>\n",
       "    <tr style=\"text-align: right;\">\n",
       "      <th></th>\n",
       "      <th>listing_id</th>\n",
       "      <th>total_bookings</th>\n",
       "      <th>target</th>\n",
       "    </tr>\n",
       "  </thead>\n",
       "  <tbody>\n",
       "    <tr>\n",
       "      <th>0</th>\n",
       "      <td>21853.0</td>\n",
       "      <td>33</td>\n",
       "      <td>short</td>\n",
       "    </tr>\n",
       "    <tr>\n",
       "      <th>1</th>\n",
       "      <td>27262.0</td>\n",
       "      <td>29</td>\n",
       "      <td>short</td>\n",
       "    </tr>\n",
       "    <tr>\n",
       "      <th>2</th>\n",
       "      <td>30320.0</td>\n",
       "      <td>172</td>\n",
       "      <td>short</td>\n",
       "    </tr>\n",
       "    <tr>\n",
       "      <th>3</th>\n",
       "      <td>30959.0</td>\n",
       "      <td>8</td>\n",
       "      <td>short</td>\n",
       "    </tr>\n",
       "    <tr>\n",
       "      <th>4</th>\n",
       "      <td>33945.0</td>\n",
       "      <td>78</td>\n",
       "      <td>short</td>\n",
       "    </tr>\n",
       "  </tbody>\n",
       "</table>\n",
       "</div>"
      ],
      "text/plain": [
       "   listing_id  total_bookings target\n",
       "0     21853.0              33  short\n",
       "1     27262.0              29  short\n",
       "2     30320.0             172  short\n",
       "3     30959.0               8  short\n",
       "4     33945.0              78  short"
      ]
     },
     "execution_count": 45,
     "metadata": {},
     "output_type": "execute_result"
    }
   ],
   "source": [
    "listing_statistics_final_df.head(5)"
   ]
  },
  {
   "cell_type": "markdown",
   "id": "330912ee",
   "metadata": {},
   "source": [
    "### Złączenie datasetów"
   ]
  },
  {
   "cell_type": "code",
   "execution_count": 46,
   "id": "bc02e4d6",
   "metadata": {},
   "outputs": [
    {
     "data": {
      "text/html": [
       "<div>\n",
       "<style scoped>\n",
       "    .dataframe tbody tr th:only-of-type {\n",
       "        vertical-align: middle;\n",
       "    }\n",
       "\n",
       "    .dataframe tbody tr th {\n",
       "        vertical-align: top;\n",
       "    }\n",
       "\n",
       "    .dataframe thead th {\n",
       "        text-align: right;\n",
       "    }\n",
       "</style>\n",
       "<table border=\"1\" class=\"dataframe\">\n",
       "  <thead>\n",
       "    <tr style=\"text-align: right;\">\n",
       "      <th></th>\n",
       "      <th>id</th>\n",
       "      <th>host_is_superhost</th>\n",
       "      <th>host_verifications</th>\n",
       "      <th>host_acceptance_rate</th>\n",
       "      <th>neighbourhood_cleansed</th>\n",
       "      <th>latitude</th>\n",
       "      <th>longitude</th>\n",
       "      <th>property_type</th>\n",
       "      <th>room_type</th>\n",
       "      <th>accommodates</th>\n",
       "      <th>...</th>\n",
       "      <th>review_scores_communication</th>\n",
       "      <th>review_scores_location</th>\n",
       "      <th>review_scores_value</th>\n",
       "      <th>instant_bookable</th>\n",
       "      <th>reviews_per_month</th>\n",
       "      <th>availability_eoy</th>\n",
       "      <th>number_of_reviews_ly</th>\n",
       "      <th>listing_id</th>\n",
       "      <th>total_bookings</th>\n",
       "      <th>target</th>\n",
       "    </tr>\n",
       "  </thead>\n",
       "  <tbody>\n",
       "    <tr>\n",
       "      <th>0</th>\n",
       "      <td>27262</td>\n",
       "      <td>t</td>\n",
       "      <td>['email', 'phone']</td>\n",
       "      <td>100%</td>\n",
       "      <td>ΑΜΠΕΛΟΚΗΠΟΙ</td>\n",
       "      <td>37.98924</td>\n",
       "      <td>23.76500</td>\n",
       "      <td>Entire rental unit</td>\n",
       "      <td>Entire home/apt</td>\n",
       "      <td>2</td>\n",
       "      <td>...</td>\n",
       "      <td>4.97</td>\n",
       "      <td>4.75</td>\n",
       "      <td>4.71</td>\n",
       "      <td>t</td>\n",
       "      <td>0.19</td>\n",
       "      <td>NaN</td>\n",
       "      <td>NaN</td>\n",
       "      <td>27262.0</td>\n",
       "      <td>29.0</td>\n",
       "      <td>short</td>\n",
       "    </tr>\n",
       "    <tr>\n",
       "      <th>1</th>\n",
       "      <td>809874</td>\n",
       "      <td>f</td>\n",
       "      <td>['email', 'phone']</td>\n",
       "      <td>96%</td>\n",
       "      <td>ΚΟΥΚΑΚΙ-ΜΑΚΡΥΓΙΑΝΝΗ</td>\n",
       "      <td>37.96215</td>\n",
       "      <td>23.72179</td>\n",
       "      <td>Entire rental unit</td>\n",
       "      <td>Entire home/apt</td>\n",
       "      <td>4</td>\n",
       "      <td>...</td>\n",
       "      <td>4.92</td>\n",
       "      <td>4.86</td>\n",
       "      <td>4.91</td>\n",
       "      <td>f</td>\n",
       "      <td>0.68</td>\n",
       "      <td>NaN</td>\n",
       "      <td>NaN</td>\n",
       "      <td>809874.0</td>\n",
       "      <td>97.0</td>\n",
       "      <td>short</td>\n",
       "    </tr>\n",
       "    <tr>\n",
       "      <th>2</th>\n",
       "      <td>866381</td>\n",
       "      <td>t</td>\n",
       "      <td>['email', 'phone', 'work_email']</td>\n",
       "      <td>97%</td>\n",
       "      <td>ΝΕΟΣ ΚΟΣΜΟΣ</td>\n",
       "      <td>37.95523</td>\n",
       "      <td>23.72443</td>\n",
       "      <td>Entire condo</td>\n",
       "      <td>Entire home/apt</td>\n",
       "      <td>3</td>\n",
       "      <td>...</td>\n",
       "      <td>4.93</td>\n",
       "      <td>4.73</td>\n",
       "      <td>4.90</td>\n",
       "      <td>f</td>\n",
       "      <td>0.28</td>\n",
       "      <td>NaN</td>\n",
       "      <td>NaN</td>\n",
       "      <td>866381.0</td>\n",
       "      <td>40.0</td>\n",
       "      <td>long</td>\n",
       "    </tr>\n",
       "    <tr>\n",
       "      <th>3</th>\n",
       "      <td>886724</td>\n",
       "      <td>f</td>\n",
       "      <td>['email']</td>\n",
       "      <td>0%</td>\n",
       "      <td>ΚΥΨΕΛΗ</td>\n",
       "      <td>37.99745</td>\n",
       "      <td>23.73973</td>\n",
       "      <td>Entire rental unit</td>\n",
       "      <td>Entire home/apt</td>\n",
       "      <td>2</td>\n",
       "      <td>...</td>\n",
       "      <td>4.89</td>\n",
       "      <td>4.28</td>\n",
       "      <td>4.72</td>\n",
       "      <td>f</td>\n",
       "      <td>0.14</td>\n",
       "      <td>NaN</td>\n",
       "      <td>NaN</td>\n",
       "      <td>886724.0</td>\n",
       "      <td>18.0</td>\n",
       "      <td>short</td>\n",
       "    </tr>\n",
       "    <tr>\n",
       "      <th>4</th>\n",
       "      <td>896212</td>\n",
       "      <td>t</td>\n",
       "      <td>['email', 'phone']</td>\n",
       "      <td>100%</td>\n",
       "      <td>ΜΟΥΣΕΙΟ-ΕΞΑΡΧΕΙΑ-ΝΕΑΠΟΛΗ</td>\n",
       "      <td>37.98844</td>\n",
       "      <td>23.73845</td>\n",
       "      <td>Entire rental unit</td>\n",
       "      <td>Entire home/apt</td>\n",
       "      <td>2</td>\n",
       "      <td>...</td>\n",
       "      <td>4.93</td>\n",
       "      <td>4.82</td>\n",
       "      <td>4.93</td>\n",
       "      <td>t</td>\n",
       "      <td>3.58</td>\n",
       "      <td>NaN</td>\n",
       "      <td>NaN</td>\n",
       "      <td>896212.0</td>\n",
       "      <td>515.0</td>\n",
       "      <td>long</td>\n",
       "    </tr>\n",
       "  </tbody>\n",
       "</table>\n",
       "<p>5 rows × 30 columns</p>\n",
       "</div>"
      ],
      "text/plain": [
       "       id host_is_superhost                host_verifications  \\\n",
       "0   27262                 t                ['email', 'phone']   \n",
       "1  809874                 f                ['email', 'phone']   \n",
       "2  866381                 t  ['email', 'phone', 'work_email']   \n",
       "3  886724                 f                         ['email']   \n",
       "4  896212                 t                ['email', 'phone']   \n",
       "\n",
       "  host_acceptance_rate    neighbourhood_cleansed  latitude  longitude  \\\n",
       "0                 100%               ΑΜΠΕΛΟΚΗΠΟΙ  37.98924   23.76500   \n",
       "1                  96%       ΚΟΥΚΑΚΙ-ΜΑΚΡΥΓΙΑΝΝΗ  37.96215   23.72179   \n",
       "2                  97%               ΝΕΟΣ ΚΟΣΜΟΣ  37.95523   23.72443   \n",
       "3                   0%                    ΚΥΨΕΛΗ  37.99745   23.73973   \n",
       "4                 100%  ΜΟΥΣΕΙΟ-ΕΞΑΡΧΕΙΑ-ΝΕΑΠΟΛΗ  37.98844   23.73845   \n",
       "\n",
       "        property_type        room_type  accommodates  ...  \\\n",
       "0  Entire rental unit  Entire home/apt             2  ...   \n",
       "1  Entire rental unit  Entire home/apt             4  ...   \n",
       "2        Entire condo  Entire home/apt             3  ...   \n",
       "3  Entire rental unit  Entire home/apt             2  ...   \n",
       "4  Entire rental unit  Entire home/apt             2  ...   \n",
       "\n",
       "   review_scores_communication review_scores_location  review_scores_value  \\\n",
       "0                         4.97                   4.75                 4.71   \n",
       "1                         4.92                   4.86                 4.91   \n",
       "2                         4.93                   4.73                 4.90   \n",
       "3                         4.89                   4.28                 4.72   \n",
       "4                         4.93                   4.82                 4.93   \n",
       "\n",
       "   instant_bookable reviews_per_month availability_eoy  number_of_reviews_ly  \\\n",
       "0                 t              0.19              NaN                   NaN   \n",
       "1                 f              0.68              NaN                   NaN   \n",
       "2                 f              0.28              NaN                   NaN   \n",
       "3                 f              0.14              NaN                   NaN   \n",
       "4                 t              3.58              NaN                   NaN   \n",
       "\n",
       "   listing_id  total_bookings  target  \n",
       "0     27262.0            29.0   short  \n",
       "1    809874.0            97.0   short  \n",
       "2    866381.0            40.0    long  \n",
       "3    886724.0            18.0   short  \n",
       "4    896212.0           515.0    long  \n",
       "\n",
       "[5 rows x 30 columns]"
      ]
     },
     "execution_count": 46,
     "metadata": {},
     "output_type": "execute_result"
    }
   ],
   "source": [
    "final_df = final_df.merge(\n",
    "    listing_statistics_final_df,\n",
    "    left_on='id',\n",
    "    right_on='listing_id',\n",
    "    how='left'\n",
    ")\n",
    "final_df.head(5)"
   ]
  },
  {
   "cell_type": "code",
   "execution_count": 47,
   "id": "9f6774f0",
   "metadata": {},
   "outputs": [
    {
     "data": {
      "text/html": [
       "<div>\n",
       "<style scoped>\n",
       "    .dataframe tbody tr th:only-of-type {\n",
       "        vertical-align: middle;\n",
       "    }\n",
       "\n",
       "    .dataframe tbody tr th {\n",
       "        vertical-align: top;\n",
       "    }\n",
       "\n",
       "    .dataframe thead th {\n",
       "        text-align: right;\n",
       "    }\n",
       "</style>\n",
       "<table border=\"1\" class=\"dataframe\">\n",
       "  <thead>\n",
       "    <tr style=\"text-align: right;\">\n",
       "      <th></th>\n",
       "      <th>id</th>\n",
       "      <th>host_is_superhost</th>\n",
       "      <th>host_verifications</th>\n",
       "      <th>host_acceptance_rate</th>\n",
       "      <th>neighbourhood_cleansed</th>\n",
       "      <th>latitude</th>\n",
       "      <th>longitude</th>\n",
       "      <th>property_type</th>\n",
       "      <th>room_type</th>\n",
       "      <th>accommodates</th>\n",
       "      <th>...</th>\n",
       "      <th>availability_eoy</th>\n",
       "      <th>number_of_reviews_ly</th>\n",
       "      <th>listing_id_x</th>\n",
       "      <th>total_bookings</th>\n",
       "      <th>target</th>\n",
       "      <th>listing_id_y</th>\n",
       "      <th>total_reviews</th>\n",
       "      <th>total_english_reviews</th>\n",
       "      <th>count_negative_english</th>\n",
       "      <th>count_positive_english</th>\n",
       "    </tr>\n",
       "  </thead>\n",
       "  <tbody>\n",
       "    <tr>\n",
       "      <th>0</th>\n",
       "      <td>27262</td>\n",
       "      <td>t</td>\n",
       "      <td>['email', 'phone']</td>\n",
       "      <td>100%</td>\n",
       "      <td>ΑΜΠΕΛΟΚΗΠΟΙ</td>\n",
       "      <td>37.98924</td>\n",
       "      <td>23.76500</td>\n",
       "      <td>Entire rental unit</td>\n",
       "      <td>Entire home/apt</td>\n",
       "      <td>2</td>\n",
       "      <td>...</td>\n",
       "      <td>NaN</td>\n",
       "      <td>NaN</td>\n",
       "      <td>27262.0</td>\n",
       "      <td>29.0</td>\n",
       "      <td>short</td>\n",
       "      <td>27262.0</td>\n",
       "      <td>29.0</td>\n",
       "      <td>17.0</td>\n",
       "      <td>0.0</td>\n",
       "      <td>17.0</td>\n",
       "    </tr>\n",
       "    <tr>\n",
       "      <th>1</th>\n",
       "      <td>809874</td>\n",
       "      <td>f</td>\n",
       "      <td>['email', 'phone']</td>\n",
       "      <td>96%</td>\n",
       "      <td>ΚΟΥΚΑΚΙ-ΜΑΚΡΥΓΙΑΝΝΗ</td>\n",
       "      <td>37.96215</td>\n",
       "      <td>23.72179</td>\n",
       "      <td>Entire rental unit</td>\n",
       "      <td>Entire home/apt</td>\n",
       "      <td>4</td>\n",
       "      <td>...</td>\n",
       "      <td>NaN</td>\n",
       "      <td>NaN</td>\n",
       "      <td>809874.0</td>\n",
       "      <td>97.0</td>\n",
       "      <td>short</td>\n",
       "      <td>809874.0</td>\n",
       "      <td>97.0</td>\n",
       "      <td>82.0</td>\n",
       "      <td>0.0</td>\n",
       "      <td>82.0</td>\n",
       "    </tr>\n",
       "    <tr>\n",
       "      <th>2</th>\n",
       "      <td>866381</td>\n",
       "      <td>t</td>\n",
       "      <td>['email', 'phone', 'work_email']</td>\n",
       "      <td>97%</td>\n",
       "      <td>ΝΕΟΣ ΚΟΣΜΟΣ</td>\n",
       "      <td>37.95523</td>\n",
       "      <td>23.72443</td>\n",
       "      <td>Entire condo</td>\n",
       "      <td>Entire home/apt</td>\n",
       "      <td>3</td>\n",
       "      <td>...</td>\n",
       "      <td>NaN</td>\n",
       "      <td>NaN</td>\n",
       "      <td>866381.0</td>\n",
       "      <td>40.0</td>\n",
       "      <td>long</td>\n",
       "      <td>866381.0</td>\n",
       "      <td>40.0</td>\n",
       "      <td>31.0</td>\n",
       "      <td>0.0</td>\n",
       "      <td>31.0</td>\n",
       "    </tr>\n",
       "    <tr>\n",
       "      <th>3</th>\n",
       "      <td>886724</td>\n",
       "      <td>f</td>\n",
       "      <td>['email']</td>\n",
       "      <td>0%</td>\n",
       "      <td>ΚΥΨΕΛΗ</td>\n",
       "      <td>37.99745</td>\n",
       "      <td>23.73973</td>\n",
       "      <td>Entire rental unit</td>\n",
       "      <td>Entire home/apt</td>\n",
       "      <td>2</td>\n",
       "      <td>...</td>\n",
       "      <td>NaN</td>\n",
       "      <td>NaN</td>\n",
       "      <td>886724.0</td>\n",
       "      <td>18.0</td>\n",
       "      <td>short</td>\n",
       "      <td>886724.0</td>\n",
       "      <td>18.0</td>\n",
       "      <td>17.0</td>\n",
       "      <td>1.0</td>\n",
       "      <td>16.0</td>\n",
       "    </tr>\n",
       "    <tr>\n",
       "      <th>4</th>\n",
       "      <td>896212</td>\n",
       "      <td>t</td>\n",
       "      <td>['email', 'phone']</td>\n",
       "      <td>100%</td>\n",
       "      <td>ΜΟΥΣΕΙΟ-ΕΞΑΡΧΕΙΑ-ΝΕΑΠΟΛΗ</td>\n",
       "      <td>37.98844</td>\n",
       "      <td>23.73845</td>\n",
       "      <td>Entire rental unit</td>\n",
       "      <td>Entire home/apt</td>\n",
       "      <td>2</td>\n",
       "      <td>...</td>\n",
       "      <td>NaN</td>\n",
       "      <td>NaN</td>\n",
       "      <td>896212.0</td>\n",
       "      <td>515.0</td>\n",
       "      <td>long</td>\n",
       "      <td>896212.0</td>\n",
       "      <td>515.0</td>\n",
       "      <td>423.0</td>\n",
       "      <td>3.0</td>\n",
       "      <td>420.0</td>\n",
       "    </tr>\n",
       "  </tbody>\n",
       "</table>\n",
       "<p>5 rows × 35 columns</p>\n",
       "</div>"
      ],
      "text/plain": [
       "       id host_is_superhost                host_verifications  \\\n",
       "0   27262                 t                ['email', 'phone']   \n",
       "1  809874                 f                ['email', 'phone']   \n",
       "2  866381                 t  ['email', 'phone', 'work_email']   \n",
       "3  886724                 f                         ['email']   \n",
       "4  896212                 t                ['email', 'phone']   \n",
       "\n",
       "  host_acceptance_rate    neighbourhood_cleansed  latitude  longitude  \\\n",
       "0                 100%               ΑΜΠΕΛΟΚΗΠΟΙ  37.98924   23.76500   \n",
       "1                  96%       ΚΟΥΚΑΚΙ-ΜΑΚΡΥΓΙΑΝΝΗ  37.96215   23.72179   \n",
       "2                  97%               ΝΕΟΣ ΚΟΣΜΟΣ  37.95523   23.72443   \n",
       "3                   0%                    ΚΥΨΕΛΗ  37.99745   23.73973   \n",
       "4                 100%  ΜΟΥΣΕΙΟ-ΕΞΑΡΧΕΙΑ-ΝΕΑΠΟΛΗ  37.98844   23.73845   \n",
       "\n",
       "        property_type        room_type  accommodates  ...  availability_eoy  \\\n",
       "0  Entire rental unit  Entire home/apt             2  ...               NaN   \n",
       "1  Entire rental unit  Entire home/apt             4  ...               NaN   \n",
       "2        Entire condo  Entire home/apt             3  ...               NaN   \n",
       "3  Entire rental unit  Entire home/apt             2  ...               NaN   \n",
       "4  Entire rental unit  Entire home/apt             2  ...               NaN   \n",
       "\n",
       "  number_of_reviews_ly  listing_id_x  total_bookings target listing_id_y  \\\n",
       "0                  NaN       27262.0            29.0  short      27262.0   \n",
       "1                  NaN      809874.0            97.0  short     809874.0   \n",
       "2                  NaN      866381.0            40.0   long     866381.0   \n",
       "3                  NaN      886724.0            18.0  short     886724.0   \n",
       "4                  NaN      896212.0           515.0   long     896212.0   \n",
       "\n",
       "   total_reviews  total_english_reviews  count_negative_english  \\\n",
       "0           29.0                   17.0                     0.0   \n",
       "1           97.0                   82.0                     0.0   \n",
       "2           40.0                   31.0                     0.0   \n",
       "3           18.0                   17.0                     1.0   \n",
       "4          515.0                  423.0                     3.0   \n",
       "\n",
       "   count_positive_english  \n",
       "0                    17.0  \n",
       "1                    82.0  \n",
       "2                    31.0  \n",
       "3                    16.0  \n",
       "4                   420.0  \n",
       "\n",
       "[5 rows x 35 columns]"
      ]
     },
     "execution_count": 47,
     "metadata": {},
     "output_type": "execute_result"
    }
   ],
   "source": [
    "final_df= final_df.merge(\n",
    "    reviews_statistics_df,\n",
    "    left_on='id',\n",
    "    right_on='listing_id',\n",
    "    how='left'\n",
    ")\n",
    "final_df.head(5)"
   ]
  },
  {
   "cell_type": "code",
   "execution_count": 49,
   "id": "e02b069b",
   "metadata": {},
   "outputs": [
    {
     "data": {
      "text/html": [
       "<div>\n",
       "<style scoped>\n",
       "    .dataframe tbody tr th:only-of-type {\n",
       "        vertical-align: middle;\n",
       "    }\n",
       "\n",
       "    .dataframe tbody tr th {\n",
       "        vertical-align: top;\n",
       "    }\n",
       "\n",
       "    .dataframe thead th {\n",
       "        text-align: right;\n",
       "    }\n",
       "</style>\n",
       "<table border=\"1\" class=\"dataframe\">\n",
       "  <thead>\n",
       "    <tr style=\"text-align: right;\">\n",
       "      <th></th>\n",
       "      <th>id</th>\n",
       "      <th>host_is_superhost</th>\n",
       "      <th>host_verifications</th>\n",
       "      <th>host_acceptance_rate</th>\n",
       "      <th>neighbourhood_cleansed</th>\n",
       "      <th>latitude</th>\n",
       "      <th>longitude</th>\n",
       "      <th>property_type</th>\n",
       "      <th>room_type</th>\n",
       "      <th>accommodates</th>\n",
       "      <th>...</th>\n",
       "      <th>count_negative_english</th>\n",
       "      <th>count_positive_english</th>\n",
       "      <th>amenities</th>\n",
       "      <th>standardized_amenities</th>\n",
       "      <th>num_of_amenities</th>\n",
       "      <th>num_of_other_amenities</th>\n",
       "      <th>has_wifi</th>\n",
       "      <th>has_air_conditioning</th>\n",
       "      <th>num_of_top_10_common_amenities</th>\n",
       "      <th>mean_embedding</th>\n",
       "    </tr>\n",
       "  </thead>\n",
       "  <tbody>\n",
       "    <tr>\n",
       "      <th>0</th>\n",
       "      <td>27262</td>\n",
       "      <td>t</td>\n",
       "      <td>['email', 'phone']</td>\n",
       "      <td>100%</td>\n",
       "      <td>ΑΜΠΕΛΟΚΗΠΟΙ</td>\n",
       "      <td>37.98924</td>\n",
       "      <td>23.76500</td>\n",
       "      <td>Entire rental unit</td>\n",
       "      <td>Entire home/apt</td>\n",
       "      <td>2</td>\n",
       "      <td>...</td>\n",
       "      <td>0.0</td>\n",
       "      <td>17.0</td>\n",
       "      <td>[\"Heating - split type ductless system\", \"Dish...</td>\n",
       "      <td>['OTHER', 'OTHER', 'OTHER', 'OTHER', 'Refriger...</td>\n",
       "      <td>37</td>\n",
       "      <td>25</td>\n",
       "      <td>True</td>\n",
       "      <td>False</td>\n",
       "      <td>9</td>\n",
       "      <td>[-6.15361333e-02 -5.01407236e-02 -3.76954190e-...</td>\n",
       "    </tr>\n",
       "    <tr>\n",
       "      <th>1</th>\n",
       "      <td>809874</td>\n",
       "      <td>f</td>\n",
       "      <td>['email', 'phone']</td>\n",
       "      <td>96%</td>\n",
       "      <td>ΚΟΥΚΑΚΙ-ΜΑΚΡΥΓΙΑΝΝΗ</td>\n",
       "      <td>37.96215</td>\n",
       "      <td>23.72179</td>\n",
       "      <td>Entire rental unit</td>\n",
       "      <td>Entire home/apt</td>\n",
       "      <td>4</td>\n",
       "      <td>...</td>\n",
       "      <td>0.0</td>\n",
       "      <td>82.0</td>\n",
       "      <td>[\"Host greets you\", \"Dishes and silverware\", \"...</td>\n",
       "      <td>['OTHER', 'OTHER', 'Washer', 'TV', 'OTHER', 'R...</td>\n",
       "      <td>21</td>\n",
       "      <td>12</td>\n",
       "      <td>True</td>\n",
       "      <td>True</td>\n",
       "      <td>7</td>\n",
       "      <td>[-5.95615655e-02 -3.39257978e-02 -3.55266146e-...</td>\n",
       "    </tr>\n",
       "    <tr>\n",
       "      <th>2</th>\n",
       "      <td>866381</td>\n",
       "      <td>t</td>\n",
       "      <td>['email', 'phone', 'work_email']</td>\n",
       "      <td>97%</td>\n",
       "      <td>ΝΕΟΣ ΚΟΣΜΟΣ</td>\n",
       "      <td>37.95523</td>\n",
       "      <td>23.72443</td>\n",
       "      <td>Entire condo</td>\n",
       "      <td>Entire home/apt</td>\n",
       "      <td>3</td>\n",
       "      <td>...</td>\n",
       "      <td>0.0</td>\n",
       "      <td>31.0</td>\n",
       "      <td>[\"Coffee\", \"Dishes and silverware\", \"Washer\", ...</td>\n",
       "      <td>['Coffee maker', 'OTHER', 'Washer', 'Condition...</td>\n",
       "      <td>49</td>\n",
       "      <td>29</td>\n",
       "      <td>True</td>\n",
       "      <td>True</td>\n",
       "      <td>12</td>\n",
       "      <td>[-5.62126637e-02 -3.99859361e-02 -3.53127755e-...</td>\n",
       "    </tr>\n",
       "    <tr>\n",
       "      <th>3</th>\n",
       "      <td>886724</td>\n",
       "      <td>f</td>\n",
       "      <td>['email']</td>\n",
       "      <td>0%</td>\n",
       "      <td>ΚΥΨΕΛΗ</td>\n",
       "      <td>37.99745</td>\n",
       "      <td>23.73973</td>\n",
       "      <td>Entire rental unit</td>\n",
       "      <td>Entire home/apt</td>\n",
       "      <td>2</td>\n",
       "      <td>...</td>\n",
       "      <td>1.0</td>\n",
       "      <td>16.0</td>\n",
       "      <td>[\"Host greets you\", \"Luggage dropoff allowed\",...</td>\n",
       "      <td>['OTHER', 'OTHER', 'Washer', 'OTHER', 'OTHER',...</td>\n",
       "      <td>20</td>\n",
       "      <td>13</td>\n",
       "      <td>True</td>\n",
       "      <td>True</td>\n",
       "      <td>6</td>\n",
       "      <td>[-5.84196560e-02 -4.62852195e-02 -3.04865874e-...</td>\n",
       "    </tr>\n",
       "    <tr>\n",
       "      <th>4</th>\n",
       "      <td>896212</td>\n",
       "      <td>t</td>\n",
       "      <td>['email', 'phone']</td>\n",
       "      <td>100%</td>\n",
       "      <td>ΜΟΥΣΕΙΟ-ΕΞΑΡΧΕΙΑ-ΝΕΑΠΟΛΗ</td>\n",
       "      <td>37.98844</td>\n",
       "      <td>23.73845</td>\n",
       "      <td>Entire rental unit</td>\n",
       "      <td>Entire home/apt</td>\n",
       "      <td>2</td>\n",
       "      <td>...</td>\n",
       "      <td>3.0</td>\n",
       "      <td>420.0</td>\n",
       "      <td>[\"Host greets you\", \"Coffee\", \"Dishes and silv...</td>\n",
       "      <td>['OTHER', 'Coffee maker', 'OTHER', 'OTHER', 'O...</td>\n",
       "      <td>45</td>\n",
       "      <td>31</td>\n",
       "      <td>True</td>\n",
       "      <td>True</td>\n",
       "      <td>9</td>\n",
       "      <td>[-5.81393391e-02 -4.77810428e-02 -4.26256545e-...</td>\n",
       "    </tr>\n",
       "  </tbody>\n",
       "</table>\n",
       "<p>5 rows × 43 columns</p>\n",
       "</div>"
      ],
      "text/plain": [
       "       id host_is_superhost                host_verifications  \\\n",
       "0   27262                 t                ['email', 'phone']   \n",
       "1  809874                 f                ['email', 'phone']   \n",
       "2  866381                 t  ['email', 'phone', 'work_email']   \n",
       "3  886724                 f                         ['email']   \n",
       "4  896212                 t                ['email', 'phone']   \n",
       "\n",
       "  host_acceptance_rate    neighbourhood_cleansed  latitude  longitude  \\\n",
       "0                 100%               ΑΜΠΕΛΟΚΗΠΟΙ  37.98924   23.76500   \n",
       "1                  96%       ΚΟΥΚΑΚΙ-ΜΑΚΡΥΓΙΑΝΝΗ  37.96215   23.72179   \n",
       "2                  97%               ΝΕΟΣ ΚΟΣΜΟΣ  37.95523   23.72443   \n",
       "3                   0%                    ΚΥΨΕΛΗ  37.99745   23.73973   \n",
       "4                 100%  ΜΟΥΣΕΙΟ-ΕΞΑΡΧΕΙΑ-ΝΕΑΠΟΛΗ  37.98844   23.73845   \n",
       "\n",
       "        property_type        room_type  accommodates  ...  \\\n",
       "0  Entire rental unit  Entire home/apt             2  ...   \n",
       "1  Entire rental unit  Entire home/apt             4  ...   \n",
       "2        Entire condo  Entire home/apt             3  ...   \n",
       "3  Entire rental unit  Entire home/apt             2  ...   \n",
       "4  Entire rental unit  Entire home/apt             2  ...   \n",
       "\n",
       "   count_negative_english count_positive_english  \\\n",
       "0                     0.0                   17.0   \n",
       "1                     0.0                   82.0   \n",
       "2                     0.0                   31.0   \n",
       "3                     1.0                   16.0   \n",
       "4                     3.0                  420.0   \n",
       "\n",
       "                                           amenities  \\\n",
       "0  [\"Heating - split type ductless system\", \"Dish...   \n",
       "1  [\"Host greets you\", \"Dishes and silverware\", \"...   \n",
       "2  [\"Coffee\", \"Dishes and silverware\", \"Washer\", ...   \n",
       "3  [\"Host greets you\", \"Luggage dropoff allowed\",...   \n",
       "4  [\"Host greets you\", \"Coffee\", \"Dishes and silv...   \n",
       "\n",
       "                              standardized_amenities num_of_amenities  \\\n",
       "0  ['OTHER', 'OTHER', 'OTHER', 'OTHER', 'Refriger...               37   \n",
       "1  ['OTHER', 'OTHER', 'Washer', 'TV', 'OTHER', 'R...               21   \n",
       "2  ['Coffee maker', 'OTHER', 'Washer', 'Condition...               49   \n",
       "3  ['OTHER', 'OTHER', 'Washer', 'OTHER', 'OTHER',...               20   \n",
       "4  ['OTHER', 'Coffee maker', 'OTHER', 'OTHER', 'O...               45   \n",
       "\n",
       "  num_of_other_amenities  has_wifi  has_air_conditioning  \\\n",
       "0                     25      True                 False   \n",
       "1                     12      True                  True   \n",
       "2                     29      True                  True   \n",
       "3                     13      True                  True   \n",
       "4                     31      True                  True   \n",
       "\n",
       "   num_of_top_10_common_amenities  \\\n",
       "0                               9   \n",
       "1                               7   \n",
       "2                              12   \n",
       "3                               6   \n",
       "4                               9   \n",
       "\n",
       "                                      mean_embedding  \n",
       "0  [-6.15361333e-02 -5.01407236e-02 -3.76954190e-...  \n",
       "1  [-5.95615655e-02 -3.39257978e-02 -3.55266146e-...  \n",
       "2  [-5.62126637e-02 -3.99859361e-02 -3.53127755e-...  \n",
       "3  [-5.84196560e-02 -4.62852195e-02 -3.04865874e-...  \n",
       "4  [-5.81393391e-02 -4.77810428e-02 -4.26256545e-...  \n",
       "\n",
       "[5 rows x 43 columns]"
      ]
     },
     "execution_count": 49,
     "metadata": {},
     "output_type": "execute_result"
    }
   ],
   "source": [
    "final_df = final_df.merge(\n",
    "    amenities_df,\n",
    "    left_on='id',\n",
    "    right_on='id',\n",
    "    how='left'\n",
    ")\n",
    "final_df.head(5)"
   ]
  },
  {
   "cell_type": "code",
   "execution_count": 155,
   "id": "12018369",
   "metadata": {},
   "outputs": [],
   "source": [
    "# how to drop target column with NaN?\n",
    "final_df = final_df.dropna(subset=['target'])"
   ]
  },
  {
   "cell_type": "code",
   "execution_count": 153,
   "id": "e4f65be3",
   "metadata": {},
   "outputs": [],
   "source": [
    "# changing price to a numerical value\n",
    "final_df['price'] = final_df['price'].replace('[\\$,]', '', regex=True).astype(float)"
   ]
  },
  {
   "cell_type": "code",
   "execution_count": 158,
   "id": "af924679",
   "metadata": {},
   "outputs": [],
   "source": [
    "# droppin unnecesery columns\n",
    "final_df.drop(columns=['listing_id_x', 'listing_id_y'], inplace=True)"
   ]
  },
  {
   "cell_type": "code",
   "execution_count": 161,
   "id": "c2397c58",
   "metadata": {},
   "outputs": [],
   "source": [
    "# changing host_avaialbility_rate to a number\n",
    "final_df['host_acceptance_rate'] = final_df['host_acceptance_rate'].replace('[\\%,]', '', regex=True).astype(float)"
   ]
  },
  {
   "cell_type": "markdown",
   "id": "df03d261",
   "metadata": {},
   "source": [
    "### Statystyki ostatecznego datasetu"
   ]
  },
  {
   "cell_type": "code",
   "execution_count": 162,
   "id": "6a1d1683",
   "metadata": {},
   "outputs": [
    {
     "name": "stdout",
     "output_type": "stream",
     "text": [
      "Numerical columns:  ['id', 'host_acceptance_rate', 'latitude', 'longitude', 'accommodates', 'bathrooms', 'bedrooms', 'beds', 'price', 'review_scores_rating', 'review_scores_accuracy', 'review_scores_cleanliness', 'review_scores_checkin', 'review_scores_communication', 'review_scores_location', 'review_scores_value', 'reviews_per_month', 'availability_eoy', 'number_of_reviews_ly', 'total_bookings', 'total_reviews', 'total_english_reviews', 'count_negative_english', 'count_positive_english', 'num_of_amenities', 'num_of_other_amenities', 'has_wifi', 'has_air_conditioning', 'num_of_top_10_common_amenities']\n",
      "Categorical columns:  ['host_is_superhost', 'host_verifications', 'neighbourhood_cleansed', 'property_type', 'room_type', 'bathrooms_text', 'license', 'instant_bookable', 'target', 'amenities', 'standardized_amenities', 'mean_embedding']\n"
     ]
    }
   ],
   "source": [
    "final_df_numerical_columns = final_df.select_dtypes(include=[np.number, np.bool]).columns.tolist()\n",
    "final_df_categorical_columns = final_df.select_dtypes(exclude=[np.number, np.bool]).columns.tolist()\n",
    "\n",
    "print(\"Numerical columns: \", final_df_numerical_columns)\n",
    "print(\"Categorical columns: \", final_df_categorical_columns)"
   ]
  },
  {
   "cell_type": "markdown",
   "id": "d7022bd3",
   "metadata": {},
   "source": [
    "# Klasyfikatory"
   ]
  },
  {
   "cell_type": "markdown",
   "id": "2d225cab",
   "metadata": {},
   "source": [
    "### Model Naiwny - Klasyfikator"
   ]
  },
  {
   "cell_type": "code",
   "execution_count": null,
   "id": "90c9f46c",
   "metadata": {},
   "outputs": [],
   "source": [
    "# We assume that 0 will represent tha class that is more representative in the dataset\n",
    "class NaiveClassifier(nn.Module):\n",
    "    def __init__(self, input_size: int, output: int = 0):\n",
    "        super(NaiveClassifier, self).__init__()\n",
    "        self.input_size = input_size\n",
    "        self.output = output\n",
    "\n",
    "\n",
    "    def forward(self, x):\n",
    "        batch_size = x.shape[0]\n",
    "        logits = torch.zeros((batch_size, 2), dtype=torch.float32)\n",
    "        logits[:, self.output] = 1.0\n",
    "        return logits"
   ]
  },
  {
   "cell_type": "markdown",
   "id": "6f2e9f54",
   "metadata": {},
   "source": [
    "### Model docelowy - Klasyfikator"
   ]
  },
  {
   "cell_type": "code",
   "execution_count": 117,
   "id": "de4ec81d",
   "metadata": {},
   "outputs": [],
   "source": [
    "class BinaryClassifier(nn.Module):\n",
    "    def __init__(self, input_size: int, output_size: int):\n",
    "        super(BinaryClassifier, self).__init__()\n",
    "        self.input_size = input_size\n",
    "        self.output_size = output_size\n",
    "\n",
    "        self.fc1 = nn.Linear(input_size, 128)\n",
    "        self.fc2 = nn.Linear(128, 64)\n",
    "        self.fc3 = nn.Linear(64, output_size)\n",
    "\n",
    "        self.actv = F.relu\n",
    "\n",
    "    def forward(self, x):\n",
    "        x = self.actv(self.fc1(x))\n",
    "        x = self.actv(self.fc2(x))\n",
    "        x = self.fc3(x)\n",
    "\n",
    "        return x\n"
   ]
  },
  {
   "cell_type": "code",
   "execution_count": 228,
   "id": "ce37da9b",
   "metadata": {},
   "outputs": [],
   "source": [
    "class BinaryClassifierEmbeddings(nn.Module):\n",
    "    def __init__(self, num_numeric: int, embedding_sizes: list, output_size: int):\n",
    "        super(BinaryClassifierEmbeddings, self).__init__()\n",
    "\n",
    "        self.embeddings = nn.ModuleList([\n",
    "            nn.Embedding(num_categories, emb_dim)\n",
    "            for num_categories, emb_dim in embedding_sizes\n",
    "        ])\n",
    "\n",
    "        emb_dim_total = sum(emb_dim for _, emb_dim in embedding_sizes)\n",
    "        self.input_size = num_numeric + emb_dim_total\n",
    "\n",
    "        self.fc1 = nn.Linear(self.input_size, 128)\n",
    "        self.fc2 = nn.Linear(128, 64)\n",
    "        self.fc3 = nn.Linear(64, output_size)\n",
    "\n",
    "        self.actv = F.relu\n",
    "\n",
    "    def forward(self, x_cat, x_num):\n",
    "        embedded = [emb(x_cat[:, i]) for i, emb in enumerate(self.embeddings)]\n",
    "        x = torch.cat(embedded + [x_num], dim=1)\n",
    "\n",
    "        x = self.actv(self.fc1(x))\n",
    "        x = self.actv(self.fc2(x))\n",
    "        x = self.fc3(x)\n",
    "        return x"
   ]
  },
  {
   "cell_type": "markdown",
   "id": "1cbf6df8",
   "metadata": {},
   "source": [
    "### Porównanie"
   ]
  },
  {
   "cell_type": "code",
   "execution_count": 123,
   "id": "3f677db2",
   "metadata": {},
   "outputs": [],
   "source": [
    "def train_test_split_data(df: pd.DataFrame, test_size: float = 0.2, target_column: str = 'target'):\n",
    "    X = df.drop(columns=[target_column])\n",
    "    y = df[target_column]\n",
    "    X = X.astype(np.float32)\n",
    "\n",
    "    X_train, X_test, y_train, y_test = train_test_split(X, y, test_size=test_size, random_state=42, stratify=y)\n",
    "\n",
    "    # convert targets to int\n",
    "    y_train = y_train.map({'short': 0, 'long': 1})\n",
    "    y_test = y_test.map({'short': 0, 'long': 1})\n",
    "\n",
    "    return X_train, X_test, y_train, y_test\n",
    "\n",
    "\n",
    "def create_dataloader(x: pd.DataFrame, y: pd.Series, batch_size: int = 32):\n",
    "    X_tensor = torch.tensor(x.values, dtype=torch.float32)\n",
    "    y_tensor = torch.tensor(y.values, dtype=torch.long)\n",
    "\n",
    "    dataset = TensorDataset(X_tensor, y_tensor)\n",
    "    dataloader = DataLoader(dataset, batch_size=batch_size, shuffle=True)\n",
    "\n",
    "    return dataloader\n"
   ]
  },
  {
   "cell_type": "code",
   "execution_count": null,
   "id": "13500ffd",
   "metadata": {},
   "outputs": [],
   "source": [
    "def train_classifier(\n",
    "    model: nn.Module,\n",
    "    train_loader: DataLoader,\n",
    "    criterion,\n",
    "    optimizer,\n",
    "    num_epochs: int = 10,\n",
    "    device: str = 'cuda' if torch.cuda.is_available() else 'cpu'\n",
    "):\n",
    "    for epoch in range(num_epochs):\n",
    "        model.train()\n",
    "        running_loss = 0.0\n",
    "        # Wrap train_loader with tqdm for progress display\n",
    "        for inputs, labels in tqdm(train_loader, desc=f'Epoch {epoch+1}/{num_epochs}', leave=False):\n",
    "\n",
    "            inputs = inputs.to(device)\n",
    "            labels = labels.to(device)\n",
    "\n",
    "            optimizer.zero_grad()\n",
    "            outputs = model(inputs)\n",
    "            loss = criterion(outputs, labels)\n",
    "            loss.backward()\n",
    "            optimizer.step()\n",
    "            running_loss += loss.item()\n",
    "\n",
    "        print(f\"Epoch [{epoch+1}/{num_epochs}], Loss: {running_loss/len(train_loader):.4f}\")\n",
    "\n",
    "    print(\"Training complete!\")\n",
    "\n",
    "\n",
    "def evaluate_model(model: nn.Module, test_loader: DataLoader, device: str = 'cuda' if torch.cuda.is_available() else 'cpu'):\n",
    "    model.eval()\n",
    "    all_preds = []\n",
    "    all_labels = []\n",
    "    # Use tqdm for the evaluation progress\n",
    "    for inputs, labels in tqdm(test_loader, desc='Evaluating'):\n",
    "\n",
    "        inputs = inputs.to(device)\n",
    "        labels = labels.to(device)\n",
    "\n",
    "        with torch.no_grad():\n",
    "            outputs = model(inputs)\n",
    "            probs = torch.softmax(outputs, dim=1)\n",
    "        all_preds.append(probs)\n",
    "        all_labels.append(labels)\n",
    "\n",
    "    all_preds = torch.cat(all_preds).cpu().numpy()\n",
    "    all_labels = torch.cat(all_labels).cpu().numpy()\n",
    "\n",
    "    accuracy = accuracy_score(all_labels, np.argmax(all_preds, axis=1))\n",
    "    roc_auc = roc_auc_score(all_labels, all_preds[:, 1])\n",
    "    avg_precision = average_precision_score(all_labels, all_preds[:, 1])\n",
    "    print(f\"Accuracy: {accuracy:.4f}\")\n",
    "    print(f\"ROC AUC: {roc_auc:.4f}\")\n",
    "    print(f\"Average Precision: {avg_precision:.4f}\")\n",
    "\n",
    "    return all_preds, all_labels"
   ]
  },
  {
   "cell_type": "markdown",
   "id": "0c98c489",
   "metadata": {},
   "source": [
    "#### Wersja 1"
   ]
  },
  {
   "cell_type": "code",
   "execution_count": 163,
   "id": "2745f3f7",
   "metadata": {},
   "outputs": [
    {
     "data": {
      "text/html": [
       "<div>\n",
       "<style scoped>\n",
       "    .dataframe tbody tr th:only-of-type {\n",
       "        vertical-align: middle;\n",
       "    }\n",
       "\n",
       "    .dataframe tbody tr th {\n",
       "        vertical-align: top;\n",
       "    }\n",
       "\n",
       "    .dataframe thead th {\n",
       "        text-align: right;\n",
       "    }\n",
       "</style>\n",
       "<table border=\"1\" class=\"dataframe\">\n",
       "  <thead>\n",
       "    <tr style=\"text-align: right;\">\n",
       "      <th></th>\n",
       "      <th>host_acceptance_rate</th>\n",
       "      <th>latitude</th>\n",
       "      <th>longitude</th>\n",
       "      <th>accommodates</th>\n",
       "      <th>bathrooms</th>\n",
       "      <th>bedrooms</th>\n",
       "      <th>beds</th>\n",
       "      <th>price</th>\n",
       "      <th>review_scores_rating</th>\n",
       "      <th>review_scores_accuracy</th>\n",
       "      <th>...</th>\n",
       "      <th>total_reviews</th>\n",
       "      <th>total_english_reviews</th>\n",
       "      <th>count_negative_english</th>\n",
       "      <th>count_positive_english</th>\n",
       "      <th>num_of_amenities</th>\n",
       "      <th>num_of_other_amenities</th>\n",
       "      <th>has_wifi</th>\n",
       "      <th>has_air_conditioning</th>\n",
       "      <th>num_of_top_10_common_amenities</th>\n",
       "      <th>target</th>\n",
       "    </tr>\n",
       "  </thead>\n",
       "  <tbody>\n",
       "    <tr>\n",
       "      <th>0</th>\n",
       "      <td>100.0</td>\n",
       "      <td>37.98924</td>\n",
       "      <td>23.76500</td>\n",
       "      <td>2</td>\n",
       "      <td>1.0</td>\n",
       "      <td>1.0</td>\n",
       "      <td>1.0</td>\n",
       "      <td>131.0</td>\n",
       "      <td>4.86</td>\n",
       "      <td>4.89</td>\n",
       "      <td>...</td>\n",
       "      <td>29.0</td>\n",
       "      <td>17.0</td>\n",
       "      <td>0.0</td>\n",
       "      <td>17.0</td>\n",
       "      <td>37</td>\n",
       "      <td>25</td>\n",
       "      <td>True</td>\n",
       "      <td>False</td>\n",
       "      <td>9</td>\n",
       "      <td>short</td>\n",
       "    </tr>\n",
       "    <tr>\n",
       "      <th>1</th>\n",
       "      <td>96.0</td>\n",
       "      <td>37.96215</td>\n",
       "      <td>23.72179</td>\n",
       "      <td>4</td>\n",
       "      <td>1.0</td>\n",
       "      <td>1.0</td>\n",
       "      <td>2.0</td>\n",
       "      <td>108.0</td>\n",
       "      <td>4.96</td>\n",
       "      <td>4.97</td>\n",
       "      <td>...</td>\n",
       "      <td>97.0</td>\n",
       "      <td>82.0</td>\n",
       "      <td>0.0</td>\n",
       "      <td>82.0</td>\n",
       "      <td>21</td>\n",
       "      <td>12</td>\n",
       "      <td>True</td>\n",
       "      <td>True</td>\n",
       "      <td>7</td>\n",
       "      <td>short</td>\n",
       "    </tr>\n",
       "    <tr>\n",
       "      <th>2</th>\n",
       "      <td>97.0</td>\n",
       "      <td>37.95523</td>\n",
       "      <td>23.72443</td>\n",
       "      <td>3</td>\n",
       "      <td>1.0</td>\n",
       "      <td>1.0</td>\n",
       "      <td>1.0</td>\n",
       "      <td>85.0</td>\n",
       "      <td>4.95</td>\n",
       "      <td>4.98</td>\n",
       "      <td>...</td>\n",
       "      <td>40.0</td>\n",
       "      <td>31.0</td>\n",
       "      <td>0.0</td>\n",
       "      <td>31.0</td>\n",
       "      <td>49</td>\n",
       "      <td>29</td>\n",
       "      <td>True</td>\n",
       "      <td>True</td>\n",
       "      <td>12</td>\n",
       "      <td>long</td>\n",
       "    </tr>\n",
       "    <tr>\n",
       "      <th>3</th>\n",
       "      <td>0.0</td>\n",
       "      <td>37.99745</td>\n",
       "      <td>23.73973</td>\n",
       "      <td>2</td>\n",
       "      <td>1.0</td>\n",
       "      <td>1.0</td>\n",
       "      <td>1.0</td>\n",
       "      <td>56.0</td>\n",
       "      <td>4.61</td>\n",
       "      <td>4.88</td>\n",
       "      <td>...</td>\n",
       "      <td>18.0</td>\n",
       "      <td>17.0</td>\n",
       "      <td>1.0</td>\n",
       "      <td>16.0</td>\n",
       "      <td>20</td>\n",
       "      <td>13</td>\n",
       "      <td>True</td>\n",
       "      <td>True</td>\n",
       "      <td>6</td>\n",
       "      <td>short</td>\n",
       "    </tr>\n",
       "    <tr>\n",
       "      <th>4</th>\n",
       "      <td>100.0</td>\n",
       "      <td>37.98844</td>\n",
       "      <td>23.73845</td>\n",
       "      <td>2</td>\n",
       "      <td>1.0</td>\n",
       "      <td>1.0</td>\n",
       "      <td>1.0</td>\n",
       "      <td>63.0</td>\n",
       "      <td>4.95</td>\n",
       "      <td>4.94</td>\n",
       "      <td>...</td>\n",
       "      <td>515.0</td>\n",
       "      <td>423.0</td>\n",
       "      <td>3.0</td>\n",
       "      <td>420.0</td>\n",
       "      <td>45</td>\n",
       "      <td>31</td>\n",
       "      <td>True</td>\n",
       "      <td>True</td>\n",
       "      <td>9</td>\n",
       "      <td>long</td>\n",
       "    </tr>\n",
       "  </tbody>\n",
       "</table>\n",
       "<p>5 rows × 29 columns</p>\n",
       "</div>"
      ],
      "text/plain": [
       "   host_acceptance_rate  latitude  longitude  accommodates  bathrooms  \\\n",
       "0                 100.0  37.98924   23.76500             2        1.0   \n",
       "1                  96.0  37.96215   23.72179             4        1.0   \n",
       "2                  97.0  37.95523   23.72443             3        1.0   \n",
       "3                   0.0  37.99745   23.73973             2        1.0   \n",
       "4                 100.0  37.98844   23.73845             2        1.0   \n",
       "\n",
       "   bedrooms  beds  price  review_scores_rating  review_scores_accuracy  ...  \\\n",
       "0       1.0   1.0  131.0                  4.86                    4.89  ...   \n",
       "1       1.0   2.0  108.0                  4.96                    4.97  ...   \n",
       "2       1.0   1.0   85.0                  4.95                    4.98  ...   \n",
       "3       1.0   1.0   56.0                  4.61                    4.88  ...   \n",
       "4       1.0   1.0   63.0                  4.95                    4.94  ...   \n",
       "\n",
       "   total_reviews  total_english_reviews  count_negative_english  \\\n",
       "0           29.0                   17.0                     0.0   \n",
       "1           97.0                   82.0                     0.0   \n",
       "2           40.0                   31.0                     0.0   \n",
       "3           18.0                   17.0                     1.0   \n",
       "4          515.0                  423.0                     3.0   \n",
       "\n",
       "   count_positive_english  num_of_amenities  num_of_other_amenities  has_wifi  \\\n",
       "0                    17.0                37                      25      True   \n",
       "1                    82.0                21                      12      True   \n",
       "2                    31.0                49                      29      True   \n",
       "3                    16.0                20                      13      True   \n",
       "4                   420.0                45                      31      True   \n",
       "\n",
       "   has_air_conditioning  num_of_top_10_common_amenities  target  \n",
       "0                 False                               9   short  \n",
       "1                  True                               7   short  \n",
       "2                  True                              12    long  \n",
       "3                  True                               6   short  \n",
       "4                  True                               9    long  \n",
       "\n",
       "[5 rows x 29 columns]"
      ]
     },
     "execution_count": 163,
     "metadata": {},
     "output_type": "execute_result"
    }
   ],
   "source": [
    "numerical_df = final_df[final_df_numerical_columns + ['target']].copy()\n",
    "numerical_df = numerical_df.fillna(0)\n",
    "numerical_df = numerical_df.drop(columns=['id'])\n",
    "numerical_df.head(5)\n"
   ]
  },
  {
   "cell_type": "code",
   "execution_count": 169,
   "id": "fdfee290",
   "metadata": {},
   "outputs": [
    {
     "data": {
      "text/plain": [
       "(28807, 29)"
      ]
     },
     "execution_count": 169,
     "metadata": {},
     "output_type": "execute_result"
    }
   ],
   "source": [
    "numerical_df.shape"
   ]
  },
  {
   "cell_type": "code",
   "execution_count": 99,
   "id": "9a7411d4",
   "metadata": {},
   "outputs": [
    {
     "name": "stdout",
     "output_type": "stream",
     "text": [
      "Using device: cuda\n"
     ]
    }
   ],
   "source": [
    "device = torch.device('cuda' if torch.cuda.is_available() else 'cpu')\n",
    "print(f\"Using device: {device}\")"
   ]
  },
  {
   "cell_type": "code",
   "execution_count": 164,
   "id": "7f608e35",
   "metadata": {},
   "outputs": [],
   "source": [
    "x_train, x_test, y_train, y_test = train_test_split_data(\n",
    "    numerical_df,\n",
    "    test_size=0.2,\n",
    "    target_column='target'\n",
    ")\n",
    "\n",
    "train_dataloader = create_dataloader(x_train, y_train, batch_size=32)\n",
    "test_dataloader = create_dataloader(x_test, y_test, batch_size=32)"
   ]
  },
  {
   "cell_type": "code",
   "execution_count": null,
   "id": "abd010f5",
   "metadata": {},
   "outputs": [],
   "source": [
    "naive_classifier = NaiveClassifier(input_size=len(x_train.columns), output=0).to(device)\n",
    "\n",
    "classifier_v1 = BinaryClassifier(input_size=len(x_train.columns), output_size=2).to(device)\n",
    "criterion = nn.CrossEntropyLoss()\n",
    "optimizer = torch.optim.Adam(classifier_v1.parameters(), lr=0.001)"
   ]
  },
  {
   "cell_type": "code",
   "execution_count": 115,
   "id": "22cc48ef",
   "metadata": {},
   "outputs": [
    {
     "name": "stderr",
     "output_type": "stream",
     "text": [
      "Evaluating: 100%|██████████| 181/181 [00:00<00:00, 723.82it/s]"
     ]
    },
    {
     "name": "stdout",
     "output_type": "stream",
     "text": [
      "Accuracy: 0.7805\n",
      "ROC AUC: 0.5000\n",
      "Average Precision: 0.2195\n"
     ]
    },
    {
     "name": "stderr",
     "output_type": "stream",
     "text": [
      "\n"
     ]
    }
   ],
   "source": [
    "all_preds, all_labels = evaluate_model(naive_classifier, test_dataloader)"
   ]
  },
  {
   "cell_type": "code",
   "execution_count": 166,
   "id": "fdb302ec",
   "metadata": {},
   "outputs": [
    {
     "name": "stderr",
     "output_type": "stream",
     "text": [
      "                                                              \r"
     ]
    },
    {
     "name": "stdout",
     "output_type": "stream",
     "text": [
      "Epoch [1/50], Loss: 0.3764\n"
     ]
    },
    {
     "name": "stderr",
     "output_type": "stream",
     "text": [
      "                                                              \r"
     ]
    },
    {
     "name": "stdout",
     "output_type": "stream",
     "text": [
      "Epoch [2/50], Loss: 0.2844\n"
     ]
    },
    {
     "name": "stderr",
     "output_type": "stream",
     "text": [
      "                                                              \r"
     ]
    },
    {
     "name": "stdout",
     "output_type": "stream",
     "text": [
      "Epoch [3/50], Loss: 0.2643\n"
     ]
    },
    {
     "name": "stderr",
     "output_type": "stream",
     "text": [
      "                                                              \r"
     ]
    },
    {
     "name": "stdout",
     "output_type": "stream",
     "text": [
      "Epoch [4/50], Loss: 0.2538\n"
     ]
    },
    {
     "name": "stderr",
     "output_type": "stream",
     "text": [
      "                                                              \r"
     ]
    },
    {
     "name": "stdout",
     "output_type": "stream",
     "text": [
      "Epoch [5/50], Loss: 0.2495\n"
     ]
    },
    {
     "name": "stderr",
     "output_type": "stream",
     "text": [
      "                                                              \r"
     ]
    },
    {
     "name": "stdout",
     "output_type": "stream",
     "text": [
      "Epoch [6/50], Loss: 0.2435\n"
     ]
    },
    {
     "name": "stderr",
     "output_type": "stream",
     "text": [
      "                                                              \r"
     ]
    },
    {
     "name": "stdout",
     "output_type": "stream",
     "text": [
      "Epoch [7/50], Loss: 0.2408\n"
     ]
    },
    {
     "name": "stderr",
     "output_type": "stream",
     "text": [
      "                                                              \r"
     ]
    },
    {
     "name": "stdout",
     "output_type": "stream",
     "text": [
      "Epoch [8/50], Loss: 0.2394\n"
     ]
    },
    {
     "name": "stderr",
     "output_type": "stream",
     "text": [
      "                                                              \r"
     ]
    },
    {
     "name": "stdout",
     "output_type": "stream",
     "text": [
      "Epoch [9/50], Loss: 0.2397\n"
     ]
    },
    {
     "name": "stderr",
     "output_type": "stream",
     "text": [
      "                                                               \r"
     ]
    },
    {
     "name": "stdout",
     "output_type": "stream",
     "text": [
      "Epoch [10/50], Loss: 0.2333\n"
     ]
    },
    {
     "name": "stderr",
     "output_type": "stream",
     "text": [
      "                                                               \r"
     ]
    },
    {
     "name": "stdout",
     "output_type": "stream",
     "text": [
      "Epoch [11/50], Loss: 0.2322\n"
     ]
    },
    {
     "name": "stderr",
     "output_type": "stream",
     "text": [
      "                                                               \r"
     ]
    },
    {
     "name": "stdout",
     "output_type": "stream",
     "text": [
      "Epoch [12/50], Loss: 0.2281\n"
     ]
    },
    {
     "name": "stderr",
     "output_type": "stream",
     "text": [
      "                                                               \r"
     ]
    },
    {
     "name": "stdout",
     "output_type": "stream",
     "text": [
      "Epoch [13/50], Loss: 0.2272\n"
     ]
    },
    {
     "name": "stderr",
     "output_type": "stream",
     "text": [
      "                                                               \r"
     ]
    },
    {
     "name": "stdout",
     "output_type": "stream",
     "text": [
      "Epoch [14/50], Loss: 0.2285\n"
     ]
    },
    {
     "name": "stderr",
     "output_type": "stream",
     "text": [
      "                                                               \r"
     ]
    },
    {
     "name": "stdout",
     "output_type": "stream",
     "text": [
      "Epoch [15/50], Loss: 0.2284\n"
     ]
    },
    {
     "name": "stderr",
     "output_type": "stream",
     "text": [
      "                                                               \r"
     ]
    },
    {
     "name": "stdout",
     "output_type": "stream",
     "text": [
      "Epoch [16/50], Loss: 0.2264\n"
     ]
    },
    {
     "name": "stderr",
     "output_type": "stream",
     "text": [
      "                                                               \r"
     ]
    },
    {
     "name": "stdout",
     "output_type": "stream",
     "text": [
      "Epoch [17/50], Loss: 0.2235\n"
     ]
    },
    {
     "name": "stderr",
     "output_type": "stream",
     "text": [
      "                                                               \r"
     ]
    },
    {
     "name": "stdout",
     "output_type": "stream",
     "text": [
      "Epoch [18/50], Loss: 0.2226\n"
     ]
    },
    {
     "name": "stderr",
     "output_type": "stream",
     "text": [
      "                                                               \r"
     ]
    },
    {
     "name": "stdout",
     "output_type": "stream",
     "text": [
      "Epoch [19/50], Loss: 0.2210\n"
     ]
    },
    {
     "name": "stderr",
     "output_type": "stream",
     "text": [
      "                                                               \r"
     ]
    },
    {
     "name": "stdout",
     "output_type": "stream",
     "text": [
      "Epoch [20/50], Loss: 0.2195\n"
     ]
    },
    {
     "name": "stderr",
     "output_type": "stream",
     "text": [
      "                                                               \r"
     ]
    },
    {
     "name": "stdout",
     "output_type": "stream",
     "text": [
      "Epoch [21/50], Loss: 0.2195\n"
     ]
    },
    {
     "name": "stderr",
     "output_type": "stream",
     "text": [
      "                                                               \r"
     ]
    },
    {
     "name": "stdout",
     "output_type": "stream",
     "text": [
      "Epoch [22/50], Loss: 0.2182\n"
     ]
    },
    {
     "name": "stderr",
     "output_type": "stream",
     "text": [
      "                                                               \r"
     ]
    },
    {
     "name": "stdout",
     "output_type": "stream",
     "text": [
      "Epoch [23/50], Loss: 0.2200\n"
     ]
    },
    {
     "name": "stderr",
     "output_type": "stream",
     "text": [
      "                                                               \r"
     ]
    },
    {
     "name": "stdout",
     "output_type": "stream",
     "text": [
      "Epoch [24/50], Loss: 0.2163\n"
     ]
    },
    {
     "name": "stderr",
     "output_type": "stream",
     "text": [
      "                                                               \r"
     ]
    },
    {
     "name": "stdout",
     "output_type": "stream",
     "text": [
      "Epoch [25/50], Loss: 0.2160\n"
     ]
    },
    {
     "name": "stderr",
     "output_type": "stream",
     "text": [
      "                                                               \r"
     ]
    },
    {
     "name": "stdout",
     "output_type": "stream",
     "text": [
      "Epoch [26/50], Loss: 0.2147\n"
     ]
    },
    {
     "name": "stderr",
     "output_type": "stream",
     "text": [
      "                                                               \r"
     ]
    },
    {
     "name": "stdout",
     "output_type": "stream",
     "text": [
      "Epoch [27/50], Loss: 0.2131\n"
     ]
    },
    {
     "name": "stderr",
     "output_type": "stream",
     "text": [
      "                                                               \r"
     ]
    },
    {
     "name": "stdout",
     "output_type": "stream",
     "text": [
      "Epoch [28/50], Loss: 0.2112\n"
     ]
    },
    {
     "name": "stderr",
     "output_type": "stream",
     "text": [
      "                                                               \r"
     ]
    },
    {
     "name": "stdout",
     "output_type": "stream",
     "text": [
      "Epoch [29/50], Loss: 0.2123\n"
     ]
    },
    {
     "name": "stderr",
     "output_type": "stream",
     "text": [
      "                                                               \r"
     ]
    },
    {
     "name": "stdout",
     "output_type": "stream",
     "text": [
      "Epoch [30/50], Loss: 0.2147\n"
     ]
    },
    {
     "name": "stderr",
     "output_type": "stream",
     "text": [
      "                                                               \r"
     ]
    },
    {
     "name": "stdout",
     "output_type": "stream",
     "text": [
      "Epoch [31/50], Loss: 0.2095\n"
     ]
    },
    {
     "name": "stderr",
     "output_type": "stream",
     "text": [
      "                                                               \r"
     ]
    },
    {
     "name": "stdout",
     "output_type": "stream",
     "text": [
      "Epoch [32/50], Loss: 0.2102\n"
     ]
    },
    {
     "name": "stderr",
     "output_type": "stream",
     "text": [
      "                                                               \r"
     ]
    },
    {
     "name": "stdout",
     "output_type": "stream",
     "text": [
      "Epoch [33/50], Loss: 0.2095\n"
     ]
    },
    {
     "name": "stderr",
     "output_type": "stream",
     "text": [
      "                                                               \r"
     ]
    },
    {
     "name": "stdout",
     "output_type": "stream",
     "text": [
      "Epoch [34/50], Loss: 0.2087\n"
     ]
    },
    {
     "name": "stderr",
     "output_type": "stream",
     "text": [
      "                                                               \r"
     ]
    },
    {
     "name": "stdout",
     "output_type": "stream",
     "text": [
      "Epoch [35/50], Loss: 0.2096\n"
     ]
    },
    {
     "name": "stderr",
     "output_type": "stream",
     "text": [
      "                                                               \r"
     ]
    },
    {
     "name": "stdout",
     "output_type": "stream",
     "text": [
      "Epoch [36/50], Loss: 0.2076\n"
     ]
    },
    {
     "name": "stderr",
     "output_type": "stream",
     "text": [
      "                                                               \r"
     ]
    },
    {
     "name": "stdout",
     "output_type": "stream",
     "text": [
      "Epoch [37/50], Loss: 0.2067\n"
     ]
    },
    {
     "name": "stderr",
     "output_type": "stream",
     "text": [
      "                                                               \r"
     ]
    },
    {
     "name": "stdout",
     "output_type": "stream",
     "text": [
      "Epoch [38/50], Loss: 0.2047\n"
     ]
    },
    {
     "name": "stderr",
     "output_type": "stream",
     "text": [
      "                                                               \r"
     ]
    },
    {
     "name": "stdout",
     "output_type": "stream",
     "text": [
      "Epoch [39/50], Loss: 0.2046\n"
     ]
    },
    {
     "name": "stderr",
     "output_type": "stream",
     "text": [
      "                                                               \r"
     ]
    },
    {
     "name": "stdout",
     "output_type": "stream",
     "text": [
      "Epoch [40/50], Loss: 0.2040\n"
     ]
    },
    {
     "name": "stderr",
     "output_type": "stream",
     "text": [
      "                                                               \r"
     ]
    },
    {
     "name": "stdout",
     "output_type": "stream",
     "text": [
      "Epoch [41/50], Loss: 0.2069\n"
     ]
    },
    {
     "name": "stderr",
     "output_type": "stream",
     "text": [
      "                                                               \r"
     ]
    },
    {
     "name": "stdout",
     "output_type": "stream",
     "text": [
      "Epoch [42/50], Loss: 0.2055\n"
     ]
    },
    {
     "name": "stderr",
     "output_type": "stream",
     "text": [
      "                                                               \r"
     ]
    },
    {
     "name": "stdout",
     "output_type": "stream",
     "text": [
      "Epoch [43/50], Loss: 0.2055\n"
     ]
    },
    {
     "name": "stderr",
     "output_type": "stream",
     "text": [
      "                                                               \r"
     ]
    },
    {
     "name": "stdout",
     "output_type": "stream",
     "text": [
      "Epoch [44/50], Loss: 0.2019\n"
     ]
    },
    {
     "name": "stderr",
     "output_type": "stream",
     "text": [
      "                                                               \r"
     ]
    },
    {
     "name": "stdout",
     "output_type": "stream",
     "text": [
      "Epoch [45/50], Loss: 0.2030\n"
     ]
    },
    {
     "name": "stderr",
     "output_type": "stream",
     "text": [
      "                                                               \r"
     ]
    },
    {
     "name": "stdout",
     "output_type": "stream",
     "text": [
      "Epoch [46/50], Loss: 0.1997\n"
     ]
    },
    {
     "name": "stderr",
     "output_type": "stream",
     "text": [
      "                                                               \r"
     ]
    },
    {
     "name": "stdout",
     "output_type": "stream",
     "text": [
      "Epoch [47/50], Loss: 0.1998\n"
     ]
    },
    {
     "name": "stderr",
     "output_type": "stream",
     "text": [
      "                                                               \r"
     ]
    },
    {
     "name": "stdout",
     "output_type": "stream",
     "text": [
      "Epoch [48/50], Loss: 0.2030\n"
     ]
    },
    {
     "name": "stderr",
     "output_type": "stream",
     "text": [
      "                                                               \r"
     ]
    },
    {
     "name": "stdout",
     "output_type": "stream",
     "text": [
      "Epoch [49/50], Loss: 0.2013\n"
     ]
    },
    {
     "name": "stderr",
     "output_type": "stream",
     "text": [
      "                                                               \r"
     ]
    },
    {
     "name": "stdout",
     "output_type": "stream",
     "text": [
      "Epoch [50/50], Loss: 0.2018\n",
      "Training complete!\n"
     ]
    },
    {
     "name": "stderr",
     "output_type": "stream",
     "text": [
      "Evaluating: 100%|██████████| 181/181 [00:00<00:00, 720.53it/s]"
     ]
    },
    {
     "name": "stdout",
     "output_type": "stream",
     "text": [
      "Accuracy: 0.8924\n",
      "ROC AUC: 0.9531\n",
      "Average Precision: 0.8252\n"
     ]
    },
    {
     "name": "stderr",
     "output_type": "stream",
     "text": [
      "\n"
     ]
    }
   ],
   "source": [
    "train_classifier(\n",
    "    classifier_v1,\n",
    "    train_dataloader,\n",
    "    criterion,\n",
    "    optimizer,\n",
    "    num_epochs=50\n",
    ")\n",
    "all_preds, all_labels = evaluate_model(classifier_v1, test_dataloader)"
   ]
  },
  {
   "cell_type": "markdown",
   "id": "ddbc9ccc",
   "metadata": {},
   "source": [
    "### Wersja 2"
   ]
  },
  {
   "cell_type": "code",
   "execution_count": 170,
   "id": "379553b6",
   "metadata": {},
   "outputs": [],
   "source": [
    "final_df_ohe = final_df.copy()"
   ]
  },
  {
   "cell_type": "code",
   "execution_count": 177,
   "id": "19f737c6",
   "metadata": {},
   "outputs": [
    {
     "data": {
      "text/html": [
       "<div>\n",
       "<style scoped>\n",
       "    .dataframe tbody tr th:only-of-type {\n",
       "        vertical-align: middle;\n",
       "    }\n",
       "\n",
       "    .dataframe tbody tr th {\n",
       "        vertical-align: top;\n",
       "    }\n",
       "\n",
       "    .dataframe thead th {\n",
       "        text-align: right;\n",
       "    }\n",
       "</style>\n",
       "<table border=\"1\" class=\"dataframe\">\n",
       "  <thead>\n",
       "    <tr style=\"text-align: right;\">\n",
       "      <th></th>\n",
       "      <th>host_is_superhost</th>\n",
       "      <th>host_verifications</th>\n",
       "      <th>host_acceptance_rate</th>\n",
       "      <th>latitude</th>\n",
       "      <th>longitude</th>\n",
       "      <th>property_type</th>\n",
       "      <th>room_type</th>\n",
       "      <th>accommodates</th>\n",
       "      <th>bathrooms</th>\n",
       "      <th>bathrooms_text</th>\n",
       "      <th>...</th>\n",
       "      <th>target</th>\n",
       "      <th>total_reviews</th>\n",
       "      <th>total_english_reviews</th>\n",
       "      <th>count_negative_english</th>\n",
       "      <th>count_positive_english</th>\n",
       "      <th>num_of_amenities</th>\n",
       "      <th>num_of_other_amenities</th>\n",
       "      <th>has_wifi</th>\n",
       "      <th>has_air_conditioning</th>\n",
       "      <th>num_of_top_10_common_amenities</th>\n",
       "    </tr>\n",
       "  </thead>\n",
       "  <tbody>\n",
       "    <tr>\n",
       "      <th>0</th>\n",
       "      <td>t</td>\n",
       "      <td>['email', 'phone']</td>\n",
       "      <td>100.0</td>\n",
       "      <td>37.98924</td>\n",
       "      <td>23.76500</td>\n",
       "      <td>Entire rental unit</td>\n",
       "      <td>Entire home/apt</td>\n",
       "      <td>2</td>\n",
       "      <td>1.0</td>\n",
       "      <td>1 bath</td>\n",
       "      <td>...</td>\n",
       "      <td>short</td>\n",
       "      <td>29.0</td>\n",
       "      <td>17.0</td>\n",
       "      <td>0.0</td>\n",
       "      <td>17.0</td>\n",
       "      <td>37</td>\n",
       "      <td>25</td>\n",
       "      <td>True</td>\n",
       "      <td>False</td>\n",
       "      <td>9</td>\n",
       "    </tr>\n",
       "    <tr>\n",
       "      <th>1</th>\n",
       "      <td>f</td>\n",
       "      <td>['email', 'phone']</td>\n",
       "      <td>96.0</td>\n",
       "      <td>37.96215</td>\n",
       "      <td>23.72179</td>\n",
       "      <td>Entire rental unit</td>\n",
       "      <td>Entire home/apt</td>\n",
       "      <td>4</td>\n",
       "      <td>1.0</td>\n",
       "      <td>1 bath</td>\n",
       "      <td>...</td>\n",
       "      <td>short</td>\n",
       "      <td>97.0</td>\n",
       "      <td>82.0</td>\n",
       "      <td>0.0</td>\n",
       "      <td>82.0</td>\n",
       "      <td>21</td>\n",
       "      <td>12</td>\n",
       "      <td>True</td>\n",
       "      <td>True</td>\n",
       "      <td>7</td>\n",
       "    </tr>\n",
       "    <tr>\n",
       "      <th>2</th>\n",
       "      <td>t</td>\n",
       "      <td>['email', 'phone', 'work_email']</td>\n",
       "      <td>97.0</td>\n",
       "      <td>37.95523</td>\n",
       "      <td>23.72443</td>\n",
       "      <td>Entire condo</td>\n",
       "      <td>Entire home/apt</td>\n",
       "      <td>3</td>\n",
       "      <td>1.0</td>\n",
       "      <td>1 bath</td>\n",
       "      <td>...</td>\n",
       "      <td>long</td>\n",
       "      <td>40.0</td>\n",
       "      <td>31.0</td>\n",
       "      <td>0.0</td>\n",
       "      <td>31.0</td>\n",
       "      <td>49</td>\n",
       "      <td>29</td>\n",
       "      <td>True</td>\n",
       "      <td>True</td>\n",
       "      <td>12</td>\n",
       "    </tr>\n",
       "    <tr>\n",
       "      <th>3</th>\n",
       "      <td>f</td>\n",
       "      <td>['email']</td>\n",
       "      <td>0.0</td>\n",
       "      <td>37.99745</td>\n",
       "      <td>23.73973</td>\n",
       "      <td>Entire rental unit</td>\n",
       "      <td>Entire home/apt</td>\n",
       "      <td>2</td>\n",
       "      <td>1.0</td>\n",
       "      <td>1 bath</td>\n",
       "      <td>...</td>\n",
       "      <td>short</td>\n",
       "      <td>18.0</td>\n",
       "      <td>17.0</td>\n",
       "      <td>1.0</td>\n",
       "      <td>16.0</td>\n",
       "      <td>20</td>\n",
       "      <td>13</td>\n",
       "      <td>True</td>\n",
       "      <td>True</td>\n",
       "      <td>6</td>\n",
       "    </tr>\n",
       "    <tr>\n",
       "      <th>4</th>\n",
       "      <td>t</td>\n",
       "      <td>['email', 'phone']</td>\n",
       "      <td>100.0</td>\n",
       "      <td>37.98844</td>\n",
       "      <td>23.73845</td>\n",
       "      <td>Entire rental unit</td>\n",
       "      <td>Entire home/apt</td>\n",
       "      <td>2</td>\n",
       "      <td>1.0</td>\n",
       "      <td>1 bath</td>\n",
       "      <td>...</td>\n",
       "      <td>long</td>\n",
       "      <td>515.0</td>\n",
       "      <td>423.0</td>\n",
       "      <td>3.0</td>\n",
       "      <td>420.0</td>\n",
       "      <td>45</td>\n",
       "      <td>31</td>\n",
       "      <td>True</td>\n",
       "      <td>True</td>\n",
       "      <td>9</td>\n",
       "    </tr>\n",
       "  </tbody>\n",
       "</table>\n",
       "<p>5 rows × 35 columns</p>\n",
       "</div>"
      ],
      "text/plain": [
       "  host_is_superhost                host_verifications  host_acceptance_rate  \\\n",
       "0                 t                ['email', 'phone']                 100.0   \n",
       "1                 f                ['email', 'phone']                  96.0   \n",
       "2                 t  ['email', 'phone', 'work_email']                  97.0   \n",
       "3                 f                         ['email']                   0.0   \n",
       "4                 t                ['email', 'phone']                 100.0   \n",
       "\n",
       "   latitude  longitude       property_type        room_type  accommodates  \\\n",
       "0  37.98924   23.76500  Entire rental unit  Entire home/apt             2   \n",
       "1  37.96215   23.72179  Entire rental unit  Entire home/apt             4   \n",
       "2  37.95523   23.72443        Entire condo  Entire home/apt             3   \n",
       "3  37.99745   23.73973  Entire rental unit  Entire home/apt             2   \n",
       "4  37.98844   23.73845  Entire rental unit  Entire home/apt             2   \n",
       "\n",
       "   bathrooms bathrooms_text  ...  target  total_reviews  \\\n",
       "0        1.0         1 bath  ...   short           29.0   \n",
       "1        1.0         1 bath  ...   short           97.0   \n",
       "2        1.0         1 bath  ...    long           40.0   \n",
       "3        1.0         1 bath  ...   short           18.0   \n",
       "4        1.0         1 bath  ...    long          515.0   \n",
       "\n",
       "   total_english_reviews  count_negative_english  count_positive_english  \\\n",
       "0                   17.0                     0.0                    17.0   \n",
       "1                   82.0                     0.0                    82.0   \n",
       "2                   31.0                     0.0                    31.0   \n",
       "3                   17.0                     1.0                    16.0   \n",
       "4                  423.0                     3.0                   420.0   \n",
       "\n",
       "   num_of_amenities  num_of_other_amenities  has_wifi  has_air_conditioning  \\\n",
       "0                37                      25      True                 False   \n",
       "1                21                      12      True                  True   \n",
       "2                49                      29      True                  True   \n",
       "3                20                      13      True                  True   \n",
       "4                45                      31      True                  True   \n",
       "\n",
       "   num_of_top_10_common_amenities  \n",
       "0                               9  \n",
       "1                               7  \n",
       "2                              12  \n",
       "3                               6  \n",
       "4                               9  \n",
       "\n",
       "[5 rows x 35 columns]"
      ]
     },
     "execution_count": 177,
     "metadata": {},
     "output_type": "execute_result"
    }
   ],
   "source": [
    "final_df_ohe.drop(\n",
    "    columns=['id', 'mean_embedding', 'listing_id_x', 'listing_id_y', 'amenities', 'standardized_amenities', 'neighbourhood_cleansed', 'license'],\n",
    "    inplace=True,\n",
    "    errors='ignore'\n",
    ")\n",
    "final_df_ohe.head()"
   ]
  },
  {
   "cell_type": "code",
   "execution_count": 146,
   "id": "6efe188a",
   "metadata": {},
   "outputs": [
    {
     "name": "stdout",
     "output_type": "stream",
     "text": [
      "171\n"
     ]
    }
   ],
   "source": [
    "neighbourhood_cleansed_values = final_df_ohe['neighbourhood_cleansed'].unique()\n",
    "print(len(neighbourhood_cleansed_values))"
   ]
  },
  {
   "cell_type": "code",
   "execution_count": 180,
   "id": "8ecc70cb",
   "metadata": {},
   "outputs": [
    {
     "name": "stdout",
     "output_type": "stream",
     "text": [
      "Index(['host_is_superhost', 'host_verifications', 'property_type', 'room_type',\n",
      "       'bathrooms_text', 'instant_bookable'],\n",
      "      dtype='object')\n"
     ]
    }
   ],
   "source": [
    "non_numerical_columns = final_df_ohe.select_dtypes(include=['object', 'category']).columns\n",
    "non_numerical_columns = non_numerical_columns.drop('target')\n",
    "print(non_numerical_columns)"
   ]
  },
  {
   "cell_type": "code",
   "execution_count": 204,
   "id": "5e3fc372",
   "metadata": {},
   "outputs": [],
   "source": [
    "# one_hot_encoding\n",
    "ohe_df = pd.get_dummies(final_df_ohe, columns=non_numerical_columns)"
   ]
  },
  {
   "cell_type": "code",
   "execution_count": null,
   "id": "ce1aaa0b",
   "metadata": {},
   "outputs": [],
   "source": [
    "ohe_df.drop(columns=['availability_eoy', 'number_of_reviews_ly'], inplace=True)"
   ]
  },
  {
   "cell_type": "code",
   "execution_count": 222,
   "id": "8f190056",
   "metadata": {},
   "outputs": [],
   "source": [
    "ohe_df = ohe_df.fillna(0)"
   ]
  },
  {
   "cell_type": "code",
   "execution_count": 223,
   "id": "a1ee561e",
   "metadata": {},
   "outputs": [],
   "source": [
    "x_train, x_test, y_train, y_test = train_test_split_data(\n",
    "    ohe_df,\n",
    "    test_size=0.2,\n",
    "    target_column='target'\n",
    ")\n",
    "\n",
    "train_dataloader = create_dataloader(x_train, y_train, batch_size=32)\n",
    "test_dataloader = create_dataloader(x_test, y_test, batch_size=32)"
   ]
  },
  {
   "cell_type": "code",
   "execution_count": 224,
   "id": "25a7f58f",
   "metadata": {},
   "outputs": [],
   "source": [
    "classifier_v2 = BinaryClassifier(input_size=len(x_train.columns), output_size=2).to(device)\n",
    "criterion = nn.CrossEntropyLoss()\n",
    "optimizer = torch.optim.Adam(classifier_v2.parameters(), lr=0.001)"
   ]
  },
  {
   "cell_type": "code",
   "execution_count": 225,
   "id": "2f55e341",
   "metadata": {},
   "outputs": [],
   "source": [
    "assert not x_train.isnull().any().any(), \"NaNs found in x_train\"\n",
    "assert not np.isinf(x_train.to_numpy()).any(), \"Infs found in x_train\"\n",
    "assert set(y_train.unique()).issubset({0, 1}), \"Invalid labels in y_train\""
   ]
  },
  {
   "cell_type": "code",
   "execution_count": 226,
   "id": "f633b090",
   "metadata": {},
   "outputs": [
    {
     "name": "stderr",
     "output_type": "stream",
     "text": [
      "                                                              \r"
     ]
    },
    {
     "name": "stdout",
     "output_type": "stream",
     "text": [
      "Epoch [1/50], Loss: 0.2894\n"
     ]
    },
    {
     "name": "stderr",
     "output_type": "stream",
     "text": [
      "                                                              \r"
     ]
    },
    {
     "name": "stdout",
     "output_type": "stream",
     "text": [
      "Epoch [2/50], Loss: 0.2002\n"
     ]
    },
    {
     "name": "stderr",
     "output_type": "stream",
     "text": [
      "                                                              \r"
     ]
    },
    {
     "name": "stdout",
     "output_type": "stream",
     "text": [
      "Epoch [3/50], Loss: 0.1855\n"
     ]
    },
    {
     "name": "stderr",
     "output_type": "stream",
     "text": [
      "                                                              \r"
     ]
    },
    {
     "name": "stdout",
     "output_type": "stream",
     "text": [
      "Epoch [4/50], Loss: 0.1729\n"
     ]
    },
    {
     "name": "stderr",
     "output_type": "stream",
     "text": [
      "                                                              \r"
     ]
    },
    {
     "name": "stdout",
     "output_type": "stream",
     "text": [
      "Epoch [5/50], Loss: 0.1658\n"
     ]
    },
    {
     "name": "stderr",
     "output_type": "stream",
     "text": [
      "                                                              \r"
     ]
    },
    {
     "name": "stdout",
     "output_type": "stream",
     "text": [
      "Epoch [6/50], Loss: 0.1633\n"
     ]
    },
    {
     "name": "stderr",
     "output_type": "stream",
     "text": [
      "                                                              \r"
     ]
    },
    {
     "name": "stdout",
     "output_type": "stream",
     "text": [
      "Epoch [7/50], Loss: 0.1600\n"
     ]
    },
    {
     "name": "stderr",
     "output_type": "stream",
     "text": [
      "                                                              \r"
     ]
    },
    {
     "name": "stdout",
     "output_type": "stream",
     "text": [
      "Epoch [8/50], Loss: 0.1549\n"
     ]
    },
    {
     "name": "stderr",
     "output_type": "stream",
     "text": [
      "                                                              \r"
     ]
    },
    {
     "name": "stdout",
     "output_type": "stream",
     "text": [
      "Epoch [9/50], Loss: 0.1519\n"
     ]
    },
    {
     "name": "stderr",
     "output_type": "stream",
     "text": [
      "                                                               \r"
     ]
    },
    {
     "name": "stdout",
     "output_type": "stream",
     "text": [
      "Epoch [10/50], Loss: 0.1492\n"
     ]
    },
    {
     "name": "stderr",
     "output_type": "stream",
     "text": [
      "                                                               \r"
     ]
    },
    {
     "name": "stdout",
     "output_type": "stream",
     "text": [
      "Epoch [11/50], Loss: 0.1485\n"
     ]
    },
    {
     "name": "stderr",
     "output_type": "stream",
     "text": [
      "                                                               \r"
     ]
    },
    {
     "name": "stdout",
     "output_type": "stream",
     "text": [
      "Epoch [12/50], Loss: 0.1456\n"
     ]
    },
    {
     "name": "stderr",
     "output_type": "stream",
     "text": [
      "                                                               \r"
     ]
    },
    {
     "name": "stdout",
     "output_type": "stream",
     "text": [
      "Epoch [13/50], Loss: 0.1415\n"
     ]
    },
    {
     "name": "stderr",
     "output_type": "stream",
     "text": [
      "                                                               \r"
     ]
    },
    {
     "name": "stdout",
     "output_type": "stream",
     "text": [
      "Epoch [14/50], Loss: 0.1439\n"
     ]
    },
    {
     "name": "stderr",
     "output_type": "stream",
     "text": [
      "                                                               \r"
     ]
    },
    {
     "name": "stdout",
     "output_type": "stream",
     "text": [
      "Epoch [15/50], Loss: 0.1410\n"
     ]
    },
    {
     "name": "stderr",
     "output_type": "stream",
     "text": [
      "                                                               \r"
     ]
    },
    {
     "name": "stdout",
     "output_type": "stream",
     "text": [
      "Epoch [16/50], Loss: 0.1362\n"
     ]
    },
    {
     "name": "stderr",
     "output_type": "stream",
     "text": [
      "                                                               \r"
     ]
    },
    {
     "name": "stdout",
     "output_type": "stream",
     "text": [
      "Epoch [17/50], Loss: 0.1373\n"
     ]
    },
    {
     "name": "stderr",
     "output_type": "stream",
     "text": [
      "                                                               \r"
     ]
    },
    {
     "name": "stdout",
     "output_type": "stream",
     "text": [
      "Epoch [18/50], Loss: 0.1359\n"
     ]
    },
    {
     "name": "stderr",
     "output_type": "stream",
     "text": [
      "                                                               \r"
     ]
    },
    {
     "name": "stdout",
     "output_type": "stream",
     "text": [
      "Epoch [19/50], Loss: 0.1368\n"
     ]
    },
    {
     "name": "stderr",
     "output_type": "stream",
     "text": [
      "                                                               \r"
     ]
    },
    {
     "name": "stdout",
     "output_type": "stream",
     "text": [
      "Epoch [20/50], Loss: 0.1341\n"
     ]
    },
    {
     "name": "stderr",
     "output_type": "stream",
     "text": [
      "                                                               \r"
     ]
    },
    {
     "name": "stdout",
     "output_type": "stream",
     "text": [
      "Epoch [21/50], Loss: 0.1332\n"
     ]
    },
    {
     "name": "stderr",
     "output_type": "stream",
     "text": [
      "                                                               \r"
     ]
    },
    {
     "name": "stdout",
     "output_type": "stream",
     "text": [
      "Epoch [22/50], Loss: 0.1304\n"
     ]
    },
    {
     "name": "stderr",
     "output_type": "stream",
     "text": [
      "                                                               \r"
     ]
    },
    {
     "name": "stdout",
     "output_type": "stream",
     "text": [
      "Epoch [23/50], Loss: 0.1336\n"
     ]
    },
    {
     "name": "stderr",
     "output_type": "stream",
     "text": [
      "                                                               \r"
     ]
    },
    {
     "name": "stdout",
     "output_type": "stream",
     "text": [
      "Epoch [24/50], Loss: 0.1314\n"
     ]
    },
    {
     "name": "stderr",
     "output_type": "stream",
     "text": [
      "                                                               \r"
     ]
    },
    {
     "name": "stdout",
     "output_type": "stream",
     "text": [
      "Epoch [25/50], Loss: 0.1300\n"
     ]
    },
    {
     "name": "stderr",
     "output_type": "stream",
     "text": [
      "                                                               \r"
     ]
    },
    {
     "name": "stdout",
     "output_type": "stream",
     "text": [
      "Epoch [26/50], Loss: 0.1275\n"
     ]
    },
    {
     "name": "stderr",
     "output_type": "stream",
     "text": [
      "                                                               \r"
     ]
    },
    {
     "name": "stdout",
     "output_type": "stream",
     "text": [
      "Epoch [27/50], Loss: 0.1325\n"
     ]
    },
    {
     "name": "stderr",
     "output_type": "stream",
     "text": [
      "                                                               \r"
     ]
    },
    {
     "name": "stdout",
     "output_type": "stream",
     "text": [
      "Epoch [28/50], Loss: 0.1296\n"
     ]
    },
    {
     "name": "stderr",
     "output_type": "stream",
     "text": [
      "                                                               \r"
     ]
    },
    {
     "name": "stdout",
     "output_type": "stream",
     "text": [
      "Epoch [29/50], Loss: 0.1275\n"
     ]
    },
    {
     "name": "stderr",
     "output_type": "stream",
     "text": [
      "                                                               \r"
     ]
    },
    {
     "name": "stdout",
     "output_type": "stream",
     "text": [
      "Epoch [30/50], Loss: 0.1230\n"
     ]
    },
    {
     "name": "stderr",
     "output_type": "stream",
     "text": [
      "                                                               \r"
     ]
    },
    {
     "name": "stdout",
     "output_type": "stream",
     "text": [
      "Epoch [31/50], Loss: 0.1278\n"
     ]
    },
    {
     "name": "stderr",
     "output_type": "stream",
     "text": [
      "                                                               \r"
     ]
    },
    {
     "name": "stdout",
     "output_type": "stream",
     "text": [
      "Epoch [32/50], Loss: 0.1257\n"
     ]
    },
    {
     "name": "stderr",
     "output_type": "stream",
     "text": [
      "                                                               \r"
     ]
    },
    {
     "name": "stdout",
     "output_type": "stream",
     "text": [
      "Epoch [33/50], Loss: 0.1244\n"
     ]
    },
    {
     "name": "stderr",
     "output_type": "stream",
     "text": [
      "                                                               \r"
     ]
    },
    {
     "name": "stdout",
     "output_type": "stream",
     "text": [
      "Epoch [34/50], Loss: 0.1244\n"
     ]
    },
    {
     "name": "stderr",
     "output_type": "stream",
     "text": [
      "                                                               \r"
     ]
    },
    {
     "name": "stdout",
     "output_type": "stream",
     "text": [
      "Epoch [35/50], Loss: 0.1232\n"
     ]
    },
    {
     "name": "stderr",
     "output_type": "stream",
     "text": [
      "                                                               \r"
     ]
    },
    {
     "name": "stdout",
     "output_type": "stream",
     "text": [
      "Epoch [36/50], Loss: 0.1234\n"
     ]
    },
    {
     "name": "stderr",
     "output_type": "stream",
     "text": [
      "                                                               \r"
     ]
    },
    {
     "name": "stdout",
     "output_type": "stream",
     "text": [
      "Epoch [37/50], Loss: 0.1219\n"
     ]
    },
    {
     "name": "stderr",
     "output_type": "stream",
     "text": [
      "                                                               \r"
     ]
    },
    {
     "name": "stdout",
     "output_type": "stream",
     "text": [
      "Epoch [38/50], Loss: 0.1199\n"
     ]
    },
    {
     "name": "stderr",
     "output_type": "stream",
     "text": [
      "                                                               \r"
     ]
    },
    {
     "name": "stdout",
     "output_type": "stream",
     "text": [
      "Epoch [39/50], Loss: 0.1249\n"
     ]
    },
    {
     "name": "stderr",
     "output_type": "stream",
     "text": [
      "                                                               \r"
     ]
    },
    {
     "name": "stdout",
     "output_type": "stream",
     "text": [
      "Epoch [40/50], Loss: 0.1186\n"
     ]
    },
    {
     "name": "stderr",
     "output_type": "stream",
     "text": [
      "                                                               \r"
     ]
    },
    {
     "name": "stdout",
     "output_type": "stream",
     "text": [
      "Epoch [41/50], Loss: 0.1215\n"
     ]
    },
    {
     "name": "stderr",
     "output_type": "stream",
     "text": [
      "                                                               \r"
     ]
    },
    {
     "name": "stdout",
     "output_type": "stream",
     "text": [
      "Epoch [42/50], Loss: 0.1222\n"
     ]
    },
    {
     "name": "stderr",
     "output_type": "stream",
     "text": [
      "                                                               \r"
     ]
    },
    {
     "name": "stdout",
     "output_type": "stream",
     "text": [
      "Epoch [43/50], Loss: 0.1185\n"
     ]
    },
    {
     "name": "stderr",
     "output_type": "stream",
     "text": [
      "                                                               \r"
     ]
    },
    {
     "name": "stdout",
     "output_type": "stream",
     "text": [
      "Epoch [44/50], Loss: 0.1184\n"
     ]
    },
    {
     "name": "stderr",
     "output_type": "stream",
     "text": [
      "                                                               \r"
     ]
    },
    {
     "name": "stdout",
     "output_type": "stream",
     "text": [
      "Epoch [45/50], Loss: 0.1194\n"
     ]
    },
    {
     "name": "stderr",
     "output_type": "stream",
     "text": [
      "                                                               \r"
     ]
    },
    {
     "name": "stdout",
     "output_type": "stream",
     "text": [
      "Epoch [46/50], Loss: 0.1141\n"
     ]
    },
    {
     "name": "stderr",
     "output_type": "stream",
     "text": [
      "                                                               \r"
     ]
    },
    {
     "name": "stdout",
     "output_type": "stream",
     "text": [
      "Epoch [47/50], Loss: 0.1192\n"
     ]
    },
    {
     "name": "stderr",
     "output_type": "stream",
     "text": [
      "                                                               \r"
     ]
    },
    {
     "name": "stdout",
     "output_type": "stream",
     "text": [
      "Epoch [48/50], Loss: 0.1145\n"
     ]
    },
    {
     "name": "stderr",
     "output_type": "stream",
     "text": [
      "                                                               \r"
     ]
    },
    {
     "name": "stdout",
     "output_type": "stream",
     "text": [
      "Epoch [49/50], Loss: 0.1148\n"
     ]
    },
    {
     "name": "stderr",
     "output_type": "stream",
     "text": [
      "                                                               "
     ]
    },
    {
     "name": "stdout",
     "output_type": "stream",
     "text": [
      "Epoch [50/50], Loss: 0.1171\n",
      "Training complete!\n"
     ]
    },
    {
     "name": "stderr",
     "output_type": "stream",
     "text": [
      "\r"
     ]
    }
   ],
   "source": [
    "train_classifier(\n",
    "    classifier_v2,\n",
    "    train_dataloader,\n",
    "    criterion,\n",
    "    optimizer,\n",
    "    50,\n",
    "    device\n",
    ")"
   ]
  },
  {
   "cell_type": "code",
   "execution_count": 227,
   "id": "c5b0e8fe",
   "metadata": {},
   "outputs": [
    {
     "name": "stderr",
     "output_type": "stream",
     "text": [
      "Evaluating: 100%|██████████| 181/181 [00:00<00:00, 310.22it/s]"
     ]
    },
    {
     "name": "stdout",
     "output_type": "stream",
     "text": [
      "Accuracy: 0.9436\n",
      "ROC AUC: 0.9862\n",
      "Average Precision: 0.9575\n"
     ]
    },
    {
     "name": "stderr",
     "output_type": "stream",
     "text": [
      "\n"
     ]
    }
   ],
   "source": [
    "all_preds, all_labels = evaluate_model(classifier_v2, test_dataloader, device)"
   ]
  },
  {
   "cell_type": "code",
   "execution_count": 233,
   "id": "855f92fa",
   "metadata": {},
   "outputs": [],
   "source": [
    "torch.save(classifier_v2.state_dict(), \"../models/OHE_CLASSIFIER.pth\")"
   ]
  },
  {
   "cell_type": "markdown",
   "id": "439e0fbf",
   "metadata": {},
   "source": [
    "#### Wersja 3"
   ]
  },
  {
   "cell_type": "code",
   "execution_count": 246,
   "id": "cf8435b2",
   "metadata": {},
   "outputs": [],
   "source": [
    "embeddings = final_df.copy()"
   ]
  },
  {
   "cell_type": "code",
   "execution_count": 247,
   "id": "ac0dc699",
   "metadata": {},
   "outputs": [],
   "source": [
    "embeddings = embeddings.drop(columns=['availability_eoy','number_of_reviews_ly', 'id'])\n",
    "embeddings = embeddings.fillna(0)"
   ]
  },
  {
   "cell_type": "code",
   "execution_count": 248,
   "id": "90815ca0",
   "metadata": {},
   "outputs": [
    {
     "name": "stdout",
     "output_type": "stream",
     "text": [
      "Index(['host_is_superhost', 'host_verifications', 'neighbourhood_cleansed',\n",
      "       'property_type', 'room_type', 'bathrooms_text', 'license',\n",
      "       'instant_bookable', 'target', 'amenities', 'standardized_amenities',\n",
      "       'mean_embedding'],\n",
      "      dtype='object')\n"
     ]
    }
   ],
   "source": [
    "emb_categorical_columns = embeddings.select_dtypes(include=['object', 'category']).columns\n",
    "print(emb_categorical_columns)"
   ]
  },
  {
   "cell_type": "code",
   "execution_count": 242,
   "id": "8e58d9b3",
   "metadata": {},
   "outputs": [
    {
     "name": "stdout",
     "output_type": "stream",
     "text": [
      "Index(['host_acceptance_rate', 'latitude', 'longitude', 'accommodates',\n",
      "       'bathrooms', 'bedrooms', 'beds', 'price', 'review_scores_rating',\n",
      "       'review_scores_accuracy', 'review_scores_cleanliness',\n",
      "       'review_scores_checkin', 'review_scores_communication',\n",
      "       'review_scores_location', 'review_scores_value', 'reviews_per_month',\n",
      "       'total_bookings', 'total_reviews', 'total_english_reviews',\n",
      "       'count_negative_english', 'count_positive_english', 'num_of_amenities',\n",
      "       'num_of_other_amenities', 'num_of_top_10_common_amenities'],\n",
      "      dtype='object')\n"
     ]
    }
   ],
   "source": [
    "emb_numerical_columns = embeddings.select_dtypes(include=['number']).columns\n",
    "print(emb_numerical_columns)"
   ]
  },
  {
   "cell_type": "code",
   "execution_count": 249,
   "id": "a336ec8e",
   "metadata": {},
   "outputs": [],
   "source": [
    "for col in emb_categorical_columns:\n",
    "    embeddings[col] = embeddings[col].astype('category')\n",
    "\n",
    "cat_dims = [len(embeddings[col].cat.categories) for col in emb_categorical_columns]\n",
    "cat_idxs = [embeddings.columns.get_loc(col) for col in emb_categorical_columns]"
   ]
  },
  {
   "cell_type": "code",
   "execution_count": 251,
   "id": "991e48f5",
   "metadata": {},
   "outputs": [],
   "source": [
    "\n",
    "x_cat = embeddings[emb_categorical_columns].apply(lambda col: col.cat.codes)\n",
    "x_num = embeddings[emb_numerical_columns].astype(np.float32)\n",
    "y = embeddings['target'].map({'short': 0, 'long': 1})"
   ]
  },
  {
   "cell_type": "code",
   "execution_count": 252,
   "id": "c937d079",
   "metadata": {},
   "outputs": [],
   "source": [
    "x_cat_train, x_cat_test, x_num_train, x_num_test, y_train, y_test = train_test_split(\n",
    "    x_cat, x_num, y, test_size=0.2, random_state=42, stratify=y\n",
    ")\n",
    "\n",
    "x_cat_train_tensor = torch.tensor(x_cat_train.values, dtype=torch.long)\n",
    "x_cat_test_tensor = torch.tensor(x_cat_test.values, dtype=torch.long)\n",
    "\n",
    "x_num_train_tensor = torch.tensor(x_num_train.values, dtype=torch.float32)\n",
    "x_num_test_tensor = torch.tensor(x_num_test.values, dtype=torch.float32)\n",
    "\n",
    "y_train_tensor = torch.tensor(y_train.values, dtype=torch.long)\n",
    "y_test_tensor = torch.tensor(y_test.values, dtype=torch.long)\n",
    "\n",
    "train_dataset = TensorDataset(x_cat_train_tensor, x_num_train_tensor, y_train_tensor)\n",
    "test_dataset = TensorDataset(x_cat_test_tensor, x_num_test_tensor, y_test_tensor)\n",
    "\n",
    "train_loader = DataLoader(train_dataset, batch_size=32, shuffle=True)\n",
    "test_loader = DataLoader(test_dataset, batch_size=32)"
   ]
  },
  {
   "cell_type": "code",
   "execution_count": 253,
   "id": "014f4254",
   "metadata": {},
   "outputs": [],
   "source": [
    "def train_classifier_emb(\n",
    "    model: nn.Module,\n",
    "    train_loader: DataLoader,\n",
    "    criterion,\n",
    "    optimizer,\n",
    "    num_epochs: int = 10,\n",
    "    device: str = 'cuda' if torch.cuda.is_available() else 'cpu'\n",
    "):\n",
    "    model.to(device)\n",
    "    for epoch in range(num_epochs):\n",
    "        model.train()\n",
    "        running_loss = 0.0\n",
    "\n",
    "        for x_cat, x_num, labels in tqdm(train_loader, desc=f\"Epoch {epoch+1}/{num_epochs}\", leave=False):\n",
    "            x_cat = x_cat.to(device)\n",
    "            x_num = x_num.to(device)\n",
    "            labels = labels.to(device)\n",
    "\n",
    "            optimizer.zero_grad()\n",
    "            outputs = model(x_cat, x_num)  # updated!\n",
    "            loss = criterion(outputs, labels)\n",
    "            loss.backward()\n",
    "            optimizer.step()\n",
    "            running_loss += loss.item()\n",
    "\n",
    "        print(f\"Epoch [{epoch+1}/{num_epochs}] Loss: {running_loss / len(train_loader):.4f}\")\n",
    "\n",
    "\n",
    "def evaluate_model_emb(model: nn.Module, test_loader: DataLoader, device: str = 'cuda' if torch.cuda.is_available() else 'cpu'):\n",
    "    model.eval()\n",
    "    all_preds = []\n",
    "    all_labels = []\n",
    "\n",
    "    with torch.no_grad():\n",
    "        for x_cat, x_num, labels in tqdm(test_loader, desc='Evaluating'):\n",
    "            x_cat = x_cat.to(device)\n",
    "            x_num = x_num.to(device)\n",
    "            labels = labels.to(device)\n",
    "\n",
    "            outputs = model(x_cat, x_num)\n",
    "            probs = F.softmax(outputs, dim=1)  # because CrossEntropyLoss expects raw logits\n",
    "\n",
    "            all_preds.append(probs)\n",
    "            all_labels.append(labels)\n",
    "\n",
    "    all_preds = torch.cat(all_preds).cpu().numpy()\n",
    "    all_labels = torch.cat(all_labels).cpu().numpy()\n",
    "\n",
    "    accuracy = accuracy_score(all_labels, np.argmax(all_preds, axis=1))\n",
    "    roc_auc = roc_auc_score(all_labels, all_preds[:, 1])\n",
    "    avg_precision = average_precision_score(all_labels, all_preds[:, 1])\n",
    "\n",
    "    print(f\"Accuracy: {accuracy:.4f}\")\n",
    "    print(f\"ROC AUC: {roc_auc:.4f}\")\n",
    "    print(f\"Average Precision: {avg_precision:.4f}\")\n",
    "\n",
    "    return all_preds, all_labels\n"
   ]
  },
  {
   "cell_type": "code",
   "execution_count": 254,
   "id": "4da9a9ac",
   "metadata": {},
   "outputs": [],
   "source": [
    "for col in emb_categorical_columns:\n",
    "    embeddings[col] = embeddings[col].astype('category')\n",
    "\n",
    "cat_dims = [len(embeddings[col].cat.categories) for col in emb_categorical_columns]\n",
    "embedding_sizes = [(dim, min(50, (dim + 1) // 2)) for dim in cat_dims]"
   ]
  },
  {
   "cell_type": "code",
   "execution_count": 255,
   "id": "1f6836ea",
   "metadata": {},
   "outputs": [],
   "source": [
    "classifier_v3 = BinaryClassifierEmbeddings(\n",
    "    num_numeric=len(x_num.columns),\n",
    "    embedding_sizes=embedding_sizes,\n",
    "    output_size=2\n",
    ").to(device)\n",
    "\n",
    "criterion = nn.CrossEntropyLoss()\n",
    "optimizer = torch.optim.Adam(params=classifier_v3.parameters(), lr=0.0001)"
   ]
  },
  {
   "cell_type": "code",
   "execution_count": 256,
   "id": "419c84ee",
   "metadata": {},
   "outputs": [
    {
     "name": "stderr",
     "output_type": "stream",
     "text": [
      "                                                              \r"
     ]
    },
    {
     "name": "stdout",
     "output_type": "stream",
     "text": [
      "Epoch [1/50] Loss: 0.3378\n"
     ]
    },
    {
     "name": "stderr",
     "output_type": "stream",
     "text": [
      "                                                              \r"
     ]
    },
    {
     "name": "stdout",
     "output_type": "stream",
     "text": [
      "Epoch [2/50] Loss: 0.2363\n"
     ]
    },
    {
     "name": "stderr",
     "output_type": "stream",
     "text": [
      "                                                              \r"
     ]
    },
    {
     "name": "stdout",
     "output_type": "stream",
     "text": [
      "Epoch [3/50] Loss: 0.1436\n"
     ]
    },
    {
     "name": "stderr",
     "output_type": "stream",
     "text": [
      "                                                              \r"
     ]
    },
    {
     "name": "stdout",
     "output_type": "stream",
     "text": [
      "Epoch [4/50] Loss: 0.0679\n"
     ]
    },
    {
     "name": "stderr",
     "output_type": "stream",
     "text": [
      "                                                              \r"
     ]
    },
    {
     "name": "stdout",
     "output_type": "stream",
     "text": [
      "Epoch [5/50] Loss: 0.0274\n"
     ]
    },
    {
     "name": "stderr",
     "output_type": "stream",
     "text": [
      "                                                              \r"
     ]
    },
    {
     "name": "stdout",
     "output_type": "stream",
     "text": [
      "Epoch [6/50] Loss: 0.0115\n"
     ]
    },
    {
     "name": "stderr",
     "output_type": "stream",
     "text": [
      "                                                              \r"
     ]
    },
    {
     "name": "stdout",
     "output_type": "stream",
     "text": [
      "Epoch [7/50] Loss: 0.0066\n"
     ]
    },
    {
     "name": "stderr",
     "output_type": "stream",
     "text": [
      "                                                              \r"
     ]
    },
    {
     "name": "stdout",
     "output_type": "stream",
     "text": [
      "Epoch [8/50] Loss: 0.0021\n"
     ]
    },
    {
     "name": "stderr",
     "output_type": "stream",
     "text": [
      "                                                              \r"
     ]
    },
    {
     "name": "stdout",
     "output_type": "stream",
     "text": [
      "Epoch [9/50] Loss: 0.0010\n"
     ]
    },
    {
     "name": "stderr",
     "output_type": "stream",
     "text": [
      "                                                               \r"
     ]
    },
    {
     "name": "stdout",
     "output_type": "stream",
     "text": [
      "Epoch [10/50] Loss: 0.0006\n"
     ]
    },
    {
     "name": "stderr",
     "output_type": "stream",
     "text": [
      "                                                               \r"
     ]
    },
    {
     "name": "stdout",
     "output_type": "stream",
     "text": [
      "Epoch [11/50] Loss: 0.0003\n"
     ]
    },
    {
     "name": "stderr",
     "output_type": "stream",
     "text": [
      "                                                               \r"
     ]
    },
    {
     "name": "stdout",
     "output_type": "stream",
     "text": [
      "Epoch [12/50] Loss: 0.0002\n"
     ]
    },
    {
     "name": "stderr",
     "output_type": "stream",
     "text": [
      "                                                               \r"
     ]
    },
    {
     "name": "stdout",
     "output_type": "stream",
     "text": [
      "Epoch [13/50] Loss: 0.0001\n"
     ]
    },
    {
     "name": "stderr",
     "output_type": "stream",
     "text": [
      "                                                               \r"
     ]
    },
    {
     "name": "stdout",
     "output_type": "stream",
     "text": [
      "Epoch [14/50] Loss: 0.0001\n"
     ]
    },
    {
     "name": "stderr",
     "output_type": "stream",
     "text": [
      "                                                               \r"
     ]
    },
    {
     "name": "stdout",
     "output_type": "stream",
     "text": [
      "Epoch [15/50] Loss: 0.0000\n"
     ]
    },
    {
     "name": "stderr",
     "output_type": "stream",
     "text": [
      "                                                               \r"
     ]
    },
    {
     "name": "stdout",
     "output_type": "stream",
     "text": [
      "Epoch [16/50] Loss: 0.0000\n"
     ]
    },
    {
     "name": "stderr",
     "output_type": "stream",
     "text": [
      "                                                               \r"
     ]
    },
    {
     "name": "stdout",
     "output_type": "stream",
     "text": [
      "Epoch [17/50] Loss: 0.0000\n"
     ]
    },
    {
     "name": "stderr",
     "output_type": "stream",
     "text": [
      "                                                               \r"
     ]
    },
    {
     "name": "stdout",
     "output_type": "stream",
     "text": [
      "Epoch [18/50] Loss: 0.0000\n"
     ]
    },
    {
     "name": "stderr",
     "output_type": "stream",
     "text": [
      "                                                               \r"
     ]
    },
    {
     "name": "stdout",
     "output_type": "stream",
     "text": [
      "Epoch [19/50] Loss: 0.0000\n"
     ]
    },
    {
     "name": "stderr",
     "output_type": "stream",
     "text": [
      "                                                               \r"
     ]
    },
    {
     "name": "stdout",
     "output_type": "stream",
     "text": [
      "Epoch [20/50] Loss: 0.0000\n"
     ]
    },
    {
     "name": "stderr",
     "output_type": "stream",
     "text": [
      "                                                               \r"
     ]
    },
    {
     "name": "stdout",
     "output_type": "stream",
     "text": [
      "Epoch [21/50] Loss: 0.0000\n"
     ]
    },
    {
     "name": "stderr",
     "output_type": "stream",
     "text": [
      "                                                               \r"
     ]
    },
    {
     "name": "stdout",
     "output_type": "stream",
     "text": [
      "Epoch [22/50] Loss: 0.0000\n"
     ]
    },
    {
     "name": "stderr",
     "output_type": "stream",
     "text": [
      "                                                               \r"
     ]
    },
    {
     "name": "stdout",
     "output_type": "stream",
     "text": [
      "Epoch [23/50] Loss: 0.0000\n"
     ]
    },
    {
     "name": "stderr",
     "output_type": "stream",
     "text": [
      "                                                               \r"
     ]
    },
    {
     "name": "stdout",
     "output_type": "stream",
     "text": [
      "Epoch [24/50] Loss: 0.0000\n"
     ]
    },
    {
     "name": "stderr",
     "output_type": "stream",
     "text": [
      "                                                               \r"
     ]
    },
    {
     "name": "stdout",
     "output_type": "stream",
     "text": [
      "Epoch [25/50] Loss: 0.0000\n"
     ]
    },
    {
     "name": "stderr",
     "output_type": "stream",
     "text": [
      "                                                               \r"
     ]
    },
    {
     "name": "stdout",
     "output_type": "stream",
     "text": [
      "Epoch [26/50] Loss: 0.0000\n"
     ]
    },
    {
     "name": "stderr",
     "output_type": "stream",
     "text": [
      "                                                               \r"
     ]
    },
    {
     "name": "stdout",
     "output_type": "stream",
     "text": [
      "Epoch [27/50] Loss: 0.0000\n"
     ]
    },
    {
     "name": "stderr",
     "output_type": "stream",
     "text": [
      "                                                               \r"
     ]
    },
    {
     "name": "stdout",
     "output_type": "stream",
     "text": [
      "Epoch [28/50] Loss: 0.0000\n"
     ]
    },
    {
     "name": "stderr",
     "output_type": "stream",
     "text": [
      "                                                               \r"
     ]
    },
    {
     "name": "stdout",
     "output_type": "stream",
     "text": [
      "Epoch [29/50] Loss: 0.0000\n"
     ]
    },
    {
     "name": "stderr",
     "output_type": "stream",
     "text": [
      "                                                               \r"
     ]
    },
    {
     "name": "stdout",
     "output_type": "stream",
     "text": [
      "Epoch [30/50] Loss: 0.0000\n"
     ]
    },
    {
     "name": "stderr",
     "output_type": "stream",
     "text": [
      "                                                               \r"
     ]
    },
    {
     "name": "stdout",
     "output_type": "stream",
     "text": [
      "Epoch [31/50] Loss: 0.0000\n"
     ]
    },
    {
     "name": "stderr",
     "output_type": "stream",
     "text": [
      "                                                               \r"
     ]
    },
    {
     "name": "stdout",
     "output_type": "stream",
     "text": [
      "Epoch [32/50] Loss: 0.0000\n"
     ]
    },
    {
     "name": "stderr",
     "output_type": "stream",
     "text": [
      "                                                               \r"
     ]
    },
    {
     "name": "stdout",
     "output_type": "stream",
     "text": [
      "Epoch [33/50] Loss: 0.0000\n"
     ]
    },
    {
     "name": "stderr",
     "output_type": "stream",
     "text": [
      "                                                               \r"
     ]
    },
    {
     "name": "stdout",
     "output_type": "stream",
     "text": [
      "Epoch [34/50] Loss: 0.0000\n"
     ]
    },
    {
     "name": "stderr",
     "output_type": "stream",
     "text": [
      "                                                               \r"
     ]
    },
    {
     "name": "stdout",
     "output_type": "stream",
     "text": [
      "Epoch [35/50] Loss: 0.0000\n"
     ]
    },
    {
     "name": "stderr",
     "output_type": "stream",
     "text": [
      "                                                               \r"
     ]
    },
    {
     "name": "stdout",
     "output_type": "stream",
     "text": [
      "Epoch [36/50] Loss: 0.0000\n"
     ]
    },
    {
     "name": "stderr",
     "output_type": "stream",
     "text": [
      "                                                               \r"
     ]
    },
    {
     "name": "stdout",
     "output_type": "stream",
     "text": [
      "Epoch [37/50] Loss: 0.0000\n"
     ]
    },
    {
     "name": "stderr",
     "output_type": "stream",
     "text": [
      "                                                               \r"
     ]
    },
    {
     "name": "stdout",
     "output_type": "stream",
     "text": [
      "Epoch [38/50] Loss: 0.0000\n"
     ]
    },
    {
     "name": "stderr",
     "output_type": "stream",
     "text": [
      "                                                               \r"
     ]
    },
    {
     "name": "stdout",
     "output_type": "stream",
     "text": [
      "Epoch [39/50] Loss: 0.0019\n"
     ]
    },
    {
     "name": "stderr",
     "output_type": "stream",
     "text": [
      "                                                               \r"
     ]
    },
    {
     "name": "stdout",
     "output_type": "stream",
     "text": [
      "Epoch [40/50] Loss: 0.0000\n"
     ]
    },
    {
     "name": "stderr",
     "output_type": "stream",
     "text": [
      "                                                               \r"
     ]
    },
    {
     "name": "stdout",
     "output_type": "stream",
     "text": [
      "Epoch [41/50] Loss: 0.0000\n"
     ]
    },
    {
     "name": "stderr",
     "output_type": "stream",
     "text": [
      "                                                               \r"
     ]
    },
    {
     "name": "stdout",
     "output_type": "stream",
     "text": [
      "Epoch [42/50] Loss: 0.0000\n"
     ]
    },
    {
     "name": "stderr",
     "output_type": "stream",
     "text": [
      "                                                               \r"
     ]
    },
    {
     "name": "stdout",
     "output_type": "stream",
     "text": [
      "Epoch [43/50] Loss: 0.0000\n"
     ]
    },
    {
     "name": "stderr",
     "output_type": "stream",
     "text": [
      "                                                               \r"
     ]
    },
    {
     "name": "stdout",
     "output_type": "stream",
     "text": [
      "Epoch [44/50] Loss: 0.0000\n"
     ]
    },
    {
     "name": "stderr",
     "output_type": "stream",
     "text": [
      "                                                               \r"
     ]
    },
    {
     "name": "stdout",
     "output_type": "stream",
     "text": [
      "Epoch [45/50] Loss: 0.0000\n"
     ]
    },
    {
     "name": "stderr",
     "output_type": "stream",
     "text": [
      "                                                               \r"
     ]
    },
    {
     "name": "stdout",
     "output_type": "stream",
     "text": [
      "Epoch [46/50] Loss: 0.0000\n"
     ]
    },
    {
     "name": "stderr",
     "output_type": "stream",
     "text": [
      "                                                               \r"
     ]
    },
    {
     "name": "stdout",
     "output_type": "stream",
     "text": [
      "Epoch [47/50] Loss: 0.0000\n"
     ]
    },
    {
     "name": "stderr",
     "output_type": "stream",
     "text": [
      "                                                               \r"
     ]
    },
    {
     "name": "stdout",
     "output_type": "stream",
     "text": [
      "Epoch [48/50] Loss: 0.0000\n"
     ]
    },
    {
     "name": "stderr",
     "output_type": "stream",
     "text": [
      "                                                               \r"
     ]
    },
    {
     "name": "stdout",
     "output_type": "stream",
     "text": [
      "Epoch [49/50] Loss: 0.0000\n"
     ]
    },
    {
     "name": "stderr",
     "output_type": "stream",
     "text": [
      "                                                               "
     ]
    },
    {
     "name": "stdout",
     "output_type": "stream",
     "text": [
      "Epoch [50/50] Loss: 0.0000\n"
     ]
    },
    {
     "name": "stderr",
     "output_type": "stream",
     "text": [
      "\r"
     ]
    }
   ],
   "source": [
    "train_classifier_emb(\n",
    "    classifier_v3,\n",
    "    train_loader,\n",
    "    criterion,\n",
    "    optimizer,\n",
    "    50,\n",
    "    device\n",
    ")"
   ]
  },
  {
   "cell_type": "code",
   "execution_count": 258,
   "id": "12374e4d",
   "metadata": {},
   "outputs": [
    {
     "name": "stderr",
     "output_type": "stream",
     "text": [
      "Evaluating: 100%|██████████| 181/181 [00:00<00:00, 385.34it/s]"
     ]
    },
    {
     "name": "stdout",
     "output_type": "stream",
     "text": [
      "Accuracy: 1.0000\n",
      "ROC AUC: 1.0000\n",
      "Average Precision: 1.0000\n"
     ]
    },
    {
     "name": "stderr",
     "output_type": "stream",
     "text": [
      "\n"
     ]
    }
   ],
   "source": [
    "all_preds, all_labels = evaluate_model_emb(classifier_v3, test_loader, device)"
   ]
  },
  {
   "cell_type": "markdown",
   "id": "124ae28f",
   "metadata": {},
   "source": [
    "# Modele Regresyjne"
   ]
  },
  {
   "cell_type": "markdown",
   "id": "ae77985c",
   "metadata": {},
   "source": [
    "### Model Naiwny - Regresja"
   ]
  },
  {
   "cell_type": "code",
   "execution_count": null,
   "id": "8af0fc4d",
   "metadata": {},
   "outputs": [],
   "source": [
    "# TODO"
   ]
  },
  {
   "cell_type": "markdown",
   "id": "4a9d0329",
   "metadata": {},
   "source": [
    "### Model docelowy - Regresja"
   ]
  }
 ],
 "metadata": {
  "kernelspec": {
   "display_name": "ium-long-stay-insights-DB1IbSqe-py3.12",
   "language": "python",
   "name": "python3"
  },
  "language_info": {
   "codemirror_mode": {
    "name": "ipython",
    "version": 3
   },
   "file_extension": ".py",
   "mimetype": "text/x-python",
   "name": "python",
   "nbconvert_exporter": "python",
   "pygments_lexer": "ipython3",
   "version": "3.11.10"
  }
 },
 "nbformat": 4,
 "nbformat_minor": 5
}
